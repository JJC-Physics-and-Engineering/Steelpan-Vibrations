{
 "cells": [
  {
   "cell_type": "code",
   "execution_count": 402,
   "metadata": {},
   "outputs": [],
   "source": [
    "import tkinter as tk\n",
    "from tkinter import *\n",
    "import tkinter.filedialog \n",
    "import pandas as pd\n",
    "import os\n",
    "import shutil \n",
    "import time"
   ]
  },
  {
   "cell_type": "code",
   "execution_count": 440,
   "metadata": {},
   "outputs": [],
   "source": [
    "class App(Tk):\n",
    "    \n",
    "    \n",
    "    def __init__(self):\n",
    "        \n",
    "        Tk.__init__(self)\n",
    "        frameM = Frame(width=800, height=600)\n",
    "        \n",
    "        \n",
    "        frameM.grid_rowconfigure(1, weight=2)\n",
    "        frameM.grid_columnconfigure(1, weight=2)\n",
    "        frameM.grid_rowconfigure(2, weight=1)\n",
    "        frameM.grid_columnconfigure(2, weight=1)\n",
    "        frameM.grid_propagate(False)\n",
    "        frameM.grid_rowconfigure(3, weight=1)\n",
    "        frameM.grid_columnconfigure(3, weight=1)\n",
    "        frameM.grid_rowconfigure(4, weight=1)\n",
    "        frameM.grid_columnconfigure(4, weight=1)\n",
    "        frameM.grid_propagate(False)\n",
    "        \n",
    "#\n",
    "        self.infoBox = Label(frameM, text = \"Open CSV File to begin\",bd=2)\n",
    "        \n",
    "        self.infoBox.grid(row=0, column=2, sticky=N, pady=4)\n",
    "        \n",
    "#Buttons\n",
    "        openButton = Button(frameM, text = \"Open CSV File\", command=self.csvEdit,borderwidth=1)\n",
    "        openButton.grid(row=0, column=0, sticky=NW)\n",
    "        \n",
    "        self.confirmButton = Button(frameM, text = \"Graph Classifications\", state = DISABLED, relief = SUNKEN, command=self.graph,borderwidth=1)\n",
    "        self.confirmButton.grid(sticky=NE, row = 0, column =4)\n",
    "        \n",
    "        \n",
    "        self.saveButton = Button(frameM, text = \"Save Image\", state = DISABLED, relief = SUNKEN, command=self.graph,borderwidth=1)\n",
    "        self.saveButton.grid(sticky=S, row=4,column=2)\n",
    "        \n",
    "        self.saveCSVButton = Button(frameM, text = \"save sorted CSV\", state = DISABLED, relief = SUNKEN, command=self.saveCSV, borderwidth=1)\n",
    "        self.saveCSVButton.grid(row=4, sticky=SW)\n",
    "        \n",
    "        self.exitButton = Button(frameM, text = \"Quit\", command=on_closing, borderwidth=1, fg = \"red\")\n",
    "        self.exitButton.grid(column=4, sticky=SE, row=4)\n",
    "        \n",
    "        \n",
    "        \n",
    "        frameM.grid()\n",
    "        \n",
    "    def graph(self):\n",
    "        print(\"Call MatplotLIB Class!\")\n",
    "        self.infoBox.config(text=\"Graphing data\", fg = \"black\")\n",
    "        plot = Plot()\n",
    "    \n",
    "    def saveCSV(self):\n",
    "        \n",
    "        shutil.copyfile('sg_temp.csv', 'sorted-classifications.csv')\n",
    "        print(\"[SteelGraph] sorted CSV saved as sorted-classifications.csv\")\n",
    "        self.infoBox.config(text=\"sorted CSV saved as sorted-classifications.csv\", fg=\"black\")\n",
    "        app.after(1000, self.accessGranted)\n",
    "        \n",
    "        \n",
    "    def accessGranted(self):\n",
    "        \n",
    "        self.confirmButton.config(state='normal', relief = RAISED) \n",
    "        print(\"[SteelGraph] Ready to plot data\")     \n",
    "        self.saveCSVButton.config(state='normal', relief = RAISED)\n",
    "        self.infoBox.config(text=\"Ready to Graph \", fg = \"green\")\n",
    "        \n",
    "        \n",
    "        \n",
    "        \n",
    "    def csvEdit(self):\n",
    "    \n",
    "    \n",
    "      \n",
    "        \n",
    "        filename =tk.filedialog.askopenfilename(initialdir = \"C:\\\\Users\\Matt\\Desktop\\physics\", title = \"Select file\",filetypes = ((\"csv FILES ONLY\",\"*.csv\"),))\n",
    "        self.infoBox.config(text=\"Sorting Classifications \", fg=\"blacK\")\n",
    "        \n",
    "        print(\"[SteelGraph] Opened: \", filename)\n",
    "        #Open CSV and sort classifications\n",
    "        \n",
    "   \n",
    "        df = pd.read_csv(filename)\n",
    "    \n",
    "        \n",
    "\n",
    "        #Sorts the data with respect to Subject_ids\n",
    "        class_counts = df['subject_ids'].value_counts().rename('class_counts')\n",
    "        df = df.merge(class_counts.to_frame(), left_on='subject_ids', right_index=True)\n",
    "        df2 = df[df.class_counts > 5] \n",
    "        df3 = df2.drop(df2.columns[14], axis=1) #Takes out sorting column\n",
    "        df4 = df3[~df['workflow_name'].str.contains('Retirement Limit Test')]\n",
    "\n",
    "\n",
    "        #Print to CSV, deleting unnecessary index\n",
    "        df4.to_csv('sg_temp.csv', index = False)\n",
    "        print(\"[SteelGraph] sorted csv created...\")\n",
    "        app.after(1000, self.accessGranted) \n",
    "        \n",
    "        \n",
    "    "
   ]
  },
  {
   "cell_type": "code",
   "execution_count": 441,
   "metadata": {},
   "outputs": [
    {
     "name": "stdout",
     "output_type": "stream",
     "text": [
      "Plot graph\n"
     ]
    }
   ],
   "source": [
    "class Plot():  \n",
    "    \n",
    "    print (\"Plot graph\")\n",
    "    "
   ]
  },
  {
   "cell_type": "code",
   "execution_count": null,
   "metadata": {},
   "outputs": [],
   "source": [
    "\n",
    "\n",
    "\n",
    "\n",
    "\n",
    "\n",
    "        \n",
    "   "
   ]
  },
  {
   "cell_type": "code",
   "execution_count": null,
   "metadata": {},
   "outputs": [],
   "source": [
    "\n"
   ]
  },
  {
   "cell_type": "code",
   "execution_count": null,
   "metadata": {},
   "outputs": [],
   "source": [
    "\n",
    "    \n",
    "    \n",
    "\n",
    "   \n",
    "        \n",
    "    \n",
    "        "
   ]
  },
  {
   "cell_type": "code",
   "execution_count": 442,
   "metadata": {},
   "outputs": [],
   "source": [
    "def on_closing():\n",
    "    \n",
    "    if os.path.isfile('./sorted-classifications.csv'):\n",
    "            os.remove('sorted-classifications.csv')\n",
    "            print(\"[SteelGraph] Sorted File Removed\")\n",
    "    else:\n",
    "        print(\"[SteelGraph] No File Found\")\n",
    "    \n",
    "    \n",
    "    print(\"[SteelGraph] bye\")\n",
    "    app.destroy()\n",
    "    \n",
    "    "
   ]
  },
  {
   "cell_type": "code",
   "execution_count": 443,
   "metadata": {
    "scrolled": false
   },
   "outputs": [
    {
     "name": "stdout",
     "output_type": "stream",
     "text": [
      "[SteelGraph] Opened:  C:/Users/Matt/Desktop/physics/steelpan-vibrations-classifications.csv\n"
     ]
    },
    {
     "name": "stderr",
     "output_type": "stream",
     "text": [
      "c:\\python\\lib\\site-packages\\ipykernel_launcher.py:91: UserWarning: Boolean Series key will be reindexed to match DataFrame index.\n"
     ]
    },
    {
     "name": "stdout",
     "output_type": "stream",
     "text": [
      "[SteelGraph] sorted csv created...\n",
      "[SteelGraph] Ready to plot data\n",
      "[SteelGraph] sorted CSV saved as sorted-classifications.csv\n",
      "[SteelGraph] Ready to plot data\n",
      "[SteelGraph] sorted CSV saved as sorted-classifications.csv\n",
      "[SteelGraph] Ready to plot data\n",
      "Call MatplotLIB Class!\n",
      "[SteelGraph] Sorted File Removed\n",
      "[SteelGraph] bye\n"
     ]
    }
   ],
   "source": [
    "if __name__ == \"__main__\":\n",
    "\n",
    "    app = App()\n",
    "    app.resizable(0,0)\n",
    "    app.title(\"SteelGraph\")\n",
    "    app.protocol(\"WM_DELETE_WINDOW\", on_closing)    \n",
    "    app.mainloop()"
   ]
  },
  {
   "cell_type": "code",
   "execution_count": null,
   "metadata": {},
   "outputs": [],
   "source": []
  },
  {
   "cell_type": "code",
   "execution_count": null,
   "metadata": {},
   "outputs": [],
   "source": []
  },
  {
   "cell_type": "code",
   "execution_count": null,
   "metadata": {},
   "outputs": [],
   "source": []
  }
 ],
 "metadata": {
  "kernelspec": {
   "display_name": "Python 3",
   "language": "python",
   "name": "python3"
  },
  "language_info": {
   "codemirror_mode": {
    "name": "ipython",
    "version": 3
   },
   "file_extension": ".py",
   "mimetype": "text/x-python",
   "name": "python",
   "nbconvert_exporter": "python",
   "pygments_lexer": "ipython3",
   "version": "3.6.5"
  }
 },
 "nbformat": 4,
 "nbformat_minor": 2
}
