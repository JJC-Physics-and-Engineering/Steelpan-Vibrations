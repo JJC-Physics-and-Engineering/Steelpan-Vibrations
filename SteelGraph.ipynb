{
 "cells": [
  {
   "cell_type": "code",
   "execution_count": 2,
   "metadata": {},
   "outputs": [],
   "source": [
    "import tkinter as tk\n",
    "from tkinter import *\n",
    "import tkinter.filedialog \n",
    "import pandas as pd\n",
    "import os"
   ]
  },
  {
   "cell_type": "code",
   "execution_count": 21,
   "metadata": {},
   "outputs": [],
   "source": [
    "class App(Tk):\n",
    "    def __init__(self):\n",
    "        Tk.__init__(self)\n",
    "        frame = Frame(width=800, height=600)\n",
    "        menuBar = MenuBar(self)\n",
    "        buttons = Buttons(self)\n",
    "\n",
    "        self.config(menu=menuBar)\n",
    "        \n",
    "        buttons.pack()\n",
    "        frame.pack()\n",
    "        print (\"[SteelGraph] Ready\")"
   ]
  },
  {
   "cell_type": "code",
   "execution_count": 22,
   "metadata": {},
   "outputs": [],
   "source": [
    "def csvEdit():\n",
    "    \n",
    "    \n",
    "    \n",
    "      \n",
    "        \n",
    "    filename =tk.filedialog.askopenfilename(initialdir = \"C:\\\\Users\\Matt\\Desktop\\physics\", title = \"Select file\",filetypes = ((\"csv FILES ONLY\",\"*.csv\"),))\n",
    "        \n",
    "    print(\"[SteelGraph] Opened: \", filename)\n",
    "    #Open CSV and sort classifications\n",
    "    \n",
    "   \n",
    "    df = pd.read_csv(filename)\n",
    "    \n",
    "    \n",
    "\n",
    "        #Sorts the data with respect to Subject_ids\n",
    "    class_counts = df['subject_ids'].value_counts().rename('class_counts')\n",
    "    df = df.merge(class_counts.to_frame(), left_on='subject_ids', right_index=True)\n",
    "    df2 = df[df.class_counts > 5] \n",
    "    df3 = df2.drop(df2.columns[14], axis=1) #Takes out sorting column\n",
    "    df4 = df3[~df['workflow_name'].str.contains('Retirement Limit Test')]\n",
    "\n",
    "\n",
    "        #Print to CSV, deleting unnecessary index\n",
    "    df4.to_csv('sorted-classifications.csv', index = False)\n",
    "    print(\"[SteelGraph] sorted csv created...\")\n",
    "    access = Buttons.accessGranted()"
   ]
  },
  {
   "cell_type": "code",
   "execution_count": 23,
   "metadata": {},
   "outputs": [],
   "source": [
    "class MenuBar(Menu):\n",
    "    \n",
    "\n",
    "        \n",
    "        \n",
    "    def __init__(self, parent):\n",
    "        Menu.__init__(self, parent)\n",
    "        print (\"[SteelGraph] Ready\")\n",
    "        fileMenu = Menu(self, tearoff=False)\n",
    "        self.add_cascade(label=\"File\", menu=fileMenu)\n",
    "        fileMenu.add_command(label=\"Open\", command=csvEdit)\n",
    "        fileMenu.add_command(label=\"Quit\", command=on_closing)\n"
   ]
  },
  {
   "cell_type": "code",
   "execution_count": 27,
   "metadata": {},
   "outputs": [],
   "source": [
    "class Buttons(Button):\n",
    "    \n",
    "    \n",
    "    def graph(self):\n",
    "        print(\"test\")\n",
    "        \n",
    "        \n",
    "\n",
    "\n",
    "\n",
    "    def accessGranted(self):\n",
    "        \n",
    "        self.confirmButton.config(state=NORMAL) \n",
    "    \n",
    "    \n",
    "    \n",
    "    def __init__(self, parent):\n",
    "        \n",
    "        Button.__init__(self, parent)\n",
    "        confirmButton = Button(self, text = \"Graph Classifications\", state = DISABLED, relief = SUNKEN, command=self.graph,borderwidth=0)\n",
    "        confirmButton.pack()\n",
    "        \n",
    "        openButton = Button(self, text = \"Open CSV File\", command=csvEdit,borderwidth=0)\n",
    "        openButton.place(side=LEFT)\n",
    "   \n",
    "        \n",
    "    \n",
    "        "
   ]
  },
  {
   "cell_type": "code",
   "execution_count": 28,
   "metadata": {},
   "outputs": [],
   "source": [
    "def on_closing():\n",
    "    \n",
    "    if os.path.isfile('./sorted-classifications.csv'):\n",
    "            os.remove('sorted-classifications.csv')\n",
    "            print(\"[SteelGraph] Sorted File Removed\")\n",
    "    else:\n",
    "        print(\"[SteelGraph] No File Found\")\n",
    "    \n",
    "    \n",
    "    print(\"[SteelGraph] bye\")\n",
    "    app.destroy()\n",
    "    \n",
    "    "
   ]
  },
  {
   "cell_type": "code",
   "execution_count": 29,
   "metadata": {
    "scrolled": false
   },
   "outputs": [
    {
     "name": "stdout",
     "output_type": "stream",
     "text": [
      "[SteelGraph] Ready\n"
     ]
    },
    {
     "ename": "TclError",
     "evalue": "unknown option \"-side\"",
     "output_type": "error",
     "traceback": [
      "\u001b[1;31m---------------------------------------------------------------------------\u001b[0m",
      "\u001b[1;31mTclError\u001b[0m                                  Traceback (most recent call last)",
      "\u001b[1;32m<ipython-input-29-73bc1160af35>\u001b[0m in \u001b[0;36m<module>\u001b[1;34m()\u001b[0m\n\u001b[0;32m      1\u001b[0m \u001b[1;32mif\u001b[0m \u001b[0m__name__\u001b[0m \u001b[1;33m==\u001b[0m \u001b[1;34m\"__main__\"\u001b[0m\u001b[1;33m:\u001b[0m\u001b[1;33m\u001b[0m\u001b[0m\n\u001b[0;32m      2\u001b[0m \u001b[1;33m\u001b[0m\u001b[0m\n\u001b[1;32m----> 3\u001b[1;33m     \u001b[0mapp\u001b[0m \u001b[1;33m=\u001b[0m \u001b[0mApp\u001b[0m\u001b[1;33m(\u001b[0m\u001b[1;33m)\u001b[0m\u001b[1;33m\u001b[0m\u001b[0m\n\u001b[0m\u001b[0;32m      4\u001b[0m     \u001b[0mapp\u001b[0m\u001b[1;33m.\u001b[0m\u001b[0mresizable\u001b[0m\u001b[1;33m(\u001b[0m\u001b[1;36m0\u001b[0m\u001b[1;33m,\u001b[0m\u001b[1;36m0\u001b[0m\u001b[1;33m)\u001b[0m\u001b[1;33m\u001b[0m\u001b[0m\n\u001b[0;32m      5\u001b[0m     \u001b[0mapp\u001b[0m\u001b[1;33m.\u001b[0m\u001b[0mtitle\u001b[0m\u001b[1;33m(\u001b[0m\u001b[1;34m\"SteelGraph\"\u001b[0m\u001b[1;33m)\u001b[0m\u001b[1;33m\u001b[0m\u001b[0m\n",
      "\u001b[1;32m<ipython-input-21-294b265e5c4d>\u001b[0m in \u001b[0;36m__init__\u001b[1;34m(self)\u001b[0m\n\u001b[0;32m      4\u001b[0m         \u001b[0mframe\u001b[0m \u001b[1;33m=\u001b[0m \u001b[0mFrame\u001b[0m\u001b[1;33m(\u001b[0m\u001b[0mwidth\u001b[0m\u001b[1;33m=\u001b[0m\u001b[1;36m800\u001b[0m\u001b[1;33m,\u001b[0m \u001b[0mheight\u001b[0m\u001b[1;33m=\u001b[0m\u001b[1;36m600\u001b[0m\u001b[1;33m)\u001b[0m\u001b[1;33m\u001b[0m\u001b[0m\n\u001b[0;32m      5\u001b[0m         \u001b[0mmenuBar\u001b[0m \u001b[1;33m=\u001b[0m \u001b[0mMenuBar\u001b[0m\u001b[1;33m(\u001b[0m\u001b[0mself\u001b[0m\u001b[1;33m)\u001b[0m\u001b[1;33m\u001b[0m\u001b[0m\n\u001b[1;32m----> 6\u001b[1;33m         \u001b[0mbuttons\u001b[0m \u001b[1;33m=\u001b[0m \u001b[0mButtons\u001b[0m\u001b[1;33m(\u001b[0m\u001b[0mself\u001b[0m\u001b[1;33m)\u001b[0m\u001b[1;33m\u001b[0m\u001b[0m\n\u001b[0m\u001b[0;32m      7\u001b[0m \u001b[1;33m\u001b[0m\u001b[0m\n\u001b[0;32m      8\u001b[0m         \u001b[0mself\u001b[0m\u001b[1;33m.\u001b[0m\u001b[0mconfig\u001b[0m\u001b[1;33m(\u001b[0m\u001b[0mmenu\u001b[0m\u001b[1;33m=\u001b[0m\u001b[0mmenuBar\u001b[0m\u001b[1;33m)\u001b[0m\u001b[1;33m\u001b[0m\u001b[0m\n",
      "\u001b[1;32m<ipython-input-27-39277a759cec>\u001b[0m in \u001b[0;36m__init__\u001b[1;34m(self, parent)\u001b[0m\n\u001b[0;32m     22\u001b[0m \u001b[1;33m\u001b[0m\u001b[0m\n\u001b[0;32m     23\u001b[0m         \u001b[0mopenButton\u001b[0m \u001b[1;33m=\u001b[0m \u001b[0mButton\u001b[0m\u001b[1;33m(\u001b[0m\u001b[0mself\u001b[0m\u001b[1;33m,\u001b[0m \u001b[0mtext\u001b[0m \u001b[1;33m=\u001b[0m \u001b[1;34m\"Open CSV File\"\u001b[0m\u001b[1;33m,\u001b[0m \u001b[0mcommand\u001b[0m\u001b[1;33m=\u001b[0m\u001b[0mcsvEdit\u001b[0m\u001b[1;33m,\u001b[0m\u001b[0mborderwidth\u001b[0m\u001b[1;33m=\u001b[0m\u001b[1;36m0\u001b[0m\u001b[1;33m)\u001b[0m\u001b[1;33m\u001b[0m\u001b[0m\n\u001b[1;32m---> 24\u001b[1;33m         \u001b[0mopenButton\u001b[0m\u001b[1;33m.\u001b[0m\u001b[0mplace\u001b[0m\u001b[1;33m(\u001b[0m\u001b[0mside\u001b[0m\u001b[1;33m=\u001b[0m\u001b[0mLEFT\u001b[0m\u001b[1;33m)\u001b[0m\u001b[1;33m\u001b[0m\u001b[0m\n\u001b[0m\u001b[0;32m     25\u001b[0m \u001b[1;33m\u001b[0m\u001b[0m\n\u001b[0;32m     26\u001b[0m \u001b[1;33m\u001b[0m\u001b[0m\n",
      "\u001b[1;32mc:\\python36-32\\lib\\tkinter\\__init__.py\u001b[0m in \u001b[0;36mplace_configure\u001b[1;34m(self, cnf, **kw)\u001b[0m\n\u001b[0;32m   2183\u001b[0m         self.tk.call(\n\u001b[0;32m   2184\u001b[0m               \u001b[1;33m(\u001b[0m\u001b[1;34m'place'\u001b[0m\u001b[1;33m,\u001b[0m \u001b[1;34m'configure'\u001b[0m\u001b[1;33m,\u001b[0m \u001b[0mself\u001b[0m\u001b[1;33m.\u001b[0m\u001b[0m_w\u001b[0m\u001b[1;33m)\u001b[0m\u001b[1;33m\u001b[0m\u001b[0m\n\u001b[1;32m-> 2185\u001b[1;33m               + self._options(cnf, kw))\n\u001b[0m\u001b[0;32m   2186\u001b[0m     \u001b[0mplace\u001b[0m \u001b[1;33m=\u001b[0m \u001b[0mconfigure\u001b[0m \u001b[1;33m=\u001b[0m \u001b[0mconfig\u001b[0m \u001b[1;33m=\u001b[0m \u001b[0mplace_configure\u001b[0m\u001b[1;33m\u001b[0m\u001b[0m\n\u001b[0;32m   2187\u001b[0m     \u001b[1;32mdef\u001b[0m \u001b[0mplace_forget\u001b[0m\u001b[1;33m(\u001b[0m\u001b[0mself\u001b[0m\u001b[1;33m)\u001b[0m\u001b[1;33m:\u001b[0m\u001b[1;33m\u001b[0m\u001b[0m\n",
      "\u001b[1;31mTclError\u001b[0m: unknown option \"-side\""
     ]
    }
   ],
   "source": [
    "if __name__ == \"__main__\":\n",
    "\n",
    "    app = App()\n",
    "    app.resizable(0,0)\n",
    "    app.title(\"SteelGraph\")\n",
    "    app.protocol(\"WM_DELETE_WINDOW\", on_closing)    \n",
    "    app.mainloop()"
   ]
  },
  {
   "cell_type": "code",
   "execution_count": null,
   "metadata": {},
   "outputs": [],
   "source": []
  },
  {
   "cell_type": "code",
   "execution_count": null,
   "metadata": {},
   "outputs": [],
   "source": []
  }
 ],
 "metadata": {
  "kernelspec": {
   "display_name": "Python 3",
   "language": "python",
   "name": "python3"
  },
  "language_info": {
   "codemirror_mode": {
    "name": "ipython",
    "version": 3
   },
   "file_extension": ".py",
   "mimetype": "text/x-python",
   "name": "python",
   "nbconvert_exporter": "python",
   "pygments_lexer": "ipython3",
   "version": "3.6.5"
  }
 },
 "nbformat": 4,
 "nbformat_minor": 2
}
