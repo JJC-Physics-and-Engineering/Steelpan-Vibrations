{
 "cells": [
  {
   "cell_type": "code",
   "execution_count": 2,
   "metadata": {
    "collapsed": true
   },
   "outputs": [],
   "source": [
    "import numpy as np"
   ]
  },
  {
   "cell_type": "code",
   "execution_count": 3,
   "metadata": {},
   "outputs": [
    {
     "name": "stdout",
     "output_type": "stream",
     "text": [
      "30\n"
     ]
    }
   ],
   "source": [
    "print(np.random.randint(1,101))"
   ]
  },
  {
   "cell_type": "code",
   "execution_count": 4,
   "metadata": {},
   "outputs": [
    {
     "name": "stdout",
     "output_type": "stream",
     "text": [
      "{0: 0, 1: 0, 2: 0, 3: 0, 4: 0, 5: 0, 6: 0, 7: 0, 8: 0, 9: 0}\n"
     ]
    }
   ],
   "source": [
    "#initiate a dictionary of subject ids with counts all set to 0\n",
    "subjects = 10\n",
    "subject_counts = {}\n",
    "for i in range(subjects):\n",
    "    subject_counts[i] = 0\n",
    "print(subject_counts)"
   ]
  },
  {
   "cell_type": "code",
   "execution_count": 5,
   "metadata": {
    "collapsed": true
   },
   "outputs": [],
   "source": [
    "subject_counts[5] = subject_counts[5]+1"
   ]
  },
  {
   "cell_type": "code",
   "execution_count": 6,
   "metadata": {},
   "outputs": [
    {
     "data": {
      "text/plain": [
       "1"
      ]
     },
     "execution_count": 6,
     "metadata": {},
     "output_type": "execute_result"
    }
   ],
   "source": [
    "subject_counts[5]"
   ]
  },
  {
   "cell_type": "code",
   "execution_count": 15,
   "metadata": {},
   "outputs": [
    {
     "name": "stdout",
     "output_type": "stream",
     "text": [
      "2.7397260274\n",
      "0.0\n"
     ]
    }
   ],
   "source": [
    "import numpy as np\n",
    "\n",
    "sim_trial = []\n",
    "num_sim_trials = 1\n",
    "for i in range(num_sim_trials): \n",
    "    #initiate a dictionary of subject ids with counts all set to 0\n",
    "    subjects = 365\n",
    "    subject_counts = {}\n",
    "    for i in range(subjects):\n",
    "        subject_counts[i] = 0\n",
    "    #Initiate some other parameters\n",
    "    retired_count = 0\n",
    "    num_classifications = 0\n",
    "    limit = 2\n",
    "    count = 0\n",
    "\n",
    "\n",
    "\n",
    "   \n",
    "    while count < limit*subjects:\n",
    "        x = np.random.randint(0,subjects)\n",
    "        if subject_counts[x]< limit:\n",
    "            subject_counts[x] = subject_counts[x]+1\n",
    "            count = count +1\n",
    "            if subject_counts[x] == limit:\n",
    "                retired_count = retired_count + 1\n",
    "                #print(retired_count,\" items retired! After \",100*count/(limit*subjects),\"% classifications.\")\n",
    "                if retired_count == 1:\n",
    "                    sim_trial.append(100*count/(limit*subjects))\n",
    "\n",
    "\n",
    "print(np.mean(sim_trial))\n",
    "print(np.std(sim_trial))"
   ]
  },
  {
   "cell_type": "code",
   "execution_count": 21,
   "metadata": {},
   "outputs": [
    {
     "data": {
      "text/plain": [
       "20.0"
      ]
     },
     "execution_count": 21,
     "metadata": {},
     "output_type": "execute_result"
    }
   ],
   "source": [
    "(sim_trial[0]/100)*730"
   ]
  },
  {
   "cell_type": "code",
   "execution_count": 9,
   "metadata": {},
   "outputs": [
    {
     "name": "stdout",
     "output_type": "stream",
     "text": [
      "3.15479452055\n"
     ]
    }
   ],
   "source": [
    "import numpy as np\n",
    "\n",
    "print(np.mean(sim_trial))\n"
   ]
  },
  {
   "cell_type": "code",
   "execution_count": 10,
   "metadata": {},
   "outputs": [
    {
     "name": "stdout",
     "output_type": "stream",
     "text": [
      "1.58519314448\n"
     ]
    }
   ],
   "source": [
    "print(np.std(sim_trial))"
   ]
  },
  {
   "cell_type": "code",
   "execution_count": 26,
   "metadata": {},
   "outputs": [
    {
     "name": "stdout",
     "output_type": "stream",
     "text": [
      "32.5815619048\n",
      "3.62267535351\n"
     ]
    }
   ],
   "source": [
    "import numpy as np\n",
    "\n",
    "sim_trial = []\n",
    "num_sim_trials = 100\n",
    "for i in range(num_sim_trials): \n",
    "    #initiate a dictionary of subject ids with counts all set to 0\n",
    "    subjects = 3500\n",
    "    subject_counts = {}\n",
    "    for i in range(subjects):\n",
    "        subject_counts[i] = 0\n",
    "    #Initiate some other parameters\n",
    "    retired_count = 0\n",
    "    num_classifications = 0\n",
    "    limit = 15\n",
    "    count = 0\n",
    "\n",
    "\n",
    "\n",
    "   \n",
    "    while count < limit*subjects:\n",
    "        x = np.random.randint(0,subjects)\n",
    "        if subject_counts[x]< limit:\n",
    "            subject_counts[x] = subject_counts[x]+1\n",
    "            count = count +1\n",
    "            if subject_counts[x] == limit:\n",
    "                retired_count = retired_count + 1\n",
    "                #print(retired_count,\" items retired! After \",100*count/(limit*subjects),\"% classifications.\")\n",
    "                #if retired_count == 1:\n",
    "                sim_trial.append(100*count/(limit*subjects))\n",
    "\n",
    "\n",
    "print(np.mean(sim_trial[0::3500]))\n",
    "print(np.std(sim_trial[0::3500]))"
   ]
  },
  {
   "cell_type": "code",
   "execution_count": 32,
   "metadata": {},
   "outputs": [
    {
     "data": {
      "text/plain": [
       "2.3707647440361153"
      ]
     },
     "execution_count": 32,
     "metadata": {},
     "output_type": "execute_result"
    }
   ],
   "source": [
    "np.std(sim_trial[1::3500])"
   ]
  },
  {
   "cell_type": "markdown",
   "metadata": {},
   "source": [
    "np.mean(sim_trial[1::3500])"
   ]
  },
  {
   "cell_type": "code",
   "execution_count": 13,
   "metadata": {},
   "outputs": [
    {
     "data": {
      "text/plain": [
       "15.920352380952382"
      ]
     },
     "execution_count": 13,
     "metadata": {},
     "output_type": "execute_result"
    }
   ],
   "source": [
    "np.mean(sim_trial[1::3500])"
   ]
  },
  {
   "cell_type": "code",
   "execution_count": null,
   "metadata": {
    "collapsed": true
   },
   "outputs": [],
   "source": []
  }
 ],
 "metadata": {
  "kernelspec": {
   "display_name": "Python 3",
   "language": "python",
   "name": "python3"
  },
  "language_info": {
   "codemirror_mode": {
    "name": "ipython",
    "version": 3
   },
   "file_extension": ".py",
   "mimetype": "text/x-python",
   "name": "python",
   "nbconvert_exporter": "python",
   "pygments_lexer": "ipython3",
   "version": "3.6.1"
  }
 },
 "nbformat": 4,
 "nbformat_minor": 2
}
