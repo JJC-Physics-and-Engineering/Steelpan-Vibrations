{
 "cells": [
  {
   "cell_type": "code",
   "execution_count": 1,
   "metadata": {
    "collapsed": true
   },
   "outputs": [],
   "source": [
    "from tkinter import *\n",
    "\n",
    "root = Tk()\n",
    "root.geometry(\"400x300+500+300\")\n",
    "\n",
    "# frame\n",
    "f = Frame(root,bg='cyan')\n",
    "f.pack()\n",
    "\n",
    "# Label\n",
    "label = Label(root,text=\"Hello World!\", bg='yellow')\n",
    "label.pack()\n",
    "\n",
    "# entry\n",
    "entry = Entry(root, bg='pink', fg='blue', bd='5')\n",
    "entry.pack()\n",
    "entry.focus_set()\n",
    "entry.insert(0,\"Ciao\")\n",
    "\n",
    "root.mainloop()"
   ]
  },
  {
   "cell_type": "code",
   "execution_count": null,
   "metadata": {
    "collapsed": true
   },
   "outputs": [],
   "source": []
  }
 ],
 "metadata": {
  "kernelspec": {
   "display_name": "Python 3",
   "language": "python",
   "name": "python3"
  },
  "language_info": {
   "codemirror_mode": {
    "name": "ipython",
    "version": 3
   },
   "file_extension": ".py",
   "mimetype": "text/x-python",
   "name": "python",
   "nbconvert_exporter": "python",
   "pygments_lexer": "ipython3",
   "version": "3.6.1"
  }
 },
 "nbformat": 4,
 "nbformat_minor": 2
}
