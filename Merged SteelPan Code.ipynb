{
 "cells": [
  {
   "cell_type": "code",
   "execution_count": 1,
   "metadata": {},
   "outputs": [],
   "source": [
    "import tkinter as tk\n",
    "#from tkinter import Frame as Fr\n",
    "import tkinter.filedialog \n",
    "import pandas as pd\n",
    "import os\n",
    "import shutil \n",
    "import matplotlib\n",
    "from matplotlib.figure import Figure\n",
    "\n",
    "\n",
    "\n",
    "matplotlib.use('TkAgg')\n",
    "from matplotlib.backends.backend_tkagg import FigureCanvasTkAgg, NavigationToolbar2TkAgg\n",
    "\n",
    "\n",
    "from astropy.stats import circmean\n",
    "from astropy import units as u\n",
    "\n",
    "import json\n",
    "import matplotlib.pyplot as plt\n",
    "from matplotlib import style\n",
    "import numpy as np\n",
    "import matplotlib.cm as cm\n",
    "import matplotlib.colors as col\n",
    "from sklearn.cluster import DBSCAN\n",
    "from sklearn import metrics\n",
    "from matplotlib.patches import Ellipse\n",
    "style.use('ggplot')\n",
    "\n",
    "from itertools import filterfalse\n",
    "\n",
    "import csv\n",
    "\n",
    "cmap_1 = cm.ScalarMappable(col.Normalize(1, 11, cm.gist_rainbow))\n",
    "\n",
    "    \n",
    "start = 0"
   ]
  },
  {
   "cell_type": "code",
   "execution_count": 2,
   "metadata": {},
   "outputs": [],
   "source": [
    "class App(tk.Tk):\n",
    "    \n",
    "    \n",
    "    #this changes the sorting range\n",
    "    def setSort(self, num):\n",
    "    \n",
    "        self.sizeMoreThan = num\n",
    "        self.moreThan = str(self.sizeMoreThan)\n",
    "        self.infoBox.config(text=\"Sorting set to classifications above \" + self.moreThan )\n",
    "        app.after(2000, self.csvEdit)\n",
    "    \n",
    "    \n",
    "        \n",
    "    #Initialize everything in the App class\n",
    "    \n",
    "    def __init__(self):       \n",
    "        \n",
    "        tk.Tk.__init__(self)\n",
    "        frameM = tk.Frame(self, width=800, height=600)\n",
    "        frameM.grid()\n",
    "        print(\"frame should be drawn\")\n",
    "        \n",
    "        \n",
    "        \n",
    "        \n",
    "        \n",
    "        \n",
    "        \n",
    "        \n",
    "       #establish a 3*3 grid on the interface \n",
    "        frameM.grid_rowconfigure(0, weight=1)\n",
    "        frameM.grid_columnconfigure(0, weight=1)\n",
    "        frameM.grid_rowconfigure(1, weight=1)\n",
    "        frameM.grid_columnconfigure(1, weight=1)\n",
    "        frameM.grid_rowconfigure(2, weight=1)\n",
    "        frameM.grid_columnconfigure(2, weight=1)\n",
    "        \n",
    "        frameM.grid_propagate(False)\n",
    "        \n",
    "      \n",
    "        \n",
    "        \n",
    "        \n",
    "        #Visual console in the interface\n",
    "\n",
    "        self.infoBox = tk.Label(frameM, text = \"Configure sorting file to begin\",bd=2)\n",
    "        \n",
    "        self.infoBox.grid(row=0, column=1, sticky=tk.N)\n",
    "        \n",
    "#Buttons\n",
    "        \n",
    "    \n",
    "        self.openButton = tk.Button(frameM, text = \"Open CSV File\", command=self.csvEdit,borderwidth=1)\n",
    "        self.openButton.grid(row=0, column=0, sticky=tk.NW)\n",
    "        \n",
    "        self.confirmButton = tk.Button(frameM, text = \"Graph Classifications\", state = tk.DISABLED, relief = tk.SUNKEN, command=self.graph,borderwidth=1)\n",
    "        self.confirmButton.grid(sticky=tk.NE, row = 0, column =2)\n",
    "        \n",
    "        \n",
    "        self.saveButton = tk.Button(frameM, text = \"Save Image\", state = tk.DISABLED, relief = tk.SUNKEN, command=self.graph,borderwidth=1)\n",
    "        self.saveButton.grid(sticky=tk.S, row=2,column=1)\n",
    "        \n",
    "        self.saveCSVButton = tk.Button(frameM, text = \"save sorted CSV\", state = tk.DISABLED, relief = tk.SUNKEN, command=self.saveCSV, borderwidth=1)\n",
    "        self.saveCSVButton.grid(row=2, sticky=tk.SW)\n",
    "        \n",
    "        self.exitButton = tk.Button(frameM, text = \"Quit\", command=on_closing, borderwidth=1, fg = \"red\")\n",
    "        self.exitButton.grid(column=2, sticky=tk.SE, row=2)\n",
    "        \n",
    "       \n",
    "    \n",
    "        #The dropdown which changes sorting rules\n",
    "        \n",
    "        self.menubar = tk.Menu(self)\n",
    "        \n",
    "        \n",
    "        menu = tk.Menu(self.menubar, tearoff=0)\n",
    "        self.menubar.add_cascade(label=\"Configure Sort\", menu=menu)\n",
    "        menu.add_command(label=\"More than 1\", command= lambda: self.setSort(1))\n",
    "        menu.add_command(label=\"More than 2\", command= lambda: self.setSort(2))\n",
    "        menu.add_command(label=\"More than 3\", command= lambda: self.setSort(3))\n",
    "        menu.add_command(label=\"More than 4\", command= lambda: self.setSort(4))\n",
    "        menu.add_command(label=\"More than 5\", command= lambda: self.setSort(5))\n",
    "        menu.add_command(label=\"More than 6\", command= lambda: self.setSort(6))\n",
    "        menu.add_command(label=\"More than 7\", command= lambda: self.setSort(7))\n",
    "        menu.add_command(label=\"More than 8\", command= lambda: self.setSort(8))\n",
    "        menu.add_command(label=\"More than 9\", command= lambda: self.setSort(9))\n",
    "        menu.add_command(label=\"More than 10\", command= lambda: self.setSort(10))\n",
    "        menu.add_command(label=\"More than 11\", command= lambda: self.setSort(11))\n",
    "        menu.add_command(label=\"More than 12\", command= lambda: self.setSort(12))\n",
    "        menu.add_command(label=\"More than 13\", command= lambda: self.setSort(13))\n",
    "        menu.add_command(label=\"Max of 14+ \", command= lambda: self.setSort(14))\n",
    "        \n",
    "        self.config(menu=self.menubar)\n",
    "        \n",
    "        self.c = tk.Canvas(frameM, width=700, height=475)\n",
    "        self.c.grid(sticky=tk.S, column=0, row=1, columnspan=3)\n",
    "        \n",
    "        self.plot = Plot(self.c)\n",
    "        \n",
    "   \n",
    "        \n",
    "        self.sizeMoreThan = None\n",
    "        if self.sizeMoreThan is None:\n",
    "            self.sizeMoreThan = 4\n",
    "        \n",
    "        \n",
    "        \n",
    "        \n",
    "        self.moreThan = str(self.sizeMoreThan)\n",
    "        \n",
    "        \n",
    "        \n",
    "        \n",
    "        \n",
    "        \n",
    "#graph canvas\n",
    "        \n",
    "        #The canvas that MatplotLib is integrated\n",
    "        \n",
    "        \n",
    "       \n",
    "        \n",
    "    def graph(self):\n",
    "        \n",
    "        #Calls the canvas to integrate matplotlib graph\n",
    "        \n",
    "        print(\"Call MatplotLIB Class!\")\n",
    "        self.infoBox.config(text=\"Graphing data\", fg = \"black\")\n",
    "        global start\n",
    "        start = 1\n",
    "        plot = Plot()\n",
    "        self.confirmButton.config(state='disabled', relief = tk.SUNKEN)\n",
    "        self.saveCSVButton.config(state='disabled', relief = tk.SUNKEN)\n",
    "        self.openButton.config(state='disabled', relief = tk.SUNKEN)\n",
    "        \n",
    "    def saveCSV(self):\n",
    "        \n",
    "        #Saves current sorted CSV\n",
    "        \n",
    "        shutil.copyfile('sg_temp.csv', 'sorted-classifications-moreThan_'+ self.moreThan + '.csv')\n",
    "        print(\"[SteelGraph] sorted CSV saved as sorted-classifications-moreThan_\" + self.moreThan + \".csv\")\n",
    "        self.infoBox.config(text=\"sorted CSV saved as sorted-classifications-moreThan_\" + self.moreThan + \".csv\", fg=\"black\")\n",
    "        app.after(2000, self.accessGranted)\n",
    "        \n",
    "        \n",
    "    def accessGranted(self):\n",
    "        \n",
    "        #Enables buttons when they are safe to trigger\n",
    "        \n",
    "        self.confirmButton.config(state='normal', relief = tk.RAISED) \n",
    "        print(\"[SteelGraph] Ready to plot data\")     \n",
    "        self.saveCSVButton.config(state='normal', relief = tk.RAISED)\n",
    "        self.infoBox.config(text=\"Ready to Graph \", fg = \"green\")\n",
    "        \n",
    "        \n",
    "        \n",
    "        \n",
    "    def csvEdit(self):\n",
    "    \n",
    "    \n",
    "        #This function takes out unnecessary parts of the csv, and prepares it for graphing\n",
    "        \n",
    "        filename =tk.filedialog.askopenfilename(initialdir = \"C:\\\\Users\\Matt\\Desktop\\physics\", title = \"Select file\",filetypes = ((\"csv FILES ONLY\",\"*.csv\"),))\n",
    "        self.infoBox.config(text=\"Sorting Classifications \", fg=\"blacK\")\n",
    "        \n",
    "        print(\"[SteelGraph] Opened: \", filename)\n",
    "        #Open CSV and sort classifications\n",
    "        df = pd.read_csv(filename)\n",
    "    \n",
    "        \n",
    "\n",
    "        #Sorts the data with respect to Subject_ids\n",
    "        class_counts = df['subject_ids'].value_counts().rename('class_counts')\n",
    "        df = df.merge(class_counts.to_frame(), left_on='subject_ids', right_index=True)\n",
    "        df2 = df[df.class_counts > self.sizeMoreThan] \n",
    "        df3 = df2.drop(df2.columns[14], axis=1) #Takes out sorting column\n",
    "        df4 = df3[~df['workflow_name'].str.contains('Retirement Limit Test')]\n",
    "\n",
    "\n",
    "        #Print to CSV, deleting unnecessary index\n",
    "        df4.to_csv('sg_temp.csv', index = False)\n",
    "        print(\"[SteelGraph] sorted csv created...\")\n",
    "        app.after(1000, self.accessGranted) \n",
    "        \n",
    "        \n",
    "    "
   ]
  },
  {
   "cell_type": "code",
   "execution_count": null,
   "metadata": {},
   "outputs": [],
   "source": [
    "\n",
    "    "
   ]
  },
  {
   "cell_type": "code",
   "execution_count": 3,
   "metadata": {},
   "outputs": [],
   "source": [
    "class Plot(tk.Canvas):  \n",
    "    \n",
    "    #Tkinter canvas class\n",
    "    \n",
    "    \n",
    "    def df_to_center_plt(self, coords_x):\n",
    "        x_val = []\n",
    "        y_val = []\n",
    "        frng = []\n",
    "        crds = []\n",
    "        ell = []\n",
    "\n",
    "        for centers in coords_x:\n",
    "            # The IndexErrors *might* have been fixed, but this has not been checked yet.\n",
    "            try:\n",
    "                x_val.append(centers[0])\n",
    "            except IndexError:\n",
    "                pass\n",
    "            try:\n",
    "                y_val.append(centers[1])\n",
    "            except IndexError:\n",
    "                pass\n",
    "            try:\n",
    "                frng.append(centers[3])\n",
    "            except IndexError:\n",
    "                pass\n",
    "            try:\n",
    "                crds.append([centers[0], centers[1]])\n",
    "            except IndexError:\n",
    "                pass\n",
    "            try:\n",
    "                ell.append(Ellipse(xy=[centers[0], centers[1]], width=centers[4], height=centers[5], angle=centers[6]))\n",
    "            except IndexError:\n",
    "                pass\n",
    "        centers_raw = {'XVal': x_val,\n",
    "                        'YVal': y_val,\n",
    "                        'Fringe': frng}\n",
    "\n",
    "        centers_df = pd.DataFrame(centers_raw, columns=['XVal', 'YVal', 'Fringe'])\n",
    "        plt.scatter(centers_df.XVal, centers_df.YVal, s=20, c=cmap_1.to_rgba(centers_df.Fringe), alpha=.6)\n",
    "        plt.xlim(0, 512)\n",
    "        plt.ylim(0, 384)\n",
    "        plt.title('Subject id = %s'%(coords_x[0][2]))\n",
    "        #self.canvas.show()\n",
    "        bad_xy = self.dbscan(crds)\n",
    "            #print(\"bad_xy = \",bad_xy)\n",
    "            #for each in ell:\n",
    "            #    print(\"ell.center = \",each.center)\n",
    "            #    print(\"ell.angle = \",each.angle)\n",
    "            #    print(\"ell.width = \",each.width)\n",
    "            #    print(\"ell.height = \",each.height)\n",
    "        self.draw_ellipse(ell)\n",
    "\n",
    "            ###Filter out the bad_xy entries - we will only look at bad x coordinates and remove all entries matching the bad_x.\n",
    "            ###There is probably a better way to do this, or at least do more cross checking.\n",
    "        bad_x = 0\n",
    "        new_coords_x = []\n",
    "        keepgood = coords_x\n",
    "        for i in range(len(bad_xy)):\n",
    "            try:\n",
    "                for j in range(len(bad_xy[i])):\n",
    "                    try:\n",
    "\n",
    "                        bad_x = bad_xy[i][j][0]\n",
    "                        # bad_y is not (currently) being used.\n",
    "                        bad_y = bad_xy[i][j][1]\n",
    "                        #print(\"bad_x = \",bad_x)\n",
    "                        # This list comprehension step is what removes the bad ellipse\n",
    "                        keepgood = [item for item in keepgood if item[:][0] != bad_x]\n",
    "\n",
    "                    except IndexError:\n",
    "                        pass\n",
    "                        #if bad_x != coords_x[i][0]:\n",
    "                        #        print(coords_x[i])\n",
    "                    #if bad_x == coords_x[i][0]:\n",
    "                    #    print(\"Bad Entry!\")\n",
    "                    #else:\n",
    "                    #    print(coords_x[i])\n",
    "            except IndexError:\n",
    "                pass\n",
    "        averages = self.dbscan_average(keepgood)\n",
    "            #print(\"averages = \",averages)\n",
    "        average_list = []\n",
    "            #print(len(averages[0]))\n",
    "        if len(averages[0])>0:\n",
    "            for i in range(len(averages[0])):\n",
    "                average_list.append([averages[0][i],averages[1][i],keepgood[0][2],averages[2][i],averages[3][i],averages[4][i],averages[5][i]])\n",
    "\n",
    "    \n",
    "        \n",
    "        \n",
    "        \n",
    "        \n",
    "        \n",
    "        \n",
    "        \n",
    "        \n",
    "        \n",
    "        \n",
    "        \n",
    "    def dbscan(self, crds):\n",
    "        bad_xy = []  #might need to change this\n",
    "        X = np.array(crds)\n",
    "        db = DBSCAN(eps=18, min_samples=3).fit(X)\n",
    "        core_samples_mask = np.zeros_like(db.labels_, dtype=bool)\n",
    "        core_samples_mask[db.core_sample_indices_] = True\n",
    "        labels = db.labels_\n",
    "\n",
    "        n_clusters_ = len(set(labels)) - (1 if -1 in labels else 0)\n",
    "        unique_labels = set(labels)\n",
    "\n",
    "        colors = plt.cm.Spectral(np.linspace(0, 1, len(unique_labels)))\n",
    "\n",
    "        for k, col in zip(unique_labels, colors):\n",
    "            if k == -1:\n",
    "                # Black used for noise.\n",
    "                col = 'k'\n",
    "\n",
    "            class_member_mask = (labels == k)\n",
    "\n",
    "            # These are the definitely \"good\" xy values.\n",
    "            xy = X[class_member_mask & core_samples_mask]\n",
    "            plt.plot(xy[:, 0], xy[:, 1], 'o', markerfacecolor=col,\n",
    "                         markeredgecolor='k', markersize=14)\n",
    "            #print(\"\\n Good? xy = \",xy)\n",
    "            #print(\"X = \",X)\n",
    "            # These are the \"bad\" xy values. Note that some maybe-bad and maybe-good are included here.\n",
    "            xy = X[class_member_mask & ~core_samples_mask]\n",
    "            plt.plot(xy[:, 0], xy[:, 1], 'o', markerfacecolor=col,\n",
    "                        markeredgecolor='k', markersize=6)\n",
    "            #print(\"\\n Bad? xy = \",xy)\n",
    "            bad_xy.append(xy)\n",
    "\n",
    "        plt.title('Estimated number of clusters: %d' % n_clusters_)\n",
    "        plt.xlim(0, 512)\n",
    "        plt.ylim(0, 384)\n",
    "\n",
    "        return bad_xy    \n",
    "\n",
    "\n",
    "\n",
    "\n",
    "\n",
    "    def draw_ellipse(self, ell):\n",
    "        fig = plt.figure(0)\n",
    "        ax = fig.add_subplot(111, aspect='equal')\n",
    "        for e in ell:\n",
    "            ax.add_artist(e)\n",
    "            e.set_alpha(.3)\n",
    "        ax.set_xlim(0, 512)\n",
    "        ax.set_ylim(0, 384)\n",
    "        #self.canvas.show()\n",
    "\n",
    "\n",
    "\n",
    "    \n",
    "            \n",
    "\n",
    "\n",
    "\n",
    "    def dbscan_average(self, keepgood):\n",
    "        db=[]\n",
    "        gooddata = []\n",
    "\n",
    "        for i in range(len(keepgood)):\n",
    "            if keepgood[i][3] != None:\n",
    "                try:\n",
    "                    gooddata.append([float(keepgood[i][0]),float(keepgood[i][1]),int(keepgood[i][2]),int(keepgood[i][3]),float(keepgood[i][4]),float(keepgood[i][5]),float(keepgood[i][6])])\n",
    "                except ValueError:\n",
    "                    pass      # or whatever\n",
    "\n",
    "            #print(\"gooddata = \",gooddata)\n",
    "        bad_xy = []  #might need to change this\n",
    "        X = np.array(gooddata)\n",
    "            #print(\"X = \",X)\n",
    "            #print(\"\\n len(X) = \",len(X))\n",
    "            #X = X[:,[0,1]]\n",
    "            #try:\n",
    "            #    db = DBSCAN(eps=18, min_samples=3).fit(X[:,[0,1]])\n",
    "            #except IndexError:\n",
    "            #    try:\n",
    "            #        db = DBSCAN(eps=18, min_samples=2).fit(X[:,[0,1]])\n",
    "            #    except IndexError:\n",
    "            #        pass\n",
    "            #    except AttributeError:\n",
    "            #        pass\n",
    "        if len(X)>0:\n",
    "            db = DBSCAN(eps=18, min_samples=3).fit(X[:,[0,1]])\n",
    "\n",
    "            core_samples_mask = np.zeros_like(db.labels_, dtype=bool)\n",
    "            core_samples_mask[db.core_sample_indices_] = True\n",
    "            labels = db.labels_\n",
    "\n",
    "            n_clusters_ = len(set(labels)) - (1 if -1 in labels else 0)\n",
    "            unique_labels = set(labels)\n",
    "\n",
    "            colors = plt.cm.Spectral(np.linspace(0, 1, len(unique_labels)))\n",
    "\n",
    "                #fig = plt.figure(1)\n",
    "                #ax = fig.add_subplot(212, aspect='equal')\n",
    "            x_mean = []\n",
    "            y_mean = []\n",
    "            fringe_count_mean = []\n",
    "            rx_mean = []\n",
    "            ry_mean = []\n",
    "            angle_mean = []\n",
    "\n",
    "            for k, col in zip(unique_labels, colors):\n",
    "                if k == -1:\n",
    "                        # Black used for noise.\n",
    "                    col = 'k'\n",
    "\n",
    "                x = []\n",
    "                y = []\n",
    "                fringe_count = []\n",
    "                rx = []\n",
    "                ry = []\n",
    "                angle = []\n",
    "\n",
    "                class_member_mask = (labels == k)\n",
    "                    #print(\"class_member_mask =\",class_member_mask)\n",
    "                    # These are the definitely \"good\" xy values.\n",
    "                xy = X[class_member_mask & core_samples_mask]\n",
    "                    #plt.plot(xy[:, 0], xy[:, 1], 'o', markerfacecolor=col,\n",
    "                    #         markeredgecolor='k', markersize=14)\n",
    "                    #print(\"k = \",k)\n",
    "                for each in range(len(xy)):\n",
    "                        #print(\"x = \",xy[each][0])\n",
    "                    x.append(xy[each][0])\n",
    "                        #print(\"y = \",xy[each][1])\n",
    "                    y.append(xy[each][1])\n",
    "                        #print(\"fringe_count = \",xy[each][3])\n",
    "                    fringe_count.append(xy[each][3])\n",
    "                        #print(\"rx = \",xy[each][4])\n",
    "                    rx.append(xy[each][4])\n",
    "                        #print(\"ry = \",xy[each][5])\n",
    "                    ry.append(xy[each][5])\n",
    "                        #print(\"angle = \",xy[each][6])\n",
    "                    angle.append(xy[each][6])\n",
    "                x_mean.append(np.mean(x))\n",
    "                y_mean.append(np.mean(y))\n",
    "                fringe_count_mean.append(np.mean(fringe_count))\n",
    "                rx_mean.append(np.mean(rx))\n",
    "                ry_mean.append(np.mean(ry))\n",
    "                angles = np.array(angle)*u.deg\n",
    "                angle_mean.append(circmean(angles).value)\n",
    "                    #angle_mean = [x / 2 for x in angle_mean]\n",
    "                    #print(\"\\n Good? xy = \",xy)\n",
    "                    #print(\"X = \",X)\n",
    "                    # These are the \"bad\" xy values. Note that some maybe-bad and maybe-good are included here.\n",
    "                xy = X[class_member_mask & ~core_samples_mask]\n",
    "                    #plt.plot(xy[:, 0], xy[:, 1], 'o', markerfacecolor=col,\n",
    "                    #         markeredgecolor='k', markersize=6)\n",
    "                    #print(\"\\n Bad? xy = \",xy)\n",
    "                bad_xy.append(xy)\n",
    "\n",
    "            #    plt.title('From average - Estimated number of clusters: %d' % n_clusters_)\n",
    "            #    plt.xlim(0, 512)\n",
    "            #    plt.ylim(0, 384)\n",
    "            #    print(\"x_mean = \",x_mean)\n",
    "            #    print(\"y_mean = \",y_mean)\n",
    "            #    print(\"fringe_count_mean = \",fringe_count_mean)\n",
    "            #    print(\"rx_mean = \",rx_mean)\n",
    "            #    print(\"ry_mean = \",ry_mean)\n",
    "\n",
    "            #    print(\"angle_mean = \",angle_mean)\n",
    "\n",
    "            averages = [x_mean,y_mean,fringe_count_mean,rx_mean,ry_mean,angle_mean]\n",
    "            ell=[]\n",
    "            for i in range(len(averages[0])):\n",
    "                ell.append(Ellipse(xy=[x_mean[i],y_mean[i]],width=2*rx_mean[i],height=2*ry_mean[i],angle=angle_mean[i]))\n",
    "\n",
    "            with open(\"all-subject-ids.csv\") as csvfile:\n",
    "                reader = csv.reader(csvfile)\n",
    "                next(reader)\n",
    "                subjects = [r for r in reader]\n",
    "\n",
    "                #print(subjects)    \n",
    "            for i in range(len(subjects)):\n",
    "                if subjects[i][0] == keepgood[0][2]:\n",
    "                    print(subjects[i][1])\n",
    "                    filetoopen = subjects[i][1]\n",
    "                    img = plt.imread(\"./images/\"+filetoopen)\n",
    "                    fig, ax_new = plt.subplots(figsize=(9, 8), dpi= 72, facecolor='w', edgecolor='k')\n",
    "                    ax_new.imshow(img,origin='lower',extent=[0, 512, 0, 384],cmap='gray')\n",
    "                    for e in ell:\n",
    "                        ax_new.add_artist(e)\n",
    "                        e.set_alpha(.3)\n",
    "                    ax_new.set_xlim(0, 512)\n",
    "                    ax_new.set_ylim(0, 384)\n",
    "                    plt.savefig(\"./output/\"+subjects[i][0]+\".png\",bbox_inches='tight')\n",
    "                        #plt.show()   \n",
    "\n",
    "                #print(filetoopen)        \n",
    "                #subjects.index(keepgood[0][2])\n",
    "                #print(keepgood[0][2])    \n",
    "\n",
    "\n",
    "        else:\n",
    "            averages = [[],[],[],[],[]]\n",
    "\n",
    "        return averages    \n",
    "        \n",
    "        \n",
    " ###############################################################################################333\n",
    "###################################################################################################3\n",
    "        \n",
    "\n",
    "        \n",
    "    def draw(self):\n",
    "    # new-steelpan-vibrations-classifications.csv should be generated from csvcount routine\n",
    "        with open(\"new-steelpan-vibrations-classifications-five_or_more-061818.csv\") as csvfile:\n",
    "            reader = csv.reader(csvfile)\n",
    "            next(reader)\n",
    "            data = [r for r in reader]\n",
    "\n",
    "\n",
    "        allsubjectids = []\n",
    "        for i in range(len(data)):\n",
    "            allsubjectids.append(int(data[i][13]))\n",
    "\n",
    "        #Remove duplicate subject_ids\n",
    "        uniquesubjectids = (set(allsubjectids))\n",
    "\n",
    "        # Initialize empty dictionary of our subjects to be checked\n",
    "        d = {}\n",
    "        # Fill dictionary with keys from uniquesubjectids\n",
    "        for k in uniquesubjectids:\n",
    "            d['coords'+str(k)] = []\n",
    "\n",
    "\n",
    "        # Parse the raw classification data for the subjects to be checked    \n",
    "        for i in range(len(data)):\n",
    "            parsed_json = json.loads(data[i][11])\n",
    "            if data[i][5] != \"Retirement Limit Test\" and int(data[i][13]) in uniquesubjectids:\n",
    "                if len(parsed_json)==2:\n",
    "                    for j in range(len(parsed_json[1]['value'])):\n",
    "                        if len(parsed_json[1]['value'][j]['details']) == 1:\n",
    "                            if isinstance(parsed_json[1]['value'][j]['details'][0]['value'], str):\n",
    "                                try:\n",
    "                                    fringe_count = int(parsed_json[1]['value'][j]['details'][0]['value'])\n",
    "                                except ValueError:\n",
    "                                    pass\n",
    "\n",
    "                            else:\n",
    "                                fringe_count = parsed_json[1]['value'][j]['details'][0]['value']\n",
    "\n",
    "                            datalist = [parsed_json[1]['value'][j]['x'],parsed_json[1]['value'][j]['y'],data[i][13],fringe_count,parsed_json[1]['value'][j]['rx'],parsed_json[1]['value'][j]['ry'],parsed_json[1]['value'][j]['angle']]\n",
    "\n",
    "                            d['coords'+data[i][13]].append(datalist)\n",
    "\n",
    "                elif len(parsed_json)==1:\n",
    "                    # If there are no fringes recorded, fill every field except subject_id with 0 -> parse later\n",
    "                    datalist = [0,0,data[i][13],0,0,0,0]\n",
    "                    d['coords'+data[i][13]].append(datalist)\n",
    "                    #print(data[i][13],\" No antinodes found!\")\n",
    "\n",
    "        print(len(data))     \n",
    "\n",
    "        for key, value in d.items():\n",
    "                #print(len(value))\n",
    "                if len(value)  >0 and value[0][0] != 'None':\n",
    "                #   if len(value)  >0 and None not in value[key]:\n",
    "                    print(\"key =\",key,\"value = \", value,\"\\n\")\n",
    "                    #if len(d.items()) > 0:\n",
    "                #        df_to_center_plt(\"{}\".format(key))\n",
    "                    self.df_to_center_plt(value)\n",
    "\n",
    "                    #df_to_center_plt(key)\n",
    "\n",
    "\n",
    "    \n",
    "    def __init__(self, *args, **kwargs):\n",
    "        tk.Canvas.__init__(self, *args, **kwargs)\n",
    "        \n",
    "        self.create_line(0, 0, 200, 100)\n",
    "        self.create_line(0, 100, 200, 0, fill=\"red\", dash=(4, 4))\n",
    "        self.create_rectangle(0, 0, 700, 475, fill=\"white\")\n",
    "        \n",
    "        if start == 1:\n",
    "            f = Figure(figsize=(5,5), dpi=100)\n",
    "            a = f.add_subplot(111)\n",
    "           # a.plot(AggregatingClassifications)\n",
    "        \n",
    "            self.canvas = FigureCanvasTkAgg(f, self)\n",
    "            #canvas.draw()\n",
    "        \n",
    "            toolbar = NavigationToolbar2TkAgg(self.canvas, self)\n",
    "            toolbar.update()\n",
    "            self.grid()\n",
    "            self.draw()"
   ]
  },
  {
   "cell_type": "code",
   "execution_count": 4,
   "metadata": {},
   "outputs": [],
   "source": [
    "def on_closing():\n",
    "    \n",
    "    #Safely exits the program\n",
    "    if os.path.isfile('./sorted-classifications.csv'):\n",
    "            os.remove('sorted-classifications.csv')\n",
    "            print(\"[SteelGraph] Sorted File Removed\")\n",
    "    else:\n",
    "        print(\"[SteelGraph] No File Found\")\n",
    "    \n",
    "    \n",
    "    print(\"[SteelGraph] bye\")\n",
    "    app.destroy()\n",
    "    \n",
    "    "
   ]
  },
  {
   "cell_type": "code",
   "execution_count": null,
   "metadata": {
    "scrolled": false
   },
   "outputs": [
    {
     "name": "stdout",
     "output_type": "stream",
     "text": [
      "frame should be drawn\n",
      "[SteelGraph] Opened:  C:/Users/studente2008/Documents/steelpan code/steelpan-vibrations-classifications.csv\n"
     ]
    },
    {
     "name": "stderr",
     "output_type": "stream",
     "text": [
      "c:\\python36-32\\lib\\site-packages\\ipykernel_launcher.py:177: UserWarning: Boolean Series key will be reindexed to match DataFrame index.\n"
     ]
    },
    {
     "name": "stdout",
     "output_type": "stream",
     "text": [
      "[SteelGraph] sorted csv created...\n",
      "[SteelGraph] Ready to plot data\n",
      "Call MatplotLIB Class!\n"
     ]
    },
    {
     "name": "stderr",
     "output_type": "stream",
     "text": [
      "c:\\python36-32\\lib\\site-packages\\ipykernel_launcher.py:388: MatplotlibDeprecationWarning: The NavigationToolbar2TkAgg class was deprecated in version 2.2.\n"
     ]
    },
    {
     "name": "stdout",
     "output_type": "stream",
     "text": [
      "6932\n",
      "key = coords2883584 value =  [[397.296875, 157, '2883584', 10, 63.071388124885914, 41.19465984809196, 5.572197803963803], [212.796875, 143.75, '2883584', 4, 65.7419196555744, 61.587336360651285, 32.399840173919344], [209, 144.760009765625, '2883584', 1, 85.44003745317531, 42.720018726587654, -20.556045219583467], [23, 343.760009765625, '2883584', 1, 54.405882034941776, 27.202941017470888, 17.102728969052375], [203.796875, 139.75, '2883584', 7, 98.68130522039117, 49.34065261019558, 19.53665493812839], [214.6999969482422, 142.86666870117188, '2883584', 4, 55.036351623268054, 27.518175811634027, 65.2975697722287], [210.04782104492188, 138.72998046875, '2883584', 6, 74.6911181133972, 65.24596009347535, 26.02959443158207]] \n",
      "\n",
      "06241902_proc_00585.png\n",
      "key = coords2895873 value =  [[202.296875, 144.75, '2895873', 1, 75.47184905645283, 66.64833081180653, 27.718501628183375], [214.5, 142.75, '2895873', 8, 85.00588214941364, 74.00675644831355, -179.22577983507193], [221.3125, 146.75, '2895873', 2, 71.30918594402827, 57.118298293979315, -22.249023657212366], [210.796875, 151.75, '2895873', 8, 78.64477096412705, 61.98386886924694, -169.7778313663639]] \n",
      "\n",
      "06241902_proc_01562.png\n"
     ]
    },
    {
     "name": "stderr",
     "output_type": "stream",
     "text": [
      "c:\\python36-32\\lib\\site-packages\\matplotlib\\cbook\\deprecation.py:107: MatplotlibDeprecationWarning: Adding an axes using the same arguments as a previous axes currently reuses the earlier instance.  In a future version, a new instance will always be created and returned.  Meanwhile, this warning can be suppressed, and the future behavior ensured, by passing a unique label to each axes instance.\n",
      "  warnings.warn(message, mplDeprecation, stacklevel=1)\n"
     ]
    },
    {
     "name": "stdout",
     "output_type": "stream",
     "text": [
      "key = coords2912257 value =  [[0, 0, '2912257', 0, 0, 0, 0], [0, 0, '2912257', 0, 0, 0, 0], [0, 0, '2912257', 0, 0, 0, 0], [0, 0, '2912257', 0, 0, 0, 0], [0, 0, '2912257', 0, 0, 0, 0]] \n",
      "\n",
      "06240910_proc_00023.png\n"
     ]
    },
    {
     "name": "stderr",
     "output_type": "stream",
     "text": [
      "c:\\python36-32\\lib\\site-packages\\matplotlib\\cbook\\deprecation.py:107: MatplotlibDeprecationWarning: Adding an axes using the same arguments as a previous axes currently reuses the earlier instance.  In a future version, a new instance will always be created and returned.  Meanwhile, this warning can be suppressed, and the future behavior ensured, by passing a unique label to each axes instance.\n",
      "  warnings.warn(message, mplDeprecation, stacklevel=1)\n"
     ]
    },
    {
     "name": "stdout",
     "output_type": "stream",
     "text": [
      "key = coords2883587 value =  [[0, 0, '2883587', 0, 0, 0, 0], [208.765625, 180.75, '2883587', 1, 34.785054261852174, 29.154759474226502, -22.166345822082462], [21.765625, 354.75, '2883587', 4, 51, 57.697486947006624, -25.676815681838207], [212.796875, 176.75, '2883587', 3, 65.27633568147036, 48.093658625644196, -3.5763343749973444], [14.796875, 354.75, '2883587', 4, 68.6804193347711, 62.76941930590086, -22.479434397103105], [203.796875, 170.75, '2883587', 3, 59.941638282582836, 50.566787519082126, -204.5377284765778], [19.796875, 351.75, '2883587', 4, 62.24146527838174, 61.220911460055866, 38.36748538486154], [34.296875, 150.75, '2883587', 1, 85, 42.5, -90]] \n",
      "\n",
      "06241902_proc_00588.png\n"
     ]
    },
    {
     "name": "stderr",
     "output_type": "stream",
     "text": [
      "c:\\python36-32\\lib\\site-packages\\matplotlib\\cbook\\deprecation.py:107: MatplotlibDeprecationWarning: Adding an axes using the same arguments as a previous axes currently reuses the earlier instance.  In a future version, a new instance will always be created and returned.  Meanwhile, this warning can be suppressed, and the future behavior ensured, by passing a unique label to each axes instance.\n",
      "  warnings.warn(message, mplDeprecation, stacklevel=1)\n"
     ]
    },
    {
     "name": "stdout",
     "output_type": "stream",
     "text": [
      "key = coords2883589 value =  [[213.5, 141.46665954589844, '2883589', 3, 64.20280367709809, 63.655321851358195, -46.27303002005671], [208.5, 296.4666748046875, '2883589', 1, 40.80441152620633, 35.510561809129406, -57.65255650055797], [213, 137.46665954589844, '2883589', 5, 66.24198064671678, 63.56099432828282, -61.1134182330893], [208, 298.4666748046875, '2883589', 2, 45.880278987817846, 37.94733192202055, -18.43494882292201], [215, 145.46665954589844, '2883589', 7, 64.4437739428721, 72.069410986909, 60.94539590092285], [258, 20.466659545898438, '2883589', 7, 38.62641583165593, 46.8187996428785, -70.01689347810002], [211.81961059570312, 140.47303771972656, '2883589', 4, 61.379833355928874, 63.306788841133034, -81.52885236951391], [207.9445037841797, 295.477783203125, '2883589', 1, 29.51201638421393, 29.02748045175581, -66.80141337617465], [214, 149.96665954589844, '2883589', 7, 65.76473218982953, 54.589376255824725, -28.12373538328881], [209, 298.9666748046875, '2883589', 2, 42.20189569201838, 38.242646351945886, -36.32682595212024]] \n",
      "\n",
      "06241902_proc_00590.png\n"
     ]
    },
    {
     "name": "stderr",
     "output_type": "stream",
     "text": [
      "c:\\python36-32\\lib\\site-packages\\matplotlib\\cbook\\deprecation.py:107: MatplotlibDeprecationWarning: Adding an axes using the same arguments as a previous axes currently reuses the earlier instance.  In a future version, a new instance will always be created and returned.  Meanwhile, this warning can be suppressed, and the future behavior ensured, by passing a unique label to each axes instance.\n",
      "  warnings.warn(message, mplDeprecation, stacklevel=1)\n"
     ]
    },
    {
     "name": "stdout",
     "output_type": "stream",
     "text": [
      "key = coords2895878 value =  [[218.84564208984375, 293.3800048828125, '2895878', 0, 34.165150741096404, 34.438599037689954, 12.74567797981824], [197.26222229003906, 287.5474853515625, '2895878', 2, 70.69946790294516, 35.34973395147258, -20.556026404399077], [218.296875, 302.75, '2895878', 1, 38.27531841800928, 34.132096331752024, -31.827446576673104], [227.796875, 299.75, '2895878', 2, 62.51399843235114, 51.15662224971465, -4.4846060095446205], [0, 0, '2895878', 0, 0, 0, 0], [257.796875, 26.5, '2895878', 4, 55.08175741568164, 27.504545078950134, 3.122130462115708], [221.796875, 299.5, '2895878', 1, 37.013511046643494, 29.017236257093817, 1.9749340108819808], [219.47915649414062, 296.6041564941406, '2895878', 1, 35.35533905932738, 38.2099463490856, -45]] \n",
      "\n",
      "06241902_proc_01567.png\n"
     ]
    },
    {
     "name": "stderr",
     "output_type": "stream",
     "text": [
      "c:\\python36-32\\lib\\site-packages\\matplotlib\\cbook\\deprecation.py:107: MatplotlibDeprecationWarning: Adding an axes using the same arguments as a previous axes currently reuses the earlier instance.  In a future version, a new instance will always be created and returned.  Meanwhile, this warning can be suppressed, and the future behavior ensured, by passing a unique label to each axes instance.\n",
      "  warnings.warn(message, mplDeprecation, stacklevel=1)\n"
     ]
    },
    {
     "name": "stdout",
     "output_type": "stream",
     "text": [
      "key = coords2883590 value =  [[211.1558837890625, 135.2935791015625, '2883590', 6, 76.21667064500113, 71.11421451521481, -234.4623150623972], [206.3125, 148.75, '2883590', 5, 80.8084154033477, 82.02438661763951, -49.014175695411026], [209.296875, 135.75, '2883590', 6, 67.91170738539859, 63.63961030678928, -98.13010235415598], [208.296875, 300.75, '2883590', 2, 42.20189569201838, 42.20189569201838, -53.67317404787976], [51, 102.760009765625, '2883590', 4, 78.2368199762746, 63.655321851358195, 43.726969979943306], [110, 204.760009765625, '2883590', 1, 55.362442142665635, 27.681221071332818, 73.20162821869471], [208, 139.760009765625, '2883590', 6, 80.8084154033477, 62.369864518050704, -228.90049374238188], [206, 301.760009765625, '2883590', 2, 52.92447448959697, 40.162171256046406, -71.11391263029071], [375, 103.760009765625, '2883590', 1, 47.38143096192854, 38.28837943815329, -49.236394799058836], [415, 247.760009765625, '2883590', 2, 72.62231062146122, 36.31115531073061, 51.70983680775693], [344, 249.760009765625, '2883590', 1, 51.35172830587107, 33.06055050963308, 86.53177074108288], [204.296875, 291.75, '2883590', 2, 41.7612260356422, 30.4138126514911, -80.53767779197439], [205.796875, 146.75, '2883590', 6, 78.18567643756751, 57.38466694161429, -202.5430610000579], [213.00003051757812, 139.69000244140625, '2883590', 5, 65.37583651472461, 66.06814663663572, -83.85337434035333], [212.00003051757812, 299.69000244140625, '2883590', 2, 32.7566787083184, 31.662280397975127, -31.26373169437743], [215.09999084472656, 137.6999969482422, '2883590', 4, 68.41052550594829, 34.20526275297414, -37.8749836510982], [207.09999084472656, 303.6999816894531, '2883590', 2, 38.2099463490856, 19.1049731745428, 6.009005957494525]] \n",
      "\n",
      "06241902_proc_00591.png\n"
     ]
    },
    {
     "name": "stderr",
     "output_type": "stream",
     "text": [
      "c:\\python36-32\\lib\\site-packages\\matplotlib\\cbook\\deprecation.py:107: MatplotlibDeprecationWarning: Adding an axes using the same arguments as a previous axes currently reuses the earlier instance.  In a future version, a new instance will always be created and returned.  Meanwhile, this warning can be suppressed, and the future behavior ensured, by passing a unique label to each axes instance.\n",
      "  warnings.warn(message, mplDeprecation, stacklevel=1)\n"
     ]
    },
    {
     "name": "stdout",
     "output_type": "stream",
     "text": [
      "key = coords2895880 value =  [[221.5, 149.5333251953125, '2895880', 5, 73.35529974037323, 61.35144660071187, -199.0256060375687], [209.87437438964844, 126.0312728881836, '2895880', 3, 113.7895741836702, 56.8947870918351, -54.293299143641484], [219.9805145263672, 300.5916442871094, '2895880', 1, 52.552651062365065, 26.276325531182533, -20.924505858147835], [221.6999969482422, 151.5500030517578, '2895880', 11, 78.43470060056973, 69.85699678629192, -23.629377730656813], [223.8125, 72.75, '2895880', 1, 317.5169286825507, 158.75846434127536, -84.39713932001924], [230.27999877929688, 299.45001220703125, '2895880', 1, 50, 47.70744176750625, -56.97613244420335], [227.27999877929688, 153.4499969482422, '2895880', 6, 72.40165743959182, 77.46612162745726, -39.23736711340155]] \n",
      "\n",
      "06241902_proc_01569.png\n"
     ]
    },
    {
     "name": "stderr",
     "output_type": "stream",
     "text": [
      "c:\\python36-32\\lib\\site-packages\\matplotlib\\cbook\\deprecation.py:107: MatplotlibDeprecationWarning: Adding an axes using the same arguments as a previous axes currently reuses the earlier instance.  In a future version, a new instance will always be created and returned.  Meanwhile, this warning can be suppressed, and the future behavior ensured, by passing a unique label to each axes instance.\n",
      "  warnings.warn(message, mplDeprecation, stacklevel=1)\n"
     ]
    },
    {
     "name": "stdout",
     "output_type": "stream",
     "text": [
      "key = coords2883593 value =  [[212.796875, 143.75, '2883593', 7, 79.40403012442127, 74.33034373659252, 33.47627829610266], [212.796875, 146.75, '2883593', 9, 70.34912934784623, 73.06161783043132, -92.35329686610831], [209.6999969482422, 148.6999969482422, '2883593', 8, 82.09748776642819, 77.46612162745726, -11.164880177548582], [215.63540649414062, 142.5, '2883593', 10, 74.02702209328699, 76.83749084919418, -38.418055344821994], [257.6354064941406, 8.5, '2883593', 3, 40.24922359499622, 39.395431207184416, -116.56505117707799], [7.635416507720947, 132.5, '2883593', 5, 77.27871400071152, 110.65260949727262, -6.2258288189762965], [220.107177734375, 146.9464569091797, '2883593', 10, 86.83509863121498, 81.8614616761282, -64.68711215371664]] \n",
      "\n",
      "06241902_proc_00594.png\n"
     ]
    },
    {
     "name": "stderr",
     "output_type": "stream",
     "text": [
      "c:\\python36-32\\lib\\site-packages\\matplotlib\\cbook\\deprecation.py:107: MatplotlibDeprecationWarning: Adding an axes using the same arguments as a previous axes currently reuses the earlier instance.  In a future version, a new instance will always be created and returned.  Meanwhile, this warning can be suppressed, and the future behavior ensured, by passing a unique label to each axes instance.\n",
      "  warnings.warn(message, mplDeprecation, stacklevel=1)\n"
     ]
    },
    {
     "name": "stdout",
     "output_type": "stream",
     "text": [
      "key = coords2895882 value =  [[217.296875, 152.75, '2895882', 5, 58.05170109479997, 58.25804665451803, -50.572197803963796], [221.33999633789062, 155.260009765625, '2895882', 7, 60.37383539249432, 58.52349955359813, 56.85300416774399], [218, 149.96665954589844, '2895882', 6, 77.10382610480494, 74.4043009509531, -36.25383773744479], [33.46875, 132.609375, '2895882', 5, 97.18538984847466, 48.38388161361178, -86.46044083145004], [217.46875, 155.609375, '2895882', 11, 75.32595834106593, 74.46475676452586, 75.21727395738432]] \n",
      "\n",
      "06241902_proc_01571.png\n"
     ]
    },
    {
     "name": "stderr",
     "output_type": "stream",
     "text": [
      "c:\\python36-32\\lib\\site-packages\\matplotlib\\cbook\\deprecation.py:107: MatplotlibDeprecationWarning: Adding an axes using the same arguments as a previous axes currently reuses the earlier instance.  In a future version, a new instance will always be created and returned.  Meanwhile, this warning can be suppressed, and the future behavior ensured, by passing a unique label to each axes instance.\n",
      "  warnings.warn(message, mplDeprecation, stacklevel=1)\n"
     ]
    },
    {
     "name": "stdout",
     "output_type": "stream",
     "text": [
      "key = coords2895884 value =  [[216.296875, 152.75, '2895884', 11, 63.56099432828282, 67.7421582177598, -8.488943880504706], [241.8125, 90.75, '2895884', 1, 144.22205101855957, 72.11102550927978, -123.6900675259798], [223.296875, 148.75, '2895884', 10, 120.6731121667126, 60.3365560833563, -145.12467165539783], [221.6999969482422, 155.14999389648438, '2895884', 8, 59.93328250689273, 74.32360972397937, -23.805945892455625], [220.796875, 225.75, '2895884', 1, 175.4821928287882, 87.7410964143941, 111.74077905447173], [222.76992797851562, 152.7291717529297, '2895884', 10, 62.476426369208205, 64.325250230661, 51.76617288148793], [219.5, 153.75, '2895884', 11, 71.58910531638176, 72.44998274671983, -110.18580300946485]] \n",
      "\n",
      "06241902_proc_01573.png\n"
     ]
    },
    {
     "name": "stderr",
     "output_type": "stream",
     "text": [
      "c:\\python36-32\\lib\\site-packages\\matplotlib\\cbook\\deprecation.py:107: MatplotlibDeprecationWarning: Adding an axes using the same arguments as a previous axes currently reuses the earlier instance.  In a future version, a new instance will always be created and returned.  Meanwhile, this warning can be suppressed, and the future behavior ensured, by passing a unique label to each axes instance.\n",
      "  warnings.warn(message, mplDeprecation, stacklevel=1)\n"
     ]
    },
    {
     "name": "stdout",
     "output_type": "stream",
     "text": [
      "key = coords2895886 value =  [[214.65994262695312, 152.76002502441406, '2895886', 8, 81.23431436181855, 79.08250163130494, -7.962631060767805], [207.04995727539062, 280.3800048828125, '2895886', 1, 58.587674007892154, 58.647079926375376, -6.053804896195871], [215, 152.4499969482422, '2895886', 11, 79.12016177940993, 77.62087348130012, -21.938480467706455], [203, 277.45001220703125, '2895886', 2, 61.05735008989499, 57.00878329951665, -37.87497423594712], [202.8125, 57.75, '2895886', 1, 179.0474797365213, 89.52373986826065, -81.32682595212023], [217.796875, 152.5, '2895886', 9, 74.96665925596525, 61.68468205316454, -163.03385189146383]] \n",
      "\n",
      "06241902_proc_01575.png\n"
     ]
    },
    {
     "name": "stderr",
     "output_type": "stream",
     "text": [
      "c:\\python36-32\\lib\\site-packages\\matplotlib\\cbook\\deprecation.py:107: MatplotlibDeprecationWarning: Adding an axes using the same arguments as a previous axes currently reuses the earlier instance.  In a future version, a new instance will always be created and returned.  Meanwhile, this warning can be suppressed, and the future behavior ensured, by passing a unique label to each axes instance.\n",
      "  warnings.warn(message, mplDeprecation, stacklevel=1)\n"
     ]
    },
    {
     "name": "stdout",
     "output_type": "stream",
     "text": [
      "key = coords2895887 value =  [[218.296875, 145.75, '2895887', 9, 67.67569726275453, 66.70832032063167, -23.875280853927507], [207.296875, 287.75, '2895887', 1, 35.4682957019364, 36.49657518178932, -260.5376777919744], [206.93331909179688, 291.066650390625, '2895887', 1, 38.32752066508169, 37.36308338453881, 74.47588900324575], [217.93331909179688, 151.06666564941406, '2895887', 1, 79.02531240052139, 73.87827826905551, -140.49232455712743], [229, 143.46665954589844, '2895887', 9, 117.00427342623003, 58.502136713115014, -179.5103044068708], [215.69473266601562, 143.0564422607422, '2895887', 9, 67.18113986078899, 68.99451065764882, 51.84277198922581], [217, 146.46665954589844, '2895887', 10, 75.28612089887484, 71.79310551856634, -50.38931175997341], [201, 281.04998779296875, '2895887', 2, 53.009433122794285, 49.2036463060888, -37.56860286233962], [217, 148.0500030517578, '2895887', 7, 79.90619500389191, 77.88452991448301, -15.642246457208728], [210.46875, 144, '2895887', 11, 78.16009211867653, 70.34912934784623, -5.710593137499629], [199.46875, 283, '2895887', 2, 47.20169488482379, 46.61544808322666, -126.3843518158359]] \n",
      "\n",
      "06241902_proc_01576.png\n"
     ]
    },
    {
     "name": "stderr",
     "output_type": "stream",
     "text": [
      "c:\\python36-32\\lib\\site-packages\\matplotlib\\cbook\\deprecation.py:107: MatplotlibDeprecationWarning: Adding an axes using the same arguments as a previous axes currently reuses the earlier instance.  In a future version, a new instance will always be created and returned.  Meanwhile, this warning can be suppressed, and the future behavior ensured, by passing a unique label to each axes instance.\n",
      "  warnings.warn(message, mplDeprecation, stacklevel=1)\n"
     ]
    },
    {
     "name": "stdout",
     "output_type": "stream",
     "text": [
      "key = coords2895888 value =  [[216.796875, 147, '2895888', 6, 81.21576201698781, 77.62087348130012, -38.19868517601842], [216.296875, 147, '2895888', 4, 71.02112361825881, 77.89736837660179, -29.19748604606447], [197.296875, 288, '2895888', 0, 44.654227123532216, 43.266615305567875, -33.690067525979785], [262.296875, 34, '2895888', 1, 64.28841264178172, 34.20526275297414, 15.25511870305779], [217.19998168945312, 151.97998809814453, '2895888', 5, 68.23137105714729, 64.45462157353565, -23.860187810889716], [220.13311767578125, 153.202880859375, '2895888', 7, 125.29026261280889, 101.44691463594754, -171.86990008336775], [211.46875, 147, '2895888', 5, 72.24956747275377, 68.59300255857006, 138.3664606634298]] \n",
      "\n",
      "06241902_proc_01577.png\n"
     ]
    },
    {
     "name": "stderr",
     "output_type": "stream",
     "text": [
      "c:\\python36-32\\lib\\site-packages\\matplotlib\\cbook\\deprecation.py:107: MatplotlibDeprecationWarning: Adding an axes using the same arguments as a previous axes currently reuses the earlier instance.  In a future version, a new instance will always be created and returned.  Meanwhile, this warning can be suppressed, and the future behavior ensured, by passing a unique label to each axes instance.\n",
      "  warnings.warn(message, mplDeprecation, stacklevel=1)\n"
     ]
    },
    {
     "name": "stdout",
     "output_type": "stream",
     "text": [
      "key = coords2906127 value =  [[0, 0, '2906127', 0, 0, 0, 0], [0, 0, '2906127', 0, 0, 0, 0], [0, 0, '2906127', 0, 0, 0, 0], [0, 0, '2906127', 0, 0, 0, 0], [0, 0, '2906127', 0, 0, 0, 0]] \n",
      "\n",
      "06240909_proc_01528.png\n"
     ]
    },
    {
     "name": "stderr",
     "output_type": "stream",
     "text": [
      "c:\\python36-32\\lib\\site-packages\\matplotlib\\cbook\\deprecation.py:107: MatplotlibDeprecationWarning: Adding an axes using the same arguments as a previous axes currently reuses the earlier instance.  In a future version, a new instance will always be created and returned.  Meanwhile, this warning can be suppressed, and the future behavior ensured, by passing a unique label to each axes instance.\n",
      "  warnings.warn(message, mplDeprecation, stacklevel=1)\n"
     ]
    },
    {
     "name": "stdout",
     "output_type": "stream",
     "text": [
      "key = coords2895891 value =  [[216.14190673828125, 161.57012176513672, '2895891', 7, 43.05718233509082, 53.35365732581383, -27.699447418502608], [0, 0, '2895891', 0, 0, 0, 0], [233.296875, 150.75, '2895891', 2, 49.03060268852505, 55.326304774492215, -83.77417093557423], [0, 0, '2895891', 0, 0, 0, 0], [255.6923065185547, 162.70770263671875, '2895891', 1, 32.01329803667802, 25.60509895129325, 32.73525089038182], [0, 0, '2895891', 0, 0, 0, 0]] \n",
      "\n",
      "06241902_proc_01580.png\n"
     ]
    },
    {
     "name": "stderr",
     "output_type": "stream",
     "text": [
      "c:\\python36-32\\lib\\site-packages\\matplotlib\\cbook\\deprecation.py:107: MatplotlibDeprecationWarning: Adding an axes using the same arguments as a previous axes currently reuses the earlier instance.  In a future version, a new instance will always be created and returned.  Meanwhile, this warning can be suppressed, and the future behavior ensured, by passing a unique label to each axes instance.\n",
      "  warnings.warn(message, mplDeprecation, stacklevel=1)\n"
     ]
    },
    {
     "name": "stdout",
     "output_type": "stream",
     "text": [
      "key = coords2895892 value =  [[509.796875, 105.75, '2895892', 1, 291.66076184499, 145.830380922495, -106.94385527120905], [18.796875, 23.75, '2895892', 1, 388.9884317045945, 194.49421585229726, -59.743562836470744], [0, 0, '2895892', 0, 0, 0, 0], [0, 0, '2895892', 0, 0, 0, 0], [0, 0, '2895892', 0, 0, 0, 0], [0, 0, '2895892', 0, 0, 0, 0], [0, 0, '2895892', 0, 0, 0, 0], [0, 0, '2895892', 0, 0, 0, 0]] \n",
      "\n",
      "06241902_proc_01581.png\n"
     ]
    },
    {
     "name": "stderr",
     "output_type": "stream",
     "text": [
      "c:\\python36-32\\lib\\site-packages\\matplotlib\\cbook\\deprecation.py:107: MatplotlibDeprecationWarning: Adding an axes using the same arguments as a previous axes currently reuses the earlier instance.  In a future version, a new instance will always be created and returned.  Meanwhile, this warning can be suppressed, and the future behavior ensured, by passing a unique label to each axes instance.\n",
      "  warnings.warn(message, mplDeprecation, stacklevel=1)\n"
     ]
    },
    {
     "name": "stdout",
     "output_type": "stream",
     "text": [
      "key = coords2906131 value =  [[0, 0, '2906131', 0, 0, 0, 0], [273.796875, 104.75, '2906131', 1, 42.720018726587654, 31.32091952673165, -16.69924423399361], [121.796875, 109.75, '2906131', 10, 96.15092303249095, 95.46203433826454, -67.19545952867895], [119.45940399169922, 132.52859497070312, '2906131', 11, 67.92855529785218, 57.65526355821328, -235.56103391643796], [121.0999984741211, 101.1500015258789, '2906131', 8, 117.92370076760793, 102.08330137498842, 57.3996646225788], [0, 0, '2906131', 0, 0, 0, 0], [114.88333129882812, 124.58332824707031, '2906131', 1, 87.32124598286491, 75.16648189186454, -229.31602751986563], [277.8833312988281, 110.58332824707031, '2906131', 1, 42.720018726587654, 42.190046219457976, -58.570434385161484]] \n",
      "\n",
      "06240909_proc_01532.png\n"
     ]
    },
    {
     "name": "stderr",
     "output_type": "stream",
     "text": [
      "c:\\python36-32\\lib\\site-packages\\matplotlib\\cbook\\deprecation.py:107: MatplotlibDeprecationWarning: Adding an axes using the same arguments as a previous axes currently reuses the earlier instance.  In a future version, a new instance will always be created and returned.  Meanwhile, this warning can be suppressed, and the future behavior ensured, by passing a unique label to each axes instance.\n",
      "  warnings.warn(message, mplDeprecation, stacklevel=1)\n",
      "c:\\python36-32\\lib\\site-packages\\numpy\\core\\fromnumeric.py:2957: RuntimeWarning: Mean of empty slice.\n",
      "  out=out, **kwargs)\n",
      "c:\\python36-32\\lib\\site-packages\\numpy\\core\\_methods.py:80: RuntimeWarning: invalid value encountered in double_scalars\n",
      "  ret = ret.dtype.type(ret / rcount)\n",
      "c:\\python36-32\\lib\\site-packages\\astropy\\units\\quantity.py:639: RuntimeWarning: invalid value encountered in true_divide\n",
      "  result = super().__array_ufunc__(function, method, *arrays, **kwargs)\n"
     ]
    },
    {
     "name": "stdout",
     "output_type": "stream",
     "text": [
      "key = coords2912278 value =  [[0, 0, '2912278', 0, 0, 0, 0], [0, 0, '2912278', 0, 0, 0, 0], [0, 0, '2912278', 0, 0, 0, 0], [0, 0, '2912278', 0, 0, 0, 0], [0, 0, '2912278', 0, 0, 0, 0]] \n",
      "\n",
      "06240910_proc_00044.png\n"
     ]
    },
    {
     "name": "stderr",
     "output_type": "stream",
     "text": [
      "c:\\python36-32\\lib\\site-packages\\matplotlib\\cbook\\deprecation.py:107: MatplotlibDeprecationWarning: Adding an axes using the same arguments as a previous axes currently reuses the earlier instance.  In a future version, a new instance will always be created and returned.  Meanwhile, this warning can be suppressed, and the future behavior ensured, by passing a unique label to each axes instance.\n",
      "  warnings.warn(message, mplDeprecation, stacklevel=1)\n",
      "c:\\python36-32\\lib\\site-packages\\matplotlib\\pyplot.py:537: RuntimeWarning: More than 20 figures have been opened. Figures created through the pyplot interface (`matplotlib.pyplot.figure`) are retained until explicitly closed and may consume too much memory. (To control this warning, see the rcParam `figure.max_open_warning`).\n",
      "  max_open_warning, RuntimeWarning)\n"
     ]
    },
    {
     "name": "stdout",
     "output_type": "stream",
     "text": [
      "key = coords2906132 value =  [[112.796875, 115.75, '2906132', 8, 82.49242389456137, 77.23341245859851, 96.26349061433454], [112.296875, 101.75, '2906132', 10, 92.65527507918802, 72.40338389882064, -71.76059915334885], [115.796875, 114.5, '2906132', 10, 89.8276126811795, 83.86894538504703, -140.80672690553158], [110.796875, 116.5, '2906132', 11, 98.79271228182775, 79.12016177940993, -249.27444113443946], [0, 0, '2906132', 0, 0, 0, 0], [106.96875, 107, '2906132', 1, 104.6900186264192, 91.6624241442479, -96.58194465517802]] \n",
      "\n",
      "06240909_proc_01533.png\n"
     ]
    },
    {
     "name": "stderr",
     "output_type": "stream",
     "text": [
      "c:\\python36-32\\lib\\site-packages\\matplotlib\\cbook\\deprecation.py:107: MatplotlibDeprecationWarning: Adding an axes using the same arguments as a previous axes currently reuses the earlier instance.  In a future version, a new instance will always be created and returned.  Meanwhile, this warning can be suppressed, and the future behavior ensured, by passing a unique label to each axes instance.\n",
      "  warnings.warn(message, mplDeprecation, stacklevel=1)\n",
      "c:\\python36-32\\lib\\site-packages\\matplotlib\\pyplot.py:537: RuntimeWarning: More than 20 figures have been opened. Figures created through the pyplot interface (`matplotlib.pyplot.figure`) are retained until explicitly closed and may consume too much memory. (To control this warning, see the rcParam `figure.max_open_warning`).\n",
      "  max_open_warning, RuntimeWarning)\n"
     ]
    },
    {
     "name": "stdout",
     "output_type": "stream",
     "text": [
      "key = coords2895898 value =  [[199.85313415527344, 149.41551208496094, '2895898', 6, 74.77733427513385, 65.56480038690566, -45.54833148314019], [226.5009765625, 304.25, '2895898', 0, 44.06917682950097, 38.05604677664476, -42.070050394359036], [205.296875, 145.75, '2895898', 6, 71.21797525905943, 72.44998274671983, -243.78862198216848], [15.296875, 146.75, '2895898', 3, 87.11486669908874, 94.89467845985885, -7.873938131725623], [211, 151.760009765625, '2895898', 8, 87.66413177577246, 73.78346698278686, -212.82854179141253], [224, 301.760009765625, '2895898', 1, 36.89173349139343, 38.27531841800928, -250.14478563067897], [206.796875, 148.5, '2895898', 11, 81.25269226308751, 74.54528824815154, -6.934348901269544], [223.796875, 299.5, '2895898', 2, 43.01162633521314, 44.384682042344295, -22.52056560289688], [210.5, 150.96665954589844, '2895898', 7, 71.00704190430693, 73.55270219373317, -97.0283962389496], [64.88742065429688, 116.96665954589844, '2895898', 5, 89.02246907382428, 39, -90], [14.5, 126.96665954589844, '2895898', 7, 111.61093136427094, 55.80546568213547, -77.5825542099237], [208.296875, 149, '2895898', 9, 73.87827826905551, 72.83543093852057, -224.44374777291932], [152.95684814453125, 259.78497314453125, '2895898', 1, 0, 0, 0], [226.296875, 297, '2895898', 1, 31.89043743820395, 33.015148038438355, -215.13419305691565]] \n",
      "\n",
      "06241902_proc_01587.png\n"
     ]
    },
    {
     "name": "stderr",
     "output_type": "stream",
     "text": [
      "c:\\python36-32\\lib\\site-packages\\matplotlib\\cbook\\deprecation.py:107: MatplotlibDeprecationWarning: Adding an axes using the same arguments as a previous axes currently reuses the earlier instance.  In a future version, a new instance will always be created and returned.  Meanwhile, this warning can be suppressed, and the future behavior ensured, by passing a unique label to each axes instance.\n",
      "  warnings.warn(message, mplDeprecation, stacklevel=1)\n",
      "c:\\python36-32\\lib\\site-packages\\matplotlib\\pyplot.py:537: RuntimeWarning: More than 20 figures have been opened. Figures created through the pyplot interface (`matplotlib.pyplot.figure`) are retained until explicitly closed and may consume too much memory. (To control this warning, see the rcParam `figure.max_open_warning`).\n",
      "  max_open_warning, RuntimeWarning)\n"
     ]
    },
    {
     "name": "stdout",
     "output_type": "stream",
     "text": [
      "key = coords2904094 value =  [[295.296875, 192.75, '2904094', 1, 50.039984012787215, 54.00231476520243, -2.2906100426385296], [304.296875, 326.75, '2904094', 1, 37.53664875824692, 31.851216617265973, 48.239700296102136], [82.296875, 216.75, '2904094', 2, 104.00480758118829, 119.00105041553205, 0.5509039792185729], [62.796875, 206.75, '2904094', 7, 112.16059914247963, 123.90722335683259, -222.05595365001238], [297.80029296875, 200.5163116455078, '2904094', 1, 64.07549217824658, 53.69328584234057, -55.813880069122206], [304.8008117675781, 324.5263977050781, '2904094', 1, 41.185893743005614, 44.82555858084814, -128.65983262181877], [76.78228759765625, 216.51760864257812, '2904094', 11, 120.8403003419901, 122.55384674095899, -118.68614393625823], [309.796875, 198.5, '2904094', 2, 29.154759474226502, 31.622776601683793, -34.69515353123396], [75.796875, 212.5, '2904094', 3, 102.55242561733974, 97.94896630388705, -49.9697407281103], [302.796875, 328.5, '2904094', 1, 22.360679774997898, 27.784887978899608, -30.256437163529256], [78.796875, 215.5, '2904094', 11, 117.27318534089538, 114.5294721894762, -95.51147741602061], [77.96875, 211.609375, '2904094', 8, 112.0044641967453, 101.04454463255303, -88.29864539467387]] \n",
      "\n",
      "06240907_proc_01495.png\n"
     ]
    },
    {
     "name": "stderr",
     "output_type": "stream",
     "text": [
      "c:\\python36-32\\lib\\site-packages\\matplotlib\\cbook\\deprecation.py:107: MatplotlibDeprecationWarning: Adding an axes using the same arguments as a previous axes currently reuses the earlier instance.  In a future version, a new instance will always be created and returned.  Meanwhile, this warning can be suppressed, and the future behavior ensured, by passing a unique label to each axes instance.\n",
      "  warnings.warn(message, mplDeprecation, stacklevel=1)\n",
      "c:\\python36-32\\lib\\site-packages\\matplotlib\\pyplot.py:537: RuntimeWarning: More than 20 figures have been opened. Figures created through the pyplot interface (`matplotlib.pyplot.figure`) are retained until explicitly closed and may consume too much memory. (To control this warning, see the rcParam `figure.max_open_warning`).\n",
      "  max_open_warning, RuntimeWarning)\n"
     ]
    },
    {
     "name": "stdout",
     "output_type": "stream",
     "text": [
      "key = coords2904095 value =  [[69, 210.46665954589844, '2904095', 3, 110.25879839954702, 104.10091258005379, -58.75307058652305], [288, 193.46665954589844, '2904095', 2, 46.09772228646444, 46.8187996428785, -19.98310652189997], [305, 327.4666748046875, '2904095', 1, 34.785054261852174, 35.34119409414458, -25.114834886144564], [301.0489196777344, 328.7670593261719, '2904095', 1, 38.60184871140776, 41.037993925016096, -46.97492570462204], [287.0484313964844, 195.762451171875, '2904095', 3, 52.203347760993026, 49.771179934276255, 22.44273783590289], [68.04086303710938, 212.76304626464844, '2904095', 11, 112.64492028914951, 112.79131803449724, -10.213973706669137], [315.796875, 67.5, '2904095', 1, 46.09772228646444, 29.614185789921695, -101.6893691754392], [236.796875, 43.5, '2904095', 1, 49.47726750741192, 37, -108.92464441605124], [286.796875, 196.5, '2904095', 4, 50.00999900019995, 52.3450093132096, -6.581944655178006], [299.796875, 331.5, '2904095', 1, 37.53664875824692, 40.22437072223753, -34.87532834460218], [73.796875, 214.5, '2904095', 10, 108.33743581975715, 101.01980003939822, -58.355340962907434], [283.46875, 193.25, '2904095', 3, 58.25804665451803, 60.959002616512684, -50.572197803963796], [73.46875, 217.25, '2904095', 11, 129.40247292845683, 106.00471687618433, -89.45948981286934]] \n",
      "\n",
      "06240907_proc_01496.png\n"
     ]
    },
    {
     "name": "stderr",
     "output_type": "stream",
     "text": [
      "c:\\python36-32\\lib\\site-packages\\matplotlib\\cbook\\deprecation.py:107: MatplotlibDeprecationWarning: Adding an axes using the same arguments as a previous axes currently reuses the earlier instance.  In a future version, a new instance will always be created and returned.  Meanwhile, this warning can be suppressed, and the future behavior ensured, by passing a unique label to each axes instance.\n",
      "  warnings.warn(message, mplDeprecation, stacklevel=1)\n",
      "c:\\python36-32\\lib\\site-packages\\matplotlib\\pyplot.py:537: RuntimeWarning: More than 20 figures have been opened. Figures created through the pyplot interface (`matplotlib.pyplot.figure`) are retained until explicitly closed and may consume too much memory. (To control this warning, see the rcParam `figure.max_open_warning`).\n",
      "  max_open_warning, RuntimeWarning)\n"
     ]
    },
    {
     "name": "stdout",
     "output_type": "stream",
     "text": [
      "key = coords2912288 value =  [[0, 0, '2912288', 0, 0, 0, 0], [0, 0, '2912288', 0, 0, 0, 0], [0, 0, '2912288', 0, 0, 0, 0], [0, 0, '2912288', 0, 0, 0, 0], [0, 0, '2912288', 0, 0, 0, 0]] \n",
      "\n",
      "06240910_proc_00054.png\n"
     ]
    },
    {
     "name": "stderr",
     "output_type": "stream",
     "text": [
      "c:\\python36-32\\lib\\site-packages\\matplotlib\\cbook\\deprecation.py:107: MatplotlibDeprecationWarning: Adding an axes using the same arguments as a previous axes currently reuses the earlier instance.  In a future version, a new instance will always be created and returned.  Meanwhile, this warning can be suppressed, and the future behavior ensured, by passing a unique label to each axes instance.\n",
      "  warnings.warn(message, mplDeprecation, stacklevel=1)\n",
      "c:\\python36-32\\lib\\site-packages\\matplotlib\\pyplot.py:537: RuntimeWarning: More than 20 figures have been opened. Figures created through the pyplot interface (`matplotlib.pyplot.figure`) are retained until explicitly closed and may consume too much memory. (To control this warning, see the rcParam `figure.max_open_warning`).\n",
      "  max_open_warning, RuntimeWarning)\n"
     ]
    },
    {
     "name": "stdout",
     "output_type": "stream",
     "text": [
      "key = coords2904096 value =  [[69.796875, 217.75, '2904096', 1, 102.18121158021175, 106.09901036296239, -258.58416047559297], [288.796875, 191.75, '2904096', 1, 54.45181356024793, 55.226805085936306, -227.93567344642116], [299.796875, 324.75, '2904096', 1, 26.248809496813376, 33.83784863137726, 71.02959219151347], [285.42698669433594, 192.78128051757812, '2904096', 1, 69.35696957815611, 63.327130892641, -21.297351432887922], [300.4275817871094, 326.7867126464844, '2904096', 1, 39.62481134216567, 45.400065952046496, 82.40539226228523], [313.4281311035156, 65.27610206604004, '2904096', 1, 29.834075694322486, 29.834075694322486, -140.44034787026357], [67.41810607910156, 221.2824249267578, '2904096', 11, 120.0756927540716, 130.25506136964523, 82.34229118554782], [292.96875, 191.828125, '2904096', 1, 52.009614495783374, 53.9351462406472, -100.68491240000272], [300.96875, 324.828125, '2904096', 1, 36.013886210738214, 38.8329756778952, -101.88865803962797], [81.3900146484375, 210.0399932861328, '2904096', 1, 85.75411996055983, 92.46009974694431, 34.312243331311805], [288.05999755859375, 188.21998596191406, '2904096', 1, 46.86313700147991, 44.80813915295649, -59.961717012288034], [303.21002197265625, 325.78997802734375, '2904096', 1, 29.599201334309004, 35.85998568721275, -59.53768380483842]] \n",
      "\n",
      "06240907_proc_01497.png\n"
     ]
    },
    {
     "name": "stderr",
     "output_type": "stream",
     "text": [
      "c:\\python36-32\\lib\\site-packages\\matplotlib\\cbook\\deprecation.py:107: MatplotlibDeprecationWarning: Adding an axes using the same arguments as a previous axes currently reuses the earlier instance.  In a future version, a new instance will always be created and returned.  Meanwhile, this warning can be suppressed, and the future behavior ensured, by passing a unique label to each axes instance.\n",
      "  warnings.warn(message, mplDeprecation, stacklevel=1)\n",
      "c:\\python36-32\\lib\\site-packages\\matplotlib\\pyplot.py:537: RuntimeWarning: More than 20 figures have been opened. Figures created through the pyplot interface (`matplotlib.pyplot.figure`) are retained until explicitly closed and may consume too much memory. (To control this warning, see the rcParam `figure.max_open_warning`).\n",
      "  max_open_warning, RuntimeWarning)\n"
     ]
    },
    {
     "name": "stdout",
     "output_type": "stream",
     "text": [
      "key = coords2895905 value =  [[203.796875, 282.75, '2895905', 1, 40.01249804748511, 24.005207768315607, 1.4320961841646465], [208.5, 290.07000732421875, '2895905', 1, 94.2019108086455, 64.88451279003334, -24.59011716619601], [37.5, 145.46665954589844, '2895905', 10, 122.00411355009619, 54.00925846556311, -88.93908830973577], [206.5, 286.4666748046875, '2895905', 1, 44.28317965096906, 42.7551166528639, -79.2157021324374], [207.43760681152344, 280.61846923828125, '2895905', 1, 51.65446019408283, 45.43199967612923, -142.81527773771398], [211.796875, 284.75, '2895905', 2, 52.773099207835045, 37.94733192202055, -161.56505117707798]] \n",
      "\n",
      "06241902_proc_01594.png\n"
     ]
    },
    {
     "name": "stderr",
     "output_type": "stream",
     "text": [
      "c:\\python36-32\\lib\\site-packages\\matplotlib\\cbook\\deprecation.py:107: MatplotlibDeprecationWarning: Adding an axes using the same arguments as a previous axes currently reuses the earlier instance.  In a future version, a new instance will always be created and returned.  Meanwhile, this warning can be suppressed, and the future behavior ensured, by passing a unique label to each axes instance.\n",
      "  warnings.warn(message, mplDeprecation, stacklevel=1)\n",
      "c:\\python36-32\\lib\\site-packages\\matplotlib\\pyplot.py:537: RuntimeWarning: More than 20 figures have been opened. Figures created through the pyplot interface (`matplotlib.pyplot.figure`) are retained until explicitly closed and may consume too much memory. (To control this warning, see the rcParam `figure.max_open_warning`).\n",
      "  max_open_warning, RuntimeWarning)\n"
     ]
    },
    {
     "name": "stdout",
     "output_type": "stream",
     "text": [
      "key = coords2906144 value =  [[0, 0, '2906144', 0, 0, 0, 0], [0, 0, '2906144', 0, 0, 0, 0], [0, 0, '2906144', 0, 0, 0, 0], [0, 0, '2906144', 0, 0, 0, 0], [0, 0, '2906144', 0, 0, 0, 0]] \n",
      "\n",
      "06240909_proc_01545.png\n"
     ]
    },
    {
     "name": "stderr",
     "output_type": "stream",
     "text": [
      "c:\\python36-32\\lib\\site-packages\\matplotlib\\cbook\\deprecation.py:107: MatplotlibDeprecationWarning: Adding an axes using the same arguments as a previous axes currently reuses the earlier instance.  In a future version, a new instance will always be created and returned.  Meanwhile, this warning can be suppressed, and the future behavior ensured, by passing a unique label to each axes instance.\n",
      "  warnings.warn(message, mplDeprecation, stacklevel=1)\n",
      "c:\\python36-32\\lib\\site-packages\\matplotlib\\pyplot.py:537: RuntimeWarning: More than 20 figures have been opened. Figures created through the pyplot interface (`matplotlib.pyplot.figure`) are retained until explicitly closed and may consume too much memory. (To control this warning, see the rcParam `figure.max_open_warning`).\n",
      "  max_open_warning, RuntimeWarning)\n"
     ]
    },
    {
     "name": "stdout",
     "output_type": "stream",
     "text": [
      "key = coords10516513 value =  [[149.6354217529297, 295.75, '10516513', 11, 93.23089616645332, 94.83142938920619, -75.96375653207352], [131.63541412353516, 159.75, '10516513', 5, 62.2896536035077, 31.14482680175385, 5.52753947567877], [113.63541412353516, 80.75, '10516513', 6, 68.11755307993465, 34.058776539967326, 3.36646028659182], [0, 0, '10516513', 0, 0, 0, 0], [109.90703582763672, 70.4254379272461, '10516513', 1, 75.07948410878342, 37.53974205439171, -2.161076524280116], [131.14083862304688, 153.94503784179688, '10516513', 7, 75.22614000124587, 67.66739597744728, -37.349347152653465], [113.78727722167969, 75.12931823730469, '10516513', 5, 63.334117419093445, 47.36197779277882, -166.8659836857135], [129.16160583496094, 159.6881866455078, '10516513', 6, 78.4694350599449, 37.02633583621703, 177.7542867944122], [153.7605743408203, 293.445068359375, '10516513', 4, 97.82969669183318, 90.39542448843417, -48.44740264316201], [299.81689453125, 245.78456115722656, '10516513', 1, 67.03286156711728, 53.280478721675834, -43.83087582350284], [425.88653564453125, 155.07594299316406, '10516513', 1, 35.09261694142499, 27.523957662992476, -28.810763182074762], [126.796875, 88.5, '10516513', 11, 69.87131027825369, 46.2709412050371, -186.20344790169185], [136.796875, 165.5, '10516513', 11, 79.76214641043707, 39.881073205218534, 172.0730733173104], [305.796875, 255.5, '10516513', 11, 47.634021455258214, 46.51881339845203, -205.46334506187162], [147.796875, 294.5, '10516513', 11, 91.26883367283708, 82.20097323024831, 147.52880770915152], [116.16617965698242, 79.31182098388672, '10516513', 6, 83.52586290974473, 43.865202886584065, 16.69923897057655], [125.16654968261719, 163.31525421142578, '10516513', 5, 88.07741997720811, 44.038709988604055, 12.458249313903233], [171.1684341430664, 294.320556640625, '10516513', 10, 61.84910092822586, 65.21766036026457, -125.63980118140935]] \n",
      "\n",
      "06240912_proc_01386.bmp.png\n"
     ]
    },
    {
     "name": "stderr",
     "output_type": "stream",
     "text": [
      "c:\\python36-32\\lib\\site-packages\\matplotlib\\cbook\\deprecation.py:107: MatplotlibDeprecationWarning: Adding an axes using the same arguments as a previous axes currently reuses the earlier instance.  In a future version, a new instance will always be created and returned.  Meanwhile, this warning can be suppressed, and the future behavior ensured, by passing a unique label to each axes instance.\n",
      "  warnings.warn(message, mplDeprecation, stacklevel=1)\n",
      "c:\\python36-32\\lib\\site-packages\\matplotlib\\pyplot.py:537: RuntimeWarning: More than 20 figures have been opened. Figures created through the pyplot interface (`matplotlib.pyplot.figure`) are retained until explicitly closed and may consume too much memory. (To control this warning, see the rcParam `figure.max_open_warning`).\n",
      "  max_open_warning, RuntimeWarning)\n"
     ]
    },
    {
     "name": "stdout",
     "output_type": "stream",
     "text": [
      "key = coords10516517 value =  [[302.5144348144531, 228.11338806152344, '10516517', 3, 74.92834841086946, 37.46417420543473, -65.3764444949363], [156.3515625, 300.48529052734375, '10516517', 2, 83.25401234484653, 41.627006172423265, -119.62375304696674], [122.796875, 160.75, '10516517', 3, 42.95346318982906, 73.10950690573696, -266.8636416316674], [298.796875, 249.75, '10516517', 10, 51.478150704935004, 52.478567053607705, -239.03624346792648], [146.796875, 306.75, '10516517', 11, 86.83893136145792, 81.6333265278342, -239.03624346792648], [296.1277160644531, 249.8431854248047, '10516517', 6, 53.19656514987665, 50.81303910207436, -2.5447810292121997], [135.97443389892578, 302.51951599121094, '10516517', 11, 59.616094084711385, 71.17792727898859, -13.920964389881519], [125.796875, 161.75, '10516517', 5, 83.00602387778854, 41.50301193889427, -179.30972280213493], [305.796875, 249.75, '10516517', 6, 49.72926703662542, 44.27188724235731, -198.43494882292202], [137.796875, 292.75, '10516517', 6, 68.41052550594829, 66.49060083951716, -77.84505830277777], [296.7843017578125, 248.3408203125, '10516517', 3, 49.06754655265241, 56.69011756548658, -269.4031960103655], [138.53298950195312, 303.25640869140625, '10516517', 3, 88.83487309799978, 74.26337238594795, -80.38785566598213], [301.46875, 249.25, '10516517', 6, 61.05735008989499, 54.67174773134658, -50.19442890773481], [132.46875, 306.25, '10516517', 10, 103.9471019317037, 80.95060222135473, -62.801872051490875], [113.46875, 160.25, '10516517', 3, 91.92388155425118, 45.96194077712559, -14.489762593884448]] \n",
      "\n",
      "06240912_proc_01390.bmp.png\n"
     ]
    },
    {
     "name": "stderr",
     "output_type": "stream",
     "text": [
      "c:\\python36-32\\lib\\site-packages\\matplotlib\\cbook\\deprecation.py:107: MatplotlibDeprecationWarning: Adding an axes using the same arguments as a previous axes currently reuses the earlier instance.  In a future version, a new instance will always be created and returned.  Meanwhile, this warning can be suppressed, and the future behavior ensured, by passing a unique label to each axes instance.\n",
      "  warnings.warn(message, mplDeprecation, stacklevel=1)\n",
      "c:\\python36-32\\lib\\site-packages\\matplotlib\\pyplot.py:537: RuntimeWarning: More than 20 figures have been opened. Figures created through the pyplot interface (`matplotlib.pyplot.figure`) are retained until explicitly closed and may consume too much memory. (To control this warning, see the rcParam `figure.max_open_warning`).\n",
      "  max_open_warning, RuntimeWarning)\n"
     ]
    },
    {
     "name": "stdout",
     "output_type": "stream",
     "text": [
      "key = coords10516510 value =  [[377.296875, 269.75, '10516510', 1, 412.4184767926869, 206.20923839634344, 133.32975587019283], [121.796875, 80.75, '10516510', 11, 74.33034373659252, 37.16517186829626, -10.856413348062244], [116.796875, 155.75, '10516510', 11, 83.48652585896721, 41.743262929483606, -6.188615963241602], [157.796875, 297.75, '10516510', 11, 80.52949770115296, 78.92401408950256, -67.65935204000586], [305.796875, 255.75, '10516510', 11, 38.948684188300895, 38.07886552931954, -60.068488159492205], [0, 0, '10516510', 0, 0, 0, 0], [127.796875, 91.40625, '10516510', 2, 56.60388679233962, 28.30194339616981, -32.005383208083494], [306.796875, 251.40625, '10516510', 2, 57.8013840664737, 28.90069203323685, -37.26640190097714], [149.796875, 287.40625, '10516510', 1, 113.37107214805724, 56.68553607402862, -30.183680657222354], [304.46875, 254, '10516510', 4, 51.088159097779204, 55.71355310873648, -68.96248897457818], [125.46875, 77, '10516510', 2, 60, 60.530983801686226, -82.40535663140855]] \n",
      "\n",
      "06240912_proc_01383.bmp.png\n"
     ]
    },
    {
     "name": "stderr",
     "output_type": "stream",
     "text": [
      "c:\\python36-32\\lib\\site-packages\\matplotlib\\cbook\\deprecation.py:107: MatplotlibDeprecationWarning: Adding an axes using the same arguments as a previous axes currently reuses the earlier instance.  In a future version, a new instance will always be created and returned.  Meanwhile, this warning can be suppressed, and the future behavior ensured, by passing a unique label to each axes instance.\n",
      "  warnings.warn(message, mplDeprecation, stacklevel=1)\n",
      "c:\\python36-32\\lib\\site-packages\\matplotlib\\pyplot.py:537: RuntimeWarning: More than 20 figures have been opened. Figures created through the pyplot interface (`matplotlib.pyplot.figure`) are retained until explicitly closed and may consume too much memory. (To control this warning, see the rcParam `figure.max_open_warning`).\n",
      "  max_open_warning, RuntimeWarning)\n"
     ]
    },
    {
     "name": "stdout",
     "output_type": "stream",
     "text": [
      "key = coords2912295 value =  [[0, 0, '2912295', 0, 0, 0, 0], [0, 0, '2912295', 0, 0, 0, 0], [0, 0, '2912295', 0, 0, 0, 0], [0, 0, '2912295', 0, 0, 0, 0], [0, 0, '2912295', 0, 0, 0, 0]] \n",
      "\n",
      "06240910_proc_00061.png\n"
     ]
    },
    {
     "name": "stderr",
     "output_type": "stream",
     "text": [
      "c:\\python36-32\\lib\\site-packages\\matplotlib\\cbook\\deprecation.py:107: MatplotlibDeprecationWarning: Adding an axes using the same arguments as a previous axes currently reuses the earlier instance.  In a future version, a new instance will always be created and returned.  Meanwhile, this warning can be suppressed, and the future behavior ensured, by passing a unique label to each axes instance.\n",
      "  warnings.warn(message, mplDeprecation, stacklevel=1)\n",
      "c:\\python36-32\\lib\\site-packages\\matplotlib\\pyplot.py:537: RuntimeWarning: More than 20 figures have been opened. Figures created through the pyplot interface (`matplotlib.pyplot.figure`) are retained until explicitly closed and may consume too much memory. (To control this warning, see the rcParam `figure.max_open_warning`).\n",
      "  max_open_warning, RuntimeWarning)\n"
     ]
    },
    {
     "name": "stdout",
     "output_type": "stream",
     "text": [
      "key = coords2895911 value =  [[224.5, 151.75, '2895911', 10, 76.15773105863909, 68.6804193347711, -73.94001269283936], [40.5, 138.75, '2895911', 1, 87.23531395025755, 67.05221845696084, -72.64597536373867], [217.6354217529297, 146.75, '2895911', 7, 78.1024869906287, 77.66593878190898, -55.49147063507171], [17.63541603088379, 154.75, '2895911', 11, 94.08506598508852, 112.01785571952357, 2.436648296192431], [211.6999969482422, 148.6999969482422, '2895911', 7, 74.51844241862734, 70.88016594792171, -73.61045618561333], [217.8125, 151, '2895911', 11, 58.9406481131655, 65.25335240430181, -74.89890183861456], [224.82000732421875, 158.45001220703125, '2895911', 6, 125.22779244241272, 62.61389622120636, -18.145578659481412], [31.82000732421875, 139.45001220703125, '2895911', 2, 125.73384588089239, 62.866922940446194, -50.48615642500431]] \n",
      "\n",
      "06241902_proc_01600.png\n"
     ]
    },
    {
     "name": "stderr",
     "output_type": "stream",
     "text": [
      "c:\\python36-32\\lib\\site-packages\\matplotlib\\cbook\\deprecation.py:107: MatplotlibDeprecationWarning: Adding an axes using the same arguments as a previous axes currently reuses the earlier instance.  In a future version, a new instance will always be created and returned.  Meanwhile, this warning can be suppressed, and the future behavior ensured, by passing a unique label to each axes instance.\n",
      "  warnings.warn(message, mplDeprecation, stacklevel=1)\n",
      "c:\\python36-32\\lib\\site-packages\\matplotlib\\pyplot.py:537: RuntimeWarning: More than 20 figures have been opened. Figures created through the pyplot interface (`matplotlib.pyplot.figure`) are retained until explicitly closed and may consume too much memory. (To control this warning, see the rcParam `figure.max_open_warning`).\n",
      "  max_open_warning, RuntimeWarning)\n"
     ]
    },
    {
     "name": "stdout",
     "output_type": "stream",
     "text": [
      "key = coords2895915 value =  [[213.44639587402344, 150.60818481445312, '2895915', 7, 66.9301304933792, 62.89139630924118, -21.25050802634742], [215.61732482910156, 305.82958984375, '2895915', 2, 33.77172888341929, 32.563934326171875, -45], [222.796875, 162.75, '2895915', 7, 74.04052944165107, 73.79024325749306, 73.52311860631204], [220.796875, 152.75, '2895915', 7, 58.728187440104094, 57.688820407423826, 56.30993247402023], [213.796875, 307.75, '2895915', 1, 37.8021163428716, 38.2099463490856, 142.5238204386386], [216.3125, 149.75, '2895915', 3, 120.44085685513866, 60.22042842756933, -29.331839578247514], [205.78634643554688, 120.41035461425781, '2895915', 4, 51.36120562400172, 68.71300793872071, -61.38952267361516], [216.03402709960938, 298.72003173828125, '2895915', 3, 40.990744018556505, 42.252299401929605, -75.96376656893402], [210.296875, 307.5, '2895915', 2, 28.284271247461902, 32.55764119219941, 10.619655276155143], [216.296875, 151.5, '2895915', 5, 67.446274915669, 64.03124237432849, 14.4702941000659]] \n",
      "\n",
      "06241902_proc_01604.png\n"
     ]
    },
    {
     "name": "stderr",
     "output_type": "stream",
     "text": [
      "c:\\python36-32\\lib\\site-packages\\matplotlib\\cbook\\deprecation.py:107: MatplotlibDeprecationWarning: Adding an axes using the same arguments as a previous axes currently reuses the earlier instance.  In a future version, a new instance will always be created and returned.  Meanwhile, this warning can be suppressed, and the future behavior ensured, by passing a unique label to each axes instance.\n",
      "  warnings.warn(message, mplDeprecation, stacklevel=1)\n",
      "c:\\python36-32\\lib\\site-packages\\matplotlib\\pyplot.py:537: RuntimeWarning: More than 20 figures have been opened. Figures created through the pyplot interface (`matplotlib.pyplot.figure`) are retained until explicitly closed and may consume too much memory. (To control this warning, see the rcParam `figure.max_open_warning`).\n",
      "  max_open_warning, RuntimeWarning)\n"
     ]
    },
    {
     "name": "stdout",
     "output_type": "stream",
     "text": [
      "key = coords2904115 value =  [[75.78421783447266, 275.2131042480469, '2904115', 10, 217.59517943052555, 108.79758971526277, 75.20323793817883], [296.7485656738281, 332.10809326171875, '2904115', 5, 38.57580878031248, 19.28790439015624, 30.96373321148783], [295.4254455566406, 205.08668518066406, '2904115', 10, 129.60019288160032, 64.80009644080016, 117.34987908588404], [327.1807861328125, 75.41897583007812, '2904115', 8, 64.60392222458313, 32.301961112291565, 124.99201576399726], [81.796875, 210.75, '2904115', 10, 106.60675400742676, 101.6070863670443, -126.1932073055647], [300.796875, 189.75, '2904115', 7, 77.79460135510689, 70, -143.13010235415598], [65.796875, 216.5, '2904115', 11, 121.79490958164057, 122.64175471673585, 32.25471052686715], [292.796875, 193.5, '2904115', 9, 77.87810988975015, 85.47514258543241, -83.95590783775889], [295.796875, 326.5, '2904115', 1, 44.204072210600685, 45.221676218380054, -52.35237935989236], [240.796875, 40.5, '2904115', 1, 40.80441152620633, 34.0147027033899, -65.69545073406329], [325.796875, 66.5, '2904115', 1, 50, 41.773197148410844, -47.91083782616776], [296, 197.05999755859375, '2904115', 7, 77.82673062643708, 74.46475676452586, -247.91282839677166], [304, 324.05999755859375, '2904115', 1, 37, 36.013886210738214, 88.40885972880542], [81, 216.05999755859375, '2904115', 7, 111.83022847155415, 104.38869670610895, -66.8734796112512], [244, 39.06000518798828, '2904115', 1, 37, 29.732137494637012, -109.65382405805332], [316, 58.06000518798828, '2904115', 1, 43.73785545725808, 33.37663853655727, -98.61564818416412], [30, 91.06000518798828, '2904115', 3, 84.77027781009096, 50.59644256269407, 18.434948822922024]] \n",
      "\n",
      "06240907_proc_01516.png\n"
     ]
    },
    {
     "name": "stderr",
     "output_type": "stream",
     "text": [
      "c:\\python36-32\\lib\\site-packages\\matplotlib\\cbook\\deprecation.py:107: MatplotlibDeprecationWarning: Adding an axes using the same arguments as a previous axes currently reuses the earlier instance.  In a future version, a new instance will always be created and returned.  Meanwhile, this warning can be suppressed, and the future behavior ensured, by passing a unique label to each axes instance.\n",
      "  warnings.warn(message, mplDeprecation, stacklevel=1)\n",
      "c:\\python36-32\\lib\\site-packages\\numpy\\core\\fromnumeric.py:2957: RuntimeWarning: Mean of empty slice.\n",
      "  out=out, **kwargs)\n",
      "c:\\python36-32\\lib\\site-packages\\numpy\\core\\_methods.py:80: RuntimeWarning: invalid value encountered in double_scalars\n",
      "  ret = ret.dtype.type(ret / rcount)\n",
      "c:\\python36-32\\lib\\site-packages\\astropy\\units\\quantity.py:639: RuntimeWarning: invalid value encountered in true_divide\n",
      "  result = super().__array_ufunc__(function, method, *arrays, **kwargs)\n",
      "c:\\python36-32\\lib\\site-packages\\matplotlib\\pyplot.py:537: RuntimeWarning: More than 20 figures have been opened. Figures created through the pyplot interface (`matplotlib.pyplot.figure`) are retained until explicitly closed and may consume too much memory. (To control this warning, see the rcParam `figure.max_open_warning`).\n",
      "  max_open_warning, RuntimeWarning)\n"
     ]
    },
    {
     "name": "stdout",
     "output_type": "stream",
     "text": [
      "key = coords2895925 value =  [[203.5, 280.75, '2895925', 2, 53.08483775994799, 64, -180], [209.5, 128.75, '2895925', 7, 93.55746896961247, 89.1852005660132, -197.6222972286683], [207.6666717529297, 153.39999389648438, '2895925', 4, 112.30760634793876, 56.15380317396938, 114.73951049863976], [206.796875, 281.75, '2895925', 3, 55.14526271584895, 42.1070065428546, -4.08561677997487], [206.796875, 142.75, '2895925', 7, 75.15317691222374, 58.137767414994535, -26.56505117707799], [255.796875, 18.75, '2895925', 4, 37.21558813185679, 44.721359549995796, -100.30484646876603], [206.796875, 138.5, '2895925', 6, 80.8084154033477, 73.54590403278758, -168.23171106797935], [206.796875, 277.5, '2895925', 1, 38.47076812334269, 38.01315561749642, -62.10272896905237], [203.796875, 149.5, '2895925', 6, 64.53681120105021, 62.48199740725323, -50.1944289077348], [204.796875, 278.5, '2895925', 2, 39.6232255123179, 44.04543109109048, 50.52754015165618]] \n",
      "\n",
      "06241902_proc_01614.png\n"
     ]
    },
    {
     "name": "stderr",
     "output_type": "stream",
     "text": [
      "c:\\python36-32\\lib\\site-packages\\matplotlib\\cbook\\deprecation.py:107: MatplotlibDeprecationWarning: Adding an axes using the same arguments as a previous axes currently reuses the earlier instance.  In a future version, a new instance will always be created and returned.  Meanwhile, this warning can be suppressed, and the future behavior ensured, by passing a unique label to each axes instance.\n",
      "  warnings.warn(message, mplDeprecation, stacklevel=1)\n",
      "c:\\python36-32\\lib\\site-packages\\matplotlib\\pyplot.py:537: RuntimeWarning: More than 20 figures have been opened. Figures created through the pyplot interface (`matplotlib.pyplot.figure`) are retained until explicitly closed and may consume too much memory. (To control this warning, see the rcParam `figure.max_open_warning`).\n",
      "  max_open_warning, RuntimeWarning)\n"
     ]
    },
    {
     "name": "stdout",
     "output_type": "stream",
     "text": [
      "key = coords2895926 value =  [[211.2852783203125, 149.13722229003906, '2895926', 8, 73.4261412571955, 64.76403993316771, 160.3170107884738], [208.6999969482422, 145.9499969482422, '2895926', 7, 72.80111314530531, 66.64082832618455, -25.79602649449994], [208.5, 148.46665954589844, '2895926', 6, 68.15423684555495, 60.53924347066124, -67.57413807864822], [203.5, 283.4666748046875, '2895926', 1, 27.294688127912362, 29.427877939124322, -81.57303097851933], [210.796875, 150.75, '2895926', 7, 65.55150646628954, 68.47627326307996, -28.81079374297307], [204.796875, 285.75, '2895926', 2, 37.48332962798263, 38.62641583165593, -21.25050550713324], [7.796875, 146.75, '2895926', 11, 104, 107.20074626605917, -8.583621480113948], [212.796875, 152.5, '2895926', 7, 74.33034373659252, 60.67124524847005, -188.53076560994813]] \n",
      "\n",
      "06241902_proc_01615.png\n"
     ]
    },
    {
     "name": "stderr",
     "output_type": "stream",
     "text": [
      "c:\\python36-32\\lib\\site-packages\\matplotlib\\cbook\\deprecation.py:107: MatplotlibDeprecationWarning: Adding an axes using the same arguments as a previous axes currently reuses the earlier instance.  In a future version, a new instance will always be created and returned.  Meanwhile, this warning can be suppressed, and the future behavior ensured, by passing a unique label to each axes instance.\n",
      "  warnings.warn(message, mplDeprecation, stacklevel=1)\n",
      "c:\\python36-32\\lib\\site-packages\\matplotlib\\pyplot.py:537: RuntimeWarning: More than 20 figures have been opened. Figures created through the pyplot interface (`matplotlib.pyplot.figure`) are retained until explicitly closed and may consume too much memory. (To control this warning, see the rcParam `figure.max_open_warning`).\n",
      "  max_open_warning, RuntimeWarning)\n"
     ]
    },
    {
     "name": "stdout",
     "output_type": "stream",
     "text": [
      "key = coords2895927 value =  [[205, 146.46665954589844, '2895927', 6, 85.16454661418682, 67.1863081289633, -14.656751115760414], [166.8870086669922, 106.05099487304688, '2895927', 7, 128.95076230644835, 64.47538115322418, -42.70939034058011], [193.12643432617188, 283.8959655761719, '2895927', 1, 48.98111674303549, 24.490558371517746, -36.528851117297286], [210.6999969482422, 156.86666870117188, '2895927', 5, 68.9492567037528, 34.4746283518764, 109.48612957246577], [208.796875, 149.5, '2895927', 7, 68.24954212300622, 60.40695324215582, -6.654425046006594], [30.796875, 131.5, '2895927', 11, 103.04368005850722, 51.52184002925361, -91.66833744829331], [197.796875, 289.5, '2895927', 2, 38.07886552931954, 38.27531841800928, -19.855214369321047], [198.796875, 147.5, '2895927', 6, 69.52697318307479, 51.42956348249516, -243.434948822922], [199.96875, 151.609375, '2895927', 8, 80.72174428244226, 70.03570517957252, -41.98721249581666], [6.96875, 145.609375, '2895927', 11, 95.00526301210897, 88.02272433866155, -91.30195267257888], [245.96875, 14.609375, '2895927', 10, 76.02631123499285, 38.01315561749642, -1.5074357587749678]] \n",
      "\n",
      "06241902_proc_01616.png\n"
     ]
    },
    {
     "name": "stderr",
     "output_type": "stream",
     "text": [
      "c:\\python36-32\\lib\\site-packages\\matplotlib\\cbook\\deprecation.py:107: MatplotlibDeprecationWarning: Adding an axes using the same arguments as a previous axes currently reuses the earlier instance.  In a future version, a new instance will always be created and returned.  Meanwhile, this warning can be suppressed, and the future behavior ensured, by passing a unique label to each axes instance.\n",
      "  warnings.warn(message, mplDeprecation, stacklevel=1)\n",
      "c:\\python36-32\\lib\\site-packages\\matplotlib\\pyplot.py:537: RuntimeWarning: More than 20 figures have been opened. Figures created through the pyplot interface (`matplotlib.pyplot.figure`) are retained until explicitly closed and may consume too much memory. (To control this warning, see the rcParam `figure.max_open_warning`).\n",
      "  max_open_warning, RuntimeWarning)\n"
     ]
    },
    {
     "name": "stdout",
     "output_type": "stream",
     "text": [
      "key = coords2912312 value =  [[0, 0, '2912312', 0, 0, 0, 0], [0, 0, '2912312', 0, 0, 0, 0], [0, 0, '2912312', 0, 0, 0, 0], [0, 0, '2912312', 0, 0, 0, 0], [0, 0, '2912312', 0, 0, 0, 0], [0, 0, '2912312', 0, 0, 0, 0]] \n",
      "\n",
      "06240910_proc_00078.png\n"
     ]
    },
    {
     "name": "stderr",
     "output_type": "stream",
     "text": [
      "c:\\python36-32\\lib\\site-packages\\matplotlib\\cbook\\deprecation.py:107: MatplotlibDeprecationWarning: Adding an axes using the same arguments as a previous axes currently reuses the earlier instance.  In a future version, a new instance will always be created and returned.  Meanwhile, this warning can be suppressed, and the future behavior ensured, by passing a unique label to each axes instance.\n",
      "  warnings.warn(message, mplDeprecation, stacklevel=1)\n",
      "c:\\python36-32\\lib\\site-packages\\matplotlib\\pyplot.py:537: RuntimeWarning: More than 20 figures have been opened. Figures created through the pyplot interface (`matplotlib.pyplot.figure`) are retained until explicitly closed and may consume too much memory. (To control this warning, see the rcParam `figure.max_open_warning`).\n",
      "  max_open_warning, RuntimeWarning)\n"
     ]
    },
    {
     "name": "stdout",
     "output_type": "stream",
     "text": [
      "key = coords2912313 value =  [[0, 0, '2912313', 0, 0, 0, 0], [0, 0, '2912313', 0, 0, 0, 0], [0, 0, '2912313', 0, 0, 0, 0], [0, 0, '2912313', 0, 0, 0, 0], [0, 0, '2912313', 0, 0, 0, 0], [0, 0, '2912313', 0, 0, 0, 0]] \n",
      "\n",
      "06240910_proc_00079.png\n"
     ]
    },
    {
     "name": "stderr",
     "output_type": "stream",
     "text": [
      "c:\\python36-32\\lib\\site-packages\\matplotlib\\cbook\\deprecation.py:107: MatplotlibDeprecationWarning: Adding an axes using the same arguments as a previous axes currently reuses the earlier instance.  In a future version, a new instance will always be created and returned.  Meanwhile, this warning can be suppressed, and the future behavior ensured, by passing a unique label to each axes instance.\n",
      "  warnings.warn(message, mplDeprecation, stacklevel=1)\n",
      "c:\\python36-32\\lib\\site-packages\\matplotlib\\pyplot.py:537: RuntimeWarning: More than 20 figures have been opened. Figures created through the pyplot interface (`matplotlib.pyplot.figure`) are retained until explicitly closed and may consume too much memory. (To control this warning, see the rcParam `figure.max_open_warning`).\n",
      "  max_open_warning, RuntimeWarning)\n"
     ]
    },
    {
     "name": "stdout",
     "output_type": "stream",
     "text": [
      "key = coords10518586 value =  [[117.04255676269531, 87.9708480834961, '10518586', 11, 112.93308369739212, 91.48539522716621, -73.00917454864968], [303.04901123046875, 135.97250366210938, '10518586', 6, 70.18078204914035, 59.07825120524845, -33.9590546844898], [352.0506896972656, 19.96849822998047, '10518586', 4, 53.415337961652575, 39.82598631728193, -141.1155147284802], [160.04403686523438, 281.9775695800781, '10518586', 2, 58.31153079098638, 43.46414428282351, -66.97448346294551], [91.04165649414062, 305.8874816894531, '10518586', 2, 73.82665191793615, 56.36684807118732, -64.79885654186249], [306.296875, 137.75, '10518586', 6, 59.09314681077663, 48.703182647543684, -19.179008025810703], [118.296875, 86.75, '10518586', 11, 93.81364506296512, 78.89233169326408, -59.53445508054012], [162.296875, 282.75, '10518586', 2, 63.324560795950255, 38.600518131237564, -73.44292862436335], [88.296875, 307.75, '10518586', 3, 64.8459713474939, 39.21734310225516, -70.64100582430528], [356.296875, 21.75, '10518586', 4, 43.56604182158393, 21.783020910791965, -121.86597769360368], [307.296875, 3.75, '10518586', 3, 36.40054944640259, 25.553864678361276, -120.57922687248902], [303, 135.760009765625, '10518586', 5, 70.76722405181653, 58.728187440104094, -47.070030653041094], [301.796875, 128.75, '10518586', 6, 61.1310068623117, 71.7007670809734, -93.75172907052598], [163.796875, 275.75, '10518586', 2, 63.51377803280167, 31.756889016400834, -56.56013079421776], [92.796875, 305.75, '10518586', 3, 62.96824596572466, 31.48412298286233, -46.93058744116699], [100.796875, 91.75, '10518586', 11, 111.60645142642964, 100.12492197250393, -55.99250758026773], [354.796875, 24.75, '10518586', 6, 32.7566787083184, 25.553864678361276, -31.26373169437743], [294.296875, 131.5, '10518586', 1, 69.63476143421474, 71.30918594402827, -67.75097634278764]] \n",
      "\n",
      "06240913_proc_01101.png\n"
     ]
    },
    {
     "name": "stderr",
     "output_type": "stream",
     "text": [
      "c:\\python36-32\\lib\\site-packages\\matplotlib\\cbook\\deprecation.py:107: MatplotlibDeprecationWarning: Adding an axes using the same arguments as a previous axes currently reuses the earlier instance.  In a future version, a new instance will always be created and returned.  Meanwhile, this warning can be suppressed, and the future behavior ensured, by passing a unique label to each axes instance.\n",
      "  warnings.warn(message, mplDeprecation, stacklevel=1)\n",
      "c:\\python36-32\\lib\\site-packages\\numpy\\core\\fromnumeric.py:2957: RuntimeWarning: Mean of empty slice.\n",
      "  out=out, **kwargs)\n",
      "c:\\python36-32\\lib\\site-packages\\numpy\\core\\_methods.py:80: RuntimeWarning: invalid value encountered in double_scalars\n",
      "  ret = ret.dtype.type(ret / rcount)\n",
      "c:\\python36-32\\lib\\site-packages\\astropy\\units\\quantity.py:639: RuntimeWarning: invalid value encountered in true_divide\n",
      "  result = super().__array_ufunc__(function, method, *arrays, **kwargs)\n",
      "c:\\python36-32\\lib\\site-packages\\matplotlib\\pyplot.py:537: RuntimeWarning: More than 20 figures have been opened. Figures created through the pyplot interface (`matplotlib.pyplot.figure`) are retained until explicitly closed and may consume too much memory. (To control this warning, see the rcParam `figure.max_open_warning`).\n",
      "  max_open_warning, RuntimeWarning)\n"
     ]
    },
    {
     "name": "stdout",
     "output_type": "stream",
     "text": [
      "key = coords2904123 value =  [[87.69999694824219, 218.9499969482422, '2904123', 11, 120.07082756270164, 100.04498987955368, -91.71835800165546], [288.70001220703125, 199.9499969482422, '2904123', 8, 80.02499609497022, 77.05841939723393, -2.231174608031239], [318.796875, 342.75, '2904123', 2, 67.468511173732, 61.68468205316454, -19.90374953730783], [287.796875, 199.75, '2904123', 8, 83.48652585896721, 74.06078584514209, -2.3215305898327045], [79.796875, 212.75, '2904123', 11, 113.8859078200635, 111.40017953306898, -114.954750574579], [89.796875, 209.5, '2904123', 11, 103.81233067415451, 87.66413177577246, -78.81824578980333], [317.796875, 336.5, '2904123', 1, 45.60701700396552, 42.720018726587654, -122.57405713457251], [289.796875, 196.5, '2904123', 7, 64, 62.00806399170998, 0.9240453527727226], [316.796875, 342.5, '2904123', 2, 69.33974329343886, 63.953107821277925, -26.96571443287015], [284.796875, 191.5, '2904123', 10, 77.20103626247513, 76.15773105863909, -53.42696902148067], [78.796875, 224.5, '2904123', 11, 111.39569111954016, 113.70136322841516, -40.26656166942452], [88.796875, 224.5, '2904123', 1, 104.12012293500234, 100.07996802557443, -92.29061004263853], [292.796875, 195.5, '2904123', 1, 66.18912297349165, 66.007575322837, -89.13194855025446], [313.796875, 335.5, '2904123', 1, 37.013511046643494, 35, -90]] \n",
      "\n",
      "06240907_proc_01524.png\n"
     ]
    },
    {
     "name": "stderr",
     "output_type": "stream",
     "text": [
      "c:\\python36-32\\lib\\site-packages\\matplotlib\\cbook\\deprecation.py:107: MatplotlibDeprecationWarning: Adding an axes using the same arguments as a previous axes currently reuses the earlier instance.  In a future version, a new instance will always be created and returned.  Meanwhile, this warning can be suppressed, and the future behavior ensured, by passing a unique label to each axes instance.\n",
      "  warnings.warn(message, mplDeprecation, stacklevel=1)\n",
      "c:\\python36-32\\lib\\site-packages\\matplotlib\\pyplot.py:537: RuntimeWarning: More than 20 figures have been opened. Figures created through the pyplot interface (`matplotlib.pyplot.figure`) are retained until explicitly closed and may consume too much memory. (To control this warning, see the rcParam `figure.max_open_warning`).\n",
      "  max_open_warning, RuntimeWarning)\n"
     ]
    },
    {
     "name": "stdout",
     "output_type": "stream",
     "text": [
      "key = coords2895932 value =  [[209.6999969482422, 141.9499969482422, '2895932', 5, 67.11930950914653, 54.91812087098393, -33.11134196037202], [208, 142.46665954589844, '2895932', 3, 73.06161783043132, 55.569775957799216, -210.25643716352926], [210.296875, 139.75, '2895932', 4, 73.60027173862879, 52.69724850502159, -213.3885135761115], [263.5, 40.46665954589844, '2895932', 1, 21.095023109728988, 12.619429464123963, 31.429565614838516], [211.5, 149.46665954589844, '2895932', 4, 73, 44.553338819890925, -224.09061955080085]] \n",
      "\n",
      "06241902_proc_01621.png\n"
     ]
    },
    {
     "name": "stderr",
     "output_type": "stream",
     "text": [
      "c:\\python36-32\\lib\\site-packages\\matplotlib\\cbook\\deprecation.py:107: MatplotlibDeprecationWarning: Adding an axes using the same arguments as a previous axes currently reuses the earlier instance.  In a future version, a new instance will always be created and returned.  Meanwhile, this warning can be suppressed, and the future behavior ensured, by passing a unique label to each axes instance.\n",
      "  warnings.warn(message, mplDeprecation, stacklevel=1)\n",
      "c:\\python36-32\\lib\\site-packages\\matplotlib\\pyplot.py:537: RuntimeWarning: More than 20 figures have been opened. Figures created through the pyplot interface (`matplotlib.pyplot.figure`) are retained until explicitly closed and may consume too much memory. (To control this warning, see the rcParam `figure.max_open_warning`).\n",
      "  max_open_warning, RuntimeWarning)\n"
     ]
    },
    {
     "name": "stdout",
     "output_type": "stream",
     "text": [
      "key = coords2895933 value =  [[0, 0, '2895933', 0, 0, 0, 0], [0, 0, '2895933', 0, 0, 0, 0], [217.796875, 313.75, '2895933', 2, 43.41658669218482, 42.20189569201838, -36.32682595212023], [19.796875, 111.75, '2895933', 11, 84.72307831990054, 70.32780389006896, -60.1540680503126], [216.044677734375, 312.20501708984375, '2895933', 2, 33.24951042653143, 30.95005750118413, 83.99095560031228], [213.796875, 305.5, '2895933', 1, 34.36568055487916, 17.18284027743958, -8.36588612403259], [263.796875, 34.5, '2895933', 1, 30.59411708155671, 15.297058540778355, 168.6900675259798]] \n",
      "\n",
      "06241902_proc_01622.png\n"
     ]
    },
    {
     "name": "stderr",
     "output_type": "stream",
     "text": [
      "c:\\python36-32\\lib\\site-packages\\matplotlib\\cbook\\deprecation.py:107: MatplotlibDeprecationWarning: Adding an axes using the same arguments as a previous axes currently reuses the earlier instance.  In a future version, a new instance will always be created and returned.  Meanwhile, this warning can be suppressed, and the future behavior ensured, by passing a unique label to each axes instance.\n",
      "  warnings.warn(message, mplDeprecation, stacklevel=1)\n",
      "c:\\python36-32\\lib\\site-packages\\matplotlib\\pyplot.py:537: RuntimeWarning: More than 20 figures have been opened. Figures created through the pyplot interface (`matplotlib.pyplot.figure`) are retained until explicitly closed and may consume too much memory. (To control this warning, see the rcParam `figure.max_open_warning`).\n",
      "  max_open_warning, RuntimeWarning)\n"
     ]
    },
    {
     "name": "stdout",
     "output_type": "stream",
     "text": [
      "key = coords2895936 value =  [[226.296875, 152, '2895936', 2, 75.21303078589507, 58.4144673860851, -54.40531150095689], [222.296875, 302, '2895936', 1, 64.66065264130884, 32.33032632065442, -50.648247373735266], [218.296875, 303, '2895936', 0, 29, 26.800186566514792, -53.343891584033095], [231.796875, 158, '2895936', 1, 47.74149138851865, 46.010868281309364, -42.357454705935275], [232, 156.46665954589844, '2895936', 1, 67.20119046564577, 59.81638571495272, -38.21102542556121], [220, 305.4666748046875, '2895936', 2, 48.02082881417188, 47.4236228055175, -42.436229788534995], [228.296875, 155.75, '2895936', 11, 50.44799302251776, 48.25971404805462, -84.0531369460265], [235.296875, 155.75, '2895936', 1, 43.18564576337837, 34.655446902326915, -43.83086067209258], [216.296875, 303.75, '2895936', 1, 35.4682957019364, 32.526911934581186, -45], [0, 0, '2895936', 0, 0, 0, 0], [225.5, 153.75, '2895936', 4, 64.20280367709809, 55.54277630799526, -66.66595872329023], [224.296875, 151, '2895936', 3, 48.02082881417188, 48.41487374764082, -51.70983680775693], [217.296875, 305, '2895936', 2, 34.655446902326915, 34.9857113690718, -59.03624346792648]] \n",
      "\n",
      "06241902_proc_01625.png\n"
     ]
    },
    {
     "name": "stderr",
     "output_type": "stream",
     "text": [
      "c:\\python36-32\\lib\\site-packages\\matplotlib\\cbook\\deprecation.py:107: MatplotlibDeprecationWarning: Adding an axes using the same arguments as a previous axes currently reuses the earlier instance.  In a future version, a new instance will always be created and returned.  Meanwhile, this warning can be suppressed, and the future behavior ensured, by passing a unique label to each axes instance.\n",
      "  warnings.warn(message, mplDeprecation, stacklevel=1)\n",
      "c:\\python36-32\\lib\\site-packages\\matplotlib\\pyplot.py:537: RuntimeWarning: More than 20 figures have been opened. Figures created through the pyplot interface (`matplotlib.pyplot.figure`) are retained until explicitly closed and may consume too much memory. (To control this warning, see the rcParam `figure.max_open_warning`).\n",
      "  max_open_warning, RuntimeWarning)\n"
     ]
    },
    {
     "name": "stdout",
     "output_type": "stream",
     "text": [
      "key = coords2895938 value =  [[223.227783203125, 147.98880004882812, '2895938', 5, 72.36091497406721, 59.155186148448024, -206.05347347659352], [222.97703552246094, 151.9361114501953, '2895938', 6, 75.90913703048092, 84.77909898093985, -245.01876315554802], [222.796875, 151.75, '2895938', 8, 66.18912297349165, 59.53990258641679, -150.85192815428695], [219.296875, 151.5, '2895938', 8, 62.22539674441618, 57.48912940721924, -40.0607844578738], [214.796875, 153.5, '2895938', 6, 74.88658090739622, 72.86288492778748, -46.66833744829331]] \n",
      "\n",
      "06241902_proc_01627.png\n"
     ]
    },
    {
     "name": "stderr",
     "output_type": "stream",
     "text": [
      "c:\\python36-32\\lib\\site-packages\\matplotlib\\cbook\\deprecation.py:107: MatplotlibDeprecationWarning: Adding an axes using the same arguments as a previous axes currently reuses the earlier instance.  In a future version, a new instance will always be created and returned.  Meanwhile, this warning can be suppressed, and the future behavior ensured, by passing a unique label to each axes instance.\n",
      "  warnings.warn(message, mplDeprecation, stacklevel=1)\n",
      "c:\\python36-32\\lib\\site-packages\\matplotlib\\pyplot.py:537: RuntimeWarning: More than 20 figures have been opened. Figures created through the pyplot interface (`matplotlib.pyplot.figure`) are retained until explicitly closed and may consume too much memory. (To control this warning, see the rcParam `figure.max_open_warning`).\n",
      "  max_open_warning, RuntimeWarning)\n"
     ]
    },
    {
     "name": "stdout",
     "output_type": "stream",
     "text": [
      "key = coords2895945 value =  [[202.5, 274.4666748046875, '2895945', 1, 50.566787519082126, 45.0111097397076, -88.72696997994329], [219.5, 161.4666748046875, '2895945', 5, 70.68238818828917, 73.06161783043132, -87.64670313389169], [222.796875, 159.75, '2895945', 5, 55.86591089385369, 63.413326675076746, 135.72522429905925], [206.796875, 277.75, '2895945', 1, 40.496913462633174, 41.23105625617661, -194.03624346792648], [5.796875, 153.75, '2895945', 11, 122.57650672131263, 61.28825336065631, 78.23171106797936], [217.0460205078125, 151.2154541015625, '2895945', 5, 72.1273923279277, 67.05453962771506, -197.35403319193165], [219.296875, 150.75, '2895945', 9, 72.61542535852834, 68.60029154456998, -30.67728002179644], [201.296875, 270.75, '2895945', 1, 49.49747468305833, 44.82186966202994, -51.340191745909905], [220.796875, 150.75, '2895945', 4, 75.69015788066504, 77.60315715227055, -43.393997010717754]] \n",
      "\n",
      "06241902_proc_01634.png\n"
     ]
    },
    {
     "name": "stderr",
     "output_type": "stream",
     "text": [
      "c:\\python36-32\\lib\\site-packages\\matplotlib\\cbook\\deprecation.py:107: MatplotlibDeprecationWarning: Adding an axes using the same arguments as a previous axes currently reuses the earlier instance.  In a future version, a new instance will always be created and returned.  Meanwhile, this warning can be suppressed, and the future behavior ensured, by passing a unique label to each axes instance.\n",
      "  warnings.warn(message, mplDeprecation, stacklevel=1)\n",
      "c:\\python36-32\\lib\\site-packages\\matplotlib\\pyplot.py:537: RuntimeWarning: More than 20 figures have been opened. Figures created through the pyplot interface (`matplotlib.pyplot.figure`) are retained until explicitly closed and may consume too much memory. (To control this warning, see the rcParam `figure.max_open_warning`).\n",
      "  max_open_warning, RuntimeWarning)\n"
     ]
    },
    {
     "name": "stdout",
     "output_type": "stream",
     "text": [
      "key = coords2904141 value =  [[253.0849609375, 206.40982055664062, '2904141', 10, 155.12370306668643, 77.56185153334322, 28.532453928077253], [44.02885818481445, 258.01226806640625, '2904141', 10, 253.44950217060853, 126.72475108530426, 49.658252389911276], [296.7485656738281, 336.0775146484375, '2904141', 0, 135.6589369150395, 67.82946845751975, 20.556042202461587], [291.796875, 195.75, '2904141', 8, 85.0411665018772, 82.73451516749222, 44.5103044068708], [76.796875, 206.75, '2904141', 11, 114.00438588054409, 121.00413216084813, 0.47350805873493584], [291.796875, 194.75, '2904141', 5, 89.40357934669059, 83.20006009613215, -53.642802580004535], [293.5, 198.96665954589844, '2904141', 10, 63.60031446463138, 68.8839603971781, -50.300926516525685], [75.5, 205.96665954589844, '2904141', 11, 108.68304023564815, 103.73042837094506, -123.99646613586353], [293.796875, 197, '2904141', 10, 73.43704787094863, 72.69112738154499, -7.907162702958459], [326.32000732421875, 333.45001220703125, '2904141', 1, 109.11003620199197, 54.55501810099599, -19.265264309180022], [282.32000732421875, 55.45001220703125, '2904141', 1, 100.43903623591775, 50.21951811795888, -35.272421448598394], [298.32000732421875, 194.45001220703125, '2904141', 10, 100.43903623591775, 50.21951811795888, -35.272421448598394], [91.32000732421875, 219.45001220703125, '2904141', 11, 141.73566946961517, 70.86783473480759, -55.63721450929008]] \n",
      "\n",
      "06240907_proc_01542.png\n"
     ]
    },
    {
     "name": "stderr",
     "output_type": "stream",
     "text": [
      "c:\\python36-32\\lib\\site-packages\\matplotlib\\cbook\\deprecation.py:107: MatplotlibDeprecationWarning: Adding an axes using the same arguments as a previous axes currently reuses the earlier instance.  In a future version, a new instance will always be created and returned.  Meanwhile, this warning can be suppressed, and the future behavior ensured, by passing a unique label to each axes instance.\n",
      "  warnings.warn(message, mplDeprecation, stacklevel=1)\n",
      "c:\\python36-32\\lib\\site-packages\\matplotlib\\pyplot.py:537: RuntimeWarning: More than 20 figures have been opened. Figures created through the pyplot interface (`matplotlib.pyplot.figure`) are retained until explicitly closed and may consume too much memory. (To control this warning, see the rcParam `figure.max_open_warning`).\n",
      "  max_open_warning, RuntimeWarning)\n"
     ]
    },
    {
     "name": "stdout",
     "output_type": "stream",
     "text": [
      "key = coords2904144 value =  [[304.796875, 321.75, '2904144', 1, 45.880278987817846, 39.81205847478876, -115.27772223555294], [301.796875, 198.75, '2904144', 1, 55.54277630799526, 56.462376853972415, -112.93210043758978], [314.796875, 58.75, '2904144', 1, 40.52159917870962, 20.26079958935481, -105.75117366345305], [252.796875, 42.75, '2904144', 1, 45.31004303683677, 22.655021518418383, -112.03622694014545], [72.796875, 220.75, '2904144', 11, 115.73245007343446, 105.23307464861035, -86.18592516570965], [299, 204.4499969482422, '2904144', 1, 90.70833856678838, 45.35416928339419, -104.03624113032203], [114, 221.4499969482422, '2904144', 1, 148.92951352905172, 109.89540481748998, -262.6809806244096], [301.296875, 326.75, '2904144', 1, 38.05259518088089, 37.12142238654117, -3.01278750418334], [301.296875, 201.75, '2904144', 1, 57.21887800367987, 57.55866572463264, -97.9893267663969], [68.296875, 210.75, '2904144', 11, 109.16501271011697, 111.22050170719426, -93.60846885256635], [293.296875, 201.75, '2904144', 1, 64.19501538281614, 57.14017850864661, -4.014175695411012], [296.296875, 317.75, '2904144', 1, 55.90169943749474, 52.32590180780452, -47.17474411461006], [74.296875, 214.75, '2904144', 1, 109.17875251164945, 117.6860229593982, -24.605123917951616], [316.296875, 66.75, '2904144', 1, 32.55764119219941, 31.38470965295043, -59.34933204294714], [243.296875, 34.75, '2904144', 1, 27.65863337187866, 29.206163733020468, -51.95295746817391], [314.5, 170.75, '2904144', 1, 43.41658669218482, 21.70829334609241, -97.94347181059041], [327.5, 297.75, '2904144', 1, 47.634021455258214, 23.817010727629107, -129.0355128987469]] \n",
      "\n",
      "06240907_proc_01545.png\n"
     ]
    },
    {
     "name": "stderr",
     "output_type": "stream",
     "text": [
      "c:\\python36-32\\lib\\site-packages\\matplotlib\\cbook\\deprecation.py:107: MatplotlibDeprecationWarning: Adding an axes using the same arguments as a previous axes currently reuses the earlier instance.  In a future version, a new instance will always be created and returned.  Meanwhile, this warning can be suppressed, and the future behavior ensured, by passing a unique label to each axes instance.\n",
      "  warnings.warn(message, mplDeprecation, stacklevel=1)\n",
      "c:\\python36-32\\lib\\site-packages\\matplotlib\\pyplot.py:537: RuntimeWarning: More than 20 figures have been opened. Figures created through the pyplot interface (`matplotlib.pyplot.figure`) are retained until explicitly closed and may consume too much memory. (To control this warning, see the rcParam `figure.max_open_warning`).\n",
      "  max_open_warning, RuntimeWarning)\n"
     ]
    },
    {
     "name": "stdout",
     "output_type": "stream",
     "text": [
      "key = coords2895953 value =  [[212.5946502685547, 301.5400390625, '2895953', 0, 27.276057793631633, 26.641326185494275, -10.304875137340167], [199.17662048339844, 146.0508575439453, '2895953', 6, 73.7852808424156, 74.63875437470364, -80.48415271660755], [203.796875, 141, '2895953', 6, 73.06161783043132, 67.08203932499369, -206.56505117707798], [14.796875, 135, '2895953', 10, 139.29106216839614, 69.64553108419807, -93.70462744207713], [207.796875, 306, '2895953', 1, 53.81449618829484, 43.829214001622255, -34.77783136636388], [212.296875, 139.75, '2895953', 6, 73.38937252763509, 61.20661728930949, 160.0835940061909], [212.296875, 304.75, '2895953', 1, 34.655446902326915, 36.124783736376884, -221.63353933657018], [213.5, 144.96665954589844, '2895953', 7, 62.64982043070834, 82.34682750416071, 65.48035731180924], [215.5, 311.9666748046875, '2895953', 2, 31.89043743820395, 24.041630560342615, -225], [202.779541015625, 139.07276153564453, '2895953', 6, 82.30469235283245, 73.48119443811926, -38.33334162839429], [212.16275024414062, 305.2898254394531, '2895953', 1, 39.85476067218144, 33.511505126953125, -90]] \n",
      "\n",
      "06241902_proc_01642.png\n"
     ]
    },
    {
     "name": "stderr",
     "output_type": "stream",
     "text": [
      "c:\\python36-32\\lib\\site-packages\\matplotlib\\cbook\\deprecation.py:107: MatplotlibDeprecationWarning: Adding an axes using the same arguments as a previous axes currently reuses the earlier instance.  In a future version, a new instance will always be created and returned.  Meanwhile, this warning can be suppressed, and the future behavior ensured, by passing a unique label to each axes instance.\n",
      "  warnings.warn(message, mplDeprecation, stacklevel=1)\n",
      "c:\\python36-32\\lib\\site-packages\\matplotlib\\pyplot.py:537: RuntimeWarning: More than 20 figures have been opened. Figures created through the pyplot interface (`matplotlib.pyplot.figure`) are retained until explicitly closed and may consume too much memory. (To control this warning, see the rcParam `figure.max_open_warning`).\n",
      "  max_open_warning, RuntimeWarning)\n"
     ]
    },
    {
     "name": "stdout",
     "output_type": "stream",
     "text": [
      "key = coords2895954 value =  [[204, 142.4499969482422, '2895954', 7, 68.24954212300622, 58.077534382926416, -2.9609361341637452], [209, 301.45001220703125, '2895954', 2, 16.492422502470642, 16.55294535724685, -25.016893478100016], [36.296875, 132.75, '2895954', 11, 107.5174404457249, 53.75872022286245, -99.63753811293095], [210.296875, 145.75, '2895954', 8, 67.47592163134935, 63.12685640834652, -3.6329507394881944], [208.296875, 299.75, '2895954', 1, 29.68164415931166, 31.400636936215164, -52.76516601842533], [210.296875, 141.75, '2895954', 6, 63.34824385884742, 69.1158447825099, -78.15792388467223], [213.796875, 144.5, '2895954', 6, 76, 63.0317380372777, -178.18169703554815], [212.796875, 304.5, '2895954', 2, 35.38361202590826, 31.400636936215164, -47.29061004263853]] \n",
      "\n",
      "06241902_proc_01643.png\n"
     ]
    },
    {
     "name": "stderr",
     "output_type": "stream",
     "text": [
      "c:\\python36-32\\lib\\site-packages\\matplotlib\\cbook\\deprecation.py:107: MatplotlibDeprecationWarning: Adding an axes using the same arguments as a previous axes currently reuses the earlier instance.  In a future version, a new instance will always be created and returned.  Meanwhile, this warning can be suppressed, and the future behavior ensured, by passing a unique label to each axes instance.\n",
      "  warnings.warn(message, mplDeprecation, stacklevel=1)\n",
      "c:\\python36-32\\lib\\site-packages\\matplotlib\\pyplot.py:537: RuntimeWarning: More than 20 figures have been opened. Figures created through the pyplot interface (`matplotlib.pyplot.figure`) are retained until explicitly closed and may consume too much memory. (To control this warning, see the rcParam `figure.max_open_warning`).\n",
      "  max_open_warning, RuntimeWarning)\n"
     ]
    },
    {
     "name": "stdout",
     "output_type": "stream",
     "text": [
      "key = coords2895955 value =  [[206.296875, 146.75, '2895955', 10, 138.97481786280562, 69.48740893140281, -166.26373169437744], [208.9667205810547, 147.66256713867188, '2895955', 6, 72.79231854478128, 61.16592658158595, -7.171717137141528], [215.796875, 147.5, '2895955', 7, 83.09632964216891, 62.289646009589745, 5.527540151656183], [202.63333129882812, 149.51666259765625, '2895955', 7, 79.02531240052139, 73.76313442364011, -15.732004785107307], [24.633331298828125, 140.51666259765625, '2895955', 2, 116.00431026474836, 73.00684899377592, -89.21517539700811], [216.63333129882812, 306.51666259765625, '2895955', 2, 42.5205832509386, 29.60152023123137, -41.18592516570965], [194.32000732421875, 115.95001220703125, '2895955', 7, 118.56221995222593, 59.281109976112965, -39.86744556012703], [215.32000732421875, 310.95001220703125, '2895955', 1, 89.31965069345043, 44.65982534672521, -21.682291613244935], [34.32000732421875, 142.95001220703125, '2895955', 11, 141.15594213493105, 70.57797106746553, -59.80199808343381]] \n",
      "\n",
      "06241902_proc_01644.png\n"
     ]
    },
    {
     "name": "stderr",
     "output_type": "stream",
     "text": [
      "c:\\python36-32\\lib\\site-packages\\matplotlib\\cbook\\deprecation.py:107: MatplotlibDeprecationWarning: Adding an axes using the same arguments as a previous axes currently reuses the earlier instance.  In a future version, a new instance will always be created and returned.  Meanwhile, this warning can be suppressed, and the future behavior ensured, by passing a unique label to each axes instance.\n",
      "  warnings.warn(message, mplDeprecation, stacklevel=1)\n",
      "c:\\python36-32\\lib\\site-packages\\matplotlib\\pyplot.py:537: RuntimeWarning: More than 20 figures have been opened. Figures created through the pyplot interface (`matplotlib.pyplot.figure`) are retained until explicitly closed and may consume too much memory. (To control this warning, see the rcParam `figure.max_open_warning`).\n",
      "  max_open_warning, RuntimeWarning)\n"
     ]
    },
    {
     "name": "stdout",
     "output_type": "stream",
     "text": [
      "key = coords2906193 value =  [[130.296875, 136.75, '2906193', 1, 60.41522986797286, 66.03786792439622, 57.99461679191651], [122.796875, 145.5, '2906193', 11, 71.16881339463234, 71.8679344353238, -70.29202115702128], [0, 0, '2906193', 0, 0, 0, 0], [0, 0, '2906193', 0, 0, 0, 0], [0, 0, '2906193', 0, 0, 0, 0], [0, 0, '2906193', 0, 0, 0, 0]] \n",
      "\n",
      "06240909_proc_01594.png\n"
     ]
    },
    {
     "name": "stderr",
     "output_type": "stream",
     "text": [
      "c:\\python36-32\\lib\\site-packages\\matplotlib\\cbook\\deprecation.py:107: MatplotlibDeprecationWarning: Adding an axes using the same arguments as a previous axes currently reuses the earlier instance.  In a future version, a new instance will always be created and returned.  Meanwhile, this warning can be suppressed, and the future behavior ensured, by passing a unique label to each axes instance.\n",
      "  warnings.warn(message, mplDeprecation, stacklevel=1)\n",
      "c:\\python36-32\\lib\\site-packages\\matplotlib\\pyplot.py:537: RuntimeWarning: More than 20 figures have been opened. Figures created through the pyplot interface (`matplotlib.pyplot.figure`) are retained until explicitly closed and may consume too much memory. (To control this warning, see the rcParam `figure.max_open_warning`).\n",
      "  max_open_warning, RuntimeWarning)\n"
     ]
    },
    {
     "name": "stdout",
     "output_type": "stream",
     "text": [
      "key = coords2895957 value =  [[206.4237823486328, 152.00619506835938, '2895957', 6, 74.03004140617934, 78.4123816571378, -232.25319916303658], [209.8125, 152, '2895957', 7, 84.30895563343196, 65, -202.61986494804043], [203.796875, 145.75, '2895957', 6, 75.23961722390672, 58.66856057549052, -29.623748751173814], [206.5, 142.4666748046875, '2895957', 6, 81.83520025025906, 89.18520287574258, -72.37769809994272], [212.5, 148.46665954589844, '2895957', 1, 62.03224967708329, 63.89053137985315, -17.300527191945008], [211.796875, 152.75, '2895957', 9, 68.26419266350405, 70.83078426785913, -149.45242825109298]] \n",
      "\n",
      "06241902_proc_01646.png\n"
     ]
    },
    {
     "name": "stderr",
     "output_type": "stream",
     "text": [
      "c:\\python36-32\\lib\\site-packages\\matplotlib\\cbook\\deprecation.py:107: MatplotlibDeprecationWarning: Adding an axes using the same arguments as a previous axes currently reuses the earlier instance.  In a future version, a new instance will always be created and returned.  Meanwhile, this warning can be suppressed, and the future behavior ensured, by passing a unique label to each axes instance.\n",
      "  warnings.warn(message, mplDeprecation, stacklevel=1)\n",
      "c:\\python36-32\\lib\\site-packages\\matplotlib\\pyplot.py:537: RuntimeWarning: More than 20 figures have been opened. Figures created through the pyplot interface (`matplotlib.pyplot.figure`) are retained until explicitly closed and may consume too much memory. (To control this warning, see the rcParam `figure.max_open_warning`).\n",
      "  max_open_warning, RuntimeWarning)\n"
     ]
    },
    {
     "name": "stdout",
     "output_type": "stream",
     "text": [
      "key = coords2912341 value =  [[0, 0, '2912341', 0, 0, 0, 0], [0, 0, '2912341', 0, 0, 0, 0], [0, 0, '2912341', 0, 0, 0, 0], [0, 0, '2912341', 0, 0, 0, 0], [0, 0, '2912341', 0, 0, 0, 0]] \n",
      "\n",
      "06240910_proc_00107.png\n"
     ]
    },
    {
     "name": "stderr",
     "output_type": "stream",
     "text": [
      "c:\\python36-32\\lib\\site-packages\\matplotlib\\cbook\\deprecation.py:107: MatplotlibDeprecationWarning: Adding an axes using the same arguments as a previous axes currently reuses the earlier instance.  In a future version, a new instance will always be created and returned.  Meanwhile, this warning can be suppressed, and the future behavior ensured, by passing a unique label to each axes instance.\n",
      "  warnings.warn(message, mplDeprecation, stacklevel=1)\n",
      "c:\\python36-32\\lib\\site-packages\\matplotlib\\pyplot.py:537: RuntimeWarning: More than 20 figures have been opened. Figures created through the pyplot interface (`matplotlib.pyplot.figure`) are retained until explicitly closed and may consume too much memory. (To control this warning, see the rcParam `figure.max_open_warning`).\n",
      "  max_open_warning, RuntimeWarning)\n"
     ]
    },
    {
     "name": "stdout",
     "output_type": "stream",
     "text": [
      "key = coords2895959 value =  [[194.796875, 150.75, '2895959', 5, 105.39449701004318, 88.89460051094217, -33.38851357611151], [201.5, 145.46665954589844, '2895959', 5, 76.21679604916491, 68.60029154456998, -59.32271997820355], [0, 0, '2895959', 0, 0, 0, 0], [200.796875, 143.75, '2895959', 8, 66.60330322138685, 63.953107821277925, -63.03428556712986], [212.796875, 150.75, '2895959', 8, 64.8459713474939, 51.24451190127583, -197.02052561151987], [0, 0, '2895959', 0, 0, 0, 0]] \n",
      "\n",
      "06241902_proc_01648.png\n"
     ]
    },
    {
     "name": "stderr",
     "output_type": "stream",
     "text": [
      "c:\\python36-32\\lib\\site-packages\\matplotlib\\cbook\\deprecation.py:107: MatplotlibDeprecationWarning: Adding an axes using the same arguments as a previous axes currently reuses the earlier instance.  In a future version, a new instance will always be created and returned.  Meanwhile, this warning can be suppressed, and the future behavior ensured, by passing a unique label to each axes instance.\n",
      "  warnings.warn(message, mplDeprecation, stacklevel=1)\n",
      "c:\\python36-32\\lib\\site-packages\\matplotlib\\pyplot.py:537: RuntimeWarning: More than 20 figures have been opened. Figures created through the pyplot interface (`matplotlib.pyplot.figure`) are retained until explicitly closed and may consume too much memory. (To control this warning, see the rcParam `figure.max_open_warning`).\n",
      "  max_open_warning, RuntimeWarning)\n"
     ]
    },
    {
     "name": "stdout",
     "output_type": "stream",
     "text": [
      "key = coords2906197 value =  [[0, 0, '2906197', 0, 0, 0, 0], [0, 0, '2906197', 0, 0, 0, 0], [0, 0, '2906197', 0, 0, 0, 0], [492.796875, 343.75, '2906197', 1, 106.4048871058092, 53.2024435529046, -130.42607874009914], [419.796875, 295.75, '2906197', 1, 151.40013210033868, 27.65863337187866, 49.39870535499551], [320.796875, 326.75, '2906197', 1, 286.9006796785257, 30, 54.648045316098155], [296.796875, 222.75, '2906197', 1, 190.59118552545917, 24.20743687382041, 51.709836807756915], [310.796875, 256.75, '2906197', 1, 191.34262462922368, 17.029386365926403, 48.81407483429035], [190.796875, 248.75, '2906197', 1, 193.04144632694815, 23.345235059857504, 44.790126288432454], [170.796875, 188.75, '2906197', 1, 204.89997559785115, 22.02271554554524, -141.34019174590992], [115.80999755859375, 120.760009765625, '2906197', 1, 64.19501538281614, 64.00781202322104, -28.967660646064026], [0, 0, '2906197', 0, 0, 0, 0], [0, 0, '2906197', 0, 0, 0, 0], [109.82917022705078, 119.10546112060547, '2906197', 11, 84.25980547395451, 88.00926832175455, -65.75647806309748]] \n",
      "\n",
      "06240909_proc_01598.png\n"
     ]
    },
    {
     "name": "stderr",
     "output_type": "stream",
     "text": [
      "c:\\python36-32\\lib\\site-packages\\matplotlib\\cbook\\deprecation.py:107: MatplotlibDeprecationWarning: Adding an axes using the same arguments as a previous axes currently reuses the earlier instance.  In a future version, a new instance will always be created and returned.  Meanwhile, this warning can be suppressed, and the future behavior ensured, by passing a unique label to each axes instance.\n",
      "  warnings.warn(message, mplDeprecation, stacklevel=1)\n",
      "c:\\python36-32\\lib\\site-packages\\matplotlib\\pyplot.py:537: RuntimeWarning: More than 20 figures have been opened. Figures created through the pyplot interface (`matplotlib.pyplot.figure`) are retained until explicitly closed and may consume too much memory. (To control this warning, see the rcParam `figure.max_open_warning`).\n",
      "  max_open_warning, RuntimeWarning)\n"
     ]
    },
    {
     "name": "stdout",
     "output_type": "stream",
     "text": [
      "key = coords2912346 value =  [[0, 0, '2912346', 0, 0, 0, 0], [0, 0, '2912346', 0, 0, 0, 0], [0, 0, '2912346', 0, 0, 0, 0], [0, 0, '2912346', 0, 0, 0, 0], [0, 0, '2912346', 0, 0, 0, 0]] \n",
      "\n",
      "06240910_proc_00112.png\n"
     ]
    },
    {
     "name": "stderr",
     "output_type": "stream",
     "text": [
      "c:\\python36-32\\lib\\site-packages\\matplotlib\\cbook\\deprecation.py:107: MatplotlibDeprecationWarning: Adding an axes using the same arguments as a previous axes currently reuses the earlier instance.  In a future version, a new instance will always be created and returned.  Meanwhile, this warning can be suppressed, and the future behavior ensured, by passing a unique label to each axes instance.\n",
      "  warnings.warn(message, mplDeprecation, stacklevel=1)\n",
      "c:\\python36-32\\lib\\site-packages\\matplotlib\\pyplot.py:537: RuntimeWarning: More than 20 figures have been opened. Figures created through the pyplot interface (`matplotlib.pyplot.figure`) are retained until explicitly closed and may consume too much memory. (To control this warning, see the rcParam `figure.max_open_warning`).\n",
      "  max_open_warning, RuntimeWarning)\n"
     ]
    },
    {
     "name": "stdout",
     "output_type": "stream",
     "text": [
      "key = coords2895963 value =  [[0, 0, '2895963', 0, 0, 0, 0], [0, 0, '2895963', 0, 0, 0, 0], [112.81763458251953, 121.71939849853516, '2895963', 1, 17.658761568780836, 9.24402162749781, -97.51643166099055], [0, 0, '2895963', 0, 0, 0, 0], [0, 0, '2895963', 0, 0, 0, 0]] \n",
      "\n",
      "06241902_proc_01652.png\n"
     ]
    },
    {
     "name": "stderr",
     "output_type": "stream",
     "text": [
      "c:\\python36-32\\lib\\site-packages\\matplotlib\\cbook\\deprecation.py:107: MatplotlibDeprecationWarning: Adding an axes using the same arguments as a previous axes currently reuses the earlier instance.  In a future version, a new instance will always be created and returned.  Meanwhile, this warning can be suppressed, and the future behavior ensured, by passing a unique label to each axes instance.\n",
      "  warnings.warn(message, mplDeprecation, stacklevel=1)\n",
      "c:\\python36-32\\lib\\site-packages\\matplotlib\\pyplot.py:537: RuntimeWarning: More than 20 figures have been opened. Figures created through the pyplot interface (`matplotlib.pyplot.figure`) are retained until explicitly closed and may consume too much memory. (To control this warning, see the rcParam `figure.max_open_warning`).\n",
      "  max_open_warning, RuntimeWarning)\n"
     ]
    },
    {
     "name": "stdout",
     "output_type": "stream",
     "text": [
      "key = coords2904156 value =  [[283.50665283203125, 164.36080932617188, '2904156', 1, 110.01874822444253, 55.009374112221266, -57.994620161226656], [290.7953796386719, 308.6776428222656, '2904156', 1, 81.00660114549427, 40.503300572747136, -30.25642473374419], [293.42730712890625, 187.5310821533203, '2904156', 3, 69.83837701021143, 77.41762300815974, 119.1343047451024], [313.4281311035156, 339.5372619628906, '2904156', 3, 53.909535724062, 38.18531988549707, 130.48601274534136], [114.42001724243164, 231.53285217285156, '2904156', 1, 70.0385738945383, 54.46780462239225, -46.73570632669128], [44.796875, 180.5, '2904156', 1, 156.40012787718558, 78.20006393859279, -53.05683413384655], [306.796875, 322.5, '2904156', 2, 68.73136110975832, 63.387695966961914, -6.340191745909905], [278.796875, 186.5, '2904156', 2, 80.32434251209281, 71.8679344353238, -18.88608736970929], [283.296875, 187.75, '2904156', 5, 67.23094525588644, 69.07966415668217, -67.89055165624833], [310.296875, 334.75, '2904156', 3, 51.40038910358559, 53.225933528685054, -64.39781244855823]] \n",
      "\n",
      "06240907_proc_01557.png\n"
     ]
    },
    {
     "name": "stderr",
     "output_type": "stream",
     "text": [
      "c:\\python36-32\\lib\\site-packages\\matplotlib\\cbook\\deprecation.py:107: MatplotlibDeprecationWarning: Adding an axes using the same arguments as a previous axes currently reuses the earlier instance.  In a future version, a new instance will always be created and returned.  Meanwhile, this warning can be suppressed, and the future behavior ensured, by passing a unique label to each axes instance.\n",
      "  warnings.warn(message, mplDeprecation, stacklevel=1)\n",
      "c:\\python36-32\\lib\\site-packages\\numpy\\core\\fromnumeric.py:2957: RuntimeWarning: Mean of empty slice.\n",
      "  out=out, **kwargs)\n",
      "c:\\python36-32\\lib\\site-packages\\numpy\\core\\_methods.py:80: RuntimeWarning: invalid value encountered in double_scalars\n",
      "  ret = ret.dtype.type(ret / rcount)\n",
      "c:\\python36-32\\lib\\site-packages\\astropy\\units\\quantity.py:639: RuntimeWarning: invalid value encountered in true_divide\n",
      "  result = super().__array_ufunc__(function, method, *arrays, **kwargs)\n",
      "c:\\python36-32\\lib\\site-packages\\matplotlib\\pyplot.py:537: RuntimeWarning: More than 20 figures have been opened. Figures created through the pyplot interface (`matplotlib.pyplot.figure`) are retained until explicitly closed and may consume too much memory. (To control this warning, see the rcParam `figure.max_open_warning`).\n",
      "  max_open_warning, RuntimeWarning)\n"
     ]
    },
    {
     "name": "stdout",
     "output_type": "stream",
     "text": [
      "key = coords2904157 value =  [[308.796875, 341.75, '2904157', 1, 43.840620433565945, 38.2099463490856, 42.87890360333856], [281.796875, 182.75, '2904157', 1, 54.45181356024793, 49.040799340956916, -2.3373058591238163], [108.796875, 224.75, '2904157', 5, 71.84705978674423, 35.92352989337211, -81.19320730556468], [314.296875, 337.75, '2904157', 1, 50.08991914547278, 49.040799340956916, -2.3373058591238163], [287.296875, 183.75, '2904157', 5, 58.309518948453004, 55.036351623268054, 2.0825652797308862], [90.296875, 231.75, '2904157', 11, 95.26804291051643, 94.26027795418386, -48.87125623198563], [266.8125, 206.75, '2904157', 1, 322.0077638815561, 161.00388194077806, -146.0138328903514], [283.6354064941406, 177.41665649414062, '2904157', 2, 58.309518948453004, 55.31726674375732, -49.39870535499553], [309.6354064941406, 337.4166564941406, '2904157', 1, 52.49761899362675, 49.678969393496885, -40.100907546212234], [91.63541412353516, 234.0833282470703, '2904157', 2, 89.88880561832254, 95.01578318340135, -40.732103213498135], [327.5, 151.75, '2904157', 1, 71.19691004531025, 35.59845502265512, -150.5545712700744], [347.5, 304.75, '2904157', 1, 63.7808748764079, 31.89043743820395, -131.18592516570965], [144.5, 188.75, '2904157', 1, 86.82165628459296, 43.41082814229648, -122.77487732426427], [309.796875, 337.75, '2904157', 1, 56.71860364994893, 42.190046219457976, -5.440332031005511], [278.796875, 176.75, '2904157', 2, 74, 67.68308503607086, -12.804266065286754], [297.796875, 56.75, '2904157', 1, 55.31726674375732, 48.507731342539614, -14.322719978203551], [91.796875, 240.75, '2904157', 5, 102.96115772464877, 104.34557968596465, -12.171458208587467], [0, 0, '2904157', 0, 0, 0, 0]] \n",
      "\n",
      "06240907_proc_01558.png\n"
     ]
    },
    {
     "name": "stderr",
     "output_type": "stream",
     "text": [
      "c:\\python36-32\\lib\\site-packages\\matplotlib\\cbook\\deprecation.py:107: MatplotlibDeprecationWarning: Adding an axes using the same arguments as a previous axes currently reuses the earlier instance.  In a future version, a new instance will always be created and returned.  Meanwhile, this warning can be suppressed, and the future behavior ensured, by passing a unique label to each axes instance.\n",
      "  warnings.warn(message, mplDeprecation, stacklevel=1)\n",
      "c:\\python36-32\\lib\\site-packages\\matplotlib\\pyplot.py:537: RuntimeWarning: More than 20 figures have been opened. Figures created through the pyplot interface (`matplotlib.pyplot.figure`) are retained until explicitly closed and may consume too much memory. (To control this warning, see the rcParam `figure.max_open_warning`).\n",
      "  max_open_warning, RuntimeWarning)\n"
     ]
    },
    {
     "name": "stdout",
     "output_type": "stream",
     "text": [
      "key = coords2895966 value =  [[223.5, 151.9499969482422, '2895966', 6, 55.47071299343465, 63.812224534175265, 57.804266065286754], [222.296875, 145.75, '2895966', 8, 65.7875368135941, 60.00833275470999, -203.57470620191265], [16.296875, 154.75, '2895966', 11, 103.81714694596457, 77.79460135510689, 69.12098311944258], [221.796875, 149.5, '2895966', 6, 62.48199740725323, 61.71709649683789, -49.60009566626328], [223.796875, 148.5, '2895966', 5, 64.8459713474939, 64.76109943476871, -76.6075022462489], [26.796875, 148, '2895966', 11, 95.75489543621255, 65.62011886609167, -97.88313931672973], [222.796875, 144, '2895966', 6, 52.3450093132096, 59.00847396772772, 89.02897806892085], [221.96875, 147.609375, '2895966', 5, 60.530983801686226, 60.8276253029822, -170.53767779197437]] \n",
      "\n",
      "06241902_proc_01655.png\n"
     ]
    },
    {
     "name": "stderr",
     "output_type": "stream",
     "text": [
      "c:\\python36-32\\lib\\site-packages\\matplotlib\\cbook\\deprecation.py:107: MatplotlibDeprecationWarning: Adding an axes using the same arguments as a previous axes currently reuses the earlier instance.  In a future version, a new instance will always be created and returned.  Meanwhile, this warning can be suppressed, and the future behavior ensured, by passing a unique label to each axes instance.\n",
      "  warnings.warn(message, mplDeprecation, stacklevel=1)\n",
      "c:\\python36-32\\lib\\site-packages\\matplotlib\\pyplot.py:537: RuntimeWarning: More than 20 figures have been opened. Figures created through the pyplot interface (`matplotlib.pyplot.figure`) are retained until explicitly closed and may consume too much memory. (To control this warning, see the rcParam `figure.max_open_warning`).\n",
      "  max_open_warning, RuntimeWarning)\n"
     ]
    },
    {
     "name": "stdout",
     "output_type": "stream",
     "text": [
      "key = coords10522719 value =  [[292.59368896484375, 257.76483154296875, '10522719', 1, 35.79627444993799, 38.28390943968579, -77.47116752136453], [115.07540893554688, 296.1752014160156, '10522719', 1, 90.36403218877179, 77.86579435775093, -42.838932337374324], [0, 0, '10522719', 0, 0, 0, 0], [0, 0, '10522719', 0, 0, 0, 0], [0, 0, '10522719', 0, 0, 0, 0], [286.82000732421875, 260.45001220703125, '10522719', 2, 63.00793600809346, 31.50396800404673, 0.9093804491991415], [379.82000732421875, 341.45001220703125, '10522719', 2, 69.20260110718382, 34.60130055359191, 37.3666694127687], [109.82000732421875, 299.45001220703125, '10522719', 2, 146.37281168304446, 73.18640584152223, -29.0165843438658]] \n",
      "\n",
      "06240914_proc_00364.png\n"
     ]
    },
    {
     "name": "stderr",
     "output_type": "stream",
     "text": [
      "c:\\python36-32\\lib\\site-packages\\matplotlib\\cbook\\deprecation.py:107: MatplotlibDeprecationWarning: Adding an axes using the same arguments as a previous axes currently reuses the earlier instance.  In a future version, a new instance will always be created and returned.  Meanwhile, this warning can be suppressed, and the future behavior ensured, by passing a unique label to each axes instance.\n",
      "  warnings.warn(message, mplDeprecation, stacklevel=1)\n",
      "c:\\python36-32\\lib\\site-packages\\matplotlib\\pyplot.py:537: RuntimeWarning: More than 20 figures have been opened. Figures created through the pyplot interface (`matplotlib.pyplot.figure`) are retained until explicitly closed and may consume too much memory. (To control this warning, see the rcParam `figure.max_open_warning`).\n",
      "  max_open_warning, RuntimeWarning)\n"
     ]
    },
    {
     "name": "stdout",
     "output_type": "stream",
     "text": [
      "key = coords2895968 value =  [[222.796875, 145, '2895968', 6, 70.45565981523414, 68.0294054067798, -24.304549265936714], [25.796875, 134, '2895968', 10, 109.45775440780794, 66.27216610312357, -95.1944289077348], [223.796875, 144.75, '2895968', 9, 59.033888572581766, 59.07622195096772, -92.91083782616775], [224.796875, 146.75, '2895968', 7, 79.61155694998057, 74.33034373659252, -146.52372170389734], [216.5, 143.75, '2895968', 7, 68.8839603971781, 67.36467917239716, -95.96448710125313], [209.47500610351562, 127.4000015258789, '2895968', 7, 94.33980371865253, 103.09218938270158, -108.08344135228582]] \n",
      "\n",
      "06241902_proc_01657.png\n"
     ]
    },
    {
     "name": "stderr",
     "output_type": "stream",
     "text": [
      "c:\\python36-32\\lib\\site-packages\\matplotlib\\cbook\\deprecation.py:107: MatplotlibDeprecationWarning: Adding an axes using the same arguments as a previous axes currently reuses the earlier instance.  In a future version, a new instance will always be created and returned.  Meanwhile, this warning can be suppressed, and the future behavior ensured, by passing a unique label to each axes instance.\n",
      "  warnings.warn(message, mplDeprecation, stacklevel=1)\n",
      "c:\\python36-32\\lib\\site-packages\\matplotlib\\pyplot.py:537: RuntimeWarning: More than 20 figures have been opened. Figures created through the pyplot interface (`matplotlib.pyplot.figure`) are retained until explicitly closed and may consume too much memory. (To control this warning, see the rcParam `figure.max_open_warning`).\n",
      "  max_open_warning, RuntimeWarning)\n"
     ]
    },
    {
     "name": "stdout",
     "output_type": "stream",
     "text": [
      "key = coords2895967 value =  [[0, 0, '2895967', 0, 0, 0, 0], [219.04608154296875, 145.9728546142578, '2895967', 7, 61.03488516076921, 58.0795437522978, -2.9609391148013486], [220.6999969482422, 145.9499969482422, '2895967', 8, 69.97143582244772, 68.41053487393965, -37.87499373876082], [222.5, 147.96665954589844, '2895967', 7, 67.97793759742936, 67.67569726275453, -235.84030545433058], [219.5170135498047, 149.60372924804688, '2895967', 7, 66.21704895777043, 76.21635044356098, -75.46554594758214]] \n",
      "\n",
      "06241902_proc_01656.png\n"
     ]
    },
    {
     "name": "stderr",
     "output_type": "stream",
     "text": [
      "c:\\python36-32\\lib\\site-packages\\matplotlib\\cbook\\deprecation.py:107: MatplotlibDeprecationWarning: Adding an axes using the same arguments as a previous axes currently reuses the earlier instance.  In a future version, a new instance will always be created and returned.  Meanwhile, this warning can be suppressed, and the future behavior ensured, by passing a unique label to each axes instance.\n",
      "  warnings.warn(message, mplDeprecation, stacklevel=1)\n",
      "c:\\python36-32\\lib\\site-packages\\matplotlib\\pyplot.py:537: RuntimeWarning: More than 20 figures have been opened. Figures created through the pyplot interface (`matplotlib.pyplot.figure`) are retained until explicitly closed and may consume too much memory. (To control this warning, see the rcParam `figure.max_open_warning`).\n",
      "  max_open_warning, RuntimeWarning)\n"
     ]
    },
    {
     "name": "stdout",
     "output_type": "stream",
     "text": [
      "key = coords2904167 value =  [[292, 201.4499969482422, '2904167', 7, 74.02702209328699, 77.64663547121665, -7.3995946598871], [74, 214.4499969482422, '2904167', 11, 106.30145812734649, 106.21205204683694, -8.664135433108058], [291.796875, 194.75, '2904167', 8, 64.8459713474939, 65.60487786742691, 52.43140797117252], [75.796875, 206.75, '2904167', 11, 92.09777413162601, 103.76897416858277, 27.5528115767178], [297.296875, 198.75, '2904167', 4, 80.39900496896712, 78.05767098754612, -2.202598161765806], [292.296875, 199.75, '2904167', 8, 70.21395872616783, 73.348483283569, -78.9964591482505], [73.296875, 219.75, '2904167', 11, 113.59577456930342, 106.10372283760829, -66.0923395058275], [293.32293701171875, 198.57965087890625, '2904167', 9, 84.18579910702536, 78.9502995783198, -152.0856833882455], [93.6565933227539, 208.69247436523438, '2904167', 9, 92.73831184462937, 94.40679677284466, -18.039077784177678], [288.5, 156.46665954589844, '2904167', 1, 126.03572448006588, 63.01786224003294, -91.36392736649168], [67.5, 188.46665954589844, '2904167', 1, 150.54568852509968, 75.27284426254984, -70.60218948019251]] \n",
      "\n",
      "06240907_proc_01568.png\n"
     ]
    },
    {
     "name": "stderr",
     "output_type": "stream",
     "text": [
      "c:\\python36-32\\lib\\site-packages\\matplotlib\\cbook\\deprecation.py:107: MatplotlibDeprecationWarning: Adding an axes using the same arguments as a previous axes currently reuses the earlier instance.  In a future version, a new instance will always be created and returned.  Meanwhile, this warning can be suppressed, and the future behavior ensured, by passing a unique label to each axes instance.\n",
      "  warnings.warn(message, mplDeprecation, stacklevel=1)\n",
      "c:\\python36-32\\lib\\site-packages\\matplotlib\\pyplot.py:537: RuntimeWarning: More than 20 figures have been opened. Figures created through the pyplot interface (`matplotlib.pyplot.figure`) are retained until explicitly closed and may consume too much memory. (To control this warning, see the rcParam `figure.max_open_warning`).\n",
      "  max_open_warning, RuntimeWarning)\n"
     ]
    },
    {
     "name": "stdout",
     "output_type": "stream",
     "text": [
      "key = coords2904169 value =  [[290, 191.6999969482422, '2904169', 3, 57.0350769263968, 51.022054055084844, -1.6846843178962843], [78.5, 212.6999969482422, '2904169', 5, 107.73694816542745, 108.50345616615168, -109.93799174420555], [316, 364.70001220703125, '2904169', 1, 67.02984409947557, 52.53808142671371, -267.81835859644855], [294.5, 197.46665954589844, '2904169', 4, 54.00927372173645, 51.19815209749567, -88.93908860944917], [84.5, 214.46665954589844, '2904169', 11, 104.04326023342406, 109.04127658827184, -54.70665240933971], [295.296875, 196.75, '2904169', 1, 79.51100552753688, 77.23341245859851, -228.67449952082967], [68.296875, 210.75, '2904169', 4, 127.62444906835053, 115.12167476196652, -57.41429264608559], [74.96465301513672, 213.72900390625, '2904169', 11, 107.28886139670037, 105.8891236361208, 66.63514834086084], [293.796875, 196.75, '2904169', 4, 55.31726674375732, 54.589376255824725, 12.528807709151511], [69.796875, 211.75, '2904169', 11, 104.80935072788114, 101.13851887386922, -75.68895873739359], [339.6999816894531, 180.6999969482422, '2904169', 1, 133.55521705346257, 66.77760852673129, -168.7742009628193]] \n",
      "\n",
      "06240907_proc_01570.png\n"
     ]
    },
    {
     "name": "stderr",
     "output_type": "stream",
     "text": [
      "c:\\python36-32\\lib\\site-packages\\matplotlib\\cbook\\deprecation.py:107: MatplotlibDeprecationWarning: Adding an axes using the same arguments as a previous axes currently reuses the earlier instance.  In a future version, a new instance will always be created and returned.  Meanwhile, this warning can be suppressed, and the future behavior ensured, by passing a unique label to each axes instance.\n",
      "  warnings.warn(message, mplDeprecation, stacklevel=1)\n",
      "c:\\python36-32\\lib\\site-packages\\matplotlib\\pyplot.py:537: RuntimeWarning: More than 20 figures have been opened. Figures created through the pyplot interface (`matplotlib.pyplot.figure`) are retained until explicitly closed and may consume too much memory. (To control this warning, see the rcParam `figure.max_open_warning`).\n",
      "  max_open_warning, RuntimeWarning)\n"
     ]
    },
    {
     "name": "stdout",
     "output_type": "stream",
     "text": [
      "key = coords2904170 value =  [[313.296875, 339.75, '2904170', 1, 47.042533945356304, 45.54393483220351, -2.436648246810131], [294.296875, 188.75, '2904170', 11, 65.29931086925804, 52.690131903421914, -130.0302592718897], [75.296875, 212.75, '2904170', 11, 114.56002793295748, 108.37435120913067, -48.3664606634298], [312.296875, 338.75, '2904170', 1, 51.478150704935004, 54.20332093147061, -29.875992691689426], [290.296875, 191.75, '2904170', 1, 60.30754513325841, 58.60034129593445, -36.67434966957316], [77.296875, 222.75, '2904170', 1, 111.8257573191436, 105.20931517693668, -53.89254870824813], [308.9736022949219, 353.1829528808594, '2904170', 1, 65.8055433644564, 32.9027716822282, -176.49648459285714], [287.52622985839844, 193.66812133789062, '2904170', 1, 71.24643459697654, 35.62321729848827, -175.6839674009612], [101.20225524902344, 232.54150390625, '2904170', 1, 149.61004738180858, 74.80502369090429, -77.58255779638195], [73.796875, 214.5, '2904170', 11, 99.28242543370907, 99.72462083156798, -68.83874018317172], [311.796875, 338.5, '2904170', 1, 40.22437072223753, 38.01315561749642, -125.36246188706906], [293.796875, 196.5, '2904170', 1, 58.69412236331676, 53.74011537017761, -135], [0, 0, '2904170', 0, 0, 0, 0]] \n",
      "\n",
      "06240907_proc_01571.png\n"
     ]
    },
    {
     "name": "stderr",
     "output_type": "stream",
     "text": [
      "c:\\python36-32\\lib\\site-packages\\matplotlib\\cbook\\deprecation.py:107: MatplotlibDeprecationWarning: Adding an axes using the same arguments as a previous axes currently reuses the earlier instance.  In a future version, a new instance will always be created and returned.  Meanwhile, this warning can be suppressed, and the future behavior ensured, by passing a unique label to each axes instance.\n",
      "  warnings.warn(message, mplDeprecation, stacklevel=1)\n",
      "c:\\python36-32\\lib\\site-packages\\matplotlib\\pyplot.py:537: RuntimeWarning: More than 20 figures have been opened. Figures created through the pyplot interface (`matplotlib.pyplot.figure`) are retained until explicitly closed and may consume too much memory. (To control this warning, see the rcParam `figure.max_open_warning`).\n",
      "  max_open_warning, RuntimeWarning)\n"
     ]
    },
    {
     "name": "stdout",
     "output_type": "stream",
     "text": [
      "key = coords2895979 value =  [[193.10000610351562, 136.9499969482422, '2895979', 5, 56.61271941887264, 37.39652390263031, -35.65532809790031], [245.10000610351562, 12.949999809265137, '2895979', 5, 54.91812139194548, 39.80577873254081, -33.1113427937638], [196.296875, 144.75, '2895979', 3, 51.73973328110612, 37.013511046643494, -218.418055344822], [202.796875, 147.75, '2895979', 11, 131.00381673829202, 65.50190836914601, -0.4373638675207324], [244.796875, 13.75, '2895979', 11, 102, 51, 0], [33.796875, 69.75, '2895979', 11, 109.00458705944443, 54.502293529722216, 0.5256346064576132], [33.796875, 143.75, '2895979', 11, 128.191263352851, 64.0956316764255, 3.130244862219096], [166.796875, 285.75, '2895979', 2, 110.01818031580054, 55.00909015790027, 1.041626676009974], [198.796875, 143.5, '2895979', 3, 57.201398584300364, 49.502525188115406, -36.46923439005187], [205.78765869140625, 140.64266967773438, '2895979', 4, 77.5800193728155, 70.82876201835272, -35.60397668274154]] \n",
      "\n",
      "06241902_proc_01668.png\n"
     ]
    },
    {
     "name": "stderr",
     "output_type": "stream",
     "text": [
      "c:\\python36-32\\lib\\site-packages\\matplotlib\\cbook\\deprecation.py:107: MatplotlibDeprecationWarning: Adding an axes using the same arguments as a previous axes currently reuses the earlier instance.  In a future version, a new instance will always be created and returned.  Meanwhile, this warning can be suppressed, and the future behavior ensured, by passing a unique label to each axes instance.\n",
      "  warnings.warn(message, mplDeprecation, stacklevel=1)\n",
      "c:\\python36-32\\lib\\site-packages\\matplotlib\\pyplot.py:537: RuntimeWarning: More than 20 figures have been opened. Figures created through the pyplot interface (`matplotlib.pyplot.figure`) are retained until explicitly closed and may consume too much memory. (To control this warning, see the rcParam `figure.max_open_warning`).\n",
      "  max_open_warning, RuntimeWarning)\n"
     ]
    },
    {
     "name": "stdout",
     "output_type": "stream",
     "text": [
      "key = coords2906223 value =  [[133.04310607910156, 110.97164154052734, '2906223', 7, 73.76568730750674, 72.12738582243705, -15.732006472197275], [131.296875, 114.75, '2906223', 7, 66.2117814289874, 65.96969000988257, -75.96375653207352], [319.296875, 135.75, '2906223', 1, 29.832867780352597, 31.622776601683793, 39.559667968994496], [124.296875, 108.75, '2906223', 11, 85, 81.12336284942828, -30.358115458766626], [140.796875, 114.75, '2906223', 8, 80.65977932030313, 72.13875518748573, -136.12330271407544], [134.296875, 100.5, '2906223', 11, 78.26237921249263, 72.20110802473879, -59.17233770013196]] \n",
      "\n",
      "06240909_proc_01624.png\n"
     ]
    },
    {
     "name": "stderr",
     "output_type": "stream",
     "text": [
      "c:\\python36-32\\lib\\site-packages\\matplotlib\\cbook\\deprecation.py:107: MatplotlibDeprecationWarning: Adding an axes using the same arguments as a previous axes currently reuses the earlier instance.  In a future version, a new instance will always be created and returned.  Meanwhile, this warning can be suppressed, and the future behavior ensured, by passing a unique label to each axes instance.\n",
      "  warnings.warn(message, mplDeprecation, stacklevel=1)\n",
      "c:\\python36-32\\lib\\site-packages\\matplotlib\\pyplot.py:537: RuntimeWarning: More than 20 figures have been opened. Figures created through the pyplot interface (`matplotlib.pyplot.figure`) are retained until explicitly closed and may consume too much memory. (To control this warning, see the rcParam `figure.max_open_warning`).\n",
      "  max_open_warning, RuntimeWarning)\n"
     ]
    },
    {
     "name": "stdout",
     "output_type": "stream",
     "text": [
      "key = coords2895990 value =  [[490.796875, 9.75, '2895990', 1, 537.1405775027614, 268.5702887513807, -149.32893966766167], [0, 0, '2895990', 0, 0, 0, 0], [0, 0, '2895990', 0, 0, 0, 0], [0, 0, '2895990', 0, 0, 0, 0], [0, 0, '2895990', 0, 0, 0, 0], [203.63540649414062, 159.8333282470703, '2895990', 5, 55.46169849544819, 27.730849247724095, 25.64100582430528], [231.63540649414062, 13.833333015441895, '2895990', 5, 68.46897107449476, 40.44749588919017, -188.5307658103449], [11.635416030883789, 139.8333282470703, '2895990', 9, 87.1320817606009, 79.62411321268979, -11.592175961877345], [0, 0, '2895990', 0, 0, 0, 0], [0, 0, '2895990', 0, 0, 0, 0]] \n",
      "\n",
      "06241902_proc_01679.png\n"
     ]
    },
    {
     "name": "stderr",
     "output_type": "stream",
     "text": [
      "c:\\python36-32\\lib\\site-packages\\matplotlib\\cbook\\deprecation.py:107: MatplotlibDeprecationWarning: Adding an axes using the same arguments as a previous axes currently reuses the earlier instance.  In a future version, a new instance will always be created and returned.  Meanwhile, this warning can be suppressed, and the future behavior ensured, by passing a unique label to each axes instance.\n",
      "  warnings.warn(message, mplDeprecation, stacklevel=1)\n",
      "c:\\python36-32\\lib\\site-packages\\matplotlib\\pyplot.py:537: RuntimeWarning: More than 20 figures have been opened. Figures created through the pyplot interface (`matplotlib.pyplot.figure`) are retained until explicitly closed and may consume too much memory. (To control this warning, see the rcParam `figure.max_open_warning`).\n",
      "  max_open_warning, RuntimeWarning)\n"
     ]
    },
    {
     "name": "stdout",
     "output_type": "stream",
     "text": [
      "key = coords2896502 value =  [[206.796875, 145.75, '2896502', 11, 89.80534505250787, 87.66413177577246, -147.57893523749306], [195.796875, 287.75, '2896502', 2, 37.33630940518894, 46.75467891024384, -48.46822925891715], [213, 152.46665954589844, '2896502', 11, 79.02531240052139, 69.77822009767804, -244.5366549381284], [196, 295.4666748046875, '2896502', 2, 68.88397213744192, 52.8015290010051, 24.6235578873804], [201.53172302246094, 145.16827392578125, '2896502', 10, 64.31132411311162, 63.258221464941116, -263.92754739405154], [196.954833984375, 289.47918701171875, '2896502', 1, 35.87257287254944, 28.4660290711209, 56.7250852721325], [217.796875, 147.75, '2896502', 9, 92.47702417357513, 76.55063683601855, -160.14478563067894], [203.796875, 291.75, '2896502', 2, 43.266615305567875, 43.266615305567875, -146.30993247402023], [208.796875, 150.75, '2896502', 11, 77.87810988975015, 62.433965115151864, -211.90810693565317], [209.796875, 144.5, '2896502', 11, 101.49384217774002, 85.00588214941364, -180.67403689798454], [197.796875, 287.5, '2896502', 1, 56.92099788303083, 65.25335240430181, -71.56505117707799]] \n",
      "\n",
      "06241902_proc_00792.png\n"
     ]
    },
    {
     "name": "stderr",
     "output_type": "stream",
     "text": [
      "c:\\python36-32\\lib\\site-packages\\matplotlib\\cbook\\deprecation.py:107: MatplotlibDeprecationWarning: Adding an axes using the same arguments as a previous axes currently reuses the earlier instance.  In a future version, a new instance will always be created and returned.  Meanwhile, this warning can be suppressed, and the future behavior ensured, by passing a unique label to each axes instance.\n",
      "  warnings.warn(message, mplDeprecation, stacklevel=1)\n",
      "c:\\python36-32\\lib\\site-packages\\matplotlib\\pyplot.py:537: RuntimeWarning: More than 20 figures have been opened. Figures created through the pyplot interface (`matplotlib.pyplot.figure`) are retained until explicitly closed and may consume too much memory. (To control this warning, see the rcParam `figure.max_open_warning`).\n",
      "  max_open_warning, RuntimeWarning)\n"
     ]
    },
    {
     "name": "stdout",
     "output_type": "stream",
     "text": [
      "key = coords2906233 value =  [[117, 130.4666748046875, '2906233', 11, 77.12976821182103, 62.12889826803627, -266.3086140135487], [0, 0, '2906233', 0, 0, 0, 0], [110.24000549316406, 127.25999450683594, '2906233', 11, 60.27118964416625, 67.75998717288786, -43.110780096737166], [107, 117.46665954589844, '2906233', 7, 84.21995013059554, 77.93587107359485, -56.51383118448701], [116.296875, 115.75, '2906233', 11, 81.27115109311545, 71.21797525905943, -51.84277341263094], [285.296875, 107.75, '2906233', 1, 26.248809496813376, 25.553864678361276, -30.57922687248901], [184.96875, 116.25, '2906233', 1, 152.50245899656832, 76.25122949828416, -40.47904210041858]] \n",
      "\n",
      "06240909_proc_01634.png\n"
     ]
    },
    {
     "name": "stderr",
     "output_type": "stream",
     "text": [
      "c:\\python36-32\\lib\\site-packages\\matplotlib\\cbook\\deprecation.py:107: MatplotlibDeprecationWarning: Adding an axes using the same arguments as a previous axes currently reuses the earlier instance.  In a future version, a new instance will always be created and returned.  Meanwhile, this warning can be suppressed, and the future behavior ensured, by passing a unique label to each axes instance.\n",
      "  warnings.warn(message, mplDeprecation, stacklevel=1)\n",
      "c:\\python36-32\\lib\\site-packages\\matplotlib\\pyplot.py:537: RuntimeWarning: More than 20 figures have been opened. Figures created through the pyplot interface (`matplotlib.pyplot.figure`) are retained until explicitly closed and may consume too much memory. (To control this warning, see the rcParam `figure.max_open_warning`).\n",
      "  max_open_warning, RuntimeWarning)\n"
     ]
    },
    {
     "name": "stdout",
     "output_type": "stream",
     "text": [
      "key = coords10516608 value =  [[298.296875, 252.75, '10516608', 6, 43.965895873961216, 40.26164427839479, -14.381394591090597], [132.296875, 306.75, '10516608', 7, 68.42514157822401, 65.19202405202648, -32.47119229084849], [128.296875, 151.75, '10516608', 5, 60.440052945046304, 58.7962583843564, -41.552613148134796], [477.296875, 156.75, '10516608', 1, 28.0178514522438, 20.024984394500787, 2.862405226111761], [299.17999267578125, 247.760009765625, '10516608', 1, 40.19950248448356, 40.049968789001575, 87.13759477388825], [295.296875, 252.75, '10516608', 5, 52.80151512977634, 43.41658669218482, -38.45370921670597], [296.1102294921875, 250.70298767089844, '10516608', 6, 43.5811131387002, 53.66569064200849, -85.23635560349699], [302.82000732421875, 250.45001220703125, '10516608', 5, 90.47098982546837, 45.23549491273418, 13.421835067886203], [127.82000732421875, 300.45001220703125, '10516608', 1, 89.05054744357274, 44.52527372178637, -34.93931020467703]] \n",
      "\n",
      "06240912_proc_01481.bmp.png\n"
     ]
    },
    {
     "name": "stderr",
     "output_type": "stream",
     "text": [
      "c:\\python36-32\\lib\\site-packages\\matplotlib\\cbook\\deprecation.py:107: MatplotlibDeprecationWarning: Adding an axes using the same arguments as a previous axes currently reuses the earlier instance.  In a future version, a new instance will always be created and returned.  Meanwhile, this warning can be suppressed, and the future behavior ensured, by passing a unique label to each axes instance.\n",
      "  warnings.warn(message, mplDeprecation, stacklevel=1)\n",
      "c:\\python36-32\\lib\\site-packages\\matplotlib\\pyplot.py:537: RuntimeWarning: More than 20 figures have been opened. Figures created through the pyplot interface (`matplotlib.pyplot.figure`) are retained until explicitly closed and may consume too much memory. (To control this warning, see the rcParam `figure.max_open_warning`).\n",
      "  max_open_warning, RuntimeWarning)\n"
     ]
    },
    {
     "name": "stdout",
     "output_type": "stream",
     "text": [
      "key = coords2912384 value =  [[0, 0, '2912384', 0, 0, 0, 0], [0, 0, '2912384', 0, 0, 0, 0], [0, 0, '2912384', 0, 0, 0, 0], [0, 0, '2912384', 0, 0, 0, 0], [0, 0, '2912384', 0, 0, 0, 0]] \n",
      "\n",
      "06240910_proc_00150.png\n"
     ]
    },
    {
     "name": "stderr",
     "output_type": "stream",
     "text": [
      "c:\\python36-32\\lib\\site-packages\\matplotlib\\cbook\\deprecation.py:107: MatplotlibDeprecationWarning: Adding an axes using the same arguments as a previous axes currently reuses the earlier instance.  In a future version, a new instance will always be created and returned.  Meanwhile, this warning can be suppressed, and the future behavior ensured, by passing a unique label to each axes instance.\n",
      "  warnings.warn(message, mplDeprecation, stacklevel=1)\n",
      "c:\\python36-32\\lib\\site-packages\\matplotlib\\pyplot.py:537: RuntimeWarning: More than 20 figures have been opened. Figures created through the pyplot interface (`matplotlib.pyplot.figure`) are retained until explicitly closed and may consume too much memory. (To control this warning, see the rcParam `figure.max_open_warning`).\n",
      "  max_open_warning, RuntimeWarning)\n"
     ]
    },
    {
     "name": "stdout",
     "output_type": "stream",
     "text": [
      "key = coords2896002 value =  [[219.5, 159.46665954589844, '2896002', 4, 61.40032573203501, 54.48853090330111, -42.76882539196875], [217.5, 275.4666748046875, '2896002', 1, 48.54894437575342, 45.60702904852546, -37.87497188215997], [222.88644409179688, 177.94610595703125, '2896002', 3, 38.87335205078125, 43.082819153211396, -185.35582062321956], [220.6999969482422, 158.14999389648438, '2896002', 4, 59.54828819293815, 60.207956420706665, -48.36645644284278], [223.296875, 154.75, '2896002', 4, 65.79513659838392, 62.39390995922599, 114.22774531795419], [223, 161.4666748046875, '2896002', 3, 54.20332093147061, 55.154328932550705, -67.61986494804043], [222.06005859375, 163.04061889648438, '2896002', 3, 49.252857174550044, 44.59943094545693, -225]] \n",
      "\n",
      "06241902_proc_01691.png\n"
     ]
    },
    {
     "name": "stderr",
     "output_type": "stream",
     "text": [
      "c:\\python36-32\\lib\\site-packages\\matplotlib\\cbook\\deprecation.py:107: MatplotlibDeprecationWarning: Adding an axes using the same arguments as a previous axes currently reuses the earlier instance.  In a future version, a new instance will always be created and returned.  Meanwhile, this warning can be suppressed, and the future behavior ensured, by passing a unique label to each axes instance.\n",
      "  warnings.warn(message, mplDeprecation, stacklevel=1)\n",
      "c:\\python36-32\\lib\\site-packages\\matplotlib\\pyplot.py:537: RuntimeWarning: More than 20 figures have been opened. Figures created through the pyplot interface (`matplotlib.pyplot.figure`) are retained until explicitly closed and may consume too much memory. (To control this warning, see the rcParam `figure.max_open_warning`).\n",
      "  max_open_warning, RuntimeWarning)\n"
     ]
    },
    {
     "name": "stdout",
     "output_type": "stream",
     "text": [
      "key = coords2906243 value =  [[110.296875, 99.75, '2906243', 7, 99.03534722511958, 69.65091528472544, -136.63657704161673], [95, 83.46665954589844, '2906243', 11, 84.8999411071645, 85.60373823613078, -52.59464336859145], [95.88397216796875, 78.197998046875, '2906243', 6, 97.21331618273071, 91.18583755640564, -74.24882627739507], [0, 0, '2906243', 0, 0, 0, 0], [0, 0, '2906243', 0, 0, 0, 0]] \n",
      "\n",
      "key = coords2896003 value =  [[0, 0, '2896003', 0, 0, 0, 0], [228.3125, 167.75, '2896003', 2, 46.8187996428785, 47.80167361086848, -160.01689347810003], [211.3125, 276.75, '2896003', 1, 58.69412236331676, 42.05948168962618, 28.393019421383002], [118.60014343261719, 113.21156311035156, '2896003', 1, 45.187873408368745, 22.593936704184372, -1.397189046970551], [208.94900512695312, 275.178466796875, '2896003', 1, 55.75885992805474, 50.11745026385806, 56.659289968972814], [216.66172790527344, 172.70960998535156, '2896003', 1, 64.84818688408174, 48.59243657373599, -3.9004984338855735], [-2.703125, 176.75, '2896003', 11, 121.1156472137271, 84.11896337925236, -108.28535182731952], [0, 0, '2896003', 0, 0, 0, 0]] \n",
      "\n",
      "key = coords2904193 value =  [[326.8125, 265.75, '2904193', 1, 409.8109320162165, 204.90546600810825, 150.30714270163588], [292.5, 197.46665954589844, '2904193', 6, 78.23683245840947, 79.30952023559341, -76.13897243697885], [78.5, 207.46665954589844, '2904193', 11, 113.26519040258498, 109.89540481748998, -76.20913494262115], [288.296875, 200.75, '2904193', 1, 60.30754513325841, 65.86349520030045, -30.068582821862442], [67.296875, 204.75, '2904193', 1, 127.12198865656563, 117.83462988442744, -59.9535647531895], [292.5, 210.75, '2904193', 5, 78.05767098754612, 101.24228365658294, -92.2025981617658], [88.5, 192.75, '2904193', 1, 125.03599481749245, 90.93404203047393, -81.78079075110094], [294.82000732421875, 198.60000610351562, '2904193', 6, 147.28123468638918, 73.64061734319459, -90.70804262834127], [69.36000061035156, 211.31997680664062, '2904193', 11, 113.07955453580571, 114.60748945343202, -86.7706981413671], [81.96875, 211.609375, '2904193', 11, 117.51595636338071, 108.37435120913067, -85.23635830927383], [295.96875, 195.609375, '2904193', 7, 84.2140130857092, 74.16872656315464, -3.8654611698517414]] \n",
      "\n",
      "06240907_proc_01594.png\n"
     ]
    },
    {
     "name": "stderr",
     "output_type": "stream",
     "text": [
      "c:\\python36-32\\lib\\site-packages\\matplotlib\\cbook\\deprecation.py:107: MatplotlibDeprecationWarning: Adding an axes using the same arguments as a previous axes currently reuses the earlier instance.  In a future version, a new instance will always be created and returned.  Meanwhile, this warning can be suppressed, and the future behavior ensured, by passing a unique label to each axes instance.\n",
      "  warnings.warn(message, mplDeprecation, stacklevel=1)\n",
      "c:\\python36-32\\lib\\site-packages\\matplotlib\\cbook\\deprecation.py:107: MatplotlibDeprecationWarning: Adding an axes using the same arguments as a previous axes currently reuses the earlier instance.  In a future version, a new instance will always be created and returned.  Meanwhile, this warning can be suppressed, and the future behavior ensured, by passing a unique label to each axes instance.\n",
      "  warnings.warn(message, mplDeprecation, stacklevel=1)\n",
      "c:\\python36-32\\lib\\site-packages\\matplotlib\\cbook\\deprecation.py:107: MatplotlibDeprecationWarning: Adding an axes using the same arguments as a previous axes currently reuses the earlier instance.  In a future version, a new instance will always be created and returned.  Meanwhile, this warning can be suppressed, and the future behavior ensured, by passing a unique label to each axes instance.\n",
      "  warnings.warn(message, mplDeprecation, stacklevel=1)\n",
      "c:\\python36-32\\lib\\site-packages\\matplotlib\\pyplot.py:537: RuntimeWarning: More than 20 figures have been opened. Figures created through the pyplot interface (`matplotlib.pyplot.figure`) are retained until explicitly closed and may consume too much memory. (To control this warning, see the rcParam `figure.max_open_warning`).\n",
      "  max_open_warning, RuntimeWarning)\n"
     ]
    },
    {
     "name": "stdout",
     "output_type": "stream",
     "text": [
      "key = coords2906246 value =  [[0, 0, '2906246', 0, 0, 0, 0], [98.796875, 93.75, '2906246', 11, 71.42128534267638, 78.39005038906404, -23.294563253894424], [0, 0, '2906246', 0, 0, 0, 0], [0, 0, '2906246', 0, 0, 0, 0]] \n",
      "\n",
      "06240909_proc_01647.png\n"
     ]
    },
    {
     "name": "stderr",
     "output_type": "stream",
     "text": [
      "c:\\python36-32\\lib\\site-packages\\matplotlib\\cbook\\deprecation.py:107: MatplotlibDeprecationWarning: Adding an axes using the same arguments as a previous axes currently reuses the earlier instance.  In a future version, a new instance will always be created and returned.  Meanwhile, this warning can be suppressed, and the future behavior ensured, by passing a unique label to each axes instance.\n",
      "  warnings.warn(message, mplDeprecation, stacklevel=1)\n",
      "c:\\python36-32\\lib\\site-packages\\matplotlib\\pyplot.py:537: RuntimeWarning: More than 20 figures have been opened. Figures created through the pyplot interface (`matplotlib.pyplot.figure`) are retained until explicitly closed and may consume too much memory. (To control this warning, see the rcParam `figure.max_open_warning`).\n",
      "  max_open_warning, RuntimeWarning)\n"
     ]
    },
    {
     "name": "stdout",
     "output_type": "stream",
     "text": [
      "key = coords2896007 value =  [[197.796875, 148.5, '2896007', 2, 106.6770828247567, 75.82216034906945, -221.25701170431284], [195, 147, '2896007', 4, 71.61005515987263, 66.40030120413611, -37.04247477308286], [204.796875, 154.75, '2896007', 3, 68.94200461257273, 41.340053217188775, -212.15229514128237], [197.796875, 146.75, '2896007', 1, 82.41965784932621, 41.20982892466311, -35.61848983925176], [267.796875, 201.75, '2896007', 1, 23.53720459187964, 11.76860229593982, 167.7352262721076], [201.3699951171875, 152.75999450683594, '2896007', 3, 70.09279563550022, 63.81221807793119, -32.19573758463789]] \n",
      "\n",
      "06241902_proc_01696.png\n"
     ]
    },
    {
     "name": "stderr",
     "output_type": "stream",
     "text": [
      "c:\\python36-32\\lib\\site-packages\\matplotlib\\cbook\\deprecation.py:107: MatplotlibDeprecationWarning: Adding an axes using the same arguments as a previous axes currently reuses the earlier instance.  In a future version, a new instance will always be created and returned.  Meanwhile, this warning can be suppressed, and the future behavior ensured, by passing a unique label to each axes instance.\n",
      "  warnings.warn(message, mplDeprecation, stacklevel=1)\n",
      "c:\\python36-32\\lib\\site-packages\\matplotlib\\pyplot.py:537: RuntimeWarning: More than 20 figures have been opened. Figures created through the pyplot interface (`matplotlib.pyplot.figure`) are retained until explicitly closed and may consume too much memory. (To control this warning, see the rcParam `figure.max_open_warning`).\n",
      "  max_open_warning, RuntimeWarning)\n"
     ]
    },
    {
     "name": "stdout",
     "output_type": "stream",
     "text": [
      "key = coords2906248 value =  [[115.25, 90.6300048828125, '2906248', 5, 83.45058418010026, 71.20847215390978, -65.89699102549517], [0, 0, '2906248', 0, 0, 0, 0], [127.17000579833984, 102.22000122070312, '2906248', 3, 51.22499866550812, 57.29689253998725, -67.66936042162077], [274.796875, 100.75, '2906248', 1, 51.42956348249516, 25.71478174124758, -26.56505117707799], [107.796875, 105.75, '2906248', 8, 86.14522621712709, 85.61541917201598, 75.80144597613685], [120.546875, 96.75, '2906248', 6, 68.41052550594829, 58.60034129593445, -36.67434966957316], [0, 0, '2906248', 0, 0, 0, 0]] \n",
      "\n",
      "06240909_proc_01649.png\n"
     ]
    },
    {
     "name": "stderr",
     "output_type": "stream",
     "text": [
      "c:\\python36-32\\lib\\site-packages\\matplotlib\\cbook\\deprecation.py:107: MatplotlibDeprecationWarning: Adding an axes using the same arguments as a previous axes currently reuses the earlier instance.  In a future version, a new instance will always be created and returned.  Meanwhile, this warning can be suppressed, and the future behavior ensured, by passing a unique label to each axes instance.\n",
      "  warnings.warn(message, mplDeprecation, stacklevel=1)\n",
      "c:\\python36-32\\lib\\site-packages\\matplotlib\\pyplot.py:537: RuntimeWarning: More than 20 figures have been opened. Figures created through the pyplot interface (`matplotlib.pyplot.figure`) are retained until explicitly closed and may consume too much memory. (To control this warning, see the rcParam `figure.max_open_warning`).\n",
      "  max_open_warning, RuntimeWarning)\n"
     ]
    },
    {
     "name": "stdout",
     "output_type": "stream",
     "text": [
      "key = coords10522761 value =  [[277.796875, 253.75, '10522761', 2, 40, 38.01315561749642, -234.63753811293097], [0, 0, '10522761', 0, 0, 0, 0], [0, 0, '10522761', 0, 0, 0, 0], [276.96875, 249.40625, '10522761', 1, 42.80186911806539, 37.5, 127.40535663140857], [153.96875, 156.40625, '10522761', 1, 37.8021163428716, 18.9010581714358, 52.52382043863863]] \n",
      "\n",
      "key = coords2904201 value =  [[298.2572326660156, 196.89413452148438, '2904201', 8, 84.31156394957192, 82.3053041655455, -136.36392299384264], [72.62720489501953, 213.92286682128906, '2904201', 2, 123.46605617941161, 89.58059468392315, -93.63291920071725], [72.296875, 218.5, '2904201', 8, 117.17508267545622, 95.85927185202274, -69.86369657175186], [290.296875, 193.5, '2904201', 10, 83.43860018001261, 82.41965784932621, -54.38151016074824], [292.296875, 193.5, '2904201', 8, 71.00704190430693, 66.007575322837, -0.8680514497455363], [69.296875, 222.5, '2904201', 5, 83.38465086573187, 105.94810050208545, 19.29004621918874], [298.796875, 189.5, '2904201', 7, 121.33424908079334, 60.66712454039667, -94.2538364361192], [82.796875, 230.5, '2904201', 3, 133.73481222179961, 66.86740611089981, -96.00900595749452], [63.96875, 223.609375, '2904201', 10, 97.14422267947796, 96.26006440887103, -132.47388308838043], [292.96875, 191.609375, '2904201', 8, 77.02596964660685, 75.13321502504735, -153.09390654406315]] \n",
      "\n",
      "06240907_proc_01602.png\n"
     ]
    },
    {
     "name": "stderr",
     "output_type": "stream",
     "text": [
      "c:\\python36-32\\lib\\site-packages\\matplotlib\\cbook\\deprecation.py:107: MatplotlibDeprecationWarning: Adding an axes using the same arguments as a previous axes currently reuses the earlier instance.  In a future version, a new instance will always be created and returned.  Meanwhile, this warning can be suppressed, and the future behavior ensured, by passing a unique label to each axes instance.\n",
      "  warnings.warn(message, mplDeprecation, stacklevel=1)\n",
      "c:\\python36-32\\lib\\site-packages\\matplotlib\\cbook\\deprecation.py:107: MatplotlibDeprecationWarning: Adding an axes using the same arguments as a previous axes currently reuses the earlier instance.  In a future version, a new instance will always be created and returned.  Meanwhile, this warning can be suppressed, and the future behavior ensured, by passing a unique label to each axes instance.\n",
      "  warnings.warn(message, mplDeprecation, stacklevel=1)\n",
      "c:\\python36-32\\lib\\site-packages\\matplotlib\\pyplot.py:537: RuntimeWarning: More than 20 figures have been opened. Figures created through the pyplot interface (`matplotlib.pyplot.figure`) are retained until explicitly closed and may consume too much memory. (To control this warning, see the rcParam `figure.max_open_warning`).\n",
      "  max_open_warning, RuntimeWarning)\n"
     ]
    },
    {
     "name": "stdout",
     "output_type": "stream",
     "text": [
      "key = coords2904205 value =  [[288.796875, 191.75, '2904205', 6, 79.51100552753688, 80.95677859203639, 17.987334652061477], [306.796875, 331.75, '2904205', 1, 46.61544808322666, 48.104053883222775, -46.68468431789629], [113.796875, 190.75, '2904205', 2, 62.80127387243033, 83.72574275573791, 29.320475877580762], [286.796875, 186.75, '2904205', 4, 62.22539674441618, 64.4437739428721, 41.855042535301976], [305.796875, 335.75, '2904205', 1, 40.70626487409524, 36.796738985948195, -42.797401838234194], [306.796875, 335.75, '2904205', 2, 57.4543296888929, 52.839379254491625, 29.47588900324574], [293.796875, 189.75, '2904205', 6, 84.20213774008353, 82.60750571225353, -263.0470425318261], [301.796875, 39.75, '2904205', 1, 53.665631459994955, 26.832815729997478, -63.43494882292201], [124.796875, 199.75, '2904205', 4, 86.00581375697809, 51.07837115648854, -246.948699083527], [39.796875, 223.75, '2904205', 4, 102.35721762533407, 51.178608812667036, 104.71507165059778], [286.3921813964844, 180.10562133789062, '2904205', 3, 85.09449918554635, 75.2958808009255, -94.39869555920008], [294.75, 188.5833282470703, '2904205', 6, 77.49192049303883, 67.77905281132217, -68.355564859286], [118.75, 186.5833282470703, '2904205', 2, 46.09772228646444, 60.40695324215582, 19.33480853782642], [35.75, 196.5833282470703, '2904205', 2, 60.29925372672534, 43.289721643826724, -263.36748538486154], [310.75, 332.58331298828125, '2904205', 1, 62.609903369994115, 53.71219600798314, 24.179107146689176]] \n",
      "\n",
      "06240907_proc_01606.png\n"
     ]
    },
    {
     "name": "stderr",
     "output_type": "stream",
     "text": [
      "c:\\python36-32\\lib\\site-packages\\matplotlib\\cbook\\deprecation.py:107: MatplotlibDeprecationWarning: Adding an axes using the same arguments as a previous axes currently reuses the earlier instance.  In a future version, a new instance will always be created and returned.  Meanwhile, this warning can be suppressed, and the future behavior ensured, by passing a unique label to each axes instance.\n",
      "  warnings.warn(message, mplDeprecation, stacklevel=1)\n",
      "c:\\python36-32\\lib\\site-packages\\matplotlib\\pyplot.py:537: RuntimeWarning: More than 20 figures have been opened. Figures created through the pyplot interface (`matplotlib.pyplot.figure`) are retained until explicitly closed and may consume too much memory. (To control this warning, see the rcParam `figure.max_open_warning`).\n",
      "  max_open_warning, RuntimeWarning)\n"
     ]
    },
    {
     "name": "stdout",
     "output_type": "stream",
     "text": [
      "key = coords2896017 value =  [[208.796875, 141, '2896017', 1, 119.6202324023825, 59.81011620119125, -35.81608074915565], [9.796875, 139, '2896017', 10, 168.94081803992782, 84.47040901996391, -59.79238751959337], [220.796875, 10, '2896017', 2, 158.66001386612822, 79.33000693306411, -15.35013649242442], [214.296875, 158, '2896017', 2, 65.29931086925804, 45.34313619501854, -138.57633437499734], [0, 0, '2896017', 0, 0, 0, 0], [209.796875, 150.75, '2896017', 1, 45.254833995939045, 58.83026432033091, -58.20108717570558]] \n",
      "\n",
      "06241902_proc_01706.png\n"
     ]
    },
    {
     "name": "stderr",
     "output_type": "stream",
     "text": [
      "c:\\python36-32\\lib\\site-packages\\matplotlib\\cbook\\deprecation.py:107: MatplotlibDeprecationWarning: Adding an axes using the same arguments as a previous axes currently reuses the earlier instance.  In a future version, a new instance will always be created and returned.  Meanwhile, this warning can be suppressed, and the future behavior ensured, by passing a unique label to each axes instance.\n",
      "  warnings.warn(message, mplDeprecation, stacklevel=1)\n",
      "c:\\python36-32\\lib\\site-packages\\matplotlib\\pyplot.py:537: RuntimeWarning: More than 20 figures have been opened. Figures created through the pyplot interface (`matplotlib.pyplot.figure`) are retained until explicitly closed and may consume too much memory. (To control this warning, see the rcParam `figure.max_open_warning`).\n",
      "  max_open_warning, RuntimeWarning)\n"
     ]
    },
    {
     "name": "stdout",
     "output_type": "stream",
     "text": [
      "key = coords2912406 value =  [[0, 0, '2912406', 0, 0, 0, 0], [0, 0, '2912406', 0, 0, 0, 0], [0, 0, '2912406', 0, 0, 0, 0], [0, 0, '2912406', 0, 0, 0, 0], [0, 0, '2912406', 0, 0, 0, 0]] \n",
      "\n",
      "06240910_proc_00172.png\n"
     ]
    },
    {
     "name": "stderr",
     "output_type": "stream",
     "text": [
      "c:\\python36-32\\lib\\site-packages\\matplotlib\\cbook\\deprecation.py:107: MatplotlibDeprecationWarning: Adding an axes using the same arguments as a previous axes currently reuses the earlier instance.  In a future version, a new instance will always be created and returned.  Meanwhile, this warning can be suppressed, and the future behavior ensured, by passing a unique label to each axes instance.\n",
      "  warnings.warn(message, mplDeprecation, stacklevel=1)\n",
      "c:\\python36-32\\lib\\site-packages\\matplotlib\\pyplot.py:537: RuntimeWarning: More than 20 figures have been opened. Figures created through the pyplot interface (`matplotlib.pyplot.figure`) are retained until explicitly closed and may consume too much memory. (To control this warning, see the rcParam `figure.max_open_warning`).\n",
      "  max_open_warning, RuntimeWarning)\n"
     ]
    },
    {
     "name": "stdout",
     "output_type": "stream",
     "text": [
      "key = coords2912407 value =  [[0, 0, '2912407', 0, 0, 0, 0], [0, 0, '2912407', 0, 0, 0, 0], [0, 0, '2912407', 0, 0, 0, 0], [0, 0, '2912407', 0, 0, 0, 0], [0, 0, '2912407', 0, 0, 0, 0]] \n",
      "\n",
      "06240910_proc_00173.png\n"
     ]
    },
    {
     "name": "stderr",
     "output_type": "stream",
     "text": [
      "c:\\python36-32\\lib\\site-packages\\matplotlib\\cbook\\deprecation.py:107: MatplotlibDeprecationWarning: Adding an axes using the same arguments as a previous axes currently reuses the earlier instance.  In a future version, a new instance will always be created and returned.  Meanwhile, this warning can be suppressed, and the future behavior ensured, by passing a unique label to each axes instance.\n",
      "  warnings.warn(message, mplDeprecation, stacklevel=1)\n",
      "c:\\python36-32\\lib\\site-packages\\matplotlib\\pyplot.py:537: RuntimeWarning: More than 20 figures have been opened. Figures created through the pyplot interface (`matplotlib.pyplot.figure`) are retained until explicitly closed and may consume too much memory. (To control this warning, see the rcParam `figure.max_open_warning`).\n",
      "  max_open_warning, RuntimeWarning)\n"
     ]
    },
    {
     "name": "stdout",
     "output_type": "stream",
     "text": [
      "key = coords2896023 value =  [[209.296875, 162.75, '2896023', 5, 55, 60.8276253029822, -43.667780146130355], [206.296875, 270.75, '2896023', 1, 36.89173349139343, 39.35733730830886, -57.171458208587474], [219.796875, 152.75, '2896023', 6, 63.150613615387776, 66.48308055437865, 15.708637829015757], [221, 153.4166717529297, '2896023', 8, 64.8459713474939, 64.89992930639191, -33.69006378980829], [217.796875, 155.75, '2896023', 10, 70.178344238091, 68.11754546370561, 86.63353933657018], [224.11663818359375, 156.46665954589844, '2896023', 8, 75.31268153505093, 78.08969202141856, 80.41705527646744]] \n",
      "\n",
      "06241902_proc_01712.png\n"
     ]
    },
    {
     "name": "stderr",
     "output_type": "stream",
     "text": [
      "c:\\python36-32\\lib\\site-packages\\matplotlib\\cbook\\deprecation.py:107: MatplotlibDeprecationWarning: Adding an axes using the same arguments as a previous axes currently reuses the earlier instance.  In a future version, a new instance will always be created and returned.  Meanwhile, this warning can be suppressed, and the future behavior ensured, by passing a unique label to each axes instance.\n",
      "  warnings.warn(message, mplDeprecation, stacklevel=1)\n",
      "c:\\python36-32\\lib\\site-packages\\matplotlib\\pyplot.py:537: RuntimeWarning: More than 20 figures have been opened. Figures created through the pyplot interface (`matplotlib.pyplot.figure`) are retained until explicitly closed and may consume too much memory. (To control this warning, see the rcParam `figure.max_open_warning`).\n",
      "  max_open_warning, RuntimeWarning)\n"
     ]
    },
    {
     "name": "stdout",
     "output_type": "stream",
     "text": [
      "key = coords2906265 value =  [[0, 0, '2906265', 0, 0, 0, 0], [0, 0, '2906265', 0, 0, 0, 0], [0, 0, '2906265', 0, 0, 0, 0], [0, 0, '2906265', 0, 0, 0, 0], [284.32000732421875, 108.45001220703125, '2906265', 2, 97.94896630388705, 48.974483151943524, -40.0302592718897], [85.32000732421875, 65.45001220703125, '2906265', 9, 130.29965464267354, 65.14982732133677, -48.110840653490776]] \n",
      "\n",
      "06240909_proc_01666.png\n"
     ]
    },
    {
     "name": "stderr",
     "output_type": "stream",
     "text": [
      "c:\\python36-32\\lib\\site-packages\\matplotlib\\cbook\\deprecation.py:107: MatplotlibDeprecationWarning: Adding an axes using the same arguments as a previous axes currently reuses the earlier instance.  In a future version, a new instance will always be created and returned.  Meanwhile, this warning can be suppressed, and the future behavior ensured, by passing a unique label to each axes instance.\n",
      "  warnings.warn(message, mplDeprecation, stacklevel=1)\n",
      "c:\\python36-32\\lib\\site-packages\\matplotlib\\pyplot.py:537: RuntimeWarning: More than 20 figures have been opened. Figures created through the pyplot interface (`matplotlib.pyplot.figure`) are retained until explicitly closed and may consume too much memory. (To control this warning, see the rcParam `figure.max_open_warning`).\n",
      "  max_open_warning, RuntimeWarning)\n"
     ]
    },
    {
     "name": "stdout",
     "output_type": "stream",
     "text": [
      "key = coords2896026 value =  [[215.89999389648438, 151.1999969482422, '2896026', 6, 67.89698078707183, 67.20119046564577, 36.52885536698517], [200.15936279296875, 175.97760009765625, '2896026', 10, 147.03531075857748, 73.51765537928874, 42.44710206685357], [206.75286865234375, 147.31674194335938, '2896026', 8, 67.62920684541221, 73.47430729609877, -33.69009392729196], [40.3316764831543, 138.82586669921875, '2896026', 1, 7.5944799296543035, 3.7972399648271518, -116.56505117707799], [32.796875, 139.75, '2896026', 11, 106.1178590059185, 66.06814663663572, -92.60256220249981], [214.796875, 151.75, '2896026', 8, 72.11102550927978, 68.18357573492314, -4.205357001708592], [221.0216522216797, 148.5672149658203, '2896026', 10, 79.2040395423822, 78.8179865065067, -54.29331169556372], [34.883331298828125, 155.79238891601562, '2896026', 1, 103.57846753144366, 65.18400096475537, 74.67716571392776], [219.36585998535156, 149.91587829589844, '2896026', 7, 74.6730153519789, 61.502321023884626, -148.57044786240846], [223, 150.9666748046875, '2896026', 7, 79.92497130182603, 70.32780389006896, 121.70142679543764], [218.796875, 156.5, '2896026', 7, 72.83543093852057, 72.40165743959182, -57.407418527400736], [19.796875, 140.5, '2896026', 11, 121.00413216084813, 98.08159868191383, -92.33730585912382]] \n",
      "\n",
      "06241902_proc_01715.png\n"
     ]
    },
    {
     "name": "stderr",
     "output_type": "stream",
     "text": [
      "c:\\python36-32\\lib\\site-packages\\matplotlib\\cbook\\deprecation.py:107: MatplotlibDeprecationWarning: Adding an axes using the same arguments as a previous axes currently reuses the earlier instance.  In a future version, a new instance will always be created and returned.  Meanwhile, this warning can be suppressed, and the future behavior ensured, by passing a unique label to each axes instance.\n",
      "  warnings.warn(message, mplDeprecation, stacklevel=1)\n",
      "c:\\python36-32\\lib\\site-packages\\matplotlib\\pyplot.py:537: RuntimeWarning: More than 20 figures have been opened. Figures created through the pyplot interface (`matplotlib.pyplot.figure`) are retained until explicitly closed and may consume too much memory. (To control this warning, see the rcParam `figure.max_open_warning`).\n",
      "  max_open_warning, RuntimeWarning)\n"
     ]
    },
    {
     "name": "stdout",
     "output_type": "stream",
     "text": [
      "key = coords2896027 value =  [[219, 148.4499969482422, '2896027', 6, 75.43208866258443, 72.53275122315436, -74.81416273779868], [31.133331298828125, 129.11666870117188, '2896027', 11, 92.78469701410896, 65.30696746902278, -64.61209370890407], [220.13333129882812, 149.11666870117188, '2896027', 8, 65.94694837519019, 63.60031446463138, -216.6897228324758], [253.13333129882812, 20.116668701171875, '2896027', 5, 54.120236510939236, 55.154328932550705, -67.61986494804043], [222.296875, 148.75, '2896027', 9, 88, 68.0294054067798, -181.6846843178963], [15.296875, 127.75, '2896027', 11, 112.0044641967453, 90, -90], [217.37098693847656, 146.0661163330078, '2896027', 6, 78.09970313460762, 76.81283232153619, -64.85521415905212], [224.796875, 148.75, '2896027', 8, 76.02631123499285, 70.2353187506115, -151.97549946792975]] \n",
      "\n",
      "06241902_proc_01716.png\n"
     ]
    },
    {
     "name": "stderr",
     "output_type": "stream",
     "text": [
      "c:\\python36-32\\lib\\site-packages\\matplotlib\\cbook\\deprecation.py:107: MatplotlibDeprecationWarning: Adding an axes using the same arguments as a previous axes currently reuses the earlier instance.  In a future version, a new instance will always be created and returned.  Meanwhile, this warning can be suppressed, and the future behavior ensured, by passing a unique label to each axes instance.\n",
      "  warnings.warn(message, mplDeprecation, stacklevel=1)\n",
      "c:\\python36-32\\lib\\site-packages\\matplotlib\\pyplot.py:537: RuntimeWarning: More than 20 figures have been opened. Figures created through the pyplot interface (`matplotlib.pyplot.figure`) are retained until explicitly closed and may consume too much memory. (To control this warning, see the rcParam `figure.max_open_warning`).\n",
      "  max_open_warning, RuntimeWarning)\n"
     ]
    },
    {
     "name": "stdout",
     "output_type": "stream",
     "text": [
      "key = coords2906268 value =  [[113.296875, 103, '2906268', 8, 99.70456358662827, 87.20665112249179, -40.81508387488158], [117.69999694824219, 123.46665954589844, '2906268', 5, 80.05623023850174, 65.29931086925804, -27.349875780069873], [279.70001220703125, 105.46665954589844, '2906268', 4, 23.769728648009426, 22.47220505424423, -20.854458039578347], [101.296875, 106.75, '2906268', 11, 107.80074211247342, 104.86181383134664, -52.91750303482834], [0, 0, '2906268', 0, 0, 0, 0], [109.796875, 93.25, '2906268', 1, 70.3846574190711, 73.40980860893181, 24.120983119442585]] \n",
      "\n",
      "06240909_proc_01669.png\n"
     ]
    },
    {
     "name": "stderr",
     "output_type": "stream",
     "text": [
      "c:\\python36-32\\lib\\site-packages\\matplotlib\\cbook\\deprecation.py:107: MatplotlibDeprecationWarning: Adding an axes using the same arguments as a previous axes currently reuses the earlier instance.  In a future version, a new instance will always be created and returned.  Meanwhile, this warning can be suppressed, and the future behavior ensured, by passing a unique label to each axes instance.\n",
      "  warnings.warn(message, mplDeprecation, stacklevel=1)\n",
      "c:\\python36-32\\lib\\site-packages\\matplotlib\\pyplot.py:537: RuntimeWarning: More than 20 figures have been opened. Figures created through the pyplot interface (`matplotlib.pyplot.figure`) are retained until explicitly closed and may consume too much memory. (To control this warning, see the rcParam `figure.max_open_warning`).\n",
      "  max_open_warning, RuntimeWarning)\n"
     ]
    },
    {
     "name": "stdout",
     "output_type": "stream",
     "text": [
      "key = coords2896029 value =  [[215, 141.703125, '2896029', 3, 67.05221845696084, 71.16881339463234, 17.35402463626132], [218, 145.4499969482422, '2896029', 11, 64.28841264178172, 59.90826320300064, -15.333284793053549], [233, 310.45001220703125, '2896029', 11, 43.56604182158393, 42.05948168962618, -18.00416160591338], [213.5, 147.46665954589844, '2896029', 1, 69.81403870282824, 65, -53.13010235415598], [228.5, 312.4666748046875, '2896029', 1, 36.069377593742864, 33.28663395418648, -57.2647737278924], [214.796875, 141.75, '2896029', 5, 64.35060217278468, 61.07372593840988, -92.81555668421123], [219, 149.96665954589844, '2896029', 5, 72.73238618387272, 72.56721022610694, -78.07067782276167], [228, 306.9666748046875, '2896029', 1, 35.4682957019364, 38.8329756778952, -55.4914770123316], [219.3125, 145.5, '2896029', 5, 63.812224534175265, 64.35060217278468, -57.804266065286754]] \n",
      "\n",
      "06241902_proc_01718.png\n"
     ]
    },
    {
     "name": "stderr",
     "output_type": "stream",
     "text": [
      "c:\\python36-32\\lib\\site-packages\\matplotlib\\cbook\\deprecation.py:107: MatplotlibDeprecationWarning: Adding an axes using the same arguments as a previous axes currently reuses the earlier instance.  In a future version, a new instance will always be created and returned.  Meanwhile, this warning can be suppressed, and the future behavior ensured, by passing a unique label to each axes instance.\n",
      "  warnings.warn(message, mplDeprecation, stacklevel=1)\n",
      "c:\\python36-32\\lib\\site-packages\\matplotlib\\pyplot.py:537: RuntimeWarning: More than 20 figures have been opened. Figures created through the pyplot interface (`matplotlib.pyplot.figure`) are retained until explicitly closed and may consume too much memory. (To control this warning, see the rcParam `figure.max_open_warning`).\n",
      "  max_open_warning, RuntimeWarning)\n"
     ]
    },
    {
     "name": "stdout",
     "output_type": "stream",
     "text": [
      "key = coords2904218 value =  [[299.5, 198.46665954589844, '2904218', 6, 78.77182237323191, 71.56117544489415, -213.0238608976638], [79.5, 206.46665954589844, '2904218', 11, 125.36347155371855, 121.20231864398455, -236.44103785782943], [289, 199.760009765625, '2904218', 1, 63.150613615387776, 61.84658438426491, -67.16634582208246], [75, 208.760009765625, '2904218', 1, 127.63228431709588, 95.77055915050303, -61.29404745659891], [286.6294860839844, 191.56040954589844, '2904218', 6, 76.127685546875, 72.8365837833657, -1.3019673998432495], [78.1058578491211, 206.4549560546875, '2904218', 11, 104.2618179321289, 105.92969949335068, -0.8951755798596537], [292.296875, 197.75, '2904218', 4, 72.69112738154499, 71.56814934033156, 82.77568430595468], [71.296875, 211.75, '2904218', 11, 108.04165863221463, 108.07404868885037, -2.121096396661457], [71.796875, 205.75, '2904218', 10, 117.33712115098103, 103.36827366266692, -65.41842551743132], [290.796875, 194.75, '2904218', 4, 69.9714227381436, 68.00735254367721, -36.02737338510361], [289.62664794921875, 186.65980529785156, '2904218', 11, 61.35051606127564, 30.67525803063782, -9.122904421469896], [78.53817749023438, 210.435302734375, '2904218', 11, 107.86400415492997, 53.932002077464986, 108.0761081259538]] \n",
      "\n",
      "06240907_proc_01619.png\n"
     ]
    },
    {
     "name": "stderr",
     "output_type": "stream",
     "text": [
      "c:\\python36-32\\lib\\site-packages\\matplotlib\\cbook\\deprecation.py:107: MatplotlibDeprecationWarning: Adding an axes using the same arguments as a previous axes currently reuses the earlier instance.  In a future version, a new instance will always be created and returned.  Meanwhile, this warning can be suppressed, and the future behavior ensured, by passing a unique label to each axes instance.\n",
      "  warnings.warn(message, mplDeprecation, stacklevel=1)\n",
      "c:\\python36-32\\lib\\site-packages\\matplotlib\\pyplot.py:537: RuntimeWarning: More than 20 figures have been opened. Figures created through the pyplot interface (`matplotlib.pyplot.figure`) are retained until explicitly closed and may consume too much memory. (To control this warning, see the rcParam `figure.max_open_warning`).\n",
      "  max_open_warning, RuntimeWarning)\n"
     ]
    },
    {
     "name": "stdout",
     "output_type": "stream",
     "text": [
      "key = coords2904220 value =  [[55.70000076293945, 209.9499969482422, '2904220', 8, 144.47145263203592, 114.54257689875635, -21.94870526185055], [291.70001220703125, 197.9499969482422, '2904220', 2, 65.11528238439882, 64.32728814430156, -10.619655276155134], [80, 215.46665954589844, '2904220', 11, 107.46627377926528, 111.9866063420086, 5.339236803737584], [296, 197.4666748046875, '2904220', 2, 59.941638282582836, 55.00909015790027, -27.847578259788165], [308, 339.4666748046875, '2904220', 1, 55.44366510251645, 51.73973328110612, -41.08175113593263], [261.46875, 178, '2904220', 1, 35.35533905932738, 17.67766952966369, -45], [60.46875, 155, '2904220', 1, 91.21403400793103, 45.60701700396552, -52.1250163489018], [304.46875, 336, '2904220', 1, 50.47771785649585, 25.238858928247925, -33.690067525979785], [85.46875, 213, '2904220', 11, 101.20276676059801, 92.22797840135064, -80.63980919808668], [305.46875, 343, '2904220', 1, 39.66106403010388, 34.713109915419565, -138.50353164478446], [289.46875, 199, '2904220', 1, 53.85164807134504, 51.40038910358559, -142.90716270295846], [284.46875, 206, '2904220', 1, 70.7248188403477, 51.66236541235796, -132.6467031338917], [317.46875, 252, '2904220', 2, 10.295630140987, 5.1478150704935, 119.05460409907714], [312.46875, 340, '2904220', 1, 54.120236510939236, 47.02393007820593, 152.48799737614854], [67.46875, 218, '2904220', 1, 123.42204017111368, 124.32618388738553, -123.4325601384009]] \n",
      "\n",
      "06240907_proc_01621.png\n"
     ]
    },
    {
     "name": "stderr",
     "output_type": "stream",
     "text": [
      "c:\\python36-32\\lib\\site-packages\\matplotlib\\cbook\\deprecation.py:107: MatplotlibDeprecationWarning: Adding an axes using the same arguments as a previous axes currently reuses the earlier instance.  In a future version, a new instance will always be created and returned.  Meanwhile, this warning can be suppressed, and the future behavior ensured, by passing a unique label to each axes instance.\n",
      "  warnings.warn(message, mplDeprecation, stacklevel=1)\n",
      "c:\\python36-32\\lib\\site-packages\\numpy\\core\\fromnumeric.py:2957: RuntimeWarning: Mean of empty slice.\n",
      "  out=out, **kwargs)\n",
      "c:\\python36-32\\lib\\site-packages\\numpy\\core\\_methods.py:80: RuntimeWarning: invalid value encountered in double_scalars\n",
      "  ret = ret.dtype.type(ret / rcount)\n",
      "c:\\python36-32\\lib\\site-packages\\astropy\\units\\quantity.py:639: RuntimeWarning: invalid value encountered in true_divide\n",
      "  result = super().__array_ufunc__(function, method, *arrays, **kwargs)\n",
      "c:\\python36-32\\lib\\site-packages\\matplotlib\\pyplot.py:537: RuntimeWarning: More than 20 figures have been opened. Figures created through the pyplot interface (`matplotlib.pyplot.figure`) are retained until explicitly closed and may consume too much memory. (To control this warning, see the rcParam `figure.max_open_warning`).\n",
      "  max_open_warning, RuntimeWarning)\n"
     ]
    },
    {
     "name": "stdout",
     "output_type": "stream",
     "text": [
      "key = coords2912413 value =  [[0, 0, '2912413', 0, 0, 0, 0], [0, 0, '2912413', 0, 0, 0, 0], [0, 0, '2912413', 0, 0, 0, 0], [0, 0, '2912413', 0, 0, 0, 0], [0, 0, '2912413', 0, 0, 0, 0], [74.5, 239.66000366210938, '2912413', 1, 243.00823031329617, 121.50411515664808, 0.47155955407616096], [0, 0, '2912413', 0, 0, 0, 0]] \n",
      "\n",
      "06240910_proc_00179.png\n"
     ]
    },
    {
     "name": "stderr",
     "output_type": "stream",
     "text": [
      "c:\\python36-32\\lib\\site-packages\\matplotlib\\cbook\\deprecation.py:107: MatplotlibDeprecationWarning: Adding an axes using the same arguments as a previous axes currently reuses the earlier instance.  In a future version, a new instance will always be created and returned.  Meanwhile, this warning can be suppressed, and the future behavior ensured, by passing a unique label to each axes instance.\n",
      "  warnings.warn(message, mplDeprecation, stacklevel=1)\n",
      "c:\\python36-32\\lib\\site-packages\\matplotlib\\pyplot.py:537: RuntimeWarning: More than 20 figures have been opened. Figures created through the pyplot interface (`matplotlib.pyplot.figure`) are retained until explicitly closed and may consume too much memory. (To control this warning, see the rcParam `figure.max_open_warning`).\n",
      "  max_open_warning, RuntimeWarning)\n"
     ]
    },
    {
     "name": "stdout",
     "output_type": "stream",
     "text": [
      "key = coords2896034 value =  [[0, 0, '2896034', 0, 0, 0, 0], [0, 0, '2896034', 0, 0, 0, 0], [213.796875, 134.5, '2896034', 3, 83.16850365372699, 41.58425182686349, -18.217095197824847], [0, 0, '2896034', 0, 0, 0, 0], [0, 0, '2896034', 0, 0, 0, 0], [0, 0, '2896034', 0, 0, 0, 0]] \n",
      "\n",
      "06241902_proc_01723.png\n"
     ]
    },
    {
     "name": "stderr",
     "output_type": "stream",
     "text": [
      "c:\\python36-32\\lib\\site-packages\\matplotlib\\cbook\\deprecation.py:107: MatplotlibDeprecationWarning: Adding an axes using the same arguments as a previous axes currently reuses the earlier instance.  In a future version, a new instance will always be created and returned.  Meanwhile, this warning can be suppressed, and the future behavior ensured, by passing a unique label to each axes instance.\n",
      "  warnings.warn(message, mplDeprecation, stacklevel=1)\n",
      "c:\\python36-32\\lib\\site-packages\\matplotlib\\pyplot.py:537: RuntimeWarning: More than 20 figures have been opened. Figures created through the pyplot interface (`matplotlib.pyplot.figure`) are retained until explicitly closed and may consume too much memory. (To control this warning, see the rcParam `figure.max_open_warning`).\n",
      "  max_open_warning, RuntimeWarning)\n"
     ]
    },
    {
     "name": "stdout",
     "output_type": "stream",
     "text": [
      "key = coords2906276 value =  [[95.296875, 109.75, '2906276', 6, 91.2414379544733, 80.62257748298549, -66.61477894278624], [102.296875, 131.75, '2906276', 1, 78.26237921249263, 60.207972893961475, -32.10625595511784], [334.296875, 138.75, '2906276', 1, 49.16299421312742, 34.132096331752024, 5.042451069170923], [98.796875, 110.75, '2906276', 11, 94.02127418834527, 102.53292154230269, -44.60486295749251], [101.296875, 109.75, '2906276', 11, 85.38149682454625, 95.90099061010788, -78.57289840605486], [0, 0, '2906276', 0, 0, 0, 0], [75.73819732666016, 95.78118133544922, '2906276', 9, 109.16389292917049, 113.92299930459002, -73.15619037011737]] \n",
      "\n",
      "06240909_proc_01677.png\n"
     ]
    },
    {
     "name": "stderr",
     "output_type": "stream",
     "text": [
      "c:\\python36-32\\lib\\site-packages\\matplotlib\\cbook\\deprecation.py:107: MatplotlibDeprecationWarning: Adding an axes using the same arguments as a previous axes currently reuses the earlier instance.  In a future version, a new instance will always be created and returned.  Meanwhile, this warning can be suppressed, and the future behavior ensured, by passing a unique label to each axes instance.\n",
      "  warnings.warn(message, mplDeprecation, stacklevel=1)\n",
      "c:\\python36-32\\lib\\site-packages\\matplotlib\\pyplot.py:537: RuntimeWarning: More than 20 figures have been opened. Figures created through the pyplot interface (`matplotlib.pyplot.figure`) are retained until explicitly closed and may consume too much memory. (To control this warning, see the rcParam `figure.max_open_warning`).\n",
      "  max_open_warning, RuntimeWarning)\n"
     ]
    },
    {
     "name": "stdout",
     "output_type": "stream",
     "text": [
      "key = coords2904230 value =  [[291.296875, 192.75, '2904230', 5, 80.15609770940699, 72.3394774656273, 5.552971033036812], [308.296875, 328.75, '2904230', 1, 54.230987451824994, 48.83646178829912, -10.619655276155129], [104.296875, 232.75, '2904230', 4, 81.25269226308751, 85.70297544426332, -19.069193537348127], [287.296875, 193.75, '2904230', 5, 68.96375859826666, 67.72001181334805, 73.70595254340108], [310.296875, 324.75, '2904230', 2, 51.97114584074513, 54.20332093147061, 30.01836742760908], [291.5, 191.46665954589844, '2904230', 6, 60.8276253029822, 62.93647591023825, -45.64374571417538], [310.5, 327.4666748046875, '2904230', 1, 43.41658669218482, 40.80441152620633, -36.0273733851036], [287.296875, 194.5, '2904230', 1, 58.69412236331676, 63.63961030678928, -81.86989764584402], [306.296875, 323.5, '2904230', 1, 36.40054944640259, 42, -90], [304.67498779296875, 316.3999938964844, '2904230', 1, 50.15974481593781, 41.43669871020132, -109.74683660542613], [266.6750030517578, 182.39999389648438, '2904230', 3, 89.18519594655619, 93.34343662982131, -85.0834331912682]] \n",
      "\n",
      "06240907_proc_01631.png\n"
     ]
    },
    {
     "name": "stderr",
     "output_type": "stream",
     "text": [
      "c:\\python36-32\\lib\\site-packages\\matplotlib\\cbook\\deprecation.py:107: MatplotlibDeprecationWarning: Adding an axes using the same arguments as a previous axes currently reuses the earlier instance.  In a future version, a new instance will always be created and returned.  Meanwhile, this warning can be suppressed, and the future behavior ensured, by passing a unique label to each axes instance.\n",
      "  warnings.warn(message, mplDeprecation, stacklevel=1)\n",
      "c:\\python36-32\\lib\\site-packages\\matplotlib\\pyplot.py:537: RuntimeWarning: More than 20 figures have been opened. Figures created through the pyplot interface (`matplotlib.pyplot.figure`) are retained until explicitly closed and may consume too much memory. (To control this warning, see the rcParam `figure.max_open_warning`).\n",
      "  max_open_warning, RuntimeWarning)\n"
     ]
    },
    {
     "name": "stdout",
     "output_type": "stream",
     "text": [
      "key = coords2896039 value =  [[215.39999389648438, 153.10000610351562, '2896039', 6, 75.66372975210778, 65.21502894272147, -234.36019080191335], [212.5, 156.46665954589844, '2896039', 8, 86.55634003352961, 70.43436661176133, -218.6598082540901], [210.40232849121094, 150.70465087890625, '2896039', 7, 62.07971491088951, 64.26966381089034, -120.31067338795278], [206.796875, 150.75, '2896039', 8, 72.06247289678588, 66.12110101926616, -183.46822925891718], [207.296875, 150.5, '2896039', 7, 64.8459713474939, 61.97176776565277, -26.56505117707799], [8.296875, 151.5, '2896039', 10, 69.26037828369117, 109.74743732771167, -4.969740728110304], [211.296875, 156.5, '2896039', 7, 58.7962583843564, 65.19202405202648, -122.47119229084849], [200.13333129882812, 142.63333129882812, '2896039', 6, 89, 80, -90]] \n",
      "\n",
      "06241902_proc_01728.png\n"
     ]
    },
    {
     "name": "stderr",
     "output_type": "stream",
     "text": [
      "c:\\python36-32\\lib\\site-packages\\matplotlib\\cbook\\deprecation.py:107: MatplotlibDeprecationWarning: Adding an axes using the same arguments as a previous axes currently reuses the earlier instance.  In a future version, a new instance will always be created and returned.  Meanwhile, this warning can be suppressed, and the future behavior ensured, by passing a unique label to each axes instance.\n",
      "  warnings.warn(message, mplDeprecation, stacklevel=1)\n",
      "c:\\python36-32\\lib\\site-packages\\matplotlib\\pyplot.py:537: RuntimeWarning: More than 20 figures have been opened. Figures created through the pyplot interface (`matplotlib.pyplot.figure`) are retained until explicitly closed and may consume too much memory. (To control this warning, see the rcParam `figure.max_open_warning`).\n",
      "  max_open_warning, RuntimeWarning)\n"
     ]
    },
    {
     "name": "stdout",
     "output_type": "stream",
     "text": [
      "key = coords2896040 value =  [[199.796875, 277.75, '2896040', 2, 38.91015291668744, 37.16180835212409, -23.80594351845771], [204.796875, 145.75, '2896040', 6, 81.27115109311545, 87.80091115700337, 75.48894049983093], [211.796875, 152.75, '2896040', 5, 70.8590149522275, 59.682493245507096, -171.06940989958102], [206, 150.52777099609375, '2896040', 6, 80.77747210701756, 58.66856057549052, -209.62374875117382], [196, 275.52777099609375, '2896040', 1, 40.36087214122113, 36.71511950137164, -240.64224645720873], [210.12161254882812, 151.15208435058594, '2896040', 6, 70.67505615284972, 74.4393158847277, -222.9299703468754], [200.6151885986328, 277.2705993652344, '2896040', 1, 29.698993995427212, 32.489162304757, -69.44393903287501], [61.18768310546875, 99.81742095947266, '2896040', 2, 59.18123973287537, 29.590619866437684, -80.13419368970678], [215.6999969482422, 156.59999084472656, '2896040', 8, 136.75159549654134, 68.37579774827067, 147.23960252503375]] \n",
      "\n",
      "06241902_proc_01729.png\n"
     ]
    },
    {
     "name": "stderr",
     "output_type": "stream",
     "text": [
      "c:\\python36-32\\lib\\site-packages\\matplotlib\\cbook\\deprecation.py:107: MatplotlibDeprecationWarning: Adding an axes using the same arguments as a previous axes currently reuses the earlier instance.  In a future version, a new instance will always be created and returned.  Meanwhile, this warning can be suppressed, and the future behavior ensured, by passing a unique label to each axes instance.\n",
      "  warnings.warn(message, mplDeprecation, stacklevel=1)\n",
      "c:\\python36-32\\lib\\site-packages\\matplotlib\\pyplot.py:537: RuntimeWarning: More than 20 figures have been opened. Figures created through the pyplot interface (`matplotlib.pyplot.figure`) are retained until explicitly closed and may consume too much memory. (To control this warning, see the rcParam `figure.max_open_warning`).\n",
      "  max_open_warning, RuntimeWarning)\n"
     ]
    },
    {
     "name": "stdout",
     "output_type": "stream",
     "text": [
      "key = coords2904233 value =  [[313, 325.4666748046875, '2904233', 1, 44.01136216933077, 39.01281840626232, -178.53119928561418], [73, 223.46665954589844, '2904233', 11, 109.27489029026499, 98.99494936611666, -45], [76, 214.4499969482422, '2904233', 1, 110.13629348816302, 96.56603957913983, -110.73870633661538], [307, 311.45001220703125, '2904233', 2, 67.00746227100382, 63.953107821277925, -153.03428556712987], [75.69999694824219, 229.9499969482422, '2904233', 6, 115.39498050556246, 97.49358953285082, -26.827874010314517], [71.796875, 226.75, '2904233', 11, 116.73045875006231, 75.47184905645283, -32.0053832080835], [312.17498779296875, 323.79998779296875, '2904233', 2, 51.884487084291386, 54.589376255824725, -28.44292862436334], [69.17500305175781, 233.8000030517578, '2904233', 7, 107.33591276430059, 66.24198064671678, -33.986160355936136]] \n",
      "\n",
      "06240907_proc_01634.png\n"
     ]
    },
    {
     "name": "stderr",
     "output_type": "stream",
     "text": [
      "c:\\python36-32\\lib\\site-packages\\matplotlib\\cbook\\deprecation.py:107: MatplotlibDeprecationWarning: Adding an axes using the same arguments as a previous axes currently reuses the earlier instance.  In a future version, a new instance will always be created and returned.  Meanwhile, this warning can be suppressed, and the future behavior ensured, by passing a unique label to each axes instance.\n",
      "  warnings.warn(message, mplDeprecation, stacklevel=1)\n",
      "c:\\python36-32\\lib\\site-packages\\matplotlib\\pyplot.py:537: RuntimeWarning: More than 20 figures have been opened. Figures created through the pyplot interface (`matplotlib.pyplot.figure`) are retained until explicitly closed and may consume too much memory. (To control this warning, see the rcParam `figure.max_open_warning`).\n",
      "  max_open_warning, RuntimeWarning)\n"
     ]
    },
    {
     "name": "stdout",
     "output_type": "stream",
     "text": [
      "key = coords2904235 value =  [[287.8359069824219, 185.88055419921875, '2904235', 2, 127.38434740562057, 63.69217370281029, -72.1810994176877], [56.838748931884766, 190.2117462158203, '2904235', 10, 207.0636575738459, 103.53182878692294, -57.528808599678435], [292.0486145019531, 197.21705627441406, '2904235', 7, 59.13748705182724, 58.2171407553066, -4.927119234287645], [76.04114532470703, 221.21786499023438, '2904235', 11, 95.13477368125713, 95.52816442740198, -6.009004759913665], [290.18096923828125, 200.1476287841797, '2904235', 4, 72.11102550927978, 67, -3.1798301198642345], [75.27604675292969, 225.1996307373047, '2904235', 11, 106.88032377258298, 93.32731798141867, -1.4502217438082283], [292.796875, 190.5, '2904235', 8, 74.24284477308234, 74.24284477308234, -62.74467162505693], [78.796875, 214.5, '2904235', 11, 106.7379969832674, 98.6154146165801, -67.33544256530391], [79.3125, 228.5, '2904235', 6, 104.00480758118829, 95.524865872714, -42.87890360333854], [291.3125, 195.5, '2904235', 4, 70.178344238091, 63.63961030678928, -8.130102354155966], [306.0879669189453, 194.5625991821289, '2904235', 1, 57.01107578057551, 28.505537890287755, -37.874989030968194], [93.07930755615234, 227.56394958496094, '2904235', 5, 136.13048627261003, 68.06524313630501, -40.82956741461224]] \n",
      "\n",
      "06240907_proc_01636.png\n"
     ]
    },
    {
     "name": "stderr",
     "output_type": "stream",
     "text": [
      "c:\\python36-32\\lib\\site-packages\\matplotlib\\cbook\\deprecation.py:107: MatplotlibDeprecationWarning: Adding an axes using the same arguments as a previous axes currently reuses the earlier instance.  In a future version, a new instance will always be created and returned.  Meanwhile, this warning can be suppressed, and the future behavior ensured, by passing a unique label to each axes instance.\n",
      "  warnings.warn(message, mplDeprecation, stacklevel=1)\n",
      "c:\\python36-32\\lib\\site-packages\\matplotlib\\pyplot.py:537: RuntimeWarning: More than 20 figures have been opened. Figures created through the pyplot interface (`matplotlib.pyplot.figure`) are retained until explicitly closed and may consume too much memory. (To control this warning, see the rcParam `figure.max_open_warning`).\n",
      "  max_open_warning, RuntimeWarning)\n"
     ]
    },
    {
     "name": "stdout",
     "output_type": "stream",
     "text": [
      "key = coords2896045 value =  [[205.796875, 134, '2896045', 2, 112.0446339634344, 56.0223169817172, -49.34323995168939], [19.796875, 161, '2896045', 10, 127.01181047445942, 63.50590523722971, -26.161566442019243], [28.700000762939453, 179.39999389648438, '2896045', 2, 71.28113039132964, 35.64056519566482, -34.135941798566186], [199.6999969482422, 139.39999389648438, '2896045', 3, 94.49339570073096, 47.24669785036548, -50.58259860889069], [255.6999969482422, 11.399999618530273, '2896045', 0, 89.64375034553954, 44.82187517276977, -51.340184891923016], [195.2065887451172, 126.28409576416016, '2896045', 3, 75.574021021794, 65.80008950414945, 150.28951333073275], [36.640777587890625, 190.75, '2896045', 4, 62.96824596572466, 48.27007354458868, -140.0424510691709], [35.03972244262695, 182.9135284423828, '2896045', 7, 47.54110500085417, 46.099316925259224, -65.65891160607332], [208.0457000732422, 129.82078552246094, '2896045', 5, 55.90363784530067, 51.66414729504339, -227.35329948651764], [393.296875, 256.75, '2896045', 1, 430.0151160133792, 215.0075580066896, 144.94248646416742], [207.796875, 134.75, '2896045', 3, 58.249463516842795, 42.43819034784589, -214.43898930880363], [200.06500244140625, 132.7571258544922, '2896045', 1, 65.0933010449448, 45.60116520144681, -53.84181872768989], [21.63941192626953, 121.42852020263672, '2896045', 1, 84.6453428801977, 42.32267144009885, -72.4744312374956]] \n",
      "\n",
      "06241902_proc_01734.png\n"
     ]
    },
    {
     "name": "stderr",
     "output_type": "stream",
     "text": [
      "c:\\python36-32\\lib\\site-packages\\matplotlib\\cbook\\deprecation.py:107: MatplotlibDeprecationWarning: Adding an axes using the same arguments as a previous axes currently reuses the earlier instance.  In a future version, a new instance will always be created and returned.  Meanwhile, this warning can be suppressed, and the future behavior ensured, by passing a unique label to each axes instance.\n",
      "  warnings.warn(message, mplDeprecation, stacklevel=1)\n",
      "c:\\python36-32\\lib\\site-packages\\matplotlib\\pyplot.py:537: RuntimeWarning: More than 20 figures have been opened. Figures created through the pyplot interface (`matplotlib.pyplot.figure`) are retained until explicitly closed and may consume too much memory. (To control this warning, see the rcParam `figure.max_open_warning`).\n",
      "  max_open_warning, RuntimeWarning)\n"
     ]
    },
    {
     "name": "stdout",
     "output_type": "stream",
     "text": [
      "key = coords2896047 value =  [[217, 132.4499969482422, '2896047', 1, 38.948684188300895, 36.124783736376884, -221.63353933657018], [232, 315.45001220703125, '2896047', 1, 35.35533905932738, 33.97057550292606, -42.61405596961119], [0, 0, '2896047', 0, 0, 0, 0], [12.25793743133545, 108.09502410888672, '2896047', 11, 97.74574314904041, 79.62754136851828, -52.33437941132565], [-12.89997711032629, 146.14999389648438, '2896047', 3, 144.58560469691096, 137.30623421070706, 27.311542968337704], [0, 0, '2896047', 0, 0, 0, 0]] \n",
      "\n",
      "key = coords2904241 value =  [[81.63541412353516, 210, '2904241', 10, 117.06835610018618, 114.35470751241087, 85.48601139157475], [292.6354064941406, 197, '2904241', 9, 69, 82.00609733428362, -90.69869438298348], [307.6354064941406, 336.6666564941406, '2904241', 0, 64.07027391856539, 58.077534382926416, 2.9609361341637594], [292, 194.46665954589844, '2904241', 6, 65, 70, -216.86989764584402], [84, 211.46665954589844, '2904241', 3, 108.37436641521218, 96.04686356149273, -94.76364102079201], [293.6142272949219, 196.40899658203125, '2904241', 6, 78.44852146207106, 79.00437373571309, -70.20113916424565], [304.8381042480469, 338.4480285644531, '2904241', 1, 54.950388633099365, 57.36940115799296, -59.37000531103703], [79.22541809082031, 209.653564453125, '2904241', 11, 108.20040803839913, 104.22621769356175, -67.27027356575442], [289, 199.46665954589844, '2904241', 7, 70.7248188403477, 79.30952023559341, -131.9335144988741], [308, 334.4666748046875, '2904241', 2, 60.440052945046304, 60.83584469702052, -154.69862137458028], [81, 211.46665954589844, '2904241', 7, 117.45638605249164, 104.86181383134664, -55.097504384075286], [287, 196.51666259765625, '2904241', 6, 87.09190547921202, 84.86459803710851, -68.57470620191262], [79, 207.51666259765625, '2904241', 11, 133.80956617521784, 108.06016842481785, -78.79405249259743], [304, 336.51666259765625, '2904241', 2, 53.71219600798314, 59.77457653551382, -72.47443162627712]] \n",
      "\n",
      "06240907_proc_01642.png\n"
     ]
    },
    {
     "name": "stderr",
     "output_type": "stream",
     "text": [
      "c:\\python36-32\\lib\\site-packages\\matplotlib\\cbook\\deprecation.py:107: MatplotlibDeprecationWarning: Adding an axes using the same arguments as a previous axes currently reuses the earlier instance.  In a future version, a new instance will always be created and returned.  Meanwhile, this warning can be suppressed, and the future behavior ensured, by passing a unique label to each axes instance.\n",
      "  warnings.warn(message, mplDeprecation, stacklevel=1)\n",
      "c:\\python36-32\\lib\\site-packages\\matplotlib\\cbook\\deprecation.py:107: MatplotlibDeprecationWarning: Adding an axes using the same arguments as a previous axes currently reuses the earlier instance.  In a future version, a new instance will always be created and returned.  Meanwhile, this warning can be suppressed, and the future behavior ensured, by passing a unique label to each axes instance.\n",
      "  warnings.warn(message, mplDeprecation, stacklevel=1)\n",
      "c:\\python36-32\\lib\\site-packages\\matplotlib\\pyplot.py:537: RuntimeWarning: More than 20 figures have been opened. Figures created through the pyplot interface (`matplotlib.pyplot.figure`) are retained until explicitly closed and may consume too much memory. (To control this warning, see the rcParam `figure.max_open_warning`).\n",
      "  max_open_warning, RuntimeWarning)\n"
     ]
    },
    {
     "name": "stdout",
     "output_type": "stream",
     "text": [
      "key = coords2904243 value =  [[291.796875, 194, '2904243', 4, 63.52952069707436, 65, -36.86989764584402], [72.796875, 205, '2904243', 7, 107.81465577554843, 108.60018416190647, -53.23561932420951], [79.5, 212.46665954589844, '2904243', 11, 103.12128781197411, 99.16148445843275, -248.09129517181808], [291.5, 196.46665954589844, '2904243', 5, 76.89603370785778, 73.37574531137656, -252.5528115767178], [300.5, 345.4666748046875, '2904243', 1, 47.80167361086848, 55.54277630799526, 105.78075330951539], [294.296875, 199.75, '2904243', 6, 58.872744118140105, 67.97793759742936, 63.81188930251915], [292.5903625488281, 191.3507080078125, '2904243', 7, 61.71941682993459, 56.569970648543, -13.706958806847183], [72.75486755371094, 214.1385498046875, '2904243', 11, 115.81609399748092, 118.12035129665747, -9.141645389143733], [292.796875, 201.5, '2904243', 5, 80.8084154033477, 72.47068372797375, -50.59933933652057], [304.796875, 341.5, '2904243', 1, 64.77653896280658, 32.38826948140329, -8.880659150520245], [71.796875, 209.5, '2904243', 11, 125.35549449465708, 119.26860441876563, -69.89376520164066]] \n",
      "\n",
      "06240907_proc_01644.png\n"
     ]
    },
    {
     "name": "stderr",
     "output_type": "stream",
     "text": [
      "c:\\python36-32\\lib\\site-packages\\matplotlib\\cbook\\deprecation.py:107: MatplotlibDeprecationWarning: Adding an axes using the same arguments as a previous axes currently reuses the earlier instance.  In a future version, a new instance will always be created and returned.  Meanwhile, this warning can be suppressed, and the future behavior ensured, by passing a unique label to each axes instance.\n",
      "  warnings.warn(message, mplDeprecation, stacklevel=1)\n",
      "c:\\python36-32\\lib\\site-packages\\matplotlib\\pyplot.py:537: RuntimeWarning: More than 20 figures have been opened. Figures created through the pyplot interface (`matplotlib.pyplot.figure`) are retained until explicitly closed and may consume too much memory. (To control this warning, see the rcParam `figure.max_open_warning`).\n",
      "  max_open_warning, RuntimeWarning)\n"
     ]
    },
    {
     "name": "stdout",
     "output_type": "stream",
     "text": [
      "key = coords2896052 value =  [[230.296875, 157.75, '2896052', 8, 92.13576938409967, 91.44397191723465, 84.35175262626476], [224.6999969482422, 155.86666870117188, '2896052', 5, 91.26883367283708, 45.63441683641854, 175.6012946450045], [218.296875, 157.5, '2896052', 4, 72.42237223399962, 61.40032573203501, 16.073574164746404], [208.60787963867188, 144.7286834716797, '2896052', 7, 80.62257748298549, 78.74642849044012, -49.63546342690264], [220.13308715820312, 151.1533203125, '2896052', 8, 69.35194934302329, 79.16627451054975, -68.74953051659249]] \n",
      "\n",
      "06241902_proc_01741.png\n"
     ]
    },
    {
     "name": "stderr",
     "output_type": "stream",
     "text": [
      "c:\\python36-32\\lib\\site-packages\\matplotlib\\cbook\\deprecation.py:107: MatplotlibDeprecationWarning: Adding an axes using the same arguments as a previous axes currently reuses the earlier instance.  In a future version, a new instance will always be created and returned.  Meanwhile, this warning can be suppressed, and the future behavior ensured, by passing a unique label to each axes instance.\n",
      "  warnings.warn(message, mplDeprecation, stacklevel=1)\n",
      "c:\\python36-32\\lib\\site-packages\\matplotlib\\pyplot.py:537: RuntimeWarning: More than 20 figures have been opened. Figures created through the pyplot interface (`matplotlib.pyplot.figure`) are retained until explicitly closed and may consume too much memory. (To control this warning, see the rcParam `figure.max_open_warning`).\n",
      "  max_open_warning, RuntimeWarning)\n"
     ]
    },
    {
     "name": "stdout",
     "output_type": "stream",
     "text": [
      "key = coords10516661 value =  [[304.296875, 256.75, '10516661', 6, 38.63935817272331, 43.965895873961216, 17.198541220065877], [129.296875, 302.75, '10516661', 11, 54.817880294662984, 45.39823785126467, -82.40535663140855], [119.296875, 126.75, '10516661', 11, 77.92945527847606, 67.7421582177598, -81.51105611949528], [304.796875, 254.75, '10516661', 5, 47.4236228055175, 49.76946855251722, -22.44275336529435], [301, 254.4666748046875, '10516661', 4, 47.16990566028302, 43.382037644465015, -32.005383208083494], [307.296875, 256.75, '10516661', 1, 33.421549934136806, 43.86342439892262, -128.9275435927923], [499.296875, 358.75, '10516661', 1, 41.012193308819754, 20.506096654409877, 88.60281897270363], [310.796875, 250.75, '10516661', 5, 52, 43.18564576337837, -185.31454566994475], [305, 255.45001220703125, '10516661', 7, 51.478150704935004, 56.08029957123981, -24.075498255078834], [151, 292.45001220703125, '10516661', 2, 79.81227975693966, 78.16009211867653, -73.65182845264874]] \n",
      "\n",
      "06240912_proc_01534.bmp.png\n"
     ]
    },
    {
     "name": "stderr",
     "output_type": "stream",
     "text": [
      "c:\\python36-32\\lib\\site-packages\\matplotlib\\cbook\\deprecation.py:107: MatplotlibDeprecationWarning: Adding an axes using the same arguments as a previous axes currently reuses the earlier instance.  In a future version, a new instance will always be created and returned.  Meanwhile, this warning can be suppressed, and the future behavior ensured, by passing a unique label to each axes instance.\n",
      "  warnings.warn(message, mplDeprecation, stacklevel=1)\n",
      "c:\\python36-32\\lib\\site-packages\\matplotlib\\pyplot.py:537: RuntimeWarning: More than 20 figures have been opened. Figures created through the pyplot interface (`matplotlib.pyplot.figure`) are retained until explicitly closed and may consume too much memory. (To control this warning, see the rcParam `figure.max_open_warning`).\n",
      "  max_open_warning, RuntimeWarning)\n"
     ]
    },
    {
     "name": "stdout",
     "output_type": "stream",
     "text": [
      "key = coords2896064 value =  [[207.296875, 139, '2896064', 5, 73.66138744281159, 79.51100552753688, -230.1021652523582], [1.296875, 137, '2896064', 10, 129.18978287774928, 93.26306878931231, -94.30446896050799], [196.296875, 134, '2896064', 4, 86.83317338436964, 77.33692520394123, -40.279863068956445], [19.296875, 328, '2896064', 1, 70.9365914038728, 68.81860213634101, -54.46232220802562], [202.296875, 131.75, '2896064', 5, 66.73080248281148, 59.20304046246274, -74.32047587758075], [208.14138793945312, 133.6259307861328, '2896064', 6, 71.96099380798309, 63.682445842709534, -24.41348501580294], [210.8125, 67.75, '2896064', 1, 162.97545827516484, 81.48772913758242, -79.03480331486209], [16.5, 329.75, '2896064', 2, 65.94694837519019, 65.29931086925804, -49.9697407281103], [203.5, 138.75, '2896064', 6, 86.45229898620394, 87.36704184073076, -146.6737103128848], [207, 132.760009765625, '2896064', 5, 79.37883848986453, 73.7563556583431, -192.52880770915152]] \n",
      "\n",
      "06241902_proc_01753.png\n"
     ]
    },
    {
     "name": "stderr",
     "output_type": "stream",
     "text": [
      "c:\\python36-32\\lib\\site-packages\\matplotlib\\cbook\\deprecation.py:107: MatplotlibDeprecationWarning: Adding an axes using the same arguments as a previous axes currently reuses the earlier instance.  In a future version, a new instance will always be created and returned.  Meanwhile, this warning can be suppressed, and the future behavior ensured, by passing a unique label to each axes instance.\n",
      "  warnings.warn(message, mplDeprecation, stacklevel=1)\n",
      "c:\\python36-32\\lib\\site-packages\\matplotlib\\pyplot.py:537: RuntimeWarning: More than 20 figures have been opened. Figures created through the pyplot interface (`matplotlib.pyplot.figure`) are retained until explicitly closed and may consume too much memory. (To control this warning, see the rcParam `figure.max_open_warning`).\n",
      "  max_open_warning, RuntimeWarning)\n"
     ]
    },
    {
     "name": "stdout",
     "output_type": "stream",
     "text": [
      "key = coords2906306 value =  [[94.63409423828125, 103.21339416503906, '2906306', 11, 128.5495859205486, 121.16517599589024, 41.31938164565989], [107.796875, 92.75, '2906306', 11, 118.00423721205946, 96.42095207992918, -174.6441749571448], [103.796875, 88.5, '2906306', 1, 107.16809226630845, 111.80339887498948, -100.30484646876603], [0, 0, '2906306', 0, 0, 0, 0], [109.46875, 97.25, '2906306', 11, 94.2019108086455, 103.87011119662864, -66.14952609192308]] \n",
      "\n"
     ]
    },
    {
     "name": "stderr",
     "output_type": "stream",
     "text": [
      "c:\\python36-32\\lib\\site-packages\\matplotlib\\cbook\\deprecation.py:107: MatplotlibDeprecationWarning: Adding an axes using the same arguments as a previous axes currently reuses the earlier instance.  In a future version, a new instance will always be created and returned.  Meanwhile, this warning can be suppressed, and the future behavior ensured, by passing a unique label to each axes instance.\n",
      "  warnings.warn(message, mplDeprecation, stacklevel=1)\n"
     ]
    },
    {
     "name": "stdout",
     "output_type": "stream",
     "text": [
      "06240909_proc_01707.png\n"
     ]
    },
    {
     "name": "stderr",
     "output_type": "stream",
     "text": [
      "c:\\python36-32\\lib\\site-packages\\matplotlib\\pyplot.py:537: RuntimeWarning: More than 20 figures have been opened. Figures created through the pyplot interface (`matplotlib.pyplot.figure`) are retained until explicitly closed and may consume too much memory. (To control this warning, see the rcParam `figure.max_open_warning`).\n",
      "  max_open_warning, RuntimeWarning)\n"
     ]
    },
    {
     "name": "stdout",
     "output_type": "stream",
     "text": [
      "key = coords10516675 value =  [[304, 255.46665954589844, '10516675', 5, 54.45181356024793, 52.630789467763066, 51.170175095029606], [297.6354064941406, 261.4166564941406, '10516675', 6, 53.25410782277739, 55.605745767884244, -52.305771974330185], [308.5, 253.46665954589844, '10516675', 4, 51.62364863735462, 47.4236228055175, -44.215187535007836], [0, 0, '10516675', 0, 0, 0, 0], [309.796875, 255.5, '10516675', 7, 46.52956049652737, 42.1070065428546, -184.08561677997488]] \n",
      "\n",
      "06240912_proc_01548.bmp.png\n"
     ]
    },
    {
     "name": "stderr",
     "output_type": "stream",
     "text": [
      "c:\\python36-32\\lib\\site-packages\\matplotlib\\cbook\\deprecation.py:107: MatplotlibDeprecationWarning: Adding an axes using the same arguments as a previous axes currently reuses the earlier instance.  In a future version, a new instance will always be created and returned.  Meanwhile, this warning can be suppressed, and the future behavior ensured, by passing a unique label to each axes instance.\n",
      "  warnings.warn(message, mplDeprecation, stacklevel=1)\n",
      "c:\\python36-32\\lib\\site-packages\\matplotlib\\pyplot.py:537: RuntimeWarning: More than 20 figures have been opened. Figures created through the pyplot interface (`matplotlib.pyplot.figure`) are retained until explicitly closed and may consume too much memory. (To control this warning, see the rcParam `figure.max_open_warning`).\n",
      "  max_open_warning, RuntimeWarning)\n"
     ]
    },
    {
     "name": "stdout",
     "output_type": "stream",
     "text": [
      "key = coords2912451 value =  [[0, 0, '2912451', 0, 0, 0, 0], [0, 0, '2912451', 0, 0, 0, 0], [0, 0, '2912451', 0, 0, 0, 0], [0, 0, '2912451', 0, 0, 0, 0], [0, 0, '2912451', 0, 0, 0, 0]] \n",
      "\n",
      "06240910_proc_00217.png\n"
     ]
    },
    {
     "name": "stderr",
     "output_type": "stream",
     "text": [
      "c:\\python36-32\\lib\\site-packages\\matplotlib\\cbook\\deprecation.py:107: MatplotlibDeprecationWarning: Adding an axes using the same arguments as a previous axes currently reuses the earlier instance.  In a future version, a new instance will always be created and returned.  Meanwhile, this warning can be suppressed, and the future behavior ensured, by passing a unique label to each axes instance.\n",
      "  warnings.warn(message, mplDeprecation, stacklevel=1)\n",
      "c:\\python36-32\\lib\\site-packages\\matplotlib\\pyplot.py:537: RuntimeWarning: More than 20 figures have been opened. Figures created through the pyplot interface (`matplotlib.pyplot.figure`) are retained until explicitly closed and may consume too much memory. (To control this warning, see the rcParam `figure.max_open_warning`).\n",
      "  max_open_warning, RuntimeWarning)\n"
     ]
    },
    {
     "name": "stdout",
     "output_type": "stream",
     "text": [
      "key = coords2896083 value =  [[216.5, 157.46665954589844, '2896083', 6, 66.64082832618455, 67.60177512462228, -25.79602649449995], [221.796875, 75.75, '2896083', 1, 359.00139275495854, 179.50069637747927, -90.1595978588467], [212.796875, 154.75, '2896083', 7, 83.5224520712844, 73.97972695272672, -76.71513351509782], [10.796875, 147.75, '2896083', 11, 132.54433220624713, 95.34149149242423, -102.72435568542237], [215.5, 155.96665954589844, '2896083', 6, 68.26419266350405, 64.4980619863884, -84.95754893082909], [214.97499084472656, 154.39999389648438, '2896083', 7, 71.58911682615907, 75.16648848936326, -49.316039511984314], [214.46875, 150.203125, '2896083', 6, 70.09279563550022, 74.2024258363566, -37.33319573818582]] \n",
      "\n",
      "06241902_proc_01772.png\n"
     ]
    },
    {
     "name": "stderr",
     "output_type": "stream",
     "text": [
      "c:\\python36-32\\lib\\site-packages\\matplotlib\\cbook\\deprecation.py:107: MatplotlibDeprecationWarning: Adding an axes using the same arguments as a previous axes currently reuses the earlier instance.  In a future version, a new instance will always be created and returned.  Meanwhile, this warning can be suppressed, and the future behavior ensured, by passing a unique label to each axes instance.\n",
      "  warnings.warn(message, mplDeprecation, stacklevel=1)\n",
      "c:\\python36-32\\lib\\site-packages\\matplotlib\\pyplot.py:537: RuntimeWarning: More than 20 figures have been opened. Figures created through the pyplot interface (`matplotlib.pyplot.figure`) are retained until explicitly closed and may consume too much memory. (To control this warning, see the rcParam `figure.max_open_warning`).\n",
      "  max_open_warning, RuntimeWarning)\n"
     ]
    },
    {
     "name": "stdout",
     "output_type": "stream",
     "text": [
      "key = coords2906325 value =  [[119.296875, 111.75, '2906325', 1, 98.47842403288143, 85.42833253669417, -38.345574953993406], [128, 100.46665954589844, '2906325', 1, 65.73431371817918, 32.86715685908959, 146.79342968491048], [124.796875, 104.5, '2906325', 1, 98.88377015466189, 84.21995013059554, -60.08635400846512], [122.3125, 109.5, '2906325', 8, 90.78546139112804, 84.8999411071645, -46.90915243299638], [125.96875, 116.609375, '2906325', 9, 80, 77.38862965578342, -147.1313210666325]] \n",
      "\n",
      "06240909_proc_01726.png\n"
     ]
    },
    {
     "name": "stderr",
     "output_type": "stream",
     "text": [
      "c:\\python36-32\\lib\\site-packages\\matplotlib\\cbook\\deprecation.py:107: MatplotlibDeprecationWarning: Adding an axes using the same arguments as a previous axes currently reuses the earlier instance.  In a future version, a new instance will always be created and returned.  Meanwhile, this warning can be suppressed, and the future behavior ensured, by passing a unique label to each axes instance.\n",
      "  warnings.warn(message, mplDeprecation, stacklevel=1)\n",
      "c:\\python36-32\\lib\\site-packages\\matplotlib\\pyplot.py:537: RuntimeWarning: More than 20 figures have been opened. Figures created through the pyplot interface (`matplotlib.pyplot.figure`) are retained until explicitly closed and may consume too much memory. (To control this warning, see the rcParam `figure.max_open_warning`).\n",
      "  max_open_warning, RuntimeWarning)\n"
     ]
    },
    {
     "name": "stdout",
     "output_type": "stream",
     "text": [
      "key = coords2912470 value =  [[0, 0, '2912470', 0, 0, 0, 0], [0, 0, '2912470', 0, 0, 0, 0], [0, 0, '2912470', 0, 0, 0, 0], [0, 0, '2912470', 0, 0, 0, 0], [0, 0, '2912470', 0, 0, 0, 0]] \n",
      "\n",
      "06240910_proc_00236.png\n"
     ]
    },
    {
     "name": "stderr",
     "output_type": "stream",
     "text": [
      "c:\\python36-32\\lib\\site-packages\\matplotlib\\cbook\\deprecation.py:107: MatplotlibDeprecationWarning: Adding an axes using the same arguments as a previous axes currently reuses the earlier instance.  In a future version, a new instance will always be created and returned.  Meanwhile, this warning can be suppressed, and the future behavior ensured, by passing a unique label to each axes instance.\n",
      "  warnings.warn(message, mplDeprecation, stacklevel=1)\n",
      "c:\\python36-32\\lib\\site-packages\\matplotlib\\pyplot.py:537: RuntimeWarning: More than 20 figures have been opened. Figures created through the pyplot interface (`matplotlib.pyplot.figure`) are retained until explicitly closed and may consume too much memory. (To control this warning, see the rcParam `figure.max_open_warning`).\n",
      "  max_open_warning, RuntimeWarning)\n"
     ]
    },
    {
     "name": "stdout",
     "output_type": "stream",
     "text": [
      "key = coords2912469 value =  [[0, 0, '2912469', 0, 0, 0, 0], [0, 0, '2912469', 0, 0, 0, 0], [0, 0, '2912469', 0, 0, 0, 0], [0, 0, '2912469', 0, 0, 0, 0], [0, 0, '2912469', 0, 0, 0, 0]] \n",
      "\n",
      "06240910_proc_00235.png\n"
     ]
    },
    {
     "name": "stderr",
     "output_type": "stream",
     "text": [
      "c:\\python36-32\\lib\\site-packages\\matplotlib\\cbook\\deprecation.py:107: MatplotlibDeprecationWarning: Adding an axes using the same arguments as a previous axes currently reuses the earlier instance.  In a future version, a new instance will always be created and returned.  Meanwhile, this warning can be suppressed, and the future behavior ensured, by passing a unique label to each axes instance.\n",
      "  warnings.warn(message, mplDeprecation, stacklevel=1)\n",
      "c:\\python36-32\\lib\\site-packages\\matplotlib\\pyplot.py:537: RuntimeWarning: More than 20 figures have been opened. Figures created through the pyplot interface (`matplotlib.pyplot.figure`) are retained until explicitly closed and may consume too much memory. (To control this warning, see the rcParam `figure.max_open_warning`).\n",
      "  max_open_warning, RuntimeWarning)\n"
     ]
    },
    {
     "name": "stdout",
     "output_type": "stream",
     "text": [
      "key = coords2904285 value =  [[291, 193.4499969482422, '2904285', 11, 88, 85.05292469985967, 2.0213649403560225], [81, 221.4499969482422, '2904285', 11, 101.01980003939822, 101, -90], [305, 326.45001220703125, '2904285', 1, 46.389654018972806, 48.507731342539614, -14.322719978203551], [289.4540710449219, 194.84039306640625, '2904285', 5, 75.79303576503796, 75.99722103493578, 26.12261551044736], [77.96128845214844, 223.81349182128906, '2904285', 6, 103.12256009415887, 104.5816007629199, 72.47443314717543], [291.8165588378906, 189.7476043701172, '2904285', 1, 70.58033400064559, 66.535820219607, 23.198593964316274], [86.5069351196289, 220.3256378173828, '2904285', 11, 97.95226453053962, 99.57642200340837, -21.217966880658693], [293.3125, 191.75, '2904285', 4, 72.69112738154499, 68.6804193347711, -16.05998730716064], [81.3125, 223.75, '2904285', 5, 92.76313923105448, 99.36297097007517, -61.11341823308929], [85.96875, 230.609375, '2904285', 10, 99.86490875177326, 108.15729286552988, -162.23514669930253], [289.96875, 195.609375, '2904285', 3, 67.23094525588644, 58.180752831155424, -155.63754698468784]] \n",
      "\n",
      "06240907_proc_01686.png\n"
     ]
    },
    {
     "name": "stderr",
     "output_type": "stream",
     "text": [
      "c:\\python36-32\\lib\\site-packages\\matplotlib\\cbook\\deprecation.py:107: MatplotlibDeprecationWarning: Adding an axes using the same arguments as a previous axes currently reuses the earlier instance.  In a future version, a new instance will always be created and returned.  Meanwhile, this warning can be suppressed, and the future behavior ensured, by passing a unique label to each axes instance.\n",
      "  warnings.warn(message, mplDeprecation, stacklevel=1)\n",
      "c:\\python36-32\\lib\\site-packages\\matplotlib\\pyplot.py:537: RuntimeWarning: More than 20 figures have been opened. Figures created through the pyplot interface (`matplotlib.pyplot.figure`) are retained until explicitly closed and may consume too much memory. (To control this warning, see the rcParam `figure.max_open_warning`).\n",
      "  max_open_warning, RuntimeWarning)\n"
     ]
    },
    {
     "name": "stdout",
     "output_type": "stream",
     "text": [
      "key = coords2896097 value =  [[210.296875, 144, '2896097', 6, 71.8679344353238, 71.02816342831905, -215.25635871296285], [215.69317626953125, 146.2954559326172, '2896097', 6, 72.62231062146122, 77.46612162745726, 128.29016319224309], [207.69317626953125, 282.2954406738281, '2896097', 1, 55.90169943749474, 53.15071901569158, -48.81408721325501], [216.5, 143.75, '2896097', 6, 64.28063471995279, 69.26037828369117, 85.03025927188969], [214.796875, 277.75, '2896097', 1, 45.27692569068709, 27.073972741361768, -175.76360520094116], [210.796875, 153.75, '2896097', 7, 69.33974329343886, 66.84309986827361, -38.9275435927923], [50.796875, 183.75, '2896097', 2, 38.27531841800928, 19.13765920900464, -123.27488798483492], [207.796875, 281, '2896097', 1, 41.43669871020132, 32.14031735997639, -5.355825042855187], [210.796875, 151, '2896097', 7, 62.369864518050704, 64.38167441127949, -6.241914347415047], [48.796875, 178, '2896097', 3, 34.48187929913333, 17.240939649566666, -119.5387822595581]] \n",
      "\n",
      "06241902_proc_01786.png\n"
     ]
    },
    {
     "name": "stderr",
     "output_type": "stream",
     "text": [
      "c:\\python36-32\\lib\\site-packages\\matplotlib\\cbook\\deprecation.py:107: MatplotlibDeprecationWarning: Adding an axes using the same arguments as a previous axes currently reuses the earlier instance.  In a future version, a new instance will always be created and returned.  Meanwhile, this warning can be suppressed, and the future behavior ensured, by passing a unique label to each axes instance.\n",
      "  warnings.warn(message, mplDeprecation, stacklevel=1)\n",
      "c:\\python36-32\\lib\\site-packages\\matplotlib\\pyplot.py:537: RuntimeWarning: More than 20 figures have been opened. Figures created through the pyplot interface (`matplotlib.pyplot.figure`) are retained until explicitly closed and may consume too much memory. (To control this warning, see the rcParam `figure.max_open_warning`).\n",
      "  max_open_warning, RuntimeWarning)\n"
     ]
    },
    {
     "name": "stdout",
     "output_type": "stream",
     "text": [
      "key = coords10518756 value =  [[301.296875, 134.75, '10518756', 6, 67.26812023536856, 63.28506932918696, -58.570434385161484], [302.5, 136.46665954589844, '10518756', 6, 62.96824596572466, 53.25410782277739, -34.28687697720896], [149.5, 132.46665954589844, '10518756', 11, 79.90619500389191, 50.93132631298737, -136.5911402711946], [116.5, 62.46665954589844, '10518756', 4, 48.33218389437829, 34.0147027033899, -155.6954507340633], [53.5, 114.46665954589844, '10518756', 1, 44.28317965096906, 32.69556544854363, -66.57130719125459], [158.5, 295.4666748046875, '10518756', 1, 41, 30.364452901377952, -72.75854060106002], [304, 135.760009765625, '10518756', 5, 57.3149195236284, 55.569775957799216, -59.74356283647074], [299.69049072265625, 132.89749145507812, '10518756', 6, 63.511432174803815, 55.98383309933099, -5.85602411898758], [158.75047302246094, 294.89752197265625, '10518756', 1, 31.297875823368287, 45.3889350373899, -10.437444987940209], [298.2572326660156, 130.10171508789062, '10518756', 3, 56.76226806640625, 60.42251535338365, -90], [135.06570434570312, 110.23491668701172, '10518756', 2, 90.81963348388672, 73.75001327982842, -101.0937214148835]] \n",
      "\n",
      "06240913_proc_01271.png\n"
     ]
    },
    {
     "name": "stderr",
     "output_type": "stream",
     "text": [
      "c:\\python36-32\\lib\\site-packages\\matplotlib\\cbook\\deprecation.py:107: MatplotlibDeprecationWarning: Adding an axes using the same arguments as a previous axes currently reuses the earlier instance.  In a future version, a new instance will always be created and returned.  Meanwhile, this warning can be suppressed, and the future behavior ensured, by passing a unique label to each axes instance.\n",
      "  warnings.warn(message, mplDeprecation, stacklevel=1)\n",
      "c:\\python36-32\\lib\\site-packages\\matplotlib\\pyplot.py:537: RuntimeWarning: More than 20 figures have been opened. Figures created through the pyplot interface (`matplotlib.pyplot.figure`) are retained until explicitly closed and may consume too much memory. (To control this warning, see the rcParam `figure.max_open_warning`).\n",
      "  max_open_warning, RuntimeWarning)\n"
     ]
    },
    {
     "name": "stdout",
     "output_type": "stream",
     "text": [
      "key = coords2906342 value =  [[99.796875, 103, '2906342', 8, 101.17806086301516, 94.36630754670864, -40.2720121811578], [0, 0, '2906342', 0, 0, 0, 0], [96.296875, 91.75, '2906342', 11, 104.35037134576953, 99.00505037623081, -45.81845546168861], [122.796875, 114.75, '2906342', 11, 117.0341830406826, 83.48652585896721, -145.73889710090543], [321.796875, 129.75, '2906342', 1, 49.24428900898052, 50.60632371551998, -142.22431569404534], [108.796875, 100.75, '2906342', 7, 92.64987857520376, 88.64536084872124, -166.26373169437744], [112.796875, 99.5, '2906342', 11, 101.13357503816425, 101.07917688624102, -64.19546760005288]] \n",
      "\n",
      "06240909_proc_01743.png\n"
     ]
    },
    {
     "name": "stderr",
     "output_type": "stream",
     "text": [
      "c:\\python36-32\\lib\\site-packages\\matplotlib\\cbook\\deprecation.py:107: MatplotlibDeprecationWarning: Adding an axes using the same arguments as a previous axes currently reuses the earlier instance.  In a future version, a new instance will always be created and returned.  Meanwhile, this warning can be suppressed, and the future behavior ensured, by passing a unique label to each axes instance.\n",
      "  warnings.warn(message, mplDeprecation, stacklevel=1)\n",
      "c:\\python36-32\\lib\\site-packages\\matplotlib\\pyplot.py:537: RuntimeWarning: More than 20 figures have been opened. Figures created through the pyplot interface (`matplotlib.pyplot.figure`) are retained until explicitly closed and may consume too much memory. (To control this warning, see the rcParam `figure.max_open_warning`).\n",
      "  max_open_warning, RuntimeWarning)\n"
     ]
    },
    {
     "name": "stdout",
     "output_type": "stream",
     "text": [
      "key = coords2896105 value =  [[211.6999969482422, 154.9499969482422, '2896105', 5, 93.5574839743856, 68.06614430096654, 10.154266580200272], [213.796875, 152.75, '2896105', 3, 64.66065264130884, 66.37017402418047, -31.723602957684026], [206.796875, 315.75, '2896105', 1, 37.69615364994153, 40.311288741492746, 68.19859051364818], [265.796875, 17.75, '2896105', 1, 41.773197148410844, 39.395431207184416, -23.96248897457818], [31.796875, 170.75, '2896105', 3, 49.33558553417604, 66.70832032063167, -23.875280853927507], [204.66928100585938, 312.36767578125, '2896105', 1, 35.60934700961904, 38.87301346381359, -78.30108463671353], [213.89727783203125, 153.3769989013672, '2896105', 1, 66.75364095832852, 65.24526778465668, -72.6862645345877], [262.3442687988281, 17.456298828125, '2896105', 1, 47.053741873021664, 46.68504628763381, -98.76410113634805], [6.2673492431640625, 174.5244903564453, '2896105', 1, 66.56403555073767, 69.4498760782572, -57.89374571754037], [211.296875, 152.75, '2896105', 4, 60.207972893961475, 70.03570517957252, -43.26429541107161], [206.296875, 313.75, '2896105', 2, 40.24922359499622, 34.92849839314596, -26.56505117707799]] \n",
      "\n",
      "06241902_proc_01794.png\n"
     ]
    },
    {
     "name": "stderr",
     "output_type": "stream",
     "text": [
      "c:\\python36-32\\lib\\site-packages\\matplotlib\\cbook\\deprecation.py:107: MatplotlibDeprecationWarning: Adding an axes using the same arguments as a previous axes currently reuses the earlier instance.  In a future version, a new instance will always be created and returned.  Meanwhile, this warning can be suppressed, and the future behavior ensured, by passing a unique label to each axes instance.\n",
      "  warnings.warn(message, mplDeprecation, stacklevel=1)\n",
      "c:\\python36-32\\lib\\site-packages\\matplotlib\\pyplot.py:537: RuntimeWarning: More than 20 figures have been opened. Figures created through the pyplot interface (`matplotlib.pyplot.figure`) are retained until explicitly closed and may consume too much memory. (To control this warning, see the rcParam `figure.max_open_warning`).\n",
      "  max_open_warning, RuntimeWarning)\n"
     ]
    },
    {
     "name": "stdout",
     "output_type": "stream",
     "text": [
      "key = coords2896107 value =  [[58.583396911621094, 333.4312438964844, '2896107', 10, 115.1131591796875, 57.55657958984375, 90], [214.71389770507812, 174.6544647216797, '2896107', 10, 108.37638624637697, 54.18819312318848, 72.22867435122568], [196.18994140625, 318.876708984375, '2896107', 10, 85.18594092704649, 42.592970463523244, 43.111810717988035], [201.796875, 146.75, '2896107', 5, 108.16653826391968, 54.08326913195984, 3.1798301198642345], [217, 149.46665954589844, '2896107', 6, 72.09022125087424, 71.58910531638176, 23.720395572304596], [40, 147.46665954589844, '2896107', 8, 102.1077861869505, 51.05389309347525, 81.55247275209153], [42, 316.4666748046875, '2896107', 2, 43.86342439892262, 25.268557536986556, -65.77225468204583], [210, 303.4666748046875, '2896107', 2, 53.03772242470448, 43.93176527297759, -41.30861401354872], [253, 22.466659545898438, '2896107', 4, 71.30918594402827, 43.93176527297759, -14.620873988631656], [203.86924743652344, 307.60772705078125, '2896107', 1, 37.845615892774354, 39.98491883150296, 160.9065096787405], [216.2489471435547, 152.17372131347656, '2896107', 6, 69.26954037668796, 61.9137957473365, -91.27304068637326], [45.840003967285156, 105.41850280761719, '2896107', 7, 62.203425016091195, 43.49783949282595, 108.03428214832405], [212.16275024414062, 136.391845703125, '2896107', 1, 99.62784769741694, 49.81392384870847, -113.80594422687047], [210.6999969482422, 141.09999084472656, '2896107', 6, 70.11419257183242, 68.00733571595002, -72.89727339382446], [209.6999969482422, 309.1000061035156, '2896107', 1, 39.293765408777, 32.7566787083184, -77.66091272167381]] \n",
      "\n",
      "06241902_proc_01796.png\n"
     ]
    },
    {
     "name": "stderr",
     "output_type": "stream",
     "text": [
      "c:\\python36-32\\lib\\site-packages\\matplotlib\\cbook\\deprecation.py:107: MatplotlibDeprecationWarning: Adding an axes using the same arguments as a previous axes currently reuses the earlier instance.  In a future version, a new instance will always be created and returned.  Meanwhile, this warning can be suppressed, and the future behavior ensured, by passing a unique label to each axes instance.\n",
      "  warnings.warn(message, mplDeprecation, stacklevel=1)\n",
      "c:\\python36-32\\lib\\site-packages\\matplotlib\\pyplot.py:537: RuntimeWarning: More than 20 figures have been opened. Figures created through the pyplot interface (`matplotlib.pyplot.figure`) are retained until explicitly closed and may consume too much memory. (To control this warning, see the rcParam `figure.max_open_warning`).\n",
      "  max_open_warning, RuntimeWarning)\n"
     ]
    },
    {
     "name": "stdout",
     "output_type": "stream",
     "text": [
      "key = coords2906348 value =  [[114.796875, 121.75, '2906348', 7, 77.07788269017254, 65.94694837519019, -139.304468960508], [111.25, 117.25, '2906348', 6, 95.77577981932593, 94.26027795418386, -48.87125623198563], [97.796875, 107.5, '2906348', 9, 100.7670581092849, 79.51100552753688, -50.10216525235818], [246.515625, 199.75, '2906348', 1, 5.587471277901307, 2.7937356389506536, 162.6417936697111], [269.8486328125, 197.0830078125, '2906348', 5, 204.8724764382798, 102.4362382191399, -23.880310462812727], [232.96875, 197.25, '2906348', 1, 81.05553651663777, 40.527768258318886, 2.1210963966614536]] \n",
      "\n",
      "06240909_proc_01749.png\n"
     ]
    },
    {
     "name": "stderr",
     "output_type": "stream",
     "text": [
      "c:\\python36-32\\lib\\site-packages\\matplotlib\\cbook\\deprecation.py:107: MatplotlibDeprecationWarning: Adding an axes using the same arguments as a previous axes currently reuses the earlier instance.  In a future version, a new instance will always be created and returned.  Meanwhile, this warning can be suppressed, and the future behavior ensured, by passing a unique label to each axes instance.\n",
      "  warnings.warn(message, mplDeprecation, stacklevel=1)\n",
      "c:\\python36-32\\lib\\site-packages\\numpy\\core\\fromnumeric.py:2957: RuntimeWarning: Mean of empty slice.\n",
      "  out=out, **kwargs)\n",
      "c:\\python36-32\\lib\\site-packages\\numpy\\core\\_methods.py:80: RuntimeWarning: invalid value encountered in double_scalars\n",
      "  ret = ret.dtype.type(ret / rcount)\n",
      "c:\\python36-32\\lib\\site-packages\\astropy\\units\\quantity.py:639: RuntimeWarning: invalid value encountered in true_divide\n",
      "  result = super().__array_ufunc__(function, method, *arrays, **kwargs)\n",
      "c:\\python36-32\\lib\\site-packages\\matplotlib\\pyplot.py:537: RuntimeWarning: More than 20 figures have been opened. Figures created through the pyplot interface (`matplotlib.pyplot.figure`) are retained until explicitly closed and may consume too much memory. (To control this warning, see the rcParam `figure.max_open_warning`).\n",
      "  max_open_warning, RuntimeWarning)\n"
     ]
    },
    {
     "name": "stdout",
     "output_type": "stream",
     "text": [
      "key = coords2896109 value =  [[217.796875, 145.75, '2896109', 6, 78.26237921249263, 81.74350127074322, 14.886266849017574], [207.796875, 303.75, '2896109', 1, 58.872744118140105, 53.85164807134504, 21.80140948635183], [216.796875, 143.75, '2896109', 6, 70.71067811865476, 64.6297145282261, -8.00472885729286], [217.796875, 145.75, '2896109', 11, 71.25307010929424, 77.05841939723393, -267.7688253919688], [217.6098175048828, 147.96241760253906, '2896109', 7, 69.22166505336956, 64.46838742263513, -168.15208719211864], [205.84315490722656, 297.9950866699219, '2896109', 1, 46.907774875252365, 34.71423573395842, -73.55562501638829], [219.796875, 144.5, '2896109', 7, 95.4829827770373, 85.58621384311844, -43.57973445360095], [215.8020782470703, 143.5, '2896109', 6, 77, 79.40403012442127, -185.78239232236405], [218.296875, 145.5, '2896109', 8, 65.29931086925804, 62.289646009589745, -42.39743779750019], [207.296875, 293.5, '2896109', 2, 38.47076812334269, 44.40720662234904, -82.23483398157467]] \n",
      "\n",
      "06241902_proc_01798.png\n"
     ]
    },
    {
     "name": "stderr",
     "output_type": "stream",
     "text": [
      "c:\\python36-32\\lib\\site-packages\\matplotlib\\cbook\\deprecation.py:107: MatplotlibDeprecationWarning: Adding an axes using the same arguments as a previous axes currently reuses the earlier instance.  In a future version, a new instance will always be created and returned.  Meanwhile, this warning can be suppressed, and the future behavior ensured, by passing a unique label to each axes instance.\n",
      "  warnings.warn(message, mplDeprecation, stacklevel=1)\n",
      "c:\\python36-32\\lib\\site-packages\\matplotlib\\pyplot.py:537: RuntimeWarning: More than 20 figures have been opened. Figures created through the pyplot interface (`matplotlib.pyplot.figure`) are retained until explicitly closed and may consume too much memory. (To control this warning, see the rcParam `figure.max_open_warning`).\n",
      "  max_open_warning, RuntimeWarning)\n"
     ]
    },
    {
     "name": "stdout",
     "output_type": "stream",
     "text": [
      "key = coords2904302 value =  [[73.296875, 223.75, '2904302', 11, 111.72287142747452, 92.65527507918802, -55.10929849249518], [293.296875, 192.75, '2904302', 10, 85.0881895447306, 79.30952023559341, -84.93638314696992], [77.99996948242188, 228.3800048828125, '2904302', 11, 113.70136322841516, 106.10372283760829, -43.47247455778707], [292.9999694824219, 192.3800048828125, '2904302', 11, 85.60373823613078, 87.66413177577246, -57.578935237493056], [303.9999694824219, 329.3800048828125, '2904302', 3, 53.14132102234569, 53.85164807134504, -195.06848815949223], [169.99996948242188, 382.3800048828125, '2904302', 3, 33.24154027718932, 56.00892785976178, 88.97696981133217], [292, 191.46665954589844, '2904302', 10, 89.19642377450113, 88.09086218218096, -50.527540151656176], [59, 235.46665954589844, '2904302', 4, 120.48651376813922, 128.06248474865697, 14.4702941000659], [294.796875, 196.75, '2904302', 11, 84.05950273467003, 84.11896337925236, -28.393019421382995], [286.90478515625, 186.960693359375, '2904302', 9, 93.55019804758686, 90.78637776834431, -99.60519905165971], [83.97966003417969, 195.47508239746094, '2904302', 2, 137.4728377923753, 99.63759346146409, -100.66978317939825]] \n",
      "\n",
      "06240907_proc_01703.png\n"
     ]
    },
    {
     "name": "stderr",
     "output_type": "stream",
     "text": [
      "c:\\python36-32\\lib\\site-packages\\matplotlib\\cbook\\deprecation.py:107: MatplotlibDeprecationWarning: Adding an axes using the same arguments as a previous axes currently reuses the earlier instance.  In a future version, a new instance will always be created and returned.  Meanwhile, this warning can be suppressed, and the future behavior ensured, by passing a unique label to each axes instance.\n",
      "  warnings.warn(message, mplDeprecation, stacklevel=1)\n",
      "c:\\python36-32\\lib\\site-packages\\matplotlib\\pyplot.py:537: RuntimeWarning: More than 20 figures have been opened. Figures created through the pyplot interface (`matplotlib.pyplot.figure`) are retained until explicitly closed and may consume too much memory. (To control this warning, see the rcParam `figure.max_open_warning`).\n",
      "  max_open_warning, RuntimeWarning)\n"
     ]
    },
    {
     "name": "stdout",
     "output_type": "stream",
     "text": [
      "key = coords2904303 value =  [[294.5, 193.46665954589844, '2904303', 9, 80.00624975587844, 77.00649323271382, -0.7440592028887067], [71.5, 222.46665954589844, '2904303', 9, 102.95630882019391, 102.00490184299969, -37.43160297841057], [287.1000061035156, 201.14999389648438, '2904303', 9, 97.58073580374356, 90.1387917049023, 40.04973519022815], [291, 193.4666748046875, '2904303', 7, 85.95929934805912, 85.23496934944014, 58.920960364920745], [77, 234.4666748046875, '2904303', 6, 101.21264743103995, 98.08159868191383, -219.20720350496785], [169, 376.4666748046875, '2904303', 2, 70, 43.104524124504614, -3.990913098429772], [289.796875, 194.5, '2904303', 9, 76.69419795525604, 78.89233169326408, -59.53445508054012], [52.796875, 213.5, '2904303', 8, 128.6001555209013, 107.61505470890214, -53.21920924889906], [293.296875, 191.5, '2904303', 9, 81.8413098624405, 78.56844150166147, -42.42085249971658], [57.296875, 224.5, '2904303', 10, 125.99206324209474, 111.77208953938367, -56.309932474020215]] \n",
      "\n",
      "06240907_proc_01704.png\n"
     ]
    },
    {
     "name": "stderr",
     "output_type": "stream",
     "text": [
      "c:\\python36-32\\lib\\site-packages\\matplotlib\\cbook\\deprecation.py:107: MatplotlibDeprecationWarning: Adding an axes using the same arguments as a previous axes currently reuses the earlier instance.  In a future version, a new instance will always be created and returned.  Meanwhile, this warning can be suppressed, and the future behavior ensured, by passing a unique label to each axes instance.\n",
      "  warnings.warn(message, mplDeprecation, stacklevel=1)\n",
      "c:\\python36-32\\lib\\site-packages\\numpy\\core\\fromnumeric.py:2957: RuntimeWarning: Mean of empty slice.\n",
      "  out=out, **kwargs)\n",
      "c:\\python36-32\\lib\\site-packages\\numpy\\core\\_methods.py:80: RuntimeWarning: invalid value encountered in double_scalars\n",
      "  ret = ret.dtype.type(ret / rcount)\n",
      "c:\\python36-32\\lib\\site-packages\\astropy\\units\\quantity.py:639: RuntimeWarning: invalid value encountered in true_divide\n",
      "  result = super().__array_ufunc__(function, method, *arrays, **kwargs)\n",
      "c:\\python36-32\\lib\\site-packages\\matplotlib\\pyplot.py:537: RuntimeWarning: More than 20 figures have been opened. Figures created through the pyplot interface (`matplotlib.pyplot.figure`) are retained until explicitly closed and may consume too much memory. (To control this warning, see the rcParam `figure.max_open_warning`).\n",
      "  max_open_warning, RuntimeWarning)\n"
     ]
    },
    {
     "name": "stdout",
     "output_type": "stream",
     "text": [
      "key = coords2896112 value =  [[198.27073669433594, 125.8071517944336, '2896112', 6, 114.77757123620928, 57.38878561810464, -43.02506283365171], [8.89472770690918, 25.13534927368164, '2896112', 11, 213.93529934660037, 106.96764967330019, -96.84277341263095], [222.7222137451172, 9.558513641357422, '2896112', 5, 111.97750744991728, 55.98875372495864, -13.15754236976149], [209.97752380371094, 137.00535583496094, '2896112', 6, 115.39934043595468, 57.69967021797734, -150.60394258973858], [208.4476261138916, 151.04067993164062, '2896112', 5, 77.84164838059507, 72.72825931154505, 27.012667342855835], [215.796875, 149.75, '2896112', 6, 88.23831367382311, 76.89603370785778, -159.44395478041653], [208.66665649414062, 149.46665954589844, '2896112', 5, 74.43117626371358, 66.49060083951716, -12.154941697222213]] \n",
      "\n",
      "06241902_proc_01801.png\n"
     ]
    },
    {
     "name": "stderr",
     "output_type": "stream",
     "text": [
      "c:\\python36-32\\lib\\site-packages\\matplotlib\\cbook\\deprecation.py:107: MatplotlibDeprecationWarning: Adding an axes using the same arguments as a previous axes currently reuses the earlier instance.  In a future version, a new instance will always be created and returned.  Meanwhile, this warning can be suppressed, and the future behavior ensured, by passing a unique label to each axes instance.\n",
      "  warnings.warn(message, mplDeprecation, stacklevel=1)\n",
      "c:\\python36-32\\lib\\site-packages\\matplotlib\\pyplot.py:537: RuntimeWarning: More than 20 figures have been opened. Figures created through the pyplot interface (`matplotlib.pyplot.figure`) are retained until explicitly closed and may consume too much memory. (To control this warning, see the rcParam `figure.max_open_warning`).\n",
      "  max_open_warning, RuntimeWarning)\n"
     ]
    },
    {
     "name": "stdout",
     "output_type": "stream",
     "text": [
      "key = coords2912499 value =  [[162.796875, 333.75, '2912499', 5, 61.68468205316454, 56.22277118748239, -5.102165252358191], [165.65142822265625, 333.2318420410156, '2912499', 4, 57.98404001889094, 59.03518973613472, -38.81139457285242], [165.89930725097656, 332.0321350097656, '2912499', 4, 64.96261994027017, 65.06236198423625, 36.64566034039352], [159.296875, 321.75, '2912499', 5, 70.76722405181653, 74.63243262818116, -35.1806993612421], [0, 0, '2912499', 0, 0, 0, 0]] \n",
      "\n",
      "06240910_proc_00265.png\n"
     ]
    },
    {
     "name": "stderr",
     "output_type": "stream",
     "text": [
      "c:\\python36-32\\lib\\site-packages\\matplotlib\\cbook\\deprecation.py:107: MatplotlibDeprecationWarning: Adding an axes using the same arguments as a previous axes currently reuses the earlier instance.  In a future version, a new instance will always be created and returned.  Meanwhile, this warning can be suppressed, and the future behavior ensured, by passing a unique label to each axes instance.\n",
      "  warnings.warn(message, mplDeprecation, stacklevel=1)\n",
      "c:\\python36-32\\lib\\site-packages\\matplotlib\\pyplot.py:537: RuntimeWarning: More than 20 figures have been opened. Figures created through the pyplot interface (`matplotlib.pyplot.figure`) are retained until explicitly closed and may consume too much memory. (To control this warning, see the rcParam `figure.max_open_warning`).\n",
      "  max_open_warning, RuntimeWarning)\n"
     ]
    },
    {
     "name": "stdout",
     "output_type": "stream",
     "text": [
      "key = coords2896117 value =  [[0, 0, '2896117', 0, 0, 0, 0], [259, 27.449996948242188, '2896117', 3, 46.06517122512408, 50.32891812864648, -110.95577673063218], [192, 7.4499969482421875, '2896117', 2, 31.76476034853718, 32.69556544854363, -113.42869280874541], [225, 281.45001220703125, '2896117', 1, 53, 43.9089968002003, -120.06858282186245], [0, 0, '2896117', 0, 0, 0, 0], [0, 0, '2896117', 0, 0, 0, 0], [0, 0, '2896117', 0, 0, 0, 0]] \n",
      "\n",
      "06241902_proc_01806.png\n"
     ]
    },
    {
     "name": "stderr",
     "output_type": "stream",
     "text": [
      "c:\\python36-32\\lib\\site-packages\\matplotlib\\cbook\\deprecation.py:107: MatplotlibDeprecationWarning: Adding an axes using the same arguments as a previous axes currently reuses the earlier instance.  In a future version, a new instance will always be created and returned.  Meanwhile, this warning can be suppressed, and the future behavior ensured, by passing a unique label to each axes instance.\n",
      "  warnings.warn(message, mplDeprecation, stacklevel=1)\n",
      "c:\\python36-32\\lib\\site-packages\\matplotlib\\pyplot.py:537: RuntimeWarning: More than 20 figures have been opened. Figures created through the pyplot interface (`matplotlib.pyplot.figure`) are retained until explicitly closed and may consume too much memory. (To control this warning, see the rcParam `figure.max_open_warning`).\n",
      "  max_open_warning, RuntimeWarning)\n"
     ]
    },
    {
     "name": "stdout",
     "output_type": "stream",
     "text": [
      "key = coords2896119 value =  [[255.5, 121.5, '2896119', 2, 210.7225664232476, 105.3612832116238, -163.45701659543747], [203.296875, 151, '2896119', 2, 88.40814442120137, 83.07376240426336, -55.544758875006764], [205.796875, 148.75, '2896119', 3, 66.40030120413611, 63.89053137985315, -129.92039213998544], [33.796875, 129.75, '2896119', 11, 115.26057435220423, 57.630287176102115, -98.48160579402933], [207.796875, 283.75, '2896119', 1, 33.97057550292606, 30.479501308256342, -131.0090869015702], [256.796875, 18.75, '2896119', 11, 56.639209034025185, 28.319604517012593, -132.13759477388825], [208, 146.92999267578125, '2896119', 3, 70.2353187506115, 75.2844596587722, -33.90959232524797], [210, 279.45001220703125, '2896119', 1, 46.87217927711256, 44.94441825657673, 57.72433923887084], [260, 18.449996948242188, '2896119', 1, 44.553338819890925, 47.16990566028302, -184.86451443776053], [99, 198.4499969482422, '2896119', 1, 58.855755878248644, 21.587033144922902, 76.60750224624891], [205.5, 157.96665954589844, '2896119', 2, 70.80254232723568, 69.9714227381436, -59.03624346792648]] \n",
      "\n",
      "06241902_proc_01808.png\n"
     ]
    },
    {
     "name": "stderr",
     "output_type": "stream",
     "text": [
      "c:\\python36-32\\lib\\site-packages\\matplotlib\\cbook\\deprecation.py:107: MatplotlibDeprecationWarning: Adding an axes using the same arguments as a previous axes currently reuses the earlier instance.  In a future version, a new instance will always be created and returned.  Meanwhile, this warning can be suppressed, and the future behavior ensured, by passing a unique label to each axes instance.\n",
      "  warnings.warn(message, mplDeprecation, stacklevel=1)\n",
      "c:\\python36-32\\lib\\site-packages\\matplotlib\\pyplot.py:537: RuntimeWarning: More than 20 figures have been opened. Figures created through the pyplot interface (`matplotlib.pyplot.figure`) are retained until explicitly closed and may consume too much memory. (To control this warning, see the rcParam `figure.max_open_warning`).\n",
      "  max_open_warning, RuntimeWarning)\n"
     ]
    },
    {
     "name": "stdout",
     "output_type": "stream",
     "text": [
      "key = coords2896120 value =  [[211, 148.46665954589844, '2896120', 3, 62.289646009589745, 62.369864518050704, -48.90049374238189], [212.17001342773438, 148.4499969482422, '2896120', 3, 56.08029957123981, 62.20128616033595, -265.3893506813394], [212.796875, 147.75, '2896120', 3, 55.97320787662612, 67.94115100585212, -222.6140559696112], [212.796875, 149.5, '2896120', 4, 68.6804193347711, 56.32051136131489, -163.49563861824498]] \n",
      "\n",
      "06241902_proc_01809.png\n"
     ]
    },
    {
     "name": "stderr",
     "output_type": "stream",
     "text": [
      "c:\\python36-32\\lib\\site-packages\\matplotlib\\cbook\\deprecation.py:107: MatplotlibDeprecationWarning: Adding an axes using the same arguments as a previous axes currently reuses the earlier instance.  In a future version, a new instance will always be created and returned.  Meanwhile, this warning can be suppressed, and the future behavior ensured, by passing a unique label to each axes instance.\n",
      "  warnings.warn(message, mplDeprecation, stacklevel=1)\n",
      "c:\\python36-32\\lib\\site-packages\\matplotlib\\pyplot.py:537: RuntimeWarning: More than 20 figures have been opened. Figures created through the pyplot interface (`matplotlib.pyplot.figure`) are retained until explicitly closed and may consume too much memory. (To control this warning, see the rcParam `figure.max_open_warning`).\n",
      "  max_open_warning, RuntimeWarning)\n"
     ]
    },
    {
     "name": "stdout",
     "output_type": "stream",
     "text": [
      "key = coords2906361 value =  [[123.5, 109.46666717529297, '2906361', 11, 85.44589556037957, 80.77747210701756, -58.67130713219583], [113, 84.46665954589844, '2906361', 1, 147.73286702694156, 73.86643351347078, -60.832386620422206], [117.296875, 117.75, '2906361', 10, 76.57675887630658, 77.62087348130012, 38.198685176018444], [316.296875, 144.75, '2906361', 1, 39.66106403010388, 38.897300677553446, -43.958373323990024], [115.296875, 107.75, '2906361', 1, 75.27283706623525, 80.91971329657564, -39.98688624496419], [124.796875, 106.75, '2906361', 11, 92, 84.09518416651456, -87.27368900609373], [316.796875, 149.75, '2906361', 1, 75.43208866258443, 67.4166151627327, -249.14554196042167], [121.8800048828125, 109.260009765625, '2906361', 11, 91.93475947648963, 92.69843580125827, -47.185800806775596], [320.296875, 144.5, '2906361', 2, 37.48332962798263, 38.2099463490856, -227.12109639666144], [123.296875, 106.5, '2906361', 9, 88.60022573334675, 78.85429601486528, -77.5500034921934]] \n",
      "\n",
      "06240909_proc_01762.png\n"
     ]
    },
    {
     "name": "stderr",
     "output_type": "stream",
     "text": [
      "c:\\python36-32\\lib\\site-packages\\matplotlib\\cbook\\deprecation.py:107: MatplotlibDeprecationWarning: Adding an axes using the same arguments as a previous axes currently reuses the earlier instance.  In a future version, a new instance will always be created and returned.  Meanwhile, this warning can be suppressed, and the future behavior ensured, by passing a unique label to each axes instance.\n",
      "  warnings.warn(message, mplDeprecation, stacklevel=1)\n",
      "c:\\python36-32\\lib\\site-packages\\matplotlib\\pyplot.py:537: RuntimeWarning: More than 20 figures have been opened. Figures created through the pyplot interface (`matplotlib.pyplot.figure`) are retained until explicitly closed and may consume too much memory. (To control this warning, see the rcParam `figure.max_open_warning`).\n",
      "  max_open_warning, RuntimeWarning)\n"
     ]
    },
    {
     "name": "stdout",
     "output_type": "stream",
     "text": [
      "key = coords2912505 value =  [[0, 0, '2912505', 0, 0, 0, 0], [0, 0, '2912505', 0, 0, 0, 0], [463.296875, 282.75, '2912505', 1, 451.80637445702337, 225.90318722851168, 146.09889924964233], [0, 0, '2912505', 0, 0, 0, 0], [124.32000732421875, 138.45001220703125, '2912505', 11, 132.87964479181903, 66.43982239590952, -34.88604785420828], [317.32000732421875, 303.45001220703125, '2912505', 2, 53.150729063673246, 26.575364531836623, -11.944177188446332]] \n",
      "\n",
      "06240910_proc_00271.png\n"
     ]
    },
    {
     "name": "stderr",
     "output_type": "stream",
     "text": [
      "c:\\python36-32\\lib\\site-packages\\matplotlib\\cbook\\deprecation.py:107: MatplotlibDeprecationWarning: Adding an axes using the same arguments as a previous axes currently reuses the earlier instance.  In a future version, a new instance will always be created and returned.  Meanwhile, this warning can be suppressed, and the future behavior ensured, by passing a unique label to each axes instance.\n",
      "  warnings.warn(message, mplDeprecation, stacklevel=1)\n",
      "c:\\python36-32\\lib\\site-packages\\matplotlib\\pyplot.py:537: RuntimeWarning: More than 20 figures have been opened. Figures created through the pyplot interface (`matplotlib.pyplot.figure`) are retained until explicitly closed and may consume too much memory. (To control this warning, see the rcParam `figure.max_open_warning`).\n",
      "  max_open_warning, RuntimeWarning)\n"
     ]
    },
    {
     "name": "stdout",
     "output_type": "stream",
     "text": [
      "key = coords2904315 value =  [[72.296875, 208.75, '2904315', 11, 106.4377752492037, 95.46203433826454, -67.19545952867895], [293.296875, 191.75, '2904315', 8, 68.73136110975832, 70.21395872616783, -79.33021719550332], [306.296875, 328.75, '2904315', 2, 52.80151512977634, 58.180752831155424, -65.63754698468782], [74, 233.760009765625, '2904315', 1, 98.2344135219425, 100.22474744293447, 12.094757077012105], [293, 190.760009765625, '2904315', 1, 76.23647421018367, 64.4980619863884, -7.125016348901795], [308, 326.760009765625, '2904315', 1, 32.14031735997639, 26.30589287593181, -8.746162262555202], [295, 192.760009765625, '2904315', 8, 76.05918747922567, 74.2024258363566, -52.66680426181417], [311, 327.760009765625, '2904315', 2, 57.201398584300364, 55.00909015790027, -62.96913974015702], [71, 214.760009765625, '2904315', 10, 123.43419299367578, 114.49017425089369, -62.987334652061456], [311.296875, 329.75, '2904315', 1, 50.08991914547278, 52.478567053607705, -239.03624346792648], [289.296875, 190.75, '2904315', 8, 71.06335201775947, 73.24616030891995, -255.77403610124819], [69.296875, 208.75, '2904315', 11, 124.67958934805648, 119.4361754243663, -258.407824589709], [311.296875, 328.75, '2904315', 1, 37.013511046643494, 36.05551275463989, 86.82016988013575], [69.296875, 214.75, '2904315', 1, 97.02061636580135, 96, 1.181188913326638], [290.296875, 191.75, '2904315', 8, 62.96824596572466, 61.91122676865643, -58.877529803208006], [307.8833312988281, 329.58331298828125, '2904315', 1, 37.21558813185679, 29.698484809834994, 45], [291.8833312988281, 193.5833282470703, '2904315', 8, 74.70607730191752, 73.87827826905551, -140.49232455712743], [66.88333129882812, 213.3333282470703, '2904315', 11, 108.5198580592553, 100.2175758038479, -69.71161194935436]] \n",
      "\n",
      "06240907_proc_01716.png\n"
     ]
    },
    {
     "name": "stderr",
     "output_type": "stream",
     "text": [
      "c:\\python36-32\\lib\\site-packages\\matplotlib\\cbook\\deprecation.py:107: MatplotlibDeprecationWarning: Adding an axes using the same arguments as a previous axes currently reuses the earlier instance.  In a future version, a new instance will always be created and returned.  Meanwhile, this warning can be suppressed, and the future behavior ensured, by passing a unique label to each axes instance.\n",
      "  warnings.warn(message, mplDeprecation, stacklevel=1)\n",
      "c:\\python36-32\\lib\\site-packages\\matplotlib\\pyplot.py:537: RuntimeWarning: More than 20 figures have been opened. Figures created through the pyplot interface (`matplotlib.pyplot.figure`) are retained until explicitly closed and may consume too much memory. (To control this warning, see the rcParam `figure.max_open_warning`).\n",
      "  max_open_warning, RuntimeWarning)\n"
     ]
    },
    {
     "name": "stdout",
     "output_type": "stream",
     "text": [
      "key = coords2904318 value =  [[289.296875, 189.75, '2904318', 6, 72.13875518748573, 70.178344238091, -49.044485574181095], [315.296875, 328.75, '2904318', 1, 53.85164807134504, 53.41348144429457, -38.15722658736905], [77.296875, 204.75, '2904318', 10, 116.46887996370532, 102.04410811016969, -65.69545073406329], [292.296875, 195.75, '2904318', 7, 69.00724599634447, 71, 0], [71.296875, 202.75, '2904318', 11, 114.17968295629481, 100.57832768544127, -72.64597536373867], [306.296875, 323.75, '2904318', 1, 56.85068161420758, 58.82176467941097, -54.6887865603668], [291.296875, 195.75, '2904318', 6, 62.39390995922599, 61.61168720299745, -54.24611274556325], [310.296875, 330.75, '2904318', 1, 34.40930106817051, 33.301651610693426, -131.34777721969368], [74.296875, 208.75, '2904318', 11, 107.2240644631605, 96.77293009927931, -66.87915133757528], [311.296875, 325.5, '2904318', 1, 62.80127387243033, 63.655321851358195, -43.72696997994329], [291.296875, 192.5, '2904318', 7, 79.05694150420949, 82.365041127896, -55.30484646876604], [76.296875, 204.5, '2904318', 11, 116.01724009818541, 112.44554237496477, -38.50065372034543], [289.9750061035156, 192.39999389648438, '2904318', 7, 79.19595949289332, 79.20858539325141, -46.02303018866783], [305.9750061035156, 332.3999938964844, '2904318', 1, 61.5223536610881, 60.802960454241045, -53.695502877424765], [64.97500610351562, 208.39999389648438, '2904318', 4, 120.60264729746321, 116.50320829631723, -32.73522514489732]] \n",
      "\n",
      "06240907_proc_01719.png\n"
     ]
    },
    {
     "name": "stderr",
     "output_type": "stream",
     "text": [
      "c:\\python36-32\\lib\\site-packages\\matplotlib\\cbook\\deprecation.py:107: MatplotlibDeprecationWarning: Adding an axes using the same arguments as a previous axes currently reuses the earlier instance.  In a future version, a new instance will always be created and returned.  Meanwhile, this warning can be suppressed, and the future behavior ensured, by passing a unique label to each axes instance.\n",
      "  warnings.warn(message, mplDeprecation, stacklevel=1)\n",
      "c:\\python36-32\\lib\\site-packages\\matplotlib\\pyplot.py:537: RuntimeWarning: More than 20 figures have been opened. Figures created through the pyplot interface (`matplotlib.pyplot.figure`) are retained until explicitly closed and may consume too much memory. (To control this warning, see the rcParam `figure.max_open_warning`).\n",
      "  max_open_warning, RuntimeWarning)\n"
     ]
    },
    {
     "name": "stdout",
     "output_type": "stream",
     "text": [
      "key = coords2896128 value =  [[212.3020782470703, 150.66665649414062, '2896128', 3, 69.4262084020593, 71.449266694501, -43.29864068512025], [41.30207824707031, 329.9947814941406, '2896128', 0, 54.12947441089743, 50.32891812864648, -40.971736333514855], [213.69998168945312, 149.9499969482422, '2896128', 6, 79.88116173416608, 69.33974329343886, -145.71312302279105], [212.5, 141.46665954589844, '2896128', 3, 74.16872656315464, 81.15417426109393, -86.46770541610911], [22.796875, 150.75, '2896128', 11, 112.16059914247963, 56.08029957123981, -93.0664855011259], [212.796875, 151.75, '2896128', 4, 69.02897942168927, 65.27633568147036, 5.273895957351783], [40.796875, 327.75, '2896128', 1, 61.61168720299745, 30.805843601498726, -13.134022306396323], [217.296875, 151.75, '2896128', 4, 77.02596964660685, 92.34717104492157, -265.0302592718897], [54.296875, 330.75, '2896128', 1, 78.40918313565064, 64.28063471995279, -264.64417495714486], [219.3125, 154.75, '2896128', 11, 83.81527307120105, 72.94518489934754, -151.326853510565], [43.3125, 338.75, '2896128', 6, 52.392747589718944, 45.221676218380054, -161.96571443287013], [91.3125, 199.75, '2896128', 9, 63.50590523722971, 31.752952618614856, -116.16156644201925]] \n",
      "\n",
      "06241902_proc_01817.png\n"
     ]
    },
    {
     "name": "stderr",
     "output_type": "stream",
     "text": [
      "c:\\python36-32\\lib\\site-packages\\matplotlib\\cbook\\deprecation.py:107: MatplotlibDeprecationWarning: Adding an axes using the same arguments as a previous axes currently reuses the earlier instance.  In a future version, a new instance will always be created and returned.  Meanwhile, this warning can be suppressed, and the future behavior ensured, by passing a unique label to each axes instance.\n",
      "  warnings.warn(message, mplDeprecation, stacklevel=1)\n",
      "c:\\python36-32\\lib\\site-packages\\matplotlib\\pyplot.py:537: RuntimeWarning: More than 20 figures have been opened. Figures created through the pyplot interface (`matplotlib.pyplot.figure`) are retained until explicitly closed and may consume too much memory. (To control this warning, see the rcParam `figure.max_open_warning`).\n",
      "  max_open_warning, RuntimeWarning)\n"
     ]
    },
    {
     "name": "stdout",
     "output_type": "stream",
     "text": [
      "key = coords2896130 value =  [[37, 137.69000244140625, '2896130', 1, 115.03912377969506, 57.0087712549569, 88.50566640873346], [215, 158.69000244140625, '2896130', 1, 82.03657720797473, 41.018288603987365, 44.012239600360196], [214.78636169433594, 158.43292236328125, '2896130', 1, 75.99906560709245, 37.999532803546224, -145.44561714064346], [220.296875, 149.5, '2896130', 3, 47.80167361086848, 44.598206241955516, 37.34934904464059], [210.796875, 158.5, '2896130', 2, 67.4166151627327, 70.2922470831599, -50.1944289077348], [5.796875, 141.5, '2896130', 11, 121.26417442921878, 97.18538984847466, -86.46044083145004], [217.5, 156.25, '2896130', 1, 53.075418038862395, 37.64306044943742, -129.6106882400266]] \n",
      "\n",
      "06241902_proc_01819.png\n"
     ]
    },
    {
     "name": "stderr",
     "output_type": "stream",
     "text": [
      "c:\\python36-32\\lib\\site-packages\\matplotlib\\cbook\\deprecation.py:107: MatplotlibDeprecationWarning: Adding an axes using the same arguments as a previous axes currently reuses the earlier instance.  In a future version, a new instance will always be created and returned.  Meanwhile, this warning can be suppressed, and the future behavior ensured, by passing a unique label to each axes instance.\n",
      "  warnings.warn(message, mplDeprecation, stacklevel=1)\n",
      "c:\\python36-32\\lib\\site-packages\\matplotlib\\pyplot.py:537: RuntimeWarning: More than 20 figures have been opened. Figures created through the pyplot interface (`matplotlib.pyplot.figure`) are retained until explicitly closed and may consume too much memory. (To control this warning, see the rcParam `figure.max_open_warning`).\n",
      "  max_open_warning, RuntimeWarning)\n"
     ]
    },
    {
     "name": "stdout",
     "output_type": "stream",
     "text": [
      "key = coords2906371 value =  [[104.796875, 111.75, '2906371', 11, 107.20074626605917, 109.04127658827184, -36.656108415966905], [111.296875, 114.75, '2906371', 11, 93.53608929178085, 90.02777349240623, 12.183656585987407], [96.91521453857422, 113.3397216796875, '2906371', 3, 98.31951154588215, 110.26956746734973, -105.47864093404452], [111.62821960449219, 120.30632781982422, '2906371', 11, 94.94587619256271, 90.40906750449474, -15.478647699840764], [104, 107.46665954589844, '2906371', 11, 105.64563407921787, 103.94229168149026, -59.98163257239092]] \n",
      "\n",
      "06240909_proc_01772.png\n"
     ]
    },
    {
     "name": "stderr",
     "output_type": "stream",
     "text": [
      "c:\\python36-32\\lib\\site-packages\\matplotlib\\cbook\\deprecation.py:107: MatplotlibDeprecationWarning: Adding an axes using the same arguments as a previous axes currently reuses the earlier instance.  In a future version, a new instance will always be created and returned.  Meanwhile, this warning can be suppressed, and the future behavior ensured, by passing a unique label to each axes instance.\n",
      "  warnings.warn(message, mplDeprecation, stacklevel=1)\n",
      "c:\\python36-32\\lib\\site-packages\\matplotlib\\pyplot.py:537: RuntimeWarning: More than 20 figures have been opened. Figures created through the pyplot interface (`matplotlib.pyplot.figure`) are retained until explicitly closed and may consume too much memory. (To control this warning, see the rcParam `figure.max_open_warning`).\n",
      "  max_open_warning, RuntimeWarning)\n"
     ]
    },
    {
     "name": "stdout",
     "output_type": "stream",
     "text": [
      "key = coords2896132 value =  [[19.19897221776136, 151.94732616026988, '2896132', 4, 118.66333444512368, 66.83517356020772, -100.20397372173169], [211.27091697446605, 295.34350409506993, '2896132', 0, 50.81541649155701, 37.67194159317807, 77.9052429229879], [229.6887746908624, 165.10293881483867, '2896132', 0, 49.451806227881434, 38.15127669824957, -133.60281897270363], [256, 32.23125100369359, '2896132', 2, 48.1754152581133, 32.96787081858763, -145.00797980144134], [195.48418178898348, -7.235586960012845, '2896132', 0, 34.431533346219126, 29.825836816251147, -138.57633437499734], [231.6695098876953, 153.68714904785156, '2896132', 2, 52.15359995382138, 46.78689590419448, 28.30075133647007], [19.35943031311035, 125.16787719726562, '2896132', 4, 115.68532679315258, 81.36864465433092, -85.53283949502222], [246.24600219726562, 2.2181568145751953, '2896132', 2, 68.96069041009939, 73.35224347525205, -198.12184897188104], [203.15023803710938, 282.3406982421875, '2896132', 1, 52.72042467649305, 53.61185869213749, 6.788978044356526], [343.8125, 158.75, '2896132', 1, 27.018512172212592, 13.509256086106296, -87.87890360333854], [342.8125, 202.75, '2896132', 1, 168.24089871371942, 84.12044935685971, -176.9335144988741], [0, 0, '2896132', 0, 0, 0, 0], [0, 0, '2896132', 0, 0, 0, 0]] \n",
      "\n",
      "key = coords2912517 value =  [[327, 138.4666748046875, '2912517', 2, 31.064449134018133, 33.301656650884766, -48.65221292611245], [329.5, 140.4666748046875, '2912517', 3, 51.10772935672255, 41.23105921681716, -67.16633605089488], [0, 0, '2912517', 0, 0, 0, 0], [327.796875, 141.75, '2912517', 3, 28.635642126552707, 27.85677655436824, -248.96248897457818], [329.5, 140.75, '2912517', 3, 36.124783736376884, 34.058772731852805, -139.7636416907262], [331.796875, 140.5, '2912517', 3, 94.26027795418386, 47.13013897709193, -94.25884612217035]] \n",
      "\n",
      "06240910_proc_00283.png\n"
     ]
    },
    {
     "name": "stderr",
     "output_type": "stream",
     "text": [
      "c:\\python36-32\\lib\\site-packages\\matplotlib\\cbook\\deprecation.py:107: MatplotlibDeprecationWarning: Adding an axes using the same arguments as a previous axes currently reuses the earlier instance.  In a future version, a new instance will always be created and returned.  Meanwhile, this warning can be suppressed, and the future behavior ensured, by passing a unique label to each axes instance.\n",
      "  warnings.warn(message, mplDeprecation, stacklevel=1)\n",
      "c:\\python36-32\\lib\\site-packages\\matplotlib\\cbook\\deprecation.py:107: MatplotlibDeprecationWarning: Adding an axes using the same arguments as a previous axes currently reuses the earlier instance.  In a future version, a new instance will always be created and returned.  Meanwhile, this warning can be suppressed, and the future behavior ensured, by passing a unique label to each axes instance.\n",
      "  warnings.warn(message, mplDeprecation, stacklevel=1)\n",
      "c:\\python36-32\\lib\\site-packages\\matplotlib\\pyplot.py:537: RuntimeWarning: More than 20 figures have been opened. Figures created through the pyplot interface (`matplotlib.pyplot.figure`) are retained until explicitly closed and may consume too much memory. (To control this warning, see the rcParam `figure.max_open_warning`).\n",
      "  max_open_warning, RuntimeWarning)\n"
     ]
    },
    {
     "name": "stdout",
     "output_type": "stream",
     "text": [
      "key = coords2904326 value =  [[290.796875, 191, '2904326', 6, 158.31929762350515, 79.15964881175258, -9.819300638757898], [308.796875, 335, '2904326', 1, 118.1397477566293, 59.06987387831465, -15.212582868620496], [80.796875, 212, '2904326', 8, 217.70622407271685, 108.85311203635843, -38.65980825409009], [181.796875, 379, '2904326', 0, 83.6719785830358, 41.8359892915179, -24.727314386690136], [292.5, 191.46665954589844, '2904326', 8, 79.30952023559341, 78.44743462982075, -252.95096902789018], [308.5, 335.4666748046875, '2904326', 1, 52.55473337388365, 51.97114584074513, -258.9062769884422], [80.5, 220.46665954589844, '2904326', 11, 114.49017425089369, 100.89598604503551, -256.2392148882087], [295.2264709472656, 192.0201873779297, '2904326', 8, 78.27843472852194, 78.14934629854025, -188.58362231496602], [88.19049072265625, 222.63818359375, '2904326', 11, 99.59592632013465, 85.60397027107413, -85.11480186748484], [309.0774841308594, 333.4461975097656, '2904326', 2, 54.12796030541458, 55.40878839942417, 32.64461688449197], [309, 331.4666748046875, '2904326', 2, 46.238512086787566, 45.221676218380054, -18.034285567129857], [89, 216.46665954589844, '2904326', 4, 101.78899744078434, 105.11898020814318, -10.757967088390005], [292, 192.46665954589844, '2904326', 8, 85.58621384311844, 83.15046602394962, 3.447386851865204], [295.796875, 193.75, '2904326', 8, 82.41965784932621, 84.29116205154607, -138.3664606634298], [81.796875, 216.75, '2904326', 11, 121.6552506059644, 116.43023662262307, -94.92710994764901], [236.96875, 126.25, '2904326', 1, 125.8729518204765, 62.93647591023825, -44.35625428582462]] \n",
      "\n",
      "06240907_proc_01727.png\n"
     ]
    },
    {
     "name": "stderr",
     "output_type": "stream",
     "text": [
      "c:\\python36-32\\lib\\site-packages\\matplotlib\\cbook\\deprecation.py:107: MatplotlibDeprecationWarning: Adding an axes using the same arguments as a previous axes currently reuses the earlier instance.  In a future version, a new instance will always be created and returned.  Meanwhile, this warning can be suppressed, and the future behavior ensured, by passing a unique label to each axes instance.\n",
      "  warnings.warn(message, mplDeprecation, stacklevel=1)\n",
      "c:\\python36-32\\lib\\site-packages\\matplotlib\\pyplot.py:537: RuntimeWarning: More than 20 figures have been opened. Figures created through the pyplot interface (`matplotlib.pyplot.figure`) are retained until explicitly closed and may consume too much memory. (To control this warning, see the rcParam `figure.max_open_warning`).\n",
      "  max_open_warning, RuntimeWarning)\n"
     ]
    },
    {
     "name": "stdout",
     "output_type": "stream",
     "text": [
      "key = coords2906374 value =  [[311.796875, 138.75, '2906374', 1, 45.17742799230607, 43.46262762420146, -27.699472808055], [116.796875, 124.75, '2906374', 11, 82.37718130647589, 102.41581909060729, 33.11134196037203], [109.77483367919922, 117.22232818603516, '2906374', 11, 86.6502784040607, 89.38942096216903, 52.63333058723131], [307.8999938964844, 138.83334350585938, '2906374', 1, 55.56749766185523, 60.343855275667174, -59.51117903861094], [98.9000015258789, 120.21666717529297, '2906374', 11, 107.9351647350254, 108.45274828906021, -57.042572950163006], [108.296875, 115, '2906374', 11, 93.60021367496978, 98.18350166906862, -236.63363399894044], [114.96875, 125.609375, '2906374', 10, 91.80958555619343, 92.11405973031478, -159.0071466268858]] \n",
      "\n",
      "06240909_proc_01775.png\n"
     ]
    },
    {
     "name": "stderr",
     "output_type": "stream",
     "text": [
      "c:\\python36-32\\lib\\site-packages\\matplotlib\\cbook\\deprecation.py:107: MatplotlibDeprecationWarning: Adding an axes using the same arguments as a previous axes currently reuses the earlier instance.  In a future version, a new instance will always be created and returned.  Meanwhile, this warning can be suppressed, and the future behavior ensured, by passing a unique label to each axes instance.\n",
      "  warnings.warn(message, mplDeprecation, stacklevel=1)\n",
      "c:\\python36-32\\lib\\site-packages\\matplotlib\\pyplot.py:537: RuntimeWarning: More than 20 figures have been opened. Figures created through the pyplot interface (`matplotlib.pyplot.figure`) are retained until explicitly closed and may consume too much memory. (To control this warning, see the rcParam `figure.max_open_warning`).\n",
      "  max_open_warning, RuntimeWarning)\n"
     ]
    },
    {
     "name": "stdout",
     "output_type": "stream",
     "text": [
      "key = coords2904328 value =  [[292, 196.4666748046875, '2904328', 11, 74.10803687286858, 70.03570517957252, 80.13419305691565], [99, 229.4666748046875, '2904328', 9, 95.524865872714, 79.30952023559341, -264.9363831469699], [291.796875, 192.75, '2904328', 9, 76.05918747922567, 72, 0], [100.796875, 229.75, '2904328', 11, 92.00543462209176, 79.30952023559341, 48.0664855011259], [99.796875, 236.75, '2904328', 10, 96.04165762834376, 85.70297544426332, -160.93080646265187], [302.796875, 198.75, '2904328', 9, 69.63476143421474, 75.58438992278762, -244.1129737336733], [290.796875, 192.5, '2904328', 9, 88.05112151472007, 83.38465086573187, -264.49452214202165], [100.796875, 224.5, '2904328', 10, 112.58774356030055, 102.3132444994293, 85.51539399045538], [0, 0, '2904328', 0, 0, 0, 0]] \n",
      "\n",
      "06240907_proc_01729.png\n"
     ]
    },
    {
     "name": "stderr",
     "output_type": "stream",
     "text": [
      "c:\\python36-32\\lib\\site-packages\\matplotlib\\cbook\\deprecation.py:107: MatplotlibDeprecationWarning: Adding an axes using the same arguments as a previous axes currently reuses the earlier instance.  In a future version, a new instance will always be created and returned.  Meanwhile, this warning can be suppressed, and the future behavior ensured, by passing a unique label to each axes instance.\n",
      "  warnings.warn(message, mplDeprecation, stacklevel=1)\n",
      "c:\\python36-32\\lib\\site-packages\\matplotlib\\pyplot.py:537: RuntimeWarning: More than 20 figures have been opened. Figures created through the pyplot interface (`matplotlib.pyplot.figure`) are retained until explicitly closed and may consume too much memory. (To control this warning, see the rcParam `figure.max_open_warning`).\n",
      "  max_open_warning, RuntimeWarning)\n"
     ]
    },
    {
     "name": "stdout",
     "output_type": "stream",
     "text": [
      "key = coords2904329 value =  [[290.296875, 189, '2904329', 7, 93.47726996441435, 88.59599313738742, -65.31519562673208], [85.296875, 224, '2904329', 4, 125.15989773086265, 108.58291762519553, -56.45628152870192], [294.203125, 194.25, '2904329', 8, 69.52697318307479, 72.62231062146122, -231.70983680775691], [100.203125, 236.25, '2904329', 5, 89.81091247727082, 74.41102068914255, 48.81407483429035], [279.1171875, 122.17500305175781, '2904329', 4, 100.09846086566903, 50.04923043283451, -176.3915297339104], [108.11717987060547, 229.27500915527344, '2904329', 11, 77.22189230354321, 38.61094615177161, -36.46924052565568], [61.317176818847656, 64.57500457763672, '2904329', 5, 104.29521483492643, 52.14760741746321, -39.045891881639825], [291.9053955078125, 194.72470092773438, '2904329', 1, 73.4798007404581, 73.26377482763431, 9.130184371954314], [100.7328987121582, 228.30905151367188, '2904329', 4, 89.58519788098702, 65.92765566728987, 61.58735062305839], [291.296875, 189.75, '2904329', 8, 75.92759709091287, 81.05553651663777, -51.00900595749452], [95.296875, 231.75, '2904329', 7, 85, 102.07840124139877, -34.62415507994895], [37.296875, 150.75, '2904329', 3, 40.45985664828782, 72.86288492778748, -223.3316625517067], [98.63722229003906, 226.87051391601562, '2904329', 5, 110.2888158768935, 82.46433792914112, -116.91656857860895], [289.81707763671875, 190.67079162597656, '2904329', 1, 71.8405041601557, 82.7741073491564, -86.08174276378253], [312.44189453125, 332.07598876953125, '2904329', 1, 40.78749917620005, 45.37675149315, -184.28916965972186], [288.6999816894531, 194.14999389648438, '2904329', 1, 73.53910524340094, 78.64477096412705, -48.60846885256634], [100.69999694824219, 225.14999389648438, '2904329', 1, 96.60745087789309, 75.7429864739964, -137.67542665602915]] \n",
      "\n",
      "06240907_proc_01730.png\n"
     ]
    },
    {
     "name": "stderr",
     "output_type": "stream",
     "text": [
      "c:\\python36-32\\lib\\site-packages\\matplotlib\\cbook\\deprecation.py:107: MatplotlibDeprecationWarning: Adding an axes using the same arguments as a previous axes currently reuses the earlier instance.  In a future version, a new instance will always be created and returned.  Meanwhile, this warning can be suppressed, and the future behavior ensured, by passing a unique label to each axes instance.\n",
      "  warnings.warn(message, mplDeprecation, stacklevel=1)\n",
      "c:\\python36-32\\lib\\site-packages\\matplotlib\\pyplot.py:537: RuntimeWarning: More than 20 figures have been opened. Figures created through the pyplot interface (`matplotlib.pyplot.figure`) are retained until explicitly closed and may consume too much memory. (To control this warning, see the rcParam `figure.max_open_warning`).\n",
      "  max_open_warning, RuntimeWarning)\n"
     ]
    },
    {
     "name": "stdout",
     "output_type": "stream",
     "text": [
      "key = coords2896138 value =  [[211.6354217529297, 145.4166717529297, '2896138', 6, 73.43022570355639, 73.23932556908716, -55.00796806634992], [196.8125, 71.75, '2896138', 11, 140.81193131265547, 70.40596565632774, -78.5304696671331], [206.796875, 148.75, '2896138', 6, 71.58910531638176, 73.53910524340094, -28.35496178532406], [212.546875, 149.75, '2896138', 6, 70.06425622241343, 75.05997601918082, -177.54596832547293], [7.546875, 144.75, '2896138', 11, 109.45775440780794, 73.10950690573696, -84.75818005302044], [207.296875, 140.5, '2896138', 5, 71.386273190299, 74.96665925596525, -78.69006752597979], [206.8125, 146.5, '2896138', 6, 67.11929677819934, 68, 176.58341180822867], [221.5, 142.9666748046875, '2896138', 6, 92.65527507918802, 75.7099729229908, -167.79953127261922], [98.5, 87.96666717529297, '2896138', 2, 76.53757247260981, 38.268786236304905, 107.48799737614856], [6.5, 125.96666717529297, '2896138', 11, 113.37107874304357, 91.23595782365635, -63.99665415548856], [276.5, 6.966667175292969, '2896138', 6, 73.10950690573696, 36.55475345286848, -139.9937439858234], [200.5, -17.03333282470703, '2896138', 6, 65.94694837519019, 32.973474187595095, -130.69553103949204], [216.5, 275.9666748046875, '2896138', 1, 42.42640687119285, 39.05124837953327, -177.06432655357884]] \n",
      "\n",
      "06241902_proc_01827.png\n"
     ]
    },
    {
     "name": "stderr",
     "output_type": "stream",
     "text": [
      "c:\\python36-32\\lib\\site-packages\\matplotlib\\cbook\\deprecation.py:107: MatplotlibDeprecationWarning: Adding an axes using the same arguments as a previous axes currently reuses the earlier instance.  In a future version, a new instance will always be created and returned.  Meanwhile, this warning can be suppressed, and the future behavior ensured, by passing a unique label to each axes instance.\n",
      "  warnings.warn(message, mplDeprecation, stacklevel=1)\n",
      "c:\\python36-32\\lib\\site-packages\\matplotlib\\pyplot.py:537: RuntimeWarning: More than 20 figures have been opened. Figures created through the pyplot interface (`matplotlib.pyplot.figure`) are retained until explicitly closed and may consume too much memory. (To control this warning, see the rcParam `figure.max_open_warning`).\n",
      "  max_open_warning, RuntimeWarning)\n"
     ]
    },
    {
     "name": "stdout",
     "output_type": "stream",
     "text": [
      "key = coords2896139 value =  [[212, 142, '2896139', 6, 75.71657678474378, 69.1158447825099, -31.390268104187797], [210.00003051757812, 141.69000244140625, '2896139', 6, 77.92945527847606, 76.79192665899195, -98.85795876362836], [209.296875, 143.75, '2896139', 6, 91.19758768739445, 85.21150157109074, -3.772283609379837], [215.296875, 145.5, '2896139', 6, 74.43117626371358, 71.28990110808122, -6.1701750950296095], [10.296875, 136.5, '2896139', 11, 86.68333173107735, 108.0856142139184, -11.309932474020215], [209.01651000976562, 148.31768798828125, '2896139', 5, 60.57181174047749, 63.50656956341449, -88.89198538415386]] \n",
      "\n",
      "06241902_proc_01828.png\n"
     ]
    },
    {
     "name": "stderr",
     "output_type": "stream",
     "text": [
      "c:\\python36-32\\lib\\site-packages\\matplotlib\\cbook\\deprecation.py:107: MatplotlibDeprecationWarning: Adding an axes using the same arguments as a previous axes currently reuses the earlier instance.  In a future version, a new instance will always be created and returned.  Meanwhile, this warning can be suppressed, and the future behavior ensured, by passing a unique label to each axes instance.\n",
      "  warnings.warn(message, mplDeprecation, stacklevel=1)\n",
      "c:\\python36-32\\lib\\site-packages\\matplotlib\\pyplot.py:537: RuntimeWarning: More than 20 figures have been opened. Figures created through the pyplot interface (`matplotlib.pyplot.figure`) are retained until explicitly closed and may consume too much memory. (To control this warning, see the rcParam `figure.max_open_warning`).\n",
      "  max_open_warning, RuntimeWarning)\n"
     ]
    },
    {
     "name": "stdout",
     "output_type": "stream",
     "text": [
      "key = coords2883850 value =  [[270.3289489746094, 60.52421569824219, '2883850', None, 0, 0, 0], [191.74253845214844, 141.6456756591797, '2883850', 6, 93.91650323654846, 94.38577739418243, 14.782724923105945], [196.796875, 153.75, '2883850', 7, 84.8528137423857, 82.73451516749222, -172.35959323897325], [203.296875, 146.75, '2883850', 6, 74.94664769020693, 81.34494452638098, -71.32329826780989], [201.15936279296875, 148.41542053222656, '2883850', 11, 67.80366324389325, 68.30529399382206, -21.595315903561442], [206.32000732421875, 143.9600067138672, '2883850', 5, 142.9475428260311, 71.47377141301556, -42.73204546409417]] \n",
      "\n",
      "06241902_proc_00851.png\n"
     ]
    },
    {
     "name": "stderr",
     "output_type": "stream",
     "text": [
      "c:\\python36-32\\lib\\site-packages\\matplotlib\\colors.py:504: RuntimeWarning: invalid value encountered in less\n",
      "  xa[xa < 0] = -1\n",
      "c:\\python36-32\\lib\\site-packages\\matplotlib\\cbook\\deprecation.py:107: MatplotlibDeprecationWarning: Adding an axes using the same arguments as a previous axes currently reuses the earlier instance.  In a future version, a new instance will always be created and returned.  Meanwhile, this warning can be suppressed, and the future behavior ensured, by passing a unique label to each axes instance.\n",
      "  warnings.warn(message, mplDeprecation, stacklevel=1)\n",
      "c:\\python36-32\\lib\\site-packages\\matplotlib\\pyplot.py:537: RuntimeWarning: More than 20 figures have been opened. Figures created through the pyplot interface (`matplotlib.pyplot.figure`) are retained until explicitly closed and may consume too much memory. (To control this warning, see the rcParam `figure.max_open_warning`).\n",
      "  max_open_warning, RuntimeWarning)\n"
     ]
    },
    {
     "name": "stdout",
     "output_type": "stream",
     "text": [
      "key = coords10518794 value =  [[308.66668701171875, 124.06666564941406, '10518794', 4, 53.2634959423431, 60.21627686929839, -234.46232220802563], [313.70001220703125, 118.94999694824219, '10518794', 6, 72.91777570771333, 62.96824596572466, -200.4495476107926], [105.69999694824219, 113.94999694824219, '10518794', 11, 113.00441935851754, 105.68348658254368, -235.4077101383506], [165.6999969482422, 297.95001220703125, '10518794', 1, 71.21798725732572, 65.19202405202648, -212.47119229084848], [314, 124.96665954589844, '10518794', 5, 70.2922470831599, 62.93647591023825, -44.35625428582462], [104, 113.96665954589844, '10518794', 11, 106.88779163215975, 101.6366075781753, -66.2092261342228], [102.73333740234375, 111.66665077209473, '10518794', 1, 98.3717500956899, 82.07921765332095, -17.14556259589414], [313.73333740234375, 115.66666412353516, '10518794', 5, 62.39390995922599, 31.196954979612993, 6.441600099335034], [164.73333740234375, 295.6666564941406, '10518794', 3, 59.99998779296945, 29.999993896484725, 126.86990638848795], [313.6178283691406, 118.21125030517578, '10518794', 6, 64.15498714440528, 56.27470293707825, -40.601276109145644], [99.9830551147461, 114.14199829101562, '10518794', 11, 101.45069296809675, 101.75118149192187, -78.46537874502312]] \n",
      "\n",
      "06240913_proc_01309.png\n"
     ]
    },
    {
     "name": "stderr",
     "output_type": "stream",
     "text": [
      "c:\\python36-32\\lib\\site-packages\\matplotlib\\cbook\\deprecation.py:107: MatplotlibDeprecationWarning: Adding an axes using the same arguments as a previous axes currently reuses the earlier instance.  In a future version, a new instance will always be created and returned.  Meanwhile, this warning can be suppressed, and the future behavior ensured, by passing a unique label to each axes instance.\n",
      "  warnings.warn(message, mplDeprecation, stacklevel=1)\n",
      "c:\\python36-32\\lib\\site-packages\\matplotlib\\pyplot.py:537: RuntimeWarning: More than 20 figures have been opened. Figures created through the pyplot interface (`matplotlib.pyplot.figure`) are retained until explicitly closed and may consume too much memory. (To control this warning, see the rcParam `figure.max_open_warning`).\n",
      "  max_open_warning, RuntimeWarning)\n"
     ]
    },
    {
     "name": "stdout",
     "output_type": "stream",
     "text": [
      "key = coords10518796 value =  [[106.3125, 112.75, '10518796', 1, 96.74709297958259, 86.4060183089118, -246.10483858492964], [111.5, 112.46665954589844, '10518796', 1, 114.97825881443848, 91.40021881811882, -53.00472885729286], [171.5, 296.4666748046875, '10518796', 1, 25.632011235952593, 26.92582403567252, 68.19859051364818], [90.5, 305.4666748046875, '10518796', 1, 27.16615541441225, 21.18962010041709, 19.29004621918874], [171.6999969482422, 301.1000061035156, '10518796', 1, 56.35602475227594, 28.17801237613797, 117.47442446920407], [83.69999694824219, 303.1000061035156, '10518796', 1, 59.665735560705194, 29.832867780352597, -50.440332031005504], [319.6999816894531, 114.0999984741211, '10518796', 1, 50.92150822589606, 25.46075411294803, 160.4975514933378], [111.69999694824219, 111.0999984741211, '10518796', 1, 98.73195883934812, 90.24411152150951, 77.19573366633645], [109.796875, 102.5, '10518796', 11, 105.94810050208545, 92.30926280715278, -67.04591346237152], [169.796875, 294.5, '10518796', 2, 60.728905802755904, 30.364452901377952, -72.75854060106003], [83.796875, 298.5, '10518796', 2, 62.64982043070834, 31.32491021535417, -61.38954033403479], [103.96875, 111.609375, '10518796', 9, 92.69843580125827, 102.82509421342633, -139.3382667914282], [166.96875, 294.609375, '10518796', 1, 41.182520563948, 20.591260281974, -60.94539590092286]] \n",
      "\n",
      "06240913_proc_01311.png\n"
     ]
    },
    {
     "name": "stderr",
     "output_type": "stream",
     "text": [
      "c:\\python36-32\\lib\\site-packages\\matplotlib\\cbook\\deprecation.py:107: MatplotlibDeprecationWarning: Adding an axes using the same arguments as a previous axes currently reuses the earlier instance.  In a future version, a new instance will always be created and returned.  Meanwhile, this warning can be suppressed, and the future behavior ensured, by passing a unique label to each axes instance.\n",
      "  warnings.warn(message, mplDeprecation, stacklevel=1)\n",
      "c:\\python36-32\\lib\\site-packages\\matplotlib\\pyplot.py:537: RuntimeWarning: More than 20 figures have been opened. Figures created through the pyplot interface (`matplotlib.pyplot.figure`) are retained until explicitly closed and may consume too much memory. (To control this warning, see the rcParam `figure.max_open_warning`).\n",
      "  max_open_warning, RuntimeWarning)\n"
     ]
    },
    {
     "name": "stdout",
     "output_type": "stream",
     "text": [
      "key = coords2896143 value =  [[206.3022918701172, 155.6532745361328, '2896143', 4, 79.00779377995616, 77.41587655815196, -5.9315549335426425], [21.298973083496094, 137.65293884277344, '2896143', 11, 129.47048580639066, 64.73524290319533, -94.87389610926537], [203.296875, 160.5, '2896143', 4, 74.41102068914255, 67.26812023536856, -48.01278750418334], [11.296875, 151.5, '2896143', 7, 116.90166808048549, 125.51493934986385, -11.488981202159195], [213.296875, 309.5, '2896143', 1, 47.43416490252569, 42.720018726587654, -20.556045219583467], [198.96875, 154.40625, '2896143', 4, 69.92138442565336, 65.25335240430181, 16.62075691389206], [206.46875, 311.203125, '2896143', 1, 60.08327554319921, 55.78530272392541, 14.534455080540127], [235.46875, 6.203125, '2896143', 1, 68.59300255857006, 61.71709649683789, -40.39990433373672], [210.46875, 152.203125, '2896143', 4, 82.71033792700887, 76.79192665899195, -261.76438067579045], [209.96875, 158.609375, '2896143', 4, 73.33484846919642, 75, -180]] \n",
      "\n",
      "06241902_proc_01832.png\n"
     ]
    },
    {
     "name": "stderr",
     "output_type": "stream",
     "text": [
      "c:\\python36-32\\lib\\site-packages\\matplotlib\\cbook\\deprecation.py:107: MatplotlibDeprecationWarning: Adding an axes using the same arguments as a previous axes currently reuses the earlier instance.  In a future version, a new instance will always be created and returned.  Meanwhile, this warning can be suppressed, and the future behavior ensured, by passing a unique label to each axes instance.\n",
      "  warnings.warn(message, mplDeprecation, stacklevel=1)\n",
      "c:\\python36-32\\lib\\site-packages\\matplotlib\\pyplot.py:537: RuntimeWarning: More than 20 figures have been opened. Figures created through the pyplot interface (`matplotlib.pyplot.figure`) are retained until explicitly closed and may consume too much memory. (To control this warning, see the rcParam `figure.max_open_warning`).\n",
      "  max_open_warning, RuntimeWarning)\n"
     ]
    },
    {
     "name": "stdout",
     "output_type": "stream",
     "text": [
      "key = coords2883856 value =  [[212.296875, 146.75, '2883856', 10, 71.28113354878694, 69.8927750200262, -55.864059922087726], [213.296875, 299.75, '2883856', 2, 50.99019513592785, 48.76474136094644, -15.46121774044191], [320.296875, 343.75, '2883856', 1, 26.248809496813376, 27.784887978899608, -210.25643716352926], [322.796875, 343.75, '2883856', 2, 47.20169488482379, 43.382023926967726, 25.97439396243132], [211.796875, 291.75, '2883856', 2, 59.93329625508679, 53, 58.109208198154306], [209.796875, 148.75, '2883856', 11, 86.88498144098322, 86.31338250816034, 63.13808215559732], [110.796875, 117.75, '2883856', 1, 26.476404589747453, 13.238202294873727, 79.11447294534128], [216.5, 122.75, '2883856', 1, 45.044422518220834, 22.522211259110417, -92.5448043798131], [218.5, 283.75, '2883856', 1, 36.05551275463989, 18.027756377319946, -86.82016988013577], [212.296875, 147.5, '2883856', 9, 76.53103945458993, 66.06814663663572, -6.753574035530993], [216.5205078125, 148.15293884277344, '2883856', 1, 66.72547391591648, 73.70960781056567, -242.2414328828566], [210.79885864257812, 300.3492431640625, '2883856', 1, 49.15308712764393, 50.6876508105604, 28.3007160476555]] \n",
      "\n",
      "06241902_proc_00857.png\n"
     ]
    },
    {
     "name": "stderr",
     "output_type": "stream",
     "text": [
      "c:\\python36-32\\lib\\site-packages\\matplotlib\\cbook\\deprecation.py:107: MatplotlibDeprecationWarning: Adding an axes using the same arguments as a previous axes currently reuses the earlier instance.  In a future version, a new instance will always be created and returned.  Meanwhile, this warning can be suppressed, and the future behavior ensured, by passing a unique label to each axes instance.\n",
      "  warnings.warn(message, mplDeprecation, stacklevel=1)\n",
      "c:\\python36-32\\lib\\site-packages\\matplotlib\\pyplot.py:537: RuntimeWarning: More than 20 figures have been opened. Figures created through the pyplot interface (`matplotlib.pyplot.figure`) are retained until explicitly closed and may consume too much memory. (To control this warning, see the rcParam `figure.max_open_warning`).\n",
      "  max_open_warning, RuntimeWarning)\n"
     ]
    },
    {
     "name": "stdout",
     "output_type": "stream",
     "text": [
      "key = coords10518801 value =  [[0, 0, '10518801', 0, 0, 0, 0], [305.796875, 125.75, '10518801', 5, 55.71355310873648, 46.51881339845203, -25.463345061871607], [115.796875, 95.75, '10518801', 11, 89.06739021662193, 81.98780397107853, -30.00492087082401], [117, 100.46665954589844, '10518801', 1, 84.00595217006948, 95.00526301210897, -90.60309119438054], [307, 123.46665954589844, '10518801', 5, 55.02726596879042, 58.60034129593445, -115.25316339457387], [354, 19.466659545898438, '10518801', 2, 33.015148038438355, 22.20360331117452, -125.8376529542783], [308, 0.4666595458984375, '10518801', 2, 27.730849247724095, 23.769728648009426, -112.24902365721236], [124.796875, 96.5, '10518801', 11, 98.6154146165801, 80.05623023850174, -154.07509849244553], [299.796875, 123.5, '10518801', 6, 57.3149195236284, 56.00892785976178, -178.97696981133217], [307.6999816894531, 120.0999984741211, '10518801', 6, 71.56115849332852, 62.96824596572466, -20.449547610792578], [111.69999694824219, 93.0999984741211, '10518801', 8, 106.45186376055499, 90.33825239346154, -26.281411289137907]] \n",
      "\n",
      "06240913_proc_01316.png\n"
     ]
    },
    {
     "name": "stderr",
     "output_type": "stream",
     "text": [
      "c:\\python36-32\\lib\\site-packages\\matplotlib\\cbook\\deprecation.py:107: MatplotlibDeprecationWarning: Adding an axes using the same arguments as a previous axes currently reuses the earlier instance.  In a future version, a new instance will always be created and returned.  Meanwhile, this warning can be suppressed, and the future behavior ensured, by passing a unique label to each axes instance.\n",
      "  warnings.warn(message, mplDeprecation, stacklevel=1)\n",
      "c:\\python36-32\\lib\\site-packages\\matplotlib\\pyplot.py:537: RuntimeWarning: More than 20 figures have been opened. Figures created through the pyplot interface (`matplotlib.pyplot.figure`) are retained until explicitly closed and may consume too much memory. (To control this warning, see the rcParam `figure.max_open_warning`).\n",
      "  max_open_warning, RuntimeWarning)\n"
     ]
    },
    {
     "name": "stdout",
     "output_type": "stream",
     "text": [
      "key = coords2883859 value =  [[210.515625, 146.75, '2883859', 11, 72.17340230306452, 75.0066663703967, -89.23610153907], [15, 138.4666748046875, '2883859', 11, 81.05553651663777, 82.61961497246462, -51.881719468084164], [217, 147.4666748046875, '2883859', 11, 77.07788269017254, 72.91776514007077, -64.84069265784125], [204.59950256347656, 103.36539459228516, '2883859', 11, 128.70462823339963, 64.35231411669982, -55.78429775521975], [213.796875, 146.5, '2883859', 11, 74.72616676907762, 69.79434074479104, -74.47588900324574], [211.296875, 150, '2883859', 11, 82.365041127896, 80.62257748298549, -60.94539590092286], [21.296875, 135, '2883859', 11, 120.50311199301038, 81.15417426109393, -86.46770541610911]] \n",
      "\n",
      "06241902_proc_00860.png\n"
     ]
    },
    {
     "name": "stderr",
     "output_type": "stream",
     "text": [
      "c:\\python36-32\\lib\\site-packages\\matplotlib\\cbook\\deprecation.py:107: MatplotlibDeprecationWarning: Adding an axes using the same arguments as a previous axes currently reuses the earlier instance.  In a future version, a new instance will always be created and returned.  Meanwhile, this warning can be suppressed, and the future behavior ensured, by passing a unique label to each axes instance.\n",
      "  warnings.warn(message, mplDeprecation, stacklevel=1)\n",
      "c:\\python36-32\\lib\\site-packages\\matplotlib\\pyplot.py:537: RuntimeWarning: More than 20 figures have been opened. Figures created through the pyplot interface (`matplotlib.pyplot.figure`) are retained until explicitly closed and may consume too much memory. (To control this warning, see the rcParam `figure.max_open_warning`).\n",
      "  max_open_warning, RuntimeWarning)\n"
     ]
    },
    {
     "name": "stdout",
     "output_type": "stream",
     "text": [
      "key = coords2896149 value =  [[212.5, 158.5333251953125, '2896149', 4, 67.26812023536856, 58.7962583843564, -131.5526131481348], [216, 149.46665954589844, '2896149', 1, 83.2586331859946, 74.84650960465692, -65.89776549883887], [234.38621520996094, 150.6248321533203, '2896149', 1, 125.17483492576677, 62.58741746288339, -173.7741751014657], [200.34231567382812, 131.61752319335938, '2896149', 3, 82.50079844325599, 84.91844043640747, -99.619725563132], [217.796875, 149.75, '2896149', 5, 72.78049189171504, 70.22819946431775, -160.01689347810003], [210, 148.96665954589844, '2896149', 4, 78.5175139698144, 63.63961030678928, -8.130102354155966]] \n",
      "\n",
      "06241902_proc_01838.png\n"
     ]
    },
    {
     "name": "stderr",
     "output_type": "stream",
     "text": [
      "c:\\python36-32\\lib\\site-packages\\matplotlib\\cbook\\deprecation.py:107: MatplotlibDeprecationWarning: Adding an axes using the same arguments as a previous axes currently reuses the earlier instance.  In a future version, a new instance will always be created and returned.  Meanwhile, this warning can be suppressed, and the future behavior ensured, by passing a unique label to each axes instance.\n",
      "  warnings.warn(message, mplDeprecation, stacklevel=1)\n",
      "c:\\python36-32\\lib\\site-packages\\matplotlib\\pyplot.py:537: RuntimeWarning: More than 20 figures have been opened. Figures created through the pyplot interface (`matplotlib.pyplot.figure`) are retained until explicitly closed and may consume too much memory. (To control this warning, see the rcParam `figure.max_open_warning`).\n",
      "  max_open_warning, RuntimeWarning)\n"
     ]
    },
    {
     "name": "stdout",
     "output_type": "stream",
     "text": [
      "key = coords2896150 value =  [[208.45106506347656, 149.01488494873047, '2896150', 4, 69.70803621635199, 66.98651720331696, -59.534489159609905], [21.6517391204834, 118.44776153564453, '2896150', 11, 100.55151451879767, 100.58018284762849, -78.31064175799918], [210.796875, 149.75, '2896150', 5, 72.56031973468694, 65.62011886609167, -7.883139316729725], [213.796875, 147.75, '2896150', 5, 77.87810988975015, 65.7419196555744, -26.17528998175993], [211.76138305664062, 141.5749053955078, '2896150', 4, 69.81694833925575, 67.26845977944252, -222.27369075459148], [217.623046875, 152.1344757080078, '2896150', 11, 53.34423104887083, 26.672115524435416, 52.23131646512868], [213.796875, 143.5, '2896150', 5, 73.79024325749306, 77.4919350642375, -72.7341905049854]] \n",
      "\n",
      "06241902_proc_01839.png\n"
     ]
    },
    {
     "name": "stderr",
     "output_type": "stream",
     "text": [
      "c:\\python36-32\\lib\\site-packages\\matplotlib\\cbook\\deprecation.py:107: MatplotlibDeprecationWarning: Adding an axes using the same arguments as a previous axes currently reuses the earlier instance.  In a future version, a new instance will always be created and returned.  Meanwhile, this warning can be suppressed, and the future behavior ensured, by passing a unique label to each axes instance.\n",
      "  warnings.warn(message, mplDeprecation, stacklevel=1)\n",
      "c:\\python36-32\\lib\\site-packages\\matplotlib\\pyplot.py:537: RuntimeWarning: More than 20 figures have been opened. Figures created through the pyplot interface (`matplotlib.pyplot.figure`) are retained until explicitly closed and may consume too much memory. (To control this warning, see the rcParam `figure.max_open_warning`).\n",
      "  max_open_warning, RuntimeWarning)\n"
     ]
    },
    {
     "name": "stdout",
     "output_type": "stream",
     "text": [
      "key = coords2883863 value =  [[208.99996948242188, 144.3800048828125, '2883863', 11, 70.80254232723568, 78.00640999302557, -233.86462338841082], [27.999969482421875, 197.3800048828125, '2883863', 11, 48.104053883222775, 49.51767361255979, -43.36342295838328], [204.99996948242188, 284.3800048828125, '2883863', 3, 52.392747589718944, 57.697486947006624, -205.6768156818382], [219.796875, 145.75, '2883863', 8, 73.24616030891995, 70.22819946431775, -160.01689347810003], [219.296875, 145.5, '2883863', 11, 77.47257579298626, 74.33034373659252, 72.7839264122093], [200.296875, 289.5, '2883863', 1, 59.77457653551382, 57.14017850864661, 4.014175695411026], [193.16749572753906, 299.30352783203125, '2883863', 11, 222.0393359089074, 111.0196679544537, 83.85337494262929], [218.32000732421875, 147.95001220703125, '2883863', 11, 109.29318368498559, 54.646591842492796, -32.6722292886831], [191.32000732421875, 271.95001220703125, '2883863', 1, 86.76981041814025, 43.384905209070126, -27.45099777093223]] \n",
      "\n",
      "06241902_proc_00864.png\n"
     ]
    },
    {
     "name": "stderr",
     "output_type": "stream",
     "text": [
      "c:\\python36-32\\lib\\site-packages\\matplotlib\\cbook\\deprecation.py:107: MatplotlibDeprecationWarning: Adding an axes using the same arguments as a previous axes currently reuses the earlier instance.  In a future version, a new instance will always be created and returned.  Meanwhile, this warning can be suppressed, and the future behavior ensured, by passing a unique label to each axes instance.\n",
      "  warnings.warn(message, mplDeprecation, stacklevel=1)\n",
      "c:\\python36-32\\lib\\site-packages\\numpy\\core\\fromnumeric.py:2957: RuntimeWarning: Mean of empty slice.\n",
      "  out=out, **kwargs)\n",
      "c:\\python36-32\\lib\\site-packages\\numpy\\core\\_methods.py:80: RuntimeWarning: invalid value encountered in double_scalars\n",
      "  ret = ret.dtype.type(ret / rcount)\n",
      "c:\\python36-32\\lib\\site-packages\\astropy\\units\\quantity.py:639: RuntimeWarning: invalid value encountered in true_divide\n",
      "  result = super().__array_ufunc__(function, method, *arrays, **kwargs)\n",
      "c:\\python36-32\\lib\\site-packages\\matplotlib\\pyplot.py:537: RuntimeWarning: More than 20 figures have been opened. Figures created through the pyplot interface (`matplotlib.pyplot.figure`) are retained until explicitly closed and may consume too much memory. (To control this warning, see the rcParam `figure.max_open_warning`).\n",
      "  max_open_warning, RuntimeWarning)\n"
     ]
    },
    {
     "name": "stdout",
     "output_type": "stream",
     "text": [
      "key = coords2896152 value =  [[214.796875, 146, '2896152', 6, 68.73136110975832, 71.56814934033156, -8.36588612403259], [22.796875, 158, '2896152', 10, 91.92388155425118, 58.73882872512866, 75.51023740611555], [215.796875, 135.75, '2896152', 6, 76, 66.007575322837, -0.8680514497455363], [219.796875, 140.75, '2896152', 6, 78.64477096412705, 84.92938243034621, 101.73857120672233], [201.796875, 271.75, '2896152', 1, 55.31726674375732, 46.861498055439924, -40.60129464500447], [56.796875, 367.75, '2896152', 1, 41.78516483155236, 50, 73.73979529168807], [216.5, 143.46665954589844, '2896152', 7, 81.02468759581859, 78.00640999302557, 35.45547443444187], [224.09999084472656, 147.14999389648438, '2896152', 5, 101.1385239280224, 103.31504882326945, 64.17901183443797], [207.74859619140625, 284.4201965332031, '2896152', 1, 50.263426941253, 46.91458964218684, 47.8341131012144], [3.0313873291015625, 142.7649383544922, '2896152', 4, 125.75570975651125, 108.18866029966581, 68.01980514503198], [212.5, 140.96665954589844, '2896152', 5, 60.83584469702052, 60.37383539249432, 63.434948822921996], [219.796875, 145.5, '2896152', 6, 72.44998274671983, 76.47875521999558, -62.76485330069748], [205.796875, 283.5, '2896152', 1, 45.48626166217664, 36.069377593742864, -43.87669728592457]] \n",
      "\n",
      "06241902_proc_01841.png\n"
     ]
    },
    {
     "name": "stderr",
     "output_type": "stream",
     "text": [
      "c:\\python36-32\\lib\\site-packages\\matplotlib\\cbook\\deprecation.py:107: MatplotlibDeprecationWarning: Adding an axes using the same arguments as a previous axes currently reuses the earlier instance.  In a future version, a new instance will always be created and returned.  Meanwhile, this warning can be suppressed, and the future behavior ensured, by passing a unique label to each axes instance.\n",
      "  warnings.warn(message, mplDeprecation, stacklevel=1)\n",
      "c:\\python36-32\\lib\\site-packages\\matplotlib\\pyplot.py:537: RuntimeWarning: More than 20 figures have been opened. Figures created through the pyplot interface (`matplotlib.pyplot.figure`) are retained until explicitly closed and may consume too much memory. (To control this warning, see the rcParam `figure.max_open_warning`).\n",
      "  max_open_warning, RuntimeWarning)\n"
     ]
    },
    {
     "name": "stdout",
     "output_type": "stream",
     "text": [
      "key = coords2912537 value =  [[306.296875, 161.75, '2912537', 2, 51.31276644267, 34.713109915419565, -41.49646835521554], [309.796875, 163.75, '2912537', 2, 51.97114584074513, 25.985572920372565, -30.01836742760908], [117.796875, 140.75, '2912537', 11, 127.90621564255585, 108.55873986004075, -84.18437347050876], [0, 0, '2912537', 0, 0, 0, 0], [308.23333740234375, 163.36666870117188, '2912537', 1, 29.832867780352597, 14.916433890176299, 166.4295656148385], [161.23333740234375, 366.3666687011719, '2912537', 2, 23.853720883753127, 11.926860441876563, 123.02386755579664]] \n",
      "\n",
      "06240910_proc_00303.png\n"
     ]
    },
    {
     "name": "stderr",
     "output_type": "stream",
     "text": [
      "c:\\python36-32\\lib\\site-packages\\matplotlib\\cbook\\deprecation.py:107: MatplotlibDeprecationWarning: Adding an axes using the same arguments as a previous axes currently reuses the earlier instance.  In a future version, a new instance will always be created and returned.  Meanwhile, this warning can be suppressed, and the future behavior ensured, by passing a unique label to each axes instance.\n",
      "  warnings.warn(message, mplDeprecation, stacklevel=1)\n",
      "c:\\python36-32\\lib\\site-packages\\matplotlib\\pyplot.py:537: RuntimeWarning: More than 20 figures have been opened. Figures created through the pyplot interface (`matplotlib.pyplot.figure`) are retained until explicitly closed and may consume too much memory. (To control this warning, see the rcParam `figure.max_open_warning`).\n",
      "  max_open_warning, RuntimeWarning)\n"
     ]
    },
    {
     "name": "stdout",
     "output_type": "stream",
     "text": [
      "key = coords2896154 value =  [[216.796875, 141.75, '2896154', 5, 68.09552114493287, 69.35416353759881, -222.6626941408762], [215, 141.4499969482422, '2896154', 5, 73.824115301167, 79.47955712005447, -24.8293465881496], [221.5, 138.46665954589844, '2896154', 5, 72.00694410957877, 79.84985911070852, -112.06789956241022], [215.296875, 139.75, '2896154', 5, 85.70297544426332, 83.21658488546619, 57.26477372789239], [47.296875, 352.75, '2896154', 3, 77.38862965578342, 71.84705978674423, -32.868678933367505], [220.296875, 139.75, '2896154', 6, 77.6659513557904, 78.40918313565064, -52.25319461272533], [28.296875, 341.75, '2896154', 3, 94.92101980067429, 72.18032973047436, -42.75425743410493], [214.09999084472656, 143.14999389648438, '2896154', 5, 92.64988730393542, 84.64631706648541, 38.7655231379554], [49.099998474121094, 355.1499938964844, '2896154', 1, 77.20103541010927, 61.71709479707915, -243.01976847843645], [219, 138.05999755859375, '2896154', 1, 100.2845950283492, 63.34824385884742, -168.15792388467224], [39, 361.05999755859375, '2896154', 2, 73.37574531137656, 68.35202996254024, -17.447188423282203], [28, 215.05999755859375, '2896154', 3, 57.97413216254298, 53.85164807134504, -105.0684881594922], [42, 109.06000518798828, '2896154', 1, 58.52349316573127, 37.21558813185679, -59.300277449185586], [20, 154.05999755859375, '2896154', 1, 130, 97.67292357659824, -100.61965527615513], [218, 267.05999755859375, '2896154', 1, 55.036351623268054, 40.792156108742276, 78.6900675259798], [219.5, 136.75, '2896154', 7, 71.7007670809734, 77.1621668954417, -98.01709307365533], [39.5, 355.75, '2896154', 1, 44.181444068749045, 42.7551166528639, -100.7842978675626], [35.5, 193.75, '2896154', 4, 61.032778078668514, 51.478150704935004, -97.81529354676688], [50.5, 87.75, '2896154', 3, 43.01162633521314, 39.45883931389772, -98.7461622625552]] \n",
      "\n"
     ]
    },
    {
     "name": "stderr",
     "output_type": "stream",
     "text": [
      "c:\\python36-32\\lib\\site-packages\\matplotlib\\cbook\\deprecation.py:107: MatplotlibDeprecationWarning: Adding an axes using the same arguments as a previous axes currently reuses the earlier instance.  In a future version, a new instance will always be created and returned.  Meanwhile, this warning can be suppressed, and the future behavior ensured, by passing a unique label to each axes instance.\n",
      "  warnings.warn(message, mplDeprecation, stacklevel=1)\n"
     ]
    },
    {
     "name": "stdout",
     "output_type": "stream",
     "text": [
      "06241902_proc_01843.png\n"
     ]
    },
    {
     "name": "stderr",
     "output_type": "stream",
     "text": [
      "c:\\python36-32\\lib\\site-packages\\matplotlib\\pyplot.py:537: RuntimeWarning: More than 20 figures have been opened. Figures created through the pyplot interface (`matplotlib.pyplot.figure`) are retained until explicitly closed and may consume too much memory. (To control this warning, see the rcParam `figure.max_open_warning`).\n",
      "  max_open_warning, RuntimeWarning)\n"
     ]
    },
    {
     "name": "stdout",
     "output_type": "stream",
     "text": [
      "key = coords2883867 value =  [[141.8125, 284.75, '2883867', 1, 206.9685966517626, 103.4842983258813, -5.54531730886204], [207.296875, 295.75, '2883867', 2, 60.207972893961475, 36.345563690772494, 7.907162702958459], [212.296875, 291.75, '2883867', 1, 116.81181447096864, 56.64803615307419, 21.072726619950554], [222.296875, 153.75, '2883867', 1, 141.0319112825179, 70.51595564125896, 23.838740183171723], [313.296875, 186.75, '2883867', 1, 12.529964086141668, 6.264982043070834, 28.610459665965216], [37.296875, 303.75, '2883867', 1, 133.63382805263043, 66.81691402631522, -5.582605756531074], [66.796875, 72.75, '2883867', 1, 47.12748667179272, 41.6293165929973, -107.28149837181665], [196.7965545654297, 138.7497100830078, '2883867', 5, 59.413803110051795, 63.63961030678928, 81.86989764584402], [200.02149963378906, 290.30474853515625, '2883867', 3, 66.047070424467, 42.50115610614043, 2.697235895610717], [202, 294.260009765625, '2883867', 4, 64, 47.042533945356304, -2.4366482468101367], [202, 144.260009765625, '2883867', 11, 73.17103251970687, 55.78530272392541, -3.9182488640673765]] \n",
      "\n",
      "06241902_proc_00868.png\n"
     ]
    },
    {
     "name": "stderr",
     "output_type": "stream",
     "text": [
      "c:\\python36-32\\lib\\site-packages\\matplotlib\\cbook\\deprecation.py:107: MatplotlibDeprecationWarning: Adding an axes using the same arguments as a previous axes currently reuses the earlier instance.  In a future version, a new instance will always be created and returned.  Meanwhile, this warning can be suppressed, and the future behavior ensured, by passing a unique label to each axes instance.\n",
      "  warnings.warn(message, mplDeprecation, stacklevel=1)\n",
      "c:\\python36-32\\lib\\site-packages\\matplotlib\\pyplot.py:537: RuntimeWarning: More than 20 figures have been opened. Figures created through the pyplot interface (`matplotlib.pyplot.figure`) are retained until explicitly closed and may consume too much memory. (To control this warning, see the rcParam `figure.max_open_warning`).\n",
      "  max_open_warning, RuntimeWarning)\n"
     ]
    },
    {
     "name": "stdout",
     "output_type": "stream",
     "text": [
      "key = coords10516760 value =  [[299.796875, 245.75, '10516760', 5, 50.47771785649585, 43.266615305567875, -146.30993247402023], [295.796875, 250.75, '10516760', 6, 50.99019513592785, 47.20169488482379, -233.61564818416412], [132.796875, 297.75, '10516760', 7, 72.20110802473879, 72.56031973468694, -240.25511870305778], [119.796875, 72.75, '10516760', 7, 77.38862965578342, 70.9365914038728, -220.42607874009914], [295.0545959472656, 247.96102905273438, '10516760', 4, 73.9833804119656, 61.4222707336582, -113.55227705540345], [294.6604309082031, 247.97332763671875, '10516760', 5, 54.87134867265607, 51.55649442129406, -32.005386803045575], [122.51367950439453, 81.29153442382812, '10516760', 4, 75.88500080011366, 50.69852223646053, -14.036241376739127]] \n",
      "\n",
      "06240912_proc_01633.bmp.png\n"
     ]
    },
    {
     "name": "stderr",
     "output_type": "stream",
     "text": [
      "c:\\python36-32\\lib\\site-packages\\matplotlib\\cbook\\deprecation.py:107: MatplotlibDeprecationWarning: Adding an axes using the same arguments as a previous axes currently reuses the earlier instance.  In a future version, a new instance will always be created and returned.  Meanwhile, this warning can be suppressed, and the future behavior ensured, by passing a unique label to each axes instance.\n",
      "  warnings.warn(message, mplDeprecation, stacklevel=1)\n",
      "c:\\python36-32\\lib\\site-packages\\matplotlib\\pyplot.py:537: RuntimeWarning: More than 20 figures have been opened. Figures created through the pyplot interface (`matplotlib.pyplot.figure`) are retained until explicitly closed and may consume too much memory. (To control this warning, see the rcParam `figure.max_open_warning`).\n",
      "  max_open_warning, RuntimeWarning)\n"
     ]
    },
    {
     "name": "stdout",
     "output_type": "stream",
     "text": [
      "key = coords2883869 value =  [[210.296875, 144, '2883869', 9, 78.85429601486528, 64.19501538281614, 18.152705886651162], [1.296875, 151, '2883869', 10, 89.02246907382428, 72.00694410957877, -89.20427644726072], [207.37960815429688, 145.40948486328125, '2883869', 2, 65.3007575485855, 71.84168896962606, -253.8355006783486], [-40.62590026855469, 134.40924072265625, '2883869', 1, 109.66100690920803, 141.15555023028938, 82.67358914390346], [194.37933349609375, 309.41314697265625, '2883869', 1, 45.3110348066703, 22.65551740333515, 67.96376028471947], [120.37767791748047, 212.41098022460938, '2883869', 1, 37.48416496026163, 32.01633895353918, 88.21007489208716], [207.5, 150.46665954589844, '2883869', 8, 71.84705978674423, 57.87054518492115, 9.950626687951612], [200.296875, 148.75, '2883869', 11, 86, 85.05292469985967, 87.978635059644], [190.796875, 300.75, '2883869', 2, 44.204072210600685, 35.35533905932738, -81.86989764584402], [202.796875, 147.75, '2883869', 5, 72.44998274671983, 87.36704184073076, -95.25380275126226], [194.95562744140625, 147.44699096679688, '2883869', 5, 108.13385759883782, 54.06692879941891, -1.4122075935339518]] \n",
      "\n",
      "06241902_proc_00870.png\n"
     ]
    },
    {
     "name": "stderr",
     "output_type": "stream",
     "text": [
      "c:\\python36-32\\lib\\site-packages\\matplotlib\\cbook\\deprecation.py:107: MatplotlibDeprecationWarning: Adding an axes using the same arguments as a previous axes currently reuses the earlier instance.  In a future version, a new instance will always be created and returned.  Meanwhile, this warning can be suppressed, and the future behavior ensured, by passing a unique label to each axes instance.\n",
      "  warnings.warn(message, mplDeprecation, stacklevel=1)\n",
      "c:\\python36-32\\lib\\site-packages\\matplotlib\\pyplot.py:537: RuntimeWarning: More than 20 figures have been opened. Figures created through the pyplot interface (`matplotlib.pyplot.figure`) are retained until explicitly closed and may consume too much memory. (To control this warning, see the rcParam `figure.max_open_warning`).\n",
      "  max_open_warning, RuntimeWarning)\n"
     ]
    },
    {
     "name": "stdout",
     "output_type": "stream",
     "text": [
      "key = coords2896158 value =  [[227, 154.5500030517578, '2896158', 2, 67.95586803212802, 33.97793401606401, -32.98852161363456], [220.3125, 165.75, '2896158', 1, 53.03772242470448, 65.03076195155643, -92.16107948822638], [224, 153.4499969482422, '2896158', 3, 67.26812023536856, 71.56116265125938, -56.97613244420335], [222, 295.45001220703125, '2896158', 1, 40.36087214122113, 20.180436070610565, 41.98721249581666], [38, 363.45001220703125, '2896158', 2, 74, 94.15412895885129, -22.479434397103105], [264, 22.449996948242188, '2896158', 1, 52.80151512977634, 39.66106403010388, -146.30993247402023], [220.296875, 154.75, '2896158', 3, 75.07329751649384, 62.96824596572466, -136.930587441167], [224.296875, 151.75, '2896158', 2, 59.81638571495272, 52.20153254455275, 36.430858120162355], [52.296875, 125.75, '2896158', 1, 108.15729286552988, 54.07864643276494, -107.76485330069748], [40.296875, 359.75, '2896158', 2, 48.27007354458868, 55.226805085936306, 42.06432655357884], [216.296875, 303.75, '2896158', 1, 31.144823004794873, 20.615528128088304, 50.9061411137705]] \n",
      "\n",
      "06241902_proc_01847.png\n"
     ]
    },
    {
     "name": "stderr",
     "output_type": "stream",
     "text": [
      "c:\\python36-32\\lib\\site-packages\\matplotlib\\cbook\\deprecation.py:107: MatplotlibDeprecationWarning: Adding an axes using the same arguments as a previous axes currently reuses the earlier instance.  In a future version, a new instance will always be created and returned.  Meanwhile, this warning can be suppressed, and the future behavior ensured, by passing a unique label to each axes instance.\n",
      "  warnings.warn(message, mplDeprecation, stacklevel=1)\n",
      "c:\\python36-32\\lib\\site-packages\\matplotlib\\pyplot.py:537: RuntimeWarning: More than 20 figures have been opened. Figures created through the pyplot interface (`matplotlib.pyplot.figure`) are retained until explicitly closed and may consume too much memory. (To control this warning, see the rcParam `figure.max_open_warning`).\n",
      "  max_open_warning, RuntimeWarning)\n"
     ]
    },
    {
     "name": "stdout",
     "output_type": "stream",
     "text": [
      "key = coords2896157 value =  [[224.5, 144.46665954589844, '2896157', 4, 57.3149195236284, 45.89117562233506, -168.69006752597977], [40.5, 375.4666748046875, '2896157', 1, 62.177166226839255, 58.82176467941097, -72.18111108547723], [14.5, 141.46665954589844, '2896157', 4, 121.26418965476653, 73.66987172514962, -86.2173550290319], [229, 133.75, '2896157', 5, 153.44380078712857, 76.72190039356428, -134.7359660187409], [224.296875, 142.75, '2896157', 3, 66.2872536767062, 64.38167441127949, 101.30993247402021], [219.5099639892578, 150.82999420166016, '2896157', 3, 60.46100091154917, 56.928121030388205, -39.22568696522987], [216.296875, 142.5, '2896157', 1, 68.11754546370561, 63.631753079732135, -59.80837703904239]] \n",
      "\n",
      "06241902_proc_01846.png\n"
     ]
    },
    {
     "name": "stderr",
     "output_type": "stream",
     "text": [
      "c:\\python36-32\\lib\\site-packages\\matplotlib\\cbook\\deprecation.py:107: MatplotlibDeprecationWarning: Adding an axes using the same arguments as a previous axes currently reuses the earlier instance.  In a future version, a new instance will always be created and returned.  Meanwhile, this warning can be suppressed, and the future behavior ensured, by passing a unique label to each axes instance.\n",
      "  warnings.warn(message, mplDeprecation, stacklevel=1)\n",
      "c:\\python36-32\\lib\\site-packages\\matplotlib\\pyplot.py:537: RuntimeWarning: More than 20 figures have been opened. Figures created through the pyplot interface (`matplotlib.pyplot.figure`) are retained until explicitly closed and may consume too much memory. (To control this warning, see the rcParam `figure.max_open_warning`).\n",
      "  max_open_warning, RuntimeWarning)\n"
     ]
    },
    {
     "name": "stdout",
     "output_type": "stream",
     "text": [
      "key = coords2883870 value =  [[205.296875, 140.75, '2883870', 7, 77.07788269017254, 78.74642849044012, -72.25532837494306], [196.94676208496094, 107.77571868896484, '2883870', 1, 39.030440332431056, 19.515220166215528, -107.61258157062349], [156.79344177246094, 94.7849349975586, '2883870', 1, 16.795249131028868, 8.397624565514434, 169.87533383499283], [198.12774658203125, 210.52096557617188, '2883870', 1, 108.98499683909114, 54.49249841954557, -7.471564001008587], [278.43438720703125, 137.3002166748047, '2883870', 1, 58.46149349478151, 29.230746747390754, -179.42127972107792], [138.48826599121094, 145.56707763671875, '2883870', 1, 161.55377096407634, 80.77688548203817, -3.772282185237186], [202.796875, 144.75, '2883870', 7, 85.72630868059116, 83.43260753446461, -256.130313561495], [210.5, 142.75, '2883870', 1, 82.28000972289685, 84.77027781009096, -73.7676493388438], [209.6999969482422, 141.09999084472656, '2883870', 11, 68.02939778068304, 74.10802925459562, -266.9059419410829], [205.796875, 144.5, '2883870', 8, 71.17583859709698, 78.16009211867653, 85.97173633351487], [203.93011474609375, 152.6133575439453, '2883870', 3, 75.62245579806462, 37.81122789903231, -98.48159626530527]] \n",
      "\n",
      "06241902_proc_00871.png\n"
     ]
    },
    {
     "name": "stderr",
     "output_type": "stream",
     "text": [
      "c:\\python36-32\\lib\\site-packages\\matplotlib\\cbook\\deprecation.py:107: MatplotlibDeprecationWarning: Adding an axes using the same arguments as a previous axes currently reuses the earlier instance.  In a future version, a new instance will always be created and returned.  Meanwhile, this warning can be suppressed, and the future behavior ensured, by passing a unique label to each axes instance.\n",
      "  warnings.warn(message, mplDeprecation, stacklevel=1)\n",
      "c:\\python36-32\\lib\\site-packages\\matplotlib\\pyplot.py:537: RuntimeWarning: More than 20 figures have been opened. Figures created through the pyplot interface (`matplotlib.pyplot.figure`) are retained until explicitly closed and may consume too much memory. (To control this warning, see the rcParam `figure.max_open_warning`).\n",
      "  max_open_warning, RuntimeWarning)\n"
     ]
    },
    {
     "name": "stdout",
     "output_type": "stream",
     "text": [
      "key = coords2906397 value =  [[127.13868713378906, 116.7632827758789, '2906397', 1, 76.87459399830743, 38.437296999153716, -26.85410404860937], [118.91925048828125, 106.7377700805664, '2906397', 2, 91.36669514157994, 108.47225403151556, -99.96379786077631], [118.796875, 113.5, '2906397', 3, 94.42986815621421, 94.00531899844816, -89.3904934233248], [118.0999984741211, 120.9000015258789, '2906397', 8, 109.93179249220577, 102.17632065963255, 49.76364005776148], [109.96875, 119.609375, '2906397', 9, 86.37129152675674, 87.32124598286491, -140.11041756103123]] \n",
      "\n",
      "06240909_proc_01798.png\n"
     ]
    },
    {
     "name": "stderr",
     "output_type": "stream",
     "text": [
      "c:\\python36-32\\lib\\site-packages\\matplotlib\\cbook\\deprecation.py:107: MatplotlibDeprecationWarning: Adding an axes using the same arguments as a previous axes currently reuses the earlier instance.  In a future version, a new instance will always be created and returned.  Meanwhile, this warning can be suppressed, and the future behavior ensured, by passing a unique label to each axes instance.\n",
      "  warnings.warn(message, mplDeprecation, stacklevel=1)\n",
      "c:\\python36-32\\lib\\site-packages\\matplotlib\\pyplot.py:537: RuntimeWarning: More than 20 figures have been opened. Figures created through the pyplot interface (`matplotlib.pyplot.figure`) are retained until explicitly closed and may consume too much memory. (To control this warning, see the rcParam `figure.max_open_warning`).\n",
      "  max_open_warning, RuntimeWarning)\n"
     ]
    },
    {
     "name": "stdout",
     "output_type": "stream",
     "text": [
      "key = coords2883874 value =  [[206.796875, 147.75, '2883874', 11, 77.00649323271382, 81.05553651663777, -87.87890360333854], [208.796875, 292.75, '2883874', 3, 52.49761899362675, 46.010868281309364, 40.36453657309736], [54.796875, 345.75, '2883874', 2, 49.49747468305833, 36.796738985948195, -47.202598161765806], [205.13075256347656, 146.8349609375, '2883874', 9, 88.49475478041992, 82.7644525101933, 61.448593834116764], [211.98953247070312, 295.44183349609375, '2883874', 3, 67.24091862502178, 48.8345146418789, 35.311253226846254], [56.52394104003906, 348.0257568359375, '2883874', 1, 34.76689695231142, 23.56619960742765, -43.66772805707824], [117.10978698730469, 49.668968200683594, '2883874', 2, 51.12229861782036, 53.37324130868777, 46.73570476434102], [256.88970947265625, 100.96421813964844, '2883874', 4, 201.5733160767766, 100.7866580383883, -155.65064512098877], [230.08050537109375, 260.47900390625, '2883874', 4, 127.02586046419596, 63.51293023209798, -134.1449017321806], [0, 0, '2883874', 0, 0, 0, 0], [210.796875, 142.5, '2883874', 11, 79.25906888173743, 71.47027354082255, -162.07208023799276], [214.796875, 290.5, '2883874', 2, 39.6232255123179, 19.81161275615895, -132.9545915111128], [205.796875, 148.5, '2883874', 11, 78.08969202141856, 79.40403012442127, -185.78239232236405], [212.796875, 294.5, '2883874', 1, 41.30375285612676, 32.202484376209235, -96.95295746817392], [54.796875, 346.5, '2883874', 2, 53.03772242470448, 47.01063709417264, -38.08877288097532]] \n",
      "\n",
      "06241902_proc_00875.png\n"
     ]
    },
    {
     "name": "stderr",
     "output_type": "stream",
     "text": [
      "c:\\python36-32\\lib\\site-packages\\matplotlib\\cbook\\deprecation.py:107: MatplotlibDeprecationWarning: Adding an axes using the same arguments as a previous axes currently reuses the earlier instance.  In a future version, a new instance will always be created and returned.  Meanwhile, this warning can be suppressed, and the future behavior ensured, by passing a unique label to each axes instance.\n",
      "  warnings.warn(message, mplDeprecation, stacklevel=1)\n",
      "c:\\python36-32\\lib\\site-packages\\matplotlib\\pyplot.py:537: RuntimeWarning: More than 20 figures have been opened. Figures created through the pyplot interface (`matplotlib.pyplot.figure`) are retained until explicitly closed and may consume too much memory. (To control this warning, see the rcParam `figure.max_open_warning`).\n",
      "  max_open_warning, RuntimeWarning)\n"
     ]
    },
    {
     "name": "stdout",
     "output_type": "stream",
     "text": [
      "key = coords2896164 value =  [[216.02059936523438, 161.17947387695312, '2896164', 4, 166.69346230780758, 83.34673115390379, 51.55694834033051], [192.2317657470703, 2.923624038696289, '2896164', 4, 35.75016537807097, 33.68650105644199, -222.5223567280388], [259.5088348388672, 18.585518836975098, '2896164', 2, 43.7958745945633, 44.01824459758989, -176.13453886379156], [203.796875, 155.75, '2896164', 5, 89.05054744357274, 69.12307863514182, 12.319445256636604], [196.796875, 300.75, '2896164', 2, 52.3450093132096, 49.09175083453431, 3.5035316447844593], [-5.203125, 143.75, '2896164', 11, 99.02019995940222, 114.12712210513327, -188.05910390287096], [20.796875, 358.75, '2896164', 3, 87, 50.99019513592785, -46.39718102729638], [197.796875, 296.75, '2896164', 2, 65.79513659838392, 67.35725647619564, 49.214178522734045], [211.796875, 154.75, '2896164', 5, 91.41115905621152, 71.386273190299, 11.309932474020215], [44.796875, 183.75, '2896164', 3, 68.09552114493287, 34.04776057246644, 60.0463918321985], [27.5, 116.46665954589844, '2896164', 9, 113.8859078200635, 56.94295391003175, -73.15619144827258], [209.5, 156.46665954589844, '2896164', 6, 78.02563681252464, 84.09518416651456, -91.46880071438584], [195.5, 298.4666748046875, '2896164', 1, 42.95346318982906, 33, -90], [204.89999389648438, 153.6999969482422, '2896164', 5, 73.53910524340094, 83.02409288875127, -80.99149625797484], [199.296875, 153.5, '2896164', 1, 75.29276193632427, 84.86459803710851, -68.57470620191262]] \n",
      "\n",
      "06241902_proc_01853.png\n"
     ]
    },
    {
     "name": "stderr",
     "output_type": "stream",
     "text": [
      "c:\\python36-32\\lib\\site-packages\\matplotlib\\cbook\\deprecation.py:107: MatplotlibDeprecationWarning: Adding an axes using the same arguments as a previous axes currently reuses the earlier instance.  In a future version, a new instance will always be created and returned.  Meanwhile, this warning can be suppressed, and the future behavior ensured, by passing a unique label to each axes instance.\n",
      "  warnings.warn(message, mplDeprecation, stacklevel=1)\n",
      "c:\\python36-32\\lib\\site-packages\\matplotlib\\pyplot.py:537: RuntimeWarning: More than 20 figures have been opened. Figures created through the pyplot interface (`matplotlib.pyplot.figure`) are retained until explicitly closed and may consume too much memory. (To control this warning, see the rcParam `figure.max_open_warning`).\n",
      "  max_open_warning, RuntimeWarning)\n"
     ]
    },
    {
     "name": "stdout",
     "output_type": "stream",
     "text": [
      "key = coords2883877 value =  [[205.796875, 153, '2883877', 8, 69.8927750200262, 73.40980860893181, 65.87901688055743], [208.796875, 144.75, '2883877', 1, 73.68174807915459, 65.52098900352466, -164.05460409907715], [197.29293823242188, 150.60174560546875, '2883877', 2, 83.6104723691864, 41.8052361845932, -59.88626956255018], [207.6999969482422, 146.75, '2883877', 4, 76.15773105863909, 76.02629758711731, -63.434943680190415], [201.9825897216797, 151.73163223266602, '2883877', 9, 87.02454215611763, 91.08400849212151, -8.841810661059839], [203.46875, 146.609375, '2883877', 3, 113.74093370462545, 101.82337649086284, -45], [204.96875, 146.609375, '2883877', 8, 76.05918747922567, 72.18032973047436, -169.62415507994893]] \n",
      "\n"
     ]
    },
    {
     "name": "stderr",
     "output_type": "stream",
     "text": [
      "c:\\python36-32\\lib\\site-packages\\matplotlib\\cbook\\deprecation.py:107: MatplotlibDeprecationWarning: Adding an axes using the same arguments as a previous axes currently reuses the earlier instance.  In a future version, a new instance will always be created and returned.  Meanwhile, this warning can be suppressed, and the future behavior ensured, by passing a unique label to each axes instance.\n",
      "  warnings.warn(message, mplDeprecation, stacklevel=1)\n"
     ]
    },
    {
     "name": "stdout",
     "output_type": "stream",
     "text": [
      "06241902_proc_00878.png\n"
     ]
    },
    {
     "name": "stderr",
     "output_type": "stream",
     "text": [
      "c:\\python36-32\\lib\\site-packages\\matplotlib\\pyplot.py:537: RuntimeWarning: More than 20 figures have been opened. Figures created through the pyplot interface (`matplotlib.pyplot.figure`) are retained until explicitly closed and may consume too much memory. (To control this warning, see the rcParam `figure.max_open_warning`).\n",
      "  max_open_warning, RuntimeWarning)\n"
     ]
    },
    {
     "name": "stdout",
     "output_type": "stream",
     "text": [
      "key = coords2883879 value =  [[208.796875, 150.75, '2883879', 1, 67.26812023536856, 64.38167441127949, 43.11181199325907], [204.296875, 141.75, '2883879', 4, 85.0411665018772, 80, -53.13010235415598], [197.10665893554688, 148.3186492919922, '2883879', 2, 76.94323701042664, 68.66010815289724, 12.619323035259114], [204.12001037597656, 148.4560089111328, '2883879', 4, 68.62580771399875, 69.25132939974533, -104.57421693113594], [210.796875, 149.5, '2883879', 5, 63.071388124885914, 67.7421582177598, 81.5110561194953]] \n",
      "\n",
      "06241902_proc_00880.png\n"
     ]
    },
    {
     "name": "stderr",
     "output_type": "stream",
     "text": [
      "c:\\python36-32\\lib\\site-packages\\matplotlib\\cbook\\deprecation.py:107: MatplotlibDeprecationWarning: Adding an axes using the same arguments as a previous axes currently reuses the earlier instance.  In a future version, a new instance will always be created and returned.  Meanwhile, this warning can be suppressed, and the future behavior ensured, by passing a unique label to each axes instance.\n",
      "  warnings.warn(message, mplDeprecation, stacklevel=1)\n",
      "c:\\python36-32\\lib\\site-packages\\matplotlib\\pyplot.py:537: RuntimeWarning: More than 20 figures have been opened. Figures created through the pyplot interface (`matplotlib.pyplot.figure`) are retained until explicitly closed and may consume too much memory. (To control this warning, see the rcParam `figure.max_open_warning`).\n",
      "  max_open_warning, RuntimeWarning)\n"
     ]
    },
    {
     "name": "stdout",
     "output_type": "stream",
     "text": [
      "key = coords2883880 value =  [[0, 0, '2883880', 0, 0, 0, 0], [211.796875, 138.75, '2883880', 2, 76.48529270389177, 38.242646351945886, -138.17983011986425], [194.796875, 283.75, '2883880', 1, 60.03332407921454, 30.01666203960727, -88.09084756700362], [220.296875, 130.75, '2883880', 2, 61.587336360651285, 50.80354318352215, -79.79602627826831], [372.8125, 131.75, '2883880', 7, 118.82760622010359, 59.413803110051795, -173.23382517744693], [0, 0, '2883880', 0, 0, 0, 0]] \n",
      "\n",
      "key = coords2904360 value =  [[284.9685363769531, 184.96676635742188, '2904360', 3, 52.36613464355469, 56.86649129044667, -92.24574467442828], [71.08660793304443, 216.88015747070312, '2904360', 10, 94.71129608181799, 95.2341067482388, -90.67403255436341], [304.8267822265625, 328.10455322265625, '2904360', 2, 59.061687980489765, 62.4334870833937, -92.0454234826811], [309.796875, 327.75, '2904360', 1, 45.221676218380054, 40.311288741492746, -136.00508600525419], [285.796875, 184.75, '2904360', 2, 82.29216244576394, 71.17583859709698, -155.95577673063218], [82.796875, 227.75, '2904360', 7, 101.51847122568385, 92.31467922275417, -129.72610404264822], [311.296875, 335.75, '2904360', 2, 44.94441010848846, 44.41846462902562, -238.81502534126162], [283.296875, 191.75, '2904360', 1, 61.032778078668514, 65.52098900352466, -254.05460409907712], [80.296875, 232.75, '2904360', 6, 94.26027795418386, 100.12991560967181, -261.3843518158359], [287.3125, 190.5, '2904360', 2, 67.67569726275453, 62.64982043070834, -61.389540334034784], [77.3125, 221.5, '2904360', 11, 101.21264743103995, 92.11405973031478, -57.862751018958214], [305.3125, 331.5, '2904360', 1, 48.41487374764082, 46.400431032480725, 38.29016319224307], [286.796875, 191.5, '2904360', 1, 68.42514157822401, 62.177166226839255, -27.801458779934137], [307.796875, 330.5, '2904360', 1, 30.4138126514911, 30.4138126514911, -43.667780146130355], [70.796875, 229.5, '2904360', 9, 96.40020746865642, 96.02083107326243, -35.67640822186198]] \n",
      "\n",
      "06240907_proc_01761.png\n"
     ]
    },
    {
     "name": "stderr",
     "output_type": "stream",
     "text": [
      "c:\\python36-32\\lib\\site-packages\\matplotlib\\cbook\\deprecation.py:107: MatplotlibDeprecationWarning: Adding an axes using the same arguments as a previous axes currently reuses the earlier instance.  In a future version, a new instance will always be created and returned.  Meanwhile, this warning can be suppressed, and the future behavior ensured, by passing a unique label to each axes instance.\n",
      "  warnings.warn(message, mplDeprecation, stacklevel=1)\n",
      "c:\\python36-32\\lib\\site-packages\\matplotlib\\cbook\\deprecation.py:107: MatplotlibDeprecationWarning: Adding an axes using the same arguments as a previous axes currently reuses the earlier instance.  In a future version, a new instance will always be created and returned.  Meanwhile, this warning can be suppressed, and the future behavior ensured, by passing a unique label to each axes instance.\n",
      "  warnings.warn(message, mplDeprecation, stacklevel=1)\n",
      "c:\\python36-32\\lib\\site-packages\\matplotlib\\pyplot.py:537: RuntimeWarning: More than 20 figures have been opened. Figures created through the pyplot interface (`matplotlib.pyplot.figure`) are retained until explicitly closed and may consume too much memory. (To control this warning, see the rcParam `figure.max_open_warning`).\n",
      "  max_open_warning, RuntimeWarning)\n"
     ]
    },
    {
     "name": "stdout",
     "output_type": "stream",
     "text": [
      "key = coords2904362 value =  [[280.1000061035156, 186.9499969482422, '2904362', 6, 89.5377015563835, 82.87339742040264, 19.746836605426125], [66.0999984741211, 221.9499969482422, '2904362', 11, 127.283148923964, 119.36917525056458, 74.45019583029841], [288, 192.46665954589844, '2904362', 7, 77.42092740338364, 79.40403012442127, -35.53767779197438], [70, 216.46664428710938, '2904362', 11, 115.74542200910015, 91.2633464929167, -55.26514833268608], [64.758544921875, 221.84510803222656, '2904362', 1, 112.11155159036913, 113.99122773266372, -82.43857157233305], [292.7742919921875, 196.8378448486328, '2904362', 5, 88.35038472642763, 102.11162050642818, 51.465934785921206], [400.296875, 263.75, '2904362', 1, 439.04555572286574, 219.52277786143287, 146.23754365655063], [291.796875, 195.5, '2904362', 6, 65.94694837519019, 68.62215385719105, -46.77146974003408], [61.796875, 222.5, '2904362', 11, 107.20074626605917, 110.43550153822818, 35.41705527646742], [73.796875, 217.5, '2904362', 11, 102.30347012687302, 99.70456358662827, -135.40634623330902], [287.796875, 197.5, '2904362', 6, 76.94153624668537, 58, -180], [285.46875, 195, '2904362', 5, 89.09545442950498, 87.00574693662483, 45], [54.878265380859375, 214.36196899414062, '2904362', 7, 137, 129.07362240210043, -50.033786956200046]] \n",
      "\n",
      "06240907_proc_01763.png\n"
     ]
    },
    {
     "name": "stderr",
     "output_type": "stream",
     "text": [
      "c:\\python36-32\\lib\\site-packages\\matplotlib\\cbook\\deprecation.py:107: MatplotlibDeprecationWarning: Adding an axes using the same arguments as a previous axes currently reuses the earlier instance.  In a future version, a new instance will always be created and returned.  Meanwhile, this warning can be suppressed, and the future behavior ensured, by passing a unique label to each axes instance.\n",
      "  warnings.warn(message, mplDeprecation, stacklevel=1)\n",
      "c:\\python36-32\\lib\\site-packages\\matplotlib\\pyplot.py:537: RuntimeWarning: More than 20 figures have been opened. Figures created through the pyplot interface (`matplotlib.pyplot.figure`) are retained until explicitly closed and may consume too much memory. (To control this warning, see the rcParam `figure.max_open_warning`).\n",
      "  max_open_warning, RuntimeWarning)\n"
     ]
    },
    {
     "name": "stdout",
     "output_type": "stream",
     "text": [
      "key = coords2883885 value =  [[214.796875, 139.75, '2883885', 11, 65.27633568147036, 73.17103251970687, -86.08175113593262], [206.796875, 297.75, '2883885', 2, 52.23983154643591, 47.042533945356304, -92.43664824681014], [69.796875, 346.75, '2883885', 3, 55.17245689653489, 53.075418038862395, -42.70938995736147], [28.796875, 121.75, '2883885', 11, 123.25988804148737, 61.629944020743686, -86.27868673525025], [210, 144.4499969482422, '2883885', 3, 84.95881355103778, 81.6333265278342, -59.03624346792648], [204, 291.45001220703125, '2883885', 2, 69.72087205421343, 52.46903848937962, -97.66680426181418], [72, 346.45001220703125, '2883885', 2, 46.400431032480725, 41.10960958218893, -71.56505117707799], [8, 127.44999694824219, '2883885', 4, 104.00480758118829, 126.49505919204908, -11.39876306875793], [207.04566955566406, 143.82125854492188, '2883885', 11, 75.13581640220212, 79.07864969952831, -80.03620169510432], [207.045654296875, 295.8265075683594, '2883885', 2, 75.24224797907308, 64.19723497216393, -66.50143108099782], [70.04093170166016, 342.7372131347656, '2883885', 2, 51.78982341631532, 45.12362071293709, -167.19573822859297], [207.64077758789062, 146.09388732910156, '2883885', 2, 75.58438992278762, 76.6550715869472, -72.28420729362307], [210.10447692871094, 298.1241760253906, '2883885', 1, 50.42722772669729, 45.302554385989104, -241.48659607406054], [68.296875, 337.75, '2883885', 3, 64.07027391856539, 57.0350769263968, -2.6837751594689845], [-4, 138.46666717529297, '2883885', 11, 107.91200783196571, 110.63905277974861, -60.19088579329347], [207, 145.4666748046875, '2883885', 11, 75.58438992278762, 77.82030916668788, -64.11297373367331], [208, 299.4666748046875, '2883885', 2, 67.08203932499369, 60.41522986797286, -65.55604521958347], [68, 338.4666748046875, '2883885', 3, 56.938563381947034, 56.859475903318, -66.13982480865766]] \n",
      "\n",
      "06241902_proc_00886.png\n"
     ]
    },
    {
     "name": "stderr",
     "output_type": "stream",
     "text": [
      "c:\\python36-32\\lib\\site-packages\\matplotlib\\cbook\\deprecation.py:107: MatplotlibDeprecationWarning: Adding an axes using the same arguments as a previous axes currently reuses the earlier instance.  In a future version, a new instance will always be created and returned.  Meanwhile, this warning can be suppressed, and the future behavior ensured, by passing a unique label to each axes instance.\n",
      "  warnings.warn(message, mplDeprecation, stacklevel=1)\n",
      "c:\\python36-32\\lib\\site-packages\\matplotlib\\pyplot.py:537: RuntimeWarning: More than 20 figures have been opened. Figures created through the pyplot interface (`matplotlib.pyplot.figure`) are retained until explicitly closed and may consume too much memory. (To control this warning, see the rcParam `figure.max_open_warning`).\n",
      "  max_open_warning, RuntimeWarning)\n"
     ]
    },
    {
     "name": "stdout",
     "output_type": "stream",
     "text": [
      "key = coords2896179 value =  [[29.700000762939453, 128.39999389648438, '2896179', 3, 154.9999969482422, 77.4999984741211, -36.869898491906184], [219.6999969482422, 153.39999389648438, '2896179', 5, 93.7230058793193, 46.86150293965965, -50.19442174163544], [37.70000076293945, 362, '2896179', 1, 73.5526994449701, 36.77634972248505, 43.89829594521306], [212.4166717529297, 151.3000030517578, '2896179', 6, 62.96826098988344, 72.56031973468694, 7.125016348901809], [40.41667175292969, 136.3000030517578, '2896179', 1, 100.24470060806208, 62.20128616033595, -85.3893506813394], [45.41667175292969, 361.29998779296875, '2896179', 1, 38.2099463490856, 27.80287754891569, -217.69424046668917], [0, 0, '2896179', 0, 0, 0, 0], [217, 152.52777099609375, '2896179', 5, 71.30918305528927, 62.76941930590086, -202.47943439710312], [39.5, 182.75, '2896179', 3, 193.6620768245554, 96.8310384122777, -99.51096037929061], [216.5, 153.75, '2896179', 6, 86.37708029332781, 81.8413098624405, -153.12186024790134], [221, 152.96665954589844, '2896179', 6, 78.56844150166147, 78.10249675906654, 39.80557109226521], [216.796875, 154.5, '2896179', 8, 68.94200461257273, 69.6419413859206, -66.03751102542182], [47.796875, 344.5, '2896179', 1, 58.249463516842795, 29.124731758421397, -34.5085229876684], [38.796875, 117.5, '2896179', 5, 109.83624174196785, 126.19429464123962, -183.17983011986425], [218.796875, 156.5, '2896179', 5, 150.65523555456014, 75.32761777728007, 43.655275611297675]] \n",
      "\n",
      "06241902_proc_01868.png\n"
     ]
    },
    {
     "name": "stderr",
     "output_type": "stream",
     "text": [
      "c:\\python36-32\\lib\\site-packages\\matplotlib\\cbook\\deprecation.py:107: MatplotlibDeprecationWarning: Adding an axes using the same arguments as a previous axes currently reuses the earlier instance.  In a future version, a new instance will always be created and returned.  Meanwhile, this warning can be suppressed, and the future behavior ensured, by passing a unique label to each axes instance.\n",
      "  warnings.warn(message, mplDeprecation, stacklevel=1)\n",
      "c:\\python36-32\\lib\\site-packages\\numpy\\core\\fromnumeric.py:2957: RuntimeWarning: Mean of empty slice.\n",
      "  out=out, **kwargs)\n",
      "c:\\python36-32\\lib\\site-packages\\numpy\\core\\_methods.py:80: RuntimeWarning: invalid value encountered in double_scalars\n",
      "  ret = ret.dtype.type(ret / rcount)\n",
      "c:\\python36-32\\lib\\site-packages\\astropy\\units\\quantity.py:639: RuntimeWarning: invalid value encountered in true_divide\n",
      "  result = super().__array_ufunc__(function, method, *arrays, **kwargs)\n",
      "c:\\python36-32\\lib\\site-packages\\matplotlib\\pyplot.py:537: RuntimeWarning: More than 20 figures have been opened. Figures created through the pyplot interface (`matplotlib.pyplot.figure`) are retained until explicitly closed and may consume too much memory. (To control this warning, see the rcParam `figure.max_open_warning`).\n",
      "  max_open_warning, RuntimeWarning)\n"
     ]
    },
    {
     "name": "stdout",
     "output_type": "stream",
     "text": [
      "key = coords2906420 value =  [[112.796875, 132.75, '2906420', 6, 84.77027781009096, 78.44743462982075, -168.97654403625688], [286.8356018066406, 208.31971740722656, '2906420', 2, 513.3755959597825, 256.68779797989123, 167.39855933238263], [111.796875, 125.5, '2906420', 7, 77.10382610480494, 83.73768566183328, -49.844000375080675], [108, 127.46665954589844, '2906420', 7, 99.24716620639605, 99.35793878699377, -139.08561677997488], [112.79998779296875, 127.46666717529297, '2906420', 6, 92.45539465060976, 76.21680205523846, -218.0727783372018]] \n",
      "\n",
      "06240909_proc_01821.png\n"
     ]
    },
    {
     "name": "stderr",
     "output_type": "stream",
     "text": [
      "c:\\python36-32\\lib\\site-packages\\matplotlib\\cbook\\deprecation.py:107: MatplotlibDeprecationWarning: Adding an axes using the same arguments as a previous axes currently reuses the earlier instance.  In a future version, a new instance will always be created and returned.  Meanwhile, this warning can be suppressed, and the future behavior ensured, by passing a unique label to each axes instance.\n",
      "  warnings.warn(message, mplDeprecation, stacklevel=1)\n",
      "c:\\python36-32\\lib\\site-packages\\matplotlib\\pyplot.py:537: RuntimeWarning: More than 20 figures have been opened. Figures created through the pyplot interface (`matplotlib.pyplot.figure`) are retained until explicitly closed and may consume too much memory. (To control this warning, see the rcParam `figure.max_open_warning`).\n",
      "  max_open_warning, RuntimeWarning)\n"
     ]
    },
    {
     "name": "stdout",
     "output_type": "stream",
     "text": [
      "key = coords2883893 value =  [[215, 146.46665954589844, '2883893', 2, 79.83107164506812, 78.10249675906654, -77.70473357700186], [209, 295.4666748046875, '2883893', 4, 62.369864518050704, 62.48200912938046, -41.09950625761811], [77, 346.4666748046875, '2883893', 1, 41.88078318274385, 27.101660465735304, -56.6893691754392], [214.296875, 288.75, '2883893', 3, 54.00925846556311, 51.0098029794274, 1.123302714075436], [213.296875, 138.75, '2883893', 2, 70.02856560004639, 71.06335201775947, -182.41950921665637], [80.296875, 345.75, '2883893', 1, 34.132096331752024, 31.144823004794873, -264.4724598483439], [215.6999969482422, 145.9499969482422, '2883893', 4, 73.78346698278686, 75.6042326857432, 52.52382043863861], [213.6999969482422, 298.95001220703125, '2883893', 4, 73.10951859357718, 63.03174941508767, -41.784506766094644], [217.4176025390625, 146.55235290527344, '2883893', 4, 71.43860133309143, 74.57620917190522, -260.39479211062144], [211.76138305664062, 292.4825439453125, '2883893', 3, 54.393787008292875, 50.23527960525697, -35.8376466838038], [78.27487182617188, 345.65087890625, '2883893', 1, 29.41226489727398, 26.481697582863692, -250.0168455284416], [5.875402450561523, 370.5382080078125, '2883893', 1, 41.48743114324766, 20.74371557162383, 78.9964594355501], [12.66285228729248, 119.40255737304688, '2883893', 8, 99.65205769282512, 77.92440941208126, -99.18884032225566], [210.796875, 298.75, '2883893', 3, 52.43090691567332, 57.48912940721924, -55.097504384075286], [205.796875, 146.75, '2883893', 2, 92.00543462209176, 79.81227975693966, 37.87498365109822], [74.796875, 346.75, '2883893', 1, 42.15447781671598, 29.436372059070052, -67.69379494509236], [214.796875, 141.75, '2883893', 2, 67.08203932499369, 67.06713054842886, -79.69515353123397], [208.796875, 292.75, '2883893', 2, 45.880278987817846, 51.62363799656123, -73.53998518795997], [225.796875, 147.5, '2883893', 11, 61.741396161732524, 55.31726674375732, 40.60129464500449], [212.796875, 291.5, '2883893', 11, 50.21951811795888, 44.94441010848846, -35.272421448598394], [203.73680114746094, 286.4228210449219, '2883893', 3, 133.5191305681375, 66.75956528406876, -17.878700616262126], [29.52614402770996, 354.05755615234375, '2883893', 1, 137.79231481040117, 68.89615740520058, -22.750976319194347], [195.5386505126953, 116.31123352050781, '2883893', 2, 137.73133696316395, 68.86566848158198, -36.52885782286052], [219.45657348632812, 292.85882568359375, '2883893', 1, 52.47974464093881, 50.04111409053167, 2.2906107409168754], [225.4569854736328, 145.8549041748047, '2883893', 1, 54.3795256874436, 50.120973052442444, 61.38953128532336], [218.96875, 149.609375, '2883893', 3, 56.462376853972415, 53.150729063673246, -168.05582281155367], [210.96875, 295.609375, '2883893', 3, 60.00833275470999, 52.15361924162119, -184.39870535499554], [83.96875, 345.609375, '2883893', 1, 35.11409973215888, 24.166091947189145, -65.55604521958347]] \n",
      "\n",
      "06241902_proc_00894.png\n"
     ]
    },
    {
     "name": "stderr",
     "output_type": "stream",
     "text": [
      "c:\\python36-32\\lib\\site-packages\\matplotlib\\cbook\\deprecation.py:107: MatplotlibDeprecationWarning: Adding an axes using the same arguments as a previous axes currently reuses the earlier instance.  In a future version, a new instance will always be created and returned.  Meanwhile, this warning can be suppressed, and the future behavior ensured, by passing a unique label to each axes instance.\n",
      "  warnings.warn(message, mplDeprecation, stacklevel=1)\n",
      "c:\\python36-32\\lib\\site-packages\\matplotlib\\pyplot.py:537: RuntimeWarning: More than 20 figures have been opened. Figures created through the pyplot interface (`matplotlib.pyplot.figure`) are retained until explicitly closed and may consume too much memory. (To control this warning, see the rcParam `figure.max_open_warning`).\n",
      "  max_open_warning, RuntimeWarning)\n"
     ]
    },
    {
     "name": "stdout",
     "output_type": "stream",
     "text": [
      "key = coords2896182 value =  [[30.796875, 150.40625, '2896182', 3, 125.2078272313676, 62.6039136156838, -53.77076328273216], [223.796875, 148.40625, '2896182', 6, 75.43208866258443, 37.71604433129222, -51.45881637871866], [66.796875, 356.40625, '2896182', 1, 86.83317338436964, 43.41658669218482, -7.943471810590411], [226.296875, 147.5, '2896182', 7, 86.4060183089118, 80.23091673413684, -202.7297320799447], [63.296875, 362.5, '2896182', 2, 81.60882305241266, 68.00735254367721, 17.102728969052375], [269.296875, 14.5, '2896182', 11, 44.721359549995796, 43.278170016764804, -139.68589983950272], [195.296875, 1.5, '2896182', 11, 45.044422518220834, 31.144823004794873, -185.52754015165618], [180.296875, 286.5, '2896182', 2, 71.5122367151245, 70.09279563550022, 42.10873040377945], [219.6505889892578, 145.59454345703125, '2896182', 5, 76.5185419101329, 67.50906372070312, 0], [225.97915649414062, 142.9375, '2896182', 9, 57.706152185014034, 77.62087348130012, -255.06858282186246], [61.979164123535156, 357.9375, '2896182', 2, 43.32435804486894, 43.41658669218482, -97.94347181059041]] \n",
      "\n",
      "06241902_proc_01871.png\n"
     ]
    },
    {
     "name": "stderr",
     "output_type": "stream",
     "text": [
      "c:\\python36-32\\lib\\site-packages\\matplotlib\\cbook\\deprecation.py:107: MatplotlibDeprecationWarning: Adding an axes using the same arguments as a previous axes currently reuses the earlier instance.  In a future version, a new instance will always be created and returned.  Meanwhile, this warning can be suppressed, and the future behavior ensured, by passing a unique label to each axes instance.\n",
      "  warnings.warn(message, mplDeprecation, stacklevel=1)\n",
      "c:\\python36-32\\lib\\site-packages\\matplotlib\\pyplot.py:537: RuntimeWarning: More than 20 figures have been opened. Figures created through the pyplot interface (`matplotlib.pyplot.figure`) are retained until explicitly closed and may consume too much memory. (To control this warning, see the rcParam `figure.max_open_warning`).\n",
      "  max_open_warning, RuntimeWarning)\n"
     ]
    },
    {
     "name": "stdout",
     "output_type": "stream",
     "text": [
      "key = coords2912567 value =  [[0, 0, '2912567', 0, 0, 0, 0], [0, 0, '2912567', 0, 0, 0, 0], [0, 0, '2912567', 0, 0, 0, 0], [0, 0, '2912567', 0, 0, 0, 0], [0, 0, '2912567', 0, 0, 0, 0], [0, 0, '2912567', 0, 0, 0, 0]] \n",
      "\n",
      "06240910_proc_00333.png\n"
     ]
    },
    {
     "name": "stderr",
     "output_type": "stream",
     "text": [
      "c:\\python36-32\\lib\\site-packages\\matplotlib\\cbook\\deprecation.py:107: MatplotlibDeprecationWarning: Adding an axes using the same arguments as a previous axes currently reuses the earlier instance.  In a future version, a new instance will always be created and returned.  Meanwhile, this warning can be suppressed, and the future behavior ensured, by passing a unique label to each axes instance.\n",
      "  warnings.warn(message, mplDeprecation, stacklevel=1)\n",
      "c:\\python36-32\\lib\\site-packages\\matplotlib\\pyplot.py:537: RuntimeWarning: More than 20 figures have been opened. Figures created through the pyplot interface (`matplotlib.pyplot.figure`) are retained until explicitly closed and may consume too much memory. (To control this warning, see the rcParam `figure.max_open_warning`).\n",
      "  max_open_warning, RuntimeWarning)\n"
     ]
    },
    {
     "name": "stdout",
     "output_type": "stream",
     "text": [
      "key = coords2883896 value =  [[211.279541015625, 154.63897705078125, '2883896', 8, 73.27242027132036, 77.22547691986259, -34.24903636433726], [210.82229614257812, 151.13690185546875, '2883896', 8, 79.37063070262688, 76.45325407029887, 2.009556018471983], [230.92919921875, 290.5447692871094, '2883896', 1, 53.91917649712322, 57.99717433272781, -123.69007588767218], [349.399658203125, 165.99668884277344, '2883896', None, 0, 0, 0], [210.14927673339844, 154.1094512939453, '2883896', 6, 64.55302049542536, 68.45565463030506, -133.9949288850836], [204.39083862304688, 155.60167694091797, '2883896', 5, 88.42308276811549, 81.5395203023687, -10.234801412040285], [217.6849822998047, 293.37713623046875, '2883896', 2, 56.89209465613617, 52.47139513485759, 7.94347641576033], [206.296875, 152.75, '2883896', 11, 84.1486779456457, 69.58448102845921, -7.431407971172504], [-2.703125, 130.75, '2883896', 11, 113.03981599418853, 95.02105029939419, -88.79395122078004], [277.296875, 12.75, '2883896', 11, 69.02897942168927, 34.514489710844636, -141.4698199851732], [208.296875, -13.25, '2883896', 11, 54.91812087098393, 27.459060435491963, -123.11134196037203], [205.92999267578125, 150.08999633789062, '2883896', 7, 77.00656468931143, 78.3000088395748, -135.47351283548204], [207.21665954589844, 152.4666748046875, '2883896', 6, 66.06814663663572, 78.16010734621163, -93.6677873399773], [222.21665954589844, 287.4666748046875, '2883896', 2, 49.57822102496216, 54.083281828040434, -56.309941440830556], [263.2166748046875, 20.4666748046875, '2883896', 3, 58.59182184327686, 45.48626166217664, -146.659292653523]] \n",
      "\n",
      "06241902_proc_00897.png\n"
     ]
    },
    {
     "name": "stderr",
     "output_type": "stream",
     "text": [
      "c:\\python36-32\\lib\\site-packages\\matplotlib\\colors.py:504: RuntimeWarning: invalid value encountered in less\n",
      "  xa[xa < 0] = -1\n",
      "c:\\python36-32\\lib\\site-packages\\matplotlib\\cbook\\deprecation.py:107: MatplotlibDeprecationWarning: Adding an axes using the same arguments as a previous axes currently reuses the earlier instance.  In a future version, a new instance will always be created and returned.  Meanwhile, this warning can be suppressed, and the future behavior ensured, by passing a unique label to each axes instance.\n",
      "  warnings.warn(message, mplDeprecation, stacklevel=1)\n",
      "c:\\python36-32\\lib\\site-packages\\matplotlib\\pyplot.py:537: RuntimeWarning: More than 20 figures have been opened. Figures created through the pyplot interface (`matplotlib.pyplot.figure`) are retained until explicitly closed and may consume too much memory. (To control this warning, see the rcParam `figure.max_open_warning`).\n",
      "  max_open_warning, RuntimeWarning)\n"
     ]
    },
    {
     "name": "stdout",
     "output_type": "stream",
     "text": [
      "key = coords2904376 value =  [[291.296875, 193.75, '2904376', 7, 67.95586803212802, 79.98124780221924, 47.533558888394595], [86.296875, 224.75, '2904376', 7, 107.8702924812944, 94.19129471453293, 86.34777721969368], [294.0486755371094, 194.82302856445312, '2904376', 7, 70.00241088867188, 72.06496173458875, -2.3859344345214595], [306.0491027832031, 327.82763671875, '2904376', 1, 51.0115433436308, 49.011912270645645, -1.1691342324568978], [83.0413818359375, 218.73294067382812, '2904376', 11, 97.00851157203824, 98.00848949423005, -0.5846281542206526], [297.29998779296875, 197.46665954589844, '2904376', 1, 58.52349955359813, 57.28001396647874, -44.292680631455745], [88.29998779296875, 222.46665954589844, '2904376', 1, 82.46211251235322, 87.32124598286491, 39.88958243896877], [307.29998779296875, 330.4666748046875, '2904376', 1, 39.698866482558415, 40.311288741492746, 43.994913994745815], [98, 217.46665954589844, '2904376', 10, 113.00001525878906, 92.00543462209176, -89.37724431279368], [295, 195.46665954589844, '2904376', 8, 91.08786966440702, 81.0061878619409, -179.29268076468708], [307, 329.4666748046875, '2904376', 1, 55.90169943749474, 52.354560450833695, -208.52311860631204]] \n",
      "\n"
     ]
    },
    {
     "name": "stderr",
     "output_type": "stream",
     "text": [
      "c:\\python36-32\\lib\\site-packages\\matplotlib\\cbook\\deprecation.py:107: MatplotlibDeprecationWarning: Adding an axes using the same arguments as a previous axes currently reuses the earlier instance.  In a future version, a new instance will always be created and returned.  Meanwhile, this warning can be suppressed, and the future behavior ensured, by passing a unique label to each axes instance.\n",
      "  warnings.warn(message, mplDeprecation, stacklevel=1)\n"
     ]
    },
    {
     "name": "stdout",
     "output_type": "stream",
     "text": [
      "06240907_proc_01777.png\n"
     ]
    },
    {
     "name": "stderr",
     "output_type": "stream",
     "text": [
      "c:\\python36-32\\lib\\site-packages\\matplotlib\\pyplot.py:537: RuntimeWarning: More than 20 figures have been opened. Figures created through the pyplot interface (`matplotlib.pyplot.figure`) are retained until explicitly closed and may consume too much memory. (To control this warning, see the rcParam `figure.max_open_warning`).\n",
      "  max_open_warning, RuntimeWarning)\n"
     ]
    },
    {
     "name": "stdout",
     "output_type": "stream",
     "text": [
      "key = coords2904375 value =  [[307.5, 325.95001220703125, '2904375', 2, 40.311288741492746, 51.24451190127583, -264.40066066347947], [294.5, 193.9499969482422, '2904375', 8, 63.12685640834652, 69.9714227381436, 59.03624346792648], [86.5, 215.9499969482422, '2904375', 11, 96.1041102138717, 101.41498903022176, 77.47119229084848], [82.796875, 210.75, '2904375', 11, 99.80981915623332, 103.3537614216338, 24.253919724316592], [293.796875, 195.75, '2904375', 7, 69.00724599634447, 70, 0], [305.796875, 327.75, '2904375', 3, 47.095647357266465, 53.08483775994799, 3.2397002961021286], [296.6333312988281, 195.5833282470703, '2904375', 5, 67.41662942188414, 60.00833275470999, -66.42529379808738], [305.6333312988281, 330.5833435058594, '2904375', 2, 39.81205847478876, 46.14108798023731, -60.10109816138544], [82.63333129882812, 214.5833282470703, '2904375', 11, 108.24048655511362, 83.24061508662703, -61.279673202130525], [306.296875, 327.75, '2904375', 2, 53.75872022286245, 37.12142238654117, -9.637538112930946], [294.5634307861328, 195.0902862548828, '2904375', 6, 76.025803607177, 66.03568417549269, 3.6913710699006117], [70.46916198730469, 210.7001190185547, '2904375', 6, 98.55575286604655, 90.04909330549476, 6.972766339478667], [84.96875, 221.609375, '2904375', 11, 101.13851887386922, 99.32270636667126, -147.7500258358164], [294.96875, 197.609375, '2904375', 9, 71.80529228406496, 64.8459713474939, -197.03776779562565], [306.96875, 329.609375, '2904375', 2, 48.041648597857254, 45.0111097397076, -178.7269699799433]] \n",
      "\n",
      "06240907_proc_01776.png\n"
     ]
    },
    {
     "name": "stderr",
     "output_type": "stream",
     "text": [
      "c:\\python36-32\\lib\\site-packages\\matplotlib\\cbook\\deprecation.py:107: MatplotlibDeprecationWarning: Adding an axes using the same arguments as a previous axes currently reuses the earlier instance.  In a future version, a new instance will always be created and returned.  Meanwhile, this warning can be suppressed, and the future behavior ensured, by passing a unique label to each axes instance.\n",
      "  warnings.warn(message, mplDeprecation, stacklevel=1)\n",
      "c:\\python36-32\\lib\\site-packages\\matplotlib\\pyplot.py:537: RuntimeWarning: More than 20 figures have been opened. Figures created through the pyplot interface (`matplotlib.pyplot.figure`) are retained until explicitly closed and may consume too much memory. (To control this warning, see the rcParam `figure.max_open_warning`).\n",
      "  max_open_warning, RuntimeWarning)\n"
     ]
    },
    {
     "name": "stdout",
     "output_type": "stream",
     "text": [
      "key = coords2896188 value =  [[5.296875, 139.75, '2896188', 1, 87.28115489611719, 102.07840124139877, -2.245742565895071], [0, 0, '2896188', 0, 0, 0, 0], [23.296875, 134.5, '2896188', 7, 104.00480758118829, 66, -90], [0, 0, '2896188', 0, 0, 0, 0]] \n",
      "\n",
      "key = coords2883904 value =  [[210.296875, 297, '2883904', 2, 60.959002616512684, 59.81638571495272, -38.21102542556121], [58.296875, 333, '2883904', 1, 69.1158447825099, 59.07622195096772, -56.04094018032373], [210.67079162597656, 155.3179473876953, '2883904', 10, 79.31468384576945, 76.49852856724307, -68.19858839142712], [0, 0, '2883904', 0, 0, 0, 0], [211.296875, 150.75, '2883904', 11, 74, 74.06078584514209, -2.3215305898327045], [208.296875, 297.75, '2883904', 2, 51.264022471905186, 50, -73.73979529168804], [65.296875, 331.75, '2883904', 2, 55.80322571321482, 48.104053883222775, -46.68468431789629], [4.296875, 139.75, '2883904', 11, 116.00431026474836, 78.16009211867653, -93.66778805553143], [202.296875, 150.75, '2883904', 10, 79.02531240052139, 81.00617260431454, -269.29268063145577], [205.296875, 304.75, '2883904', 3, 71.02816342831905, 46.87216658103186, 78.92979742206063], [57.296875, 335.75, '2883904', 3, 56.0357029044876, 49.063734060913056, -2.0454084888872277], [212, 151.46665954589844, '2883904', 11, 72.24956747275377, 67.4166151627327, -69.14554196042165], [210, 298.4666748046875, '2883904', 2, 48.91829923454004, 49.92995093127971, -57.2647737278924], [59, 334.4666748046875, '2883904', 2, 38.91015291668744, 33.421549934136806, -51.072456407207696], [415, 221.4666748046875, '2883904', 1, 23.345235059857504, 18.384776310850235, -67.61986494804043], [301, 91.46666717529297, '2883904', 2, 25.495097567963924, 20.396078054371138, -78.69006752597979], [23, 209.4666748046875, '2883904', 3, 35.608987629529715, 34.17601498127012, -69.44395478041653], [198, 13.466667175292969, '2883904', 2, 23.853720883753127, 26.30589287593181, -81.25383773744478], [262, 17.46666717529297, '2883904', 5, 34.9857113690718, 30.805843601498726, -76.86597769360368], [210.296875, 146.75, '2883904', 10, 73.68174807915459, 75.32595834106593, -84.66784111834045], [210.296875, 296.75, '2883904', 3, 46.17358552246078, 50.59644256269407, -18.43494882292201], [60.296875, 333.75, '2883904', 2, 48.08326112068523, 46.06517122512408, -27.12130340415866], [18.296875, 203.75, '2883904', 6, 48.76474136094644, 44.77722635447622, -60.57254359681026]] \n",
      "\n",
      "06241902_proc_00905.png\n"
     ]
    },
    {
     "name": "stderr",
     "output_type": "stream",
     "text": [
      "c:\\python36-32\\lib\\site-packages\\matplotlib\\cbook\\deprecation.py:107: MatplotlibDeprecationWarning: Adding an axes using the same arguments as a previous axes currently reuses the earlier instance.  In a future version, a new instance will always be created and returned.  Meanwhile, this warning can be suppressed, and the future behavior ensured, by passing a unique label to each axes instance.\n",
      "  warnings.warn(message, mplDeprecation, stacklevel=1)\n",
      "c:\\python36-32\\lib\\site-packages\\matplotlib\\cbook\\deprecation.py:107: MatplotlibDeprecationWarning: Adding an axes using the same arguments as a previous axes currently reuses the earlier instance.  In a future version, a new instance will always be created and returned.  Meanwhile, this warning can be suppressed, and the future behavior ensured, by passing a unique label to each axes instance.\n",
      "  warnings.warn(message, mplDeprecation, stacklevel=1)\n",
      "c:\\python36-32\\lib\\site-packages\\matplotlib\\pyplot.py:537: RuntimeWarning: More than 20 figures have been opened. Figures created through the pyplot interface (`matplotlib.pyplot.figure`) are retained until explicitly closed and may consume too much memory. (To control this warning, see the rcParam `figure.max_open_warning`).\n",
      "  max_open_warning, RuntimeWarning)\n"
     ]
    },
    {
     "name": "stdout",
     "output_type": "stream",
     "text": [
      "key = coords2883906 value =  [[204.296875, 150, '2883906', 2, 121.01652779682617, 91.6092244263644, -52.31700723232478], [211.796875, 153.75, '2883906', 7, 79.81227975693966, 87.47571091451616, -79.46081627137177], [207.296875, 149.75, '2883906', 6, 74.88658090739622, 71.55417527999327, -63.43494882292201], [206.73333740234375, 151.8000030517578, '2883906', 11, 70.2922470831599, 69.29646455628166, -45], [8.73333740234375, 194.8000030517578, '2883906', 6, 55.97320787662612, 46.69047011971501, -43.26429541107161], [194.73333740234375, 4.8000030517578125, '2883906', 1, 21.540659228538015, 24.020824298928627, -87.61405596961119], [262.73333740234375, 21.800003051757812, '2883906', 1, 42.638011210655684, 40.45985664828782, -129.98688624496418], [210.1750030517578, 152.8000030517578, '2883906', 9, 77.79460135510689, 81.04318367160275, -72.03086025984298], [22.174999237060547, 198.8000030517578, '2883906', 5, 53.75871992128416, 38.48376280978771, -114.56717132060132]] \n",
      "\n",
      "06241902_proc_00907.png\n"
     ]
    },
    {
     "name": "stderr",
     "output_type": "stream",
     "text": [
      "c:\\python36-32\\lib\\site-packages\\matplotlib\\cbook\\deprecation.py:107: MatplotlibDeprecationWarning: Adding an axes using the same arguments as a previous axes currently reuses the earlier instance.  In a future version, a new instance will always be created and returned.  Meanwhile, this warning can be suppressed, and the future behavior ensured, by passing a unique label to each axes instance.\n",
      "  warnings.warn(message, mplDeprecation, stacklevel=1)\n",
      "c:\\python36-32\\lib\\site-packages\\matplotlib\\pyplot.py:537: RuntimeWarning: More than 20 figures have been opened. Figures created through the pyplot interface (`matplotlib.pyplot.figure`) are retained until explicitly closed and may consume too much memory. (To control this warning, see the rcParam `figure.max_open_warning`).\n",
      "  max_open_warning, RuntimeWarning)\n"
     ]
    },
    {
     "name": "stdout",
     "output_type": "stream",
     "text": [
      "key = coords2896195 value =  [[203.796875, 150.5, '2896195', 4, 70.57619995437555, 55.036351623268054, -20.74608027568341], [39.796875, 330.5, '2896195', 1, 54.644304369257, 39.6232255123179, -47.045408488887226], [204.296875, 153.75, '2896195', 6, 70.61161377563892, 73.02739212103907, 1.569354804748997], [31.296875, 347.75, '2896195', 2, 85.70297544426332, 88.11923740024082, 27.728257422319146], [34.08332824707031, 340.8833312988281, '2896195', 2, 80.72174428244226, 82.46211251235322, 39.0938588862295], [214.0833282470703, 153.88333129882812, '2896195', 5, 90.82400563727631, 77.93587107359485, 151.74197038529311], [203.18043518066406, 140.1318817138672, '2896195', 5, 77.23109289768, 90.66427464256188, -110.43283699929638], [209, 154.4666748046875, '2896195', 5, 72.03472126770043, 76.15773105863909, 76.32869286780416], [32, 342.4666748046875, '2896195', 2, 58, 55.31726674375732, -43.60281897270362], [240, 269.4666748046875, '2896195', 1, 22.090722034374522, 19.6468827043885, -5.194428907734806], [0, 0, '2896195', 0, 0, 0, 0], [211.84744262695312, 150.71311950683594, '2896195', 6, 78.28205144612453, 65.61639916436921, -190.43748535108136], [26.74626922607422, 322.2288513183594, '2896195', 2, 102.25782272558438, 68.45565879406645, -29.744879712863828]] \n",
      "\n",
      "06241902_proc_01884.png\n"
     ]
    },
    {
     "name": "stderr",
     "output_type": "stream",
     "text": [
      "c:\\python36-32\\lib\\site-packages\\matplotlib\\cbook\\deprecation.py:107: MatplotlibDeprecationWarning: Adding an axes using the same arguments as a previous axes currently reuses the earlier instance.  In a future version, a new instance will always be created and returned.  Meanwhile, this warning can be suppressed, and the future behavior ensured, by passing a unique label to each axes instance.\n",
      "  warnings.warn(message, mplDeprecation, stacklevel=1)\n",
      "c:\\python36-32\\lib\\site-packages\\matplotlib\\pyplot.py:537: RuntimeWarning: More than 20 figures have been opened. Figures created through the pyplot interface (`matplotlib.pyplot.figure`) are retained until explicitly closed and may consume too much memory. (To control this warning, see the rcParam `figure.max_open_warning`).\n",
      "  max_open_warning, RuntimeWarning)\n"
     ]
    },
    {
     "name": "stdout",
     "output_type": "stream",
     "text": [
      "key = coords2904388 value =  [[86.4000015258789, 222.26666259765625, '2904388', 11, 106.28264204469139, 106.89246933250256, 70.20112364547508], [285.3999938964844, 192.6666717529297, '2904388', 8, 66.96723993846297, 76.05530917102809, 87.43240302171795], [284.6527099609375, 193.6123046875, '2904388', 8, 76.43377685546875, 64.50205444135224, -1.0609091806848312], [88.79119873046875, 222.27496337890625, '2904388', 11, 103.96391498728437, 99.47693204802225, -91.97492937402167], [288, 197.4499969482422, '2904388', 6, 66.12110101926616, 81, -270], [85, 221.4499969482422, '2904388', 7, 113.78050530495725, 95.00526301210897, -89.39690880561946], [288, 324.45001220703125, '2904388', 1, 65.60487786742691, 61.84658438426491, -50.9061411137705], [89.5, 223.75, '2904388', 5, 117.2092146548214, 103.78824596263297, -115.08359400619092], [280.5, 184.75, '2904388', 7, 69.05070600652827, 70.71067811865476, -118.73979529168804]] \n",
      "\n",
      "06240907_proc_01789.png\n"
     ]
    },
    {
     "name": "stderr",
     "output_type": "stream",
     "text": [
      "c:\\python36-32\\lib\\site-packages\\matplotlib\\cbook\\deprecation.py:107: MatplotlibDeprecationWarning: Adding an axes using the same arguments as a previous axes currently reuses the earlier instance.  In a future version, a new instance will always be created and returned.  Meanwhile, this warning can be suppressed, and the future behavior ensured, by passing a unique label to each axes instance.\n",
      "  warnings.warn(message, mplDeprecation, stacklevel=1)\n",
      "c:\\python36-32\\lib\\site-packages\\matplotlib\\pyplot.py:537: RuntimeWarning: More than 20 figures have been opened. Figures created through the pyplot interface (`matplotlib.pyplot.figure`) are retained until explicitly closed and may consume too much memory. (To control this warning, see the rcParam `figure.max_open_warning`).\n",
      "  max_open_warning, RuntimeWarning)\n"
     ]
    },
    {
     "name": "stdout",
     "output_type": "stream",
     "text": [
      "key = coords2906436 value =  [[109.796875, 122.75, '2906436', 11, 118.66338946785567, 59.33169473392783, -12.162203519681835], [309.796875, 113.75, '2906436', 2, 59.07622195096772, 54.62600113499065, -246.25050550713325], [105.796875, 344.75, '2906436', 1, 78.91767862779544, 39.45883931389772, 8.74616226255521], [117.796875, 110.75, '2906436', 8, 88.58893836140041, 91.23595782365635, 118.30075576600638], [137.52682495117188, 154.39520263671875, '2906436', 1, 168.94085185690687, 84.47042592845344, 95.66854068610681], [302.9058532714844, 120.9222183227539, '2906436', 1, 63.157534886817515, 31.578767443408758, -33.11290018786738], [112.796875, 112.5, '2906436', 5, 88.41379982785493, 85.0881895447306, -60.422161318738674], [110, 119.95001220703125, '2906436', 6, 103.47946656221224, 85.63293758829018, -47.366247991455786]] \n",
      "\n",
      "06240909_proc_01837.png\n"
     ]
    },
    {
     "name": "stderr",
     "output_type": "stream",
     "text": [
      "c:\\python36-32\\lib\\site-packages\\matplotlib\\cbook\\deprecation.py:107: MatplotlibDeprecationWarning: Adding an axes using the same arguments as a previous axes currently reuses the earlier instance.  In a future version, a new instance will always be created and returned.  Meanwhile, this warning can be suppressed, and the future behavior ensured, by passing a unique label to each axes instance.\n",
      "  warnings.warn(message, mplDeprecation, stacklevel=1)\n",
      "c:\\python36-32\\lib\\site-packages\\matplotlib\\pyplot.py:537: RuntimeWarning: More than 20 figures have been opened. Figures created through the pyplot interface (`matplotlib.pyplot.figure`) are retained until explicitly closed and may consume too much memory. (To control this warning, see the rcParam `figure.max_open_warning`).\n",
      "  max_open_warning, RuntimeWarning)\n"
     ]
    },
    {
     "name": "stdout",
     "output_type": "stream",
     "text": [
      "key = coords10518854 value =  [[298.796875, 125.75, '10518854', 5, 67.11929677819934, 58.66856057549052, -61.52579638992563], [306.796875, 126.75, '10518854', 8, 62.6418390534633, 63.631753079732135, -30.19162296095761], [131.796875, 103.75, '10518854', 8, 91.35097153287424, 62.48199740725323, -39.80557109226519], [306.796875, 124.75, '10518854', 6, 77.31752712031083, 56.00892785976178, -178.97696981133217], [301.6999816894531, 132.14999389648438, '10518854', 6, 69.40459397911326, 61.85466837676846, -214.46081627137178], [304.265625, 130.75, '10518854', 5, 62.93647591023825, 53.009433122794285, -45.64374571417538], [300, 121.46665954589844, '10518854', 5, 58.008620049092706, 57.30619512757761, -54.11786275379579], [151.3284912109375, 127.70701599121094, '10518854', 5, 50.27216571764464, 51.20379955136242, -209.7448897681206], [56.06278991699219, 137.23355865478516, '10518854', 2, 40.557947381992484, 27.785809326173382, -53.130121232804505], [305.3125, 127.75, '10518854', 6, 61.40032573203501, 56.859475903318, -34.24903300681195], [53.3125, 129.75, '10518854', 1, 33.97057550292606, 23.430749027719962, -50.1944289077348]] \n",
      "\n",
      "06240913_proc_01369.png\n"
     ]
    },
    {
     "name": "stderr",
     "output_type": "stream",
     "text": [
      "c:\\python36-32\\lib\\site-packages\\matplotlib\\cbook\\deprecation.py:107: MatplotlibDeprecationWarning: Adding an axes using the same arguments as a previous axes currently reuses the earlier instance.  In a future version, a new instance will always be created and returned.  Meanwhile, this warning can be suppressed, and the future behavior ensured, by passing a unique label to each axes instance.\n",
      "  warnings.warn(message, mplDeprecation, stacklevel=1)\n",
      "c:\\python36-32\\lib\\site-packages\\matplotlib\\pyplot.py:537: RuntimeWarning: More than 20 figures have been opened. Figures created through the pyplot interface (`matplotlib.pyplot.figure`) are retained until explicitly closed and may consume too much memory. (To control this warning, see the rcParam `figure.max_open_warning`).\n",
      "  max_open_warning, RuntimeWarning)\n"
     ]
    },
    {
     "name": "stdout",
     "output_type": "stream",
     "text": [
      "key = coords2896199 value =  [[194.796875, 147, '2896199', 1, 68.96375859826666, 61.98386886924694, -17.850318302216834], [204, 147.46665954589844, '2896199', 4, 51.478150704935004, 61.29437168288782, -241.76255446183274], [194, 138.760009765625, '2896199', 4, 93.92017887546851, 87.80091115700337, 14.511059500169068], [190.796875, 136.75, '2896199', 3, 80.05623023850174, 55.44366510251645, -7.2531946127253235], [17.796875, 124.75, '2896199', 11, 117.2092146548214, 83.05419917138447, -87.9299693469589], [197.796875, 142.5, '2896199', 3, 72.49827584156743, 56.824290580701486, -151.6309537067214], [197.09999084472656, 139.89999389648438, '2896199', 3, 87.3613312471022, 77.3886227548005, 25.240531673429444], [32.099998474121094, 354.8999938964844, '2896199', 2, 77.23341245859851, 67.35725523025211, 40.78582024882547], [27.67983055114746, 353.9464111328125, '2896199', 3, 78.30897442123019, 39.154487210615095, 15.76044187070774], [160.46670532226562, 160.28085327148438, '2896199', 4, 117.70647057232185, 58.853235286160924, 15.36961814648532], [217.4383544921875, 47.77119445800781, '2896199', 3, 68.33012652216732, 34.16506326108366, 11.9766117586451]] \n",
      "\n",
      "06241902_proc_01888.png\n"
     ]
    },
    {
     "name": "stderr",
     "output_type": "stream",
     "text": [
      "c:\\python36-32\\lib\\site-packages\\matplotlib\\cbook\\deprecation.py:107: MatplotlibDeprecationWarning: Adding an axes using the same arguments as a previous axes currently reuses the earlier instance.  In a future version, a new instance will always be created and returned.  Meanwhile, this warning can be suppressed, and the future behavior ensured, by passing a unique label to each axes instance.\n",
      "  warnings.warn(message, mplDeprecation, stacklevel=1)\n",
      "c:\\python36-32\\lib\\site-packages\\matplotlib\\pyplot.py:537: RuntimeWarning: More than 20 figures have been opened. Figures created through the pyplot interface (`matplotlib.pyplot.figure`) are retained until explicitly closed and may consume too much memory. (To control this warning, see the rcParam `figure.max_open_warning`).\n",
      "  max_open_warning, RuntimeWarning)\n"
     ]
    },
    {
     "name": "stdout",
     "output_type": "stream",
     "text": [
      "key = coords2883912 value =  [[204.296875, 145, '2883912', 7, 89.8443097808648, 85.70297544426332, -11.441043868767423], [205.296875, 295, '2883912', 2, 63.7808748764079, 58.89821729050889, -49.82076607809265], [46.296875, 337, '2883912', 2, 62.80127387243033, 108.4665847162157, 49.11222884471846], [2.296875, 136, '2883912', 10, 94.19129471453293, 116.01724009818541, -0.9877603996398108], [210.5, 150.46665954589844, '2883912', 8, 91.08786966440702, 83.21658488546619, -94.13467137373642], [203.5, 298.4666748046875, '2883912', 3, 50.039984012787215, 49.502525188115406, -2.2906100426385296], [205.296875, 295.75, '2883912', 3, 48.83646178829912, 44.204072210600685, -52.35237935989235], [31.609573364257812, 338.1866760253906, '2883912', 2, 83.97337315718111, 64.81324898195949, -27.351393791599442], [209.90843200683594, 150.29100036621094, '2883912', 11, 75.82681773160674, 77.017641943003, -35.63981354964492], [36.296875, 142.75, '2883912', 11, 101.11874208078342, 50.55937104039171, -98.53076560994813], [212.796875, 143.75, '2883912', 9, 76.55063683601855, 70.09279563550022, -132.10873040377945], [39.796875, 139.75, '2883912', 10, 97.32420048477151, 48.662100242385755, -99.46232220802563], [49.796875, 342.75, '2883912', 3, 67.4166151627327, 36.61966684720111, -214.9920201985587], [208.796875, 297.75, '2883912', 3, 41.72529209005013, 51.97114584074513, -149.98163257239094], [207.16989135742188, 155.31490325927734, '2883912', 5, 85.15039183768559, 84.40721867229367, -53.67317478417571], [47.163387298583984, 324.32177734375, '2883912', 4, 79.98449849552532, 58.824163677166986, -54.688766094322496], [210.17001342773438, 298.32073974609375, '2883912', 3, 50.91375984732943, 45.2235263032827, -54.9041763730447], [39.163056403398514, 147.31459045410156, '2883912', 9, 97.6256963691653, 59.07862429133138, -96.46982059309259]] \n",
      "\n",
      "06241902_proc_00913.png\n"
     ]
    },
    {
     "name": "stderr",
     "output_type": "stream",
     "text": [
      "c:\\python36-32\\lib\\site-packages\\matplotlib\\cbook\\deprecation.py:107: MatplotlibDeprecationWarning: Adding an axes using the same arguments as a previous axes currently reuses the earlier instance.  In a future version, a new instance will always be created and returned.  Meanwhile, this warning can be suppressed, and the future behavior ensured, by passing a unique label to each axes instance.\n",
      "  warnings.warn(message, mplDeprecation, stacklevel=1)\n",
      "c:\\python36-32\\lib\\site-packages\\numpy\\core\\fromnumeric.py:2957: RuntimeWarning: Mean of empty slice.\n",
      "  out=out, **kwargs)\n",
      "c:\\python36-32\\lib\\site-packages\\numpy\\core\\_methods.py:80: RuntimeWarning: invalid value encountered in double_scalars\n",
      "  ret = ret.dtype.type(ret / rcount)\n",
      "c:\\python36-32\\lib\\site-packages\\astropy\\units\\quantity.py:639: RuntimeWarning: invalid value encountered in true_divide\n",
      "  result = super().__array_ufunc__(function, method, *arrays, **kwargs)\n",
      "c:\\python36-32\\lib\\site-packages\\matplotlib\\pyplot.py:537: RuntimeWarning: More than 20 figures have been opened. Figures created through the pyplot interface (`matplotlib.pyplot.figure`) are retained until explicitly closed and may consume too much memory. (To control this warning, see the rcParam `figure.max_open_warning`).\n",
      "  max_open_warning, RuntimeWarning)\n"
     ]
    },
    {
     "name": "stdout",
     "output_type": "stream",
     "text": [
      "key = coords2904391 value =  [[289.5, 193.4666748046875, '2904391', 8, 80.23091673413684, 79.00632886041473, -89.27477570094075], [301.5, 329.4666748046875, '2904391', 2, 59.50630218724736, 59.22837157984339, -78.3106308245608], [88.5, 212.4666748046875, '2904391', 11, 124.31009613060397, 109.89540481748998, -82.68098062440957], [300.296875, 329.75, '2904391', 2, 58, 54.08326913195984, 3.179830119864249], [287.296875, 194.75, '2904391', 7, 67.06713054842886, 62.00806399170998, 0.9240453527727226], [93.296875, 218.75, '2904391', 11, 103.24727599312246, 87.13208364316786, -80.75388725443675], [93.796875, 217.75, '2904391', 11, 106.89246933250256, 99.24716620639605, -192.21571913413086], [295.796875, 193.75, '2904391', 8, 72.56031973468694, 70.45565981523414, -173.48019824834302], [293.296875, 194, '2904391', 8, 73.10950690573696, 69.35416353759881, -47.33730585912382], [92.296875, 216, '2904391', 11, 99.90495483208028, 102.17631819555841, -40.23635830927382], [302.296875, 333, '2904391', 1, 48.373546489791295, 46.32493928760188, 13.736268305622573], [286.46875, 196, '2904391', 7, 69.40461079784254, 66.70832032063167, -40.13548556223947], [304.46875, 328, '2904391', 2, 60.29925372672534, 51.24451190127583, -5.599339336520558], [86.46875, 218, '2904391', 6, 102.62553288534, 109.59014554237986, -25.395911849170574]] \n",
      "\n",
      "06240907_proc_01792.png\n"
     ]
    },
    {
     "name": "stderr",
     "output_type": "stream",
     "text": [
      "c:\\python36-32\\lib\\site-packages\\matplotlib\\cbook\\deprecation.py:107: MatplotlibDeprecationWarning: Adding an axes using the same arguments as a previous axes currently reuses the earlier instance.  In a future version, a new instance will always be created and returned.  Meanwhile, this warning can be suppressed, and the future behavior ensured, by passing a unique label to each axes instance.\n",
      "  warnings.warn(message, mplDeprecation, stacklevel=1)\n",
      "c:\\python36-32\\lib\\site-packages\\matplotlib\\pyplot.py:537: RuntimeWarning: More than 20 figures have been opened. Figures created through the pyplot interface (`matplotlib.pyplot.figure`) are retained until explicitly closed and may consume too much memory. (To control this warning, see the rcParam `figure.max_open_warning`).\n",
      "  max_open_warning, RuntimeWarning)\n"
     ]
    },
    {
     "name": "stdout",
     "output_type": "stream",
     "text": [
      "key = coords2896200 value =  [[200.30210876464844, 138.41665649414062, '2896200', 1, 68.22594189659866, 34.11297094829933, -170.72176136168264], [193.796875, 134.75, '2896200', 2, 82.41965784932621, 47.859168400631454, 35.61848983925176], [269, 221.46665954589844, '2896200', 1, 146.66969693839283, 73.33484846919642, -174.52263127117112], [191.796875, 132.5, '2896200', 2, 63.00793600809346, 54.08326913195984, 3.179830119864249], [2.6750001907348633, 138.1999969482422, '2896200', 11, 120.06666340874808, 90.13878474321771, -91.90915219041479], [191.6750030517578, 132.1999969482422, '2896200', 3, 61.05735008989499, 60.41522986797286, -28.686147573739433]] \n",
      "\n",
      "06241902_proc_01889.png\n"
     ]
    },
    {
     "name": "stderr",
     "output_type": "stream",
     "text": [
      "c:\\python36-32\\lib\\site-packages\\matplotlib\\cbook\\deprecation.py:107: MatplotlibDeprecationWarning: Adding an axes using the same arguments as a previous axes currently reuses the earlier instance.  In a future version, a new instance will always be created and returned.  Meanwhile, this warning can be suppressed, and the future behavior ensured, by passing a unique label to each axes instance.\n",
      "  warnings.warn(message, mplDeprecation, stacklevel=1)\n",
      "c:\\python36-32\\lib\\site-packages\\matplotlib\\pyplot.py:537: RuntimeWarning: More than 20 figures have been opened. Figures created through the pyplot interface (`matplotlib.pyplot.figure`) are retained until explicitly closed and may consume too much memory. (To control this warning, see the rcParam `figure.max_open_warning`).\n",
      "  max_open_warning, RuntimeWarning)\n"
     ]
    },
    {
     "name": "stdout",
     "output_type": "stream",
     "text": [
      "key = coords2883915 value =  [[209.6354217529297, 143.4166717529297, '2883915', 8, 86.16262558020902, 83.1865441591995, 21.80141796520845], [209.6354217529297, 279.4166564941406, '2883915', 2, 59.93328250689273, 62.80125249112147, -52.76516867845934], [95.63541412353516, 207.4166717529297, '2883915', 3, 64.4980619863884, 32.2490309931942, 60.25511870305778], [205.296875, 144.75, '2883915', 9, 72.24956747275377, 78.81624198095213, 35.70669140060288], [212.47640991210938, 286.5877685546875, '2883915', 2, 46.31302280170557, 50.38546694332093, -31.39026132584454], [90.28141784667969, 203.83676147460938, '2883915', 3, 37.470883018855716, 52.00995580575856, -31.239209115715823], [206.796875, 139.75, '2883915', 1, 82.02438661763951, 67.26812023536856, -41.98721249581666], [209.796875, 288.75, '2883915', 1, 27.80287754891569, 27.294688127912362, -61.55707137563665], [204.5940704345703, 141.4568634033203, '2883915', 5, 77.99064891326577, 78.29990302969169, -35.07374866054398], [212.7747039794922, 288.7083435058594, '2883915', 2, 57.34555308862162, 47.013959720258796, 29.538794663301687], [213.796875, 139.75, '2883915', 10, 81.60882305241266, 73.348483283569, -154.13364320590549], [220.796875, 286.75, '2883915', 2, 58.83026432033091, 50.47771785649585, -146.30993247402023]] \n",
      "\n"
     ]
    },
    {
     "name": "stderr",
     "output_type": "stream",
     "text": [
      "c:\\python36-32\\lib\\site-packages\\matplotlib\\cbook\\deprecation.py:107: MatplotlibDeprecationWarning: Adding an axes using the same arguments as a previous axes currently reuses the earlier instance.  In a future version, a new instance will always be created and returned.  Meanwhile, this warning can be suppressed, and the future behavior ensured, by passing a unique label to each axes instance.\n",
      "  warnings.warn(message, mplDeprecation, stacklevel=1)\n"
     ]
    },
    {
     "name": "stdout",
     "output_type": "stream",
     "text": [
      "06241902_proc_00916.png\n"
     ]
    },
    {
     "name": "stderr",
     "output_type": "stream",
     "text": [
      "c:\\python36-32\\lib\\site-packages\\matplotlib\\pyplot.py:537: RuntimeWarning: More than 20 figures have been opened. Figures created through the pyplot interface (`matplotlib.pyplot.figure`) are retained until explicitly closed and may consume too much memory. (To control this warning, see the rcParam `figure.max_open_warning`).\n",
      "  max_open_warning, RuntimeWarning)\n"
     ]
    },
    {
     "name": "stdout",
     "output_type": "stream",
     "text": [
      "key = coords2896206 value =  [[222.5, 138.96665954589844, '2896206', 4, 78.10249675906654, 84.01190391843289, 92.93567344642118], [221.296875, 146.5, '2896206', 4, 72.62231062146122, 69.02897942168927, -38.530180014826826], [218.25, 141.25, '2896206', 5, 71.40028011149536, 61.40032573203501, -37.05652818940958], [223.0397491455078, 137.94863891601562, '2896206', 5, 97.60523667334088, 87.35628917729484, -135.48147199033804], [173.21005249023438, 282.24713134765625, '2896206', 1, 55.64352215240095, 49.06687050951825, -83.92751758150484], [3.9967384338378906, 339.8626708984375, '2896206', 2, 84.80669221142821, 104.17167127377132, -48.3664648452015], [222.5, 138.96665954589844, '2896206', 4, 78.10249675906654, 84.01190391843289, 92.93567344642118], [222.5, 138.96665954589844, '2896206', 4, 78.10249675906654, 84.01190391843289, 92.93567344642118], [225.32000732421875, 133.95001220703125, '2896206', 4, 94.2019108086455, 47.10095540432275, -37.23483398157467]] \n",
      "\n",
      "06241902_proc_01895.png\n"
     ]
    },
    {
     "name": "stderr",
     "output_type": "stream",
     "text": [
      "c:\\python36-32\\lib\\site-packages\\matplotlib\\cbook\\deprecation.py:107: MatplotlibDeprecationWarning: Adding an axes using the same arguments as a previous axes currently reuses the earlier instance.  In a future version, a new instance will always be created and returned.  Meanwhile, this warning can be suppressed, and the future behavior ensured, by passing a unique label to each axes instance.\n",
      "  warnings.warn(message, mplDeprecation, stacklevel=1)\n",
      "c:\\python36-32\\lib\\site-packages\\matplotlib\\pyplot.py:537: RuntimeWarning: More than 20 figures have been opened. Figures created through the pyplot interface (`matplotlib.pyplot.figure`) are retained until explicitly closed and may consume too much memory. (To control this warning, see the rcParam `figure.max_open_warning`).\n",
      "  max_open_warning, RuntimeWarning)\n"
     ]
    },
    {
     "name": "stdout",
     "output_type": "stream",
     "text": [
      "key = coords2906448 value =  [[116.30000305175781, 123.94999694824219, '2906448', 11, 75.28612089887484, 71.02816342831905, -35.25635871296284], [122.35191345214844, 122.98724365234375, '2906448', 11, 84.77815445514479, 76.78159647713991, -163.77980292506126], [107.5, 110.75, '2906448', 11, 91.09335870413386, 90.24965373894794, -111.44773632710535], [112, 119.760009765625, '2906448', 9, 84.31488599292535, 91.96738552334735, -46.762391023660506], [107.96875, 121.609375, '2906448', 9, 87.96590248499699, 82.66196223173026, -145.34868408799548]] \n",
      "\n",
      "06240909_proc_01849.png\n"
     ]
    },
    {
     "name": "stderr",
     "output_type": "stream",
     "text": [
      "c:\\python36-32\\lib\\site-packages\\matplotlib\\cbook\\deprecation.py:107: MatplotlibDeprecationWarning: Adding an axes using the same arguments as a previous axes currently reuses the earlier instance.  In a future version, a new instance will always be created and returned.  Meanwhile, this warning can be suppressed, and the future behavior ensured, by passing a unique label to each axes instance.\n",
      "  warnings.warn(message, mplDeprecation, stacklevel=1)\n",
      "c:\\python36-32\\lib\\site-packages\\matplotlib\\pyplot.py:537: RuntimeWarning: More than 20 figures have been opened. Figures created through the pyplot interface (`matplotlib.pyplot.figure`) are retained until explicitly closed and may consume too much memory. (To control this warning, see the rcParam `figure.max_open_warning`).\n",
      "  max_open_warning, RuntimeWarning)\n"
     ]
    },
    {
     "name": "stdout",
     "output_type": "stream",
     "text": [
      "key = coords2896209 value =  [[221.296875, 157.75, '2896209', 4, 69.65629906907199, 61.220911460055866, -141.63251461513846], [220.296875, 151.75, '2896209', 5, 58.9406481131655, 72.53275122315436, -74.81416273779868], [216.5, 160.46665954589844, '2896209', 6, 71.28113354878694, 74.62573282722254, -57.5876933816488], [234.296875, 153.75, '2896209', 5, 97.32933781753577, 70.11419257183242, -183.27048792318357], [217.796875, 153.5, '2896209', 1, 68.26419266350405, 73.68174807915459, -97.8001878841817], [204.796875, 291.5, '2896209', 1, 46, 40.11234224026316, -85.71084667118099]] \n",
      "\n",
      "06241902_proc_01898.png\n"
     ]
    },
    {
     "name": "stderr",
     "output_type": "stream",
     "text": [
      "c:\\python36-32\\lib\\site-packages\\matplotlib\\cbook\\deprecation.py:107: MatplotlibDeprecationWarning: Adding an axes using the same arguments as a previous axes currently reuses the earlier instance.  In a future version, a new instance will always be created and returned.  Meanwhile, this warning can be suppressed, and the future behavior ensured, by passing a unique label to each axes instance.\n",
      "  warnings.warn(message, mplDeprecation, stacklevel=1)\n",
      "c:\\python36-32\\lib\\site-packages\\matplotlib\\pyplot.py:537: RuntimeWarning: More than 20 figures have been opened. Figures created through the pyplot interface (`matplotlib.pyplot.figure`) are retained until explicitly closed and may consume too much memory. (To control this warning, see the rcParam `figure.max_open_warning`).\n",
      "  max_open_warning, RuntimeWarning)\n"
     ]
    },
    {
     "name": "stdout",
     "output_type": "stream",
     "text": [
      "key = coords2906450 value =  [[309.796875, 99, '2906450', 0, 47.634021455258214, 45.65084884205331, 28.81079374297309], [328.6333312988281, 103.96665954589844, '2906450', 2, 68.15423684555495, 51.62363799656123, -158.40468955103233], [121.63333129882812, 137.96665954589844, '2906450', 11, 68.79680225126747, 62.20128616033595, -36.50144112050632], [0, 0, '2906450', 0, 0, 0, 0], [418.296875, 198.75, '2906450', 1, 426.6755207414646, 213.3377603707323, 154.15561244543966]] \n",
      "\n",
      "key = coords2896210 value =  [[483.796875, 13.75, '2896210', 1, 12.806248474865697, 6.4031242374328485, -128.6598082540901], [14.796875, 8.75, '2896210', 1, 532.0911576036573, 266.04557880182864, -34.974377156925975], [226.796875, 156.75, '2896210', 6, 61.39218191268331, 65.25335240430181, -77.77487732426425], [206.796875, 295.75, '2896210', 1, 38.62641583165593, 37.33630940518894, -69.62356478616361], [221.296875, 155.75, '2896210', 6, 66.91038783328041, 72.3671196055225, -101.1546597389283], [223.296875, 153.75, '2896210', 6, 61.5223536610881, 71.34423592694787, -82.52844082340762], [208.296875, 293.75, '2896210', 1, 42.5205832509386, 35.608987629529715, 51.84277341263095], [227.24888610839844, 153.70465087890625, '2896210', 5, 57.61398265419821, 50.7481341966247, 48.366446801506605], [208.13333129882812, 291.4666748046875, '2896210', 1, 44.04543109109048, 42.941821107167776, -62.24145939893998], [40.133331298828125, 324.4666748046875, '2896210', 1, 65.11528238439882, 44.598206241955516, -47.72631099390626], [218.13333129882812, 155.4666748046875, '2896210', 7, 78.10249675906654, 78.49203781276162, -55.905022045234446]] \n",
      "\n",
      "06241902_proc_01899.png\n"
     ]
    },
    {
     "name": "stderr",
     "output_type": "stream",
     "text": [
      "c:\\python36-32\\lib\\site-packages\\matplotlib\\cbook\\deprecation.py:107: MatplotlibDeprecationWarning: Adding an axes using the same arguments as a previous axes currently reuses the earlier instance.  In a future version, a new instance will always be created and returned.  Meanwhile, this warning can be suppressed, and the future behavior ensured, by passing a unique label to each axes instance.\n",
      "  warnings.warn(message, mplDeprecation, stacklevel=1)\n",
      "c:\\python36-32\\lib\\site-packages\\matplotlib\\cbook\\deprecation.py:107: MatplotlibDeprecationWarning: Adding an axes using the same arguments as a previous axes currently reuses the earlier instance.  In a future version, a new instance will always be created and returned.  Meanwhile, this warning can be suppressed, and the future behavior ensured, by passing a unique label to each axes instance.\n",
      "  warnings.warn(message, mplDeprecation, stacklevel=1)\n",
      "c:\\python36-32\\lib\\site-packages\\matplotlib\\pyplot.py:537: RuntimeWarning: More than 20 figures have been opened. Figures created through the pyplot interface (`matplotlib.pyplot.figure`) are retained until explicitly closed and may consume too much memory. (To control this warning, see the rcParam `figure.max_open_warning`).\n",
      "  max_open_warning, RuntimeWarning)\n"
     ]
    },
    {
     "name": "stdout",
     "output_type": "stream",
     "text": [
      "key = coords2896214 value =  [[236.296875, 138.75, '2896214', 2, 65.25335240430181, 50.28916384272063, -197.35402463626133], [230.5, 138.9499969482422, '2896214', 4, 81.04936767180853, 61.29437168288782, -9.22988624372772], [233, 130.760009765625, '2896214', 1, 46.17358552246078, 35.608987629529715, -38.15722658736906], [237.796875, 139.75, '2896214', 3, 80.39900496896712, 56, -180], [234.8800048828125, 135.260009765625, '2896214', 4, 74.62573282722254, 63.324560795950255, -21.297354049033757]] \n",
      "\n",
      "06241902_proc_01903.png\n"
     ]
    },
    {
     "name": "stderr",
     "output_type": "stream",
     "text": [
      "c:\\python36-32\\lib\\site-packages\\matplotlib\\cbook\\deprecation.py:107: MatplotlibDeprecationWarning: Adding an axes using the same arguments as a previous axes currently reuses the earlier instance.  In a future version, a new instance will always be created and returned.  Meanwhile, this warning can be suppressed, and the future behavior ensured, by passing a unique label to each axes instance.\n",
      "  warnings.warn(message, mplDeprecation, stacklevel=1)\n",
      "c:\\python36-32\\lib\\site-packages\\matplotlib\\pyplot.py:537: RuntimeWarning: More than 20 figures have been opened. Figures created through the pyplot interface (`matplotlib.pyplot.figure`) are retained until explicitly closed and may consume too much memory. (To control this warning, see the rcParam `figure.max_open_warning`).\n",
      "  max_open_warning, RuntimeWarning)\n"
     ]
    },
    {
     "name": "stdout",
     "output_type": "stream",
     "text": [
      "key = coords2896216 value =  [[0, 0, '2896216', 0, 0, 0, 0], [0, 0, '2896216', 0, 0, 0, 0], [0, 0, '2896216', 0, 0, 0, 0], [9.796875, 168.75, '2896216', 11, 94.54099639838793, 68.94200461257273, -113.03943597990354], [21.03923797607422, 171.24078369140625, '2896216', 11, 81.2554866768596, 51.42162072630819, -103.52316329053164]] \n",
      "\n",
      "06241902_proc_01905.png\n"
     ]
    },
    {
     "name": "stderr",
     "output_type": "stream",
     "text": [
      "c:\\python36-32\\lib\\site-packages\\matplotlib\\cbook\\deprecation.py:107: MatplotlibDeprecationWarning: Adding an axes using the same arguments as a previous axes currently reuses the earlier instance.  In a future version, a new instance will always be created and returned.  Meanwhile, this warning can be suppressed, and the future behavior ensured, by passing a unique label to each axes instance.\n",
      "  warnings.warn(message, mplDeprecation, stacklevel=1)\n",
      "c:\\python36-32\\lib\\site-packages\\matplotlib\\pyplot.py:537: RuntimeWarning: More than 20 figures have been opened. Figures created through the pyplot interface (`matplotlib.pyplot.figure`) are retained until explicitly closed and may consume too much memory. (To control this warning, see the rcParam `figure.max_open_warning`).\n",
      "  max_open_warning, RuntimeWarning)\n"
     ]
    },
    {
     "name": "stdout",
     "output_type": "stream",
     "text": [
      "key = coords2904409 value =  [[303.296875, 328.75, '2904409', 1, 55.17245689653489, 49.73932046178355, -59.82647997035566], [298.296875, 195.75, '2904409', 1, 56.22277118748239, 54.589376255824725, -61.55707137563665], [75.296875, 220.75, '2904409', 6, 102.90286682109493, 101.01980003939822, -58.355340962907434], [301.796875, 328.75, '2904409', 2, 64.1248781675256, 57.55866572463264, 82.01067323360311], [301.796875, 192.75, '2904409', 2, 63.28506932918696, 53.23532661682466, 84.6106882400266], [77.796875, 225.75, '2904409', 6, 92.5418824100742, 84.92938243034621, 77.76388849058367], [298.796875, 191.75, '2904409', 2, 51.97114584074513, 46.75467891024384, 41.53177074108288], [299.796875, 330.75, '2904409', 3, 46.400431032480725, 44.598206241955516, 47.72631099390625], [64.796875, 230.75, '2904409', 8, 117.88553770501282, 106.60675400742676, 36.22494425552031], [76.796875, 215.75, '2904409', 8, 106.07544484940895, 98.02040603874276, -268.8308606720926], [298.796875, 195.75, '2904409', 4, 51.088159097779204, 53.75872022286245, -260.36246188706906], [312.796875, 326.75, '2904409', 1, 44.01136216933077, 49.47726750741192, -255.96375653207352], [303.796875, 328.75, '2904409', 2, 50, 25, 0], [300.796875, 194.75, '2904409', 2, 49.16299421312742, 24.58149710656371, -4.6668583714389955], [77.796875, 225.75, '2904409', 9, 95.524865872714, 47.762432936357, -42.87890360333855], [300.296875, 332.5, '2904409', 2, 48.507731342539614, 51.15662224971465, -4.4846060095446205], [299.296875, 193.5, '2904409', 2, 60.4648658313239, 59.81638571495272, -51.78897457443879], [81.296875, 224.5, '2904409', 11, 106.7941945987702, 113.95174417269794, -10.619655276155129]] \n",
      "\n",
      "06240907_proc_01810.png\n"
     ]
    },
    {
     "name": "stderr",
     "output_type": "stream",
     "text": [
      "c:\\python36-32\\lib\\site-packages\\matplotlib\\cbook\\deprecation.py:107: MatplotlibDeprecationWarning: Adding an axes using the same arguments as a previous axes currently reuses the earlier instance.  In a future version, a new instance will always be created and returned.  Meanwhile, this warning can be suppressed, and the future behavior ensured, by passing a unique label to each axes instance.\n",
      "  warnings.warn(message, mplDeprecation, stacklevel=1)\n",
      "c:\\python36-32\\lib\\site-packages\\matplotlib\\pyplot.py:537: RuntimeWarning: More than 20 figures have been opened. Figures created through the pyplot interface (`matplotlib.pyplot.figure`) are retained until explicitly closed and may consume too much memory. (To control this warning, see the rcParam `figure.max_open_warning`).\n",
      "  max_open_warning, RuntimeWarning)\n"
     ]
    },
    {
     "name": "stdout",
     "output_type": "stream",
     "text": [
      "key = coords2906460 value =  [[282.5, 133.75, '2906460', 1, 63.655321851358195, 62.289646009589745, -137.60256220249983], [103.5, 105.75, '2906460', 11, 107.48023074035522, 107.64757312638311, -144.83356396420712], [114.296875, 116.75, '2906460', 11, 101.23734488813898, 92.9569792968769, -139.7998361139047], [291.296875, 133.75, '2906460', 1, 41.43669871020132, 32.7566787083184, -121.26373169437743], [163.296875, 294.75, '2906460', 11, 42.80186911806539, 46.09772228646444, -49.39870535499553], [117.796875, 100.75, '2906460', 8, 99.80981915623332, 88.45903006477066, -137.29061004263852], [106.5, 107.69000244140625, '2906460', 1, 88.40814442120137, 44.204072210600685, 37.64762064010765], [277.5, 100.69000244140625, '2906460', 11, 89.15716460273958, 44.57858230136979, -66.88579201667316], [165.5, 283.69000244140625, '2906460', 1, 168.66831356244717, 84.33415678122358, -38.50065372034543], [111.31900024414062, 114.28106689453125, '2906460', 11, 101.9803902718557, 89.43117278368207, 43.90378117528732], [287.5, 132.96665954589844, '2906460', 1, 49.678969393496885, 49.51767361255979, 46.63657704161673], [156.5, 299.9666748046875, '2906460', 1, 57.454342702371605, 51.61395160225576, 54.462322208025626]] \n",
      "\n",
      "06240909_proc_01861.png\n"
     ]
    },
    {
     "name": "stderr",
     "output_type": "stream",
     "text": [
      "c:\\python36-32\\lib\\site-packages\\matplotlib\\cbook\\deprecation.py:107: MatplotlibDeprecationWarning: Adding an axes using the same arguments as a previous axes currently reuses the earlier instance.  In a future version, a new instance will always be created and returned.  Meanwhile, this warning can be suppressed, and the future behavior ensured, by passing a unique label to each axes instance.\n",
      "  warnings.warn(message, mplDeprecation, stacklevel=1)\n",
      "c:\\python36-32\\lib\\site-packages\\numpy\\core\\fromnumeric.py:2957: RuntimeWarning: Mean of empty slice.\n",
      "  out=out, **kwargs)\n",
      "c:\\python36-32\\lib\\site-packages\\numpy\\core\\_methods.py:80: RuntimeWarning: invalid value encountered in double_scalars\n",
      "  ret = ret.dtype.type(ret / rcount)\n",
      "c:\\python36-32\\lib\\site-packages\\astropy\\units\\quantity.py:639: RuntimeWarning: invalid value encountered in true_divide\n",
      "  result = super().__array_ufunc__(function, method, *arrays, **kwargs)\n",
      "c:\\python36-32\\lib\\site-packages\\matplotlib\\pyplot.py:537: RuntimeWarning: More than 20 figures have been opened. Figures created through the pyplot interface (`matplotlib.pyplot.figure`) are retained until explicitly closed and may consume too much memory. (To control this warning, see the rcParam `figure.max_open_warning`).\n",
      "  max_open_warning, RuntimeWarning)\n"
     ]
    },
    {
     "name": "stdout",
     "output_type": "stream",
     "text": [
      "key = coords2906461 value =  [[119.69999694824219, 101, '2906461', 10, 114.56002793295748, 57.28001396647874, -45.707319368544255], [279.70001220703125, 132.39999389648438, '2906461', 1, 87.32124598286491, 43.660622991432454, -29.500724623499163], [148.6999969482422, 299.3999938964844, '2906461', 1, 115.44697232049433, 57.72348616024716, -14.036241631237191], [122.765625, 100.75, '2906461', 9, 107.33592129385204, 89.94442728707543, -111.30578361782878], [121.296875, 103.75, '2906461', 11, 104.20172743289815, 88.54942122905152, -63.14557865948141], [113.5, 117.75, '2906461', 1, 106.30145812734649, 99.45853407325085, -105.1540680503126], [280.5, 137.75, '2906461', 1, 58.52349955359813, 59.36328831862332, -122.61924307119283], [112.77133178710938, 105.82693481445312, '2906461', 11, 81.34039212775608, 85.75942768151539, -47.67541063961227], [288.2689208984375, 133.000732421875, '2906461', 1, 35.44478915906564, 45.64215461542717, -66.61478559517954], [112.82000732421875, 109.45001220703125, '2906461', 11, 99.40321926376429, 49.70160963188214, -36.408774567772355], [279.82000732421875, 130.45001220703125, '2906461', 1, 69.46221994724903, 34.73110997362451, -30.256437163529263]] \n",
      "\n",
      "06240909_proc_01862.png\n"
     ]
    },
    {
     "name": "stderr",
     "output_type": "stream",
     "text": [
      "c:\\python36-32\\lib\\site-packages\\matplotlib\\cbook\\deprecation.py:107: MatplotlibDeprecationWarning: Adding an axes using the same arguments as a previous axes currently reuses the earlier instance.  In a future version, a new instance will always be created and returned.  Meanwhile, this warning can be suppressed, and the future behavior ensured, by passing a unique label to each axes instance.\n",
      "  warnings.warn(message, mplDeprecation, stacklevel=1)\n",
      "c:\\python36-32\\lib\\site-packages\\matplotlib\\pyplot.py:537: RuntimeWarning: More than 20 figures have been opened. Figures created through the pyplot interface (`matplotlib.pyplot.figure`) are retained until explicitly closed and may consume too much memory. (To control this warning, see the rcParam `figure.max_open_warning`).\n",
      "  max_open_warning, RuntimeWarning)\n"
     ]
    },
    {
     "name": "stdout",
     "output_type": "stream",
     "text": [
      "key = coords2896221 value =  [[202.796875, 137.75, '2896221', 3, 78.26237921249263, 63.52952069707436, -208.17859010995917], [205.6666717529297, 137.06666564941406, '2896221', 3, 46.647615158762406, 50.32891812864648, -229.02826366648515], [15.796875, 165.75, '2896221', 2, 104.69479452198185, 52.347397260990924, -107.22343619113147], [205.296875, 139.75, '2896221', 3, 73.824115301167, 52.690131903421914, -8.569141879837643]] \n",
      "\n",
      "06241902_proc_01910.png\n"
     ]
    },
    {
     "name": "stderr",
     "output_type": "stream",
     "text": [
      "c:\\python36-32\\lib\\site-packages\\matplotlib\\cbook\\deprecation.py:107: MatplotlibDeprecationWarning: Adding an axes using the same arguments as a previous axes currently reuses the earlier instance.  In a future version, a new instance will always be created and returned.  Meanwhile, this warning can be suppressed, and the future behavior ensured, by passing a unique label to each axes instance.\n",
      "  warnings.warn(message, mplDeprecation, stacklevel=1)\n",
      "c:\\python36-32\\lib\\site-packages\\matplotlib\\pyplot.py:537: RuntimeWarning: More than 20 figures have been opened. Figures created through the pyplot interface (`matplotlib.pyplot.figure`) are retained until explicitly closed and may consume too much memory. (To control this warning, see the rcParam `figure.max_open_warning`).\n",
      "  max_open_warning, RuntimeWarning)\n"
     ]
    },
    {
     "name": "stdout",
     "output_type": "stream",
     "text": [
      "key = coords2883936 value =  [[35.3125, 290.75, '2883936', 1, 85.14693182963201, 42.573465914816005, -77.10625595511785], [38.796875, 347.75, '2883936', 2, 76.55063683601855, 49.39635614091387, -33.274887984834926], [198.796875, 135.75, '2883936', 1, 81.34494452638098, 43.266615305567875, -56.309932474020215], [92.796875, 208.75, '2883936', 2, 43.829214001622255, 21.914607000811127, 62.850318302216834], [37.796875, 352.75, '2883936', 2, 62.42595614005443, 56.586217403180434, -43.56790381583535], [0, 0, '2883936', 0, 0, 0, 0], [52.796875, 130.5, '2883936', 1, 185.82787734890587, 143.13629868066312, -105.39554925399509], [345.796875, 271.5, '2883936', 1, 192.60841103129428, 96.30420551564714, 37.40535663140855], [349.796875, 109.5, '2883936', 1, 108.00462953040486, 54.00231476520243, 36.339396329170214]] \n",
      "\n",
      "key = coords2883938 value =  [[204.796875, 139.75, '2883938', 5, 82.21921916437786, 84.71717653463199, -4.1849161251184155], [202.796875, 306.75, '2883938', 2, 52.03844732503075, 52, -270], [41.796875, 341.75, '2883938', 2, 79.37883848986453, 67.1863081289633, -4.267893300290808], [49.92230224609375, 344.8630676269531, '2883938', 1, 65.1221886929231, 32.56109434646155, -11.309935106875805], [191.82798767089844, 295.3250732421875, '2883938', 1, 78.56245129542248, 39.28122564771124, -16.7983842437753], [186.15176391601562, 110.97669982910156, '2883938', 5, 123.45793414938039, 61.728967074690196, -43.60281848432607], [110.3125, 149.75, '2883938', 1, 77.1621668954417, 38.58108344772085, -3.715289105428768], [220.3125, 311.75, '2883938', 1, 60.90155991434045, 30.450779957170226, 150.4885014429097], [64.3125, 317.75, '2883938', 1, 57.28001396647874, 28.64000698323937, -106.2201936956028], [205.296875, 147.5, '2883938', 5, 69.1158447825099, 67.23094525588644, -31.390268104187808], [199.296875, 302.5, '2883938', 2, 49.39635614091387, 45.60701700396552, -52.1250163489018], [49.296875, 338.5, '2883938', 2, 45.18849411078001, 42.80186911806539, 37.405356631408566], [204.5, 145.46665954589844, '2883938', 7, 69.58448102845921, 63.00793600809346, -7.431407971172507], [200.5, 305.4666748046875, '2883938', 2, 43.04648650006177, 41.527099585692234, -2.6630007660671433], [43.5, 344.4666748046875, '2883938', 2, 53.009433122794285, 51.0098029794274, 1.123302714075436], [46.296875, 342, '2883938', 2, 68.87670143089025, 65, -25.82099197418928], [416.296875, 239, '2883938', 1, 35.510561809129406, 53.600373133029585, -36.6561084159669], [205.296875, 307, '2883938', 2, 63.788713735268246, 61.773780845922005, -29.05460409907714], [198.296875, 141, '2883938', 11, 77.6659513557904, 84.8528137423857, -78.11134196037203], [195.32000732421875, 131.95001220703125, '2883938', 7, 138.2931668593933, 69.14658342969665, -40.60129464500447], [197.32000732421875, 306.95001220703125, '2883938', 1, 93.05912099305473, 46.52956049652737, -28.2173558547293], [41.32000732421875, 331.95001220703125, '2883938', 2, 111.66467659918243, 55.832338299591214, -19.895431334765657]] \n",
      "\n",
      "06241902_proc_00939.png\n"
     ]
    },
    {
     "name": "stderr",
     "output_type": "stream",
     "text": [
      "c:\\python36-32\\lib\\site-packages\\matplotlib\\cbook\\deprecation.py:107: MatplotlibDeprecationWarning: Adding an axes using the same arguments as a previous axes currently reuses the earlier instance.  In a future version, a new instance will always be created and returned.  Meanwhile, this warning can be suppressed, and the future behavior ensured, by passing a unique label to each axes instance.\n",
      "  warnings.warn(message, mplDeprecation, stacklevel=1)\n",
      "c:\\python36-32\\lib\\site-packages\\matplotlib\\cbook\\deprecation.py:107: MatplotlibDeprecationWarning: Adding an axes using the same arguments as a previous axes currently reuses the earlier instance.  In a future version, a new instance will always be created and returned.  Meanwhile, this warning can be suppressed, and the future behavior ensured, by passing a unique label to each axes instance.\n",
      "  warnings.warn(message, mplDeprecation, stacklevel=1)\n",
      "c:\\python36-32\\lib\\site-packages\\matplotlib\\pyplot.py:537: RuntimeWarning: More than 20 figures have been opened. Figures created through the pyplot interface (`matplotlib.pyplot.figure`) are retained until explicitly closed and may consume too much memory. (To control this warning, see the rcParam `figure.max_open_warning`).\n",
      "  max_open_warning, RuntimeWarning)\n"
     ]
    },
    {
     "name": "stdout",
     "output_type": "stream",
     "text": [
      "key = coords2883939 value =  [[214.60426330566406, 302.1163024902344, '2883939', 1, 59.622568706491066, 64.50068319708797, -97.76514831517848], [202.98439025878906, 145.24822998046875, '2883939', 7, 85.80716822119511, 80.36047186769368, -96.22582650812524], [60.64112663269043, 336.975830078125, '2883939', 1, 75.03867644970342, 54.03550048934403, -233.7460967004638], [204.296875, 145.75, '2883939', 6, 93.43446901438462, 75.7429864739964, 47.675426656029174], [211.296875, 307.75, '2883939', 2, 46.8187996428785, 45.39823785126467, -187.59464336859145], [56.296875, 334.75, '2883939', 2, 64.03124237432849, 45.48626166217664, 128.6598082540901], [207.23641967773438, 146.55235290527344, '2883939', 8, 85.68362466795082, 74.90153976904801, -115.01689488838431], [209.4989013671875, 301.532470703125, '2883939', 2, 53.64757097625662, 53.599863766664015, -45.85508500335534], [57.91251754760742, 334.3384704589844, '2883939', 2, 68.55921360956516, 53.011680695987145, -52.37375920738966], [208, 153.96665954589844, '2883939', 6, 78.44743462982075, 76.47875521999558, -27.23514669930252], [212, 306.9666748046875, '2883939', 2, 45.967379738244816, 44.204072210600685, -52.35237935989235], [56, 335.9666748046875, '2883939', 3, 73.59347797189639, 60.959002616512684, -47.202598161765806], [199.63772583007812, 138.85614013671875, '2883939', 4, 69.68426513671875, 59.57775663200598, -3.945187238662797], [213.98446655273438, 306.91815185546875, '2883939', 2, 47.84693285045612, 41.49996329758219, -69.77521339728759], [58.21966552734375, 333.56219482421875, '2883939', 2, 45.82902456507734, 52.2531721535416, -48.17980583838799]] \n",
      "\n",
      "06241902_proc_00940.png\n"
     ]
    },
    {
     "name": "stderr",
     "output_type": "stream",
     "text": [
      "c:\\python36-32\\lib\\site-packages\\matplotlib\\cbook\\deprecation.py:107: MatplotlibDeprecationWarning: Adding an axes using the same arguments as a previous axes currently reuses the earlier instance.  In a future version, a new instance will always be created and returned.  Meanwhile, this warning can be suppressed, and the future behavior ensured, by passing a unique label to each axes instance.\n",
      "  warnings.warn(message, mplDeprecation, stacklevel=1)\n",
      "c:\\python36-32\\lib\\site-packages\\matplotlib\\pyplot.py:537: RuntimeWarning: More than 20 figures have been opened. Figures created through the pyplot interface (`matplotlib.pyplot.figure`) are retained until explicitly closed and may consume too much memory. (To control this warning, see the rcParam `figure.max_open_warning`).\n",
      "  max_open_warning, RuntimeWarning)\n"
     ]
    },
    {
     "name": "stdout",
     "output_type": "stream",
     "text": [
      "key = coords2904421 value =  [[284.796875, 196.75, '2904421', 1, 57.723478758647246, 73.55270219373317, -82.9716037610504], [81.796875, 209.75, '2904421', 1, 119.00420160649792, 100.40916292848975, -45], [286.796875, 200.75, '2904421', 1, 55.14526271584895, 47.01063709417264, -1.2188752351312928], [73.796875, 205.75, '2904421', 11, 103.0970416646375, 94.53041838477179, -83.9275435927923], [285.8880615234375, 202.07440185546875, '2904421', 2, 87.38732656943118, 86.33230018064792, 64.2306641994264], [60.2450065612793, 196.43624877929688, '2904421', 10, 136.7860819421678, 115.40421721721906, -30.735485194089613], [0, 0, '2904421', 0, 0, 0, 0], [284.1000061035156, 200.09999084472656, '2904421', 1, 91.96738552334735, 82.13404812605123, 47.96094326202103], [70.29941177368164, 223.5806121826172, '2904421', 7, 136.58982521219673, 126.58688026190738, 60.407701527571135], [69.796875, 208.5, '2904421', 10, 102.7277956543408, 103.23759005323593, -135], [286.796875, 195.5, '2904421', 5, 57.8013840664737, 54.62600113499065, -59.88626684901757], [72.796875, 208.5, '2904421', 11, 112.40106761058811, 111.57060544785082, -75.46554491945987]] \n",
      "\n",
      "06240907_proc_01822.png\n"
     ]
    },
    {
     "name": "stderr",
     "output_type": "stream",
     "text": [
      "c:\\python36-32\\lib\\site-packages\\matplotlib\\cbook\\deprecation.py:107: MatplotlibDeprecationWarning: Adding an axes using the same arguments as a previous axes currently reuses the earlier instance.  In a future version, a new instance will always be created and returned.  Meanwhile, this warning can be suppressed, and the future behavior ensured, by passing a unique label to each axes instance.\n",
      "  warnings.warn(message, mplDeprecation, stacklevel=1)\n",
      "c:\\python36-32\\lib\\site-packages\\matplotlib\\pyplot.py:537: RuntimeWarning: More than 20 figures have been opened. Figures created through the pyplot interface (`matplotlib.pyplot.figure`) are retained until explicitly closed and may consume too much memory. (To control this warning, see the rcParam `figure.max_open_warning`).\n",
      "  max_open_warning, RuntimeWarning)\n"
     ]
    },
    {
     "name": "stdout",
     "output_type": "stream",
     "text": [
      "key = coords2896230 value =  [[17.796875, 137.75, '2896230', 11, 95.04735661763561, 64.00781202322104, -90.89517371021107], [258.796875, 20.75, '2896230', 11, 39.59797974644666, 19.79898987322333, -135], [208.796875, 11.75, '2896230', 11, 33.97057550292606, 16.98528775146303, -137.38594403038883], [0, 0, '2896230', 0, 0, 0, 0], [0, 0, '2896230', 0, 0, 0, 0], [0, 0, '2896230', 0, 0, 0, 0], [4.424957275390625, 137.36868286132812, '2896230', 11, 113.74502615121578, 83.83819151109525, -89.50178584849235], [242.34701538085938, 2.8126983642578125, '2896230', 11, 81.64801025390625, 48.842987060546875, -180]] \n",
      "\n",
      "06241902_proc_01919.png\n"
     ]
    },
    {
     "name": "stderr",
     "output_type": "stream",
     "text": [
      "c:\\python36-32\\lib\\site-packages\\matplotlib\\cbook\\deprecation.py:107: MatplotlibDeprecationWarning: Adding an axes using the same arguments as a previous axes currently reuses the earlier instance.  In a future version, a new instance will always be created and returned.  Meanwhile, this warning can be suppressed, and the future behavior ensured, by passing a unique label to each axes instance.\n",
      "  warnings.warn(message, mplDeprecation, stacklevel=1)\n",
      "c:\\python36-32\\lib\\site-packages\\matplotlib\\pyplot.py:537: RuntimeWarning: More than 20 figures have been opened. Figures created through the pyplot interface (`matplotlib.pyplot.figure`) are retained until explicitly closed and may consume too much memory. (To control this warning, see the rcParam `figure.max_open_warning`).\n",
      "  max_open_warning, RuntimeWarning)\n"
     ]
    },
    {
     "name": "stdout",
     "output_type": "stream",
     "text": [
      "key = coords2906471 value =  [[126.42051696777344, 120.0048828125, '2906471', 5, 96.00910993884393, 96.1704318822076, -106.92751684541292], [118.296875, 119.75, '2906471', 5, 82.09750300709517, 85.63293758829018, -227.3662479914558], [106.296875, 114.75, '2906471', 1, 9.055385138137417, 4.527692569068709, -173.6598082540901], [128.296875, 101.75, '2906471', 6, 88.05112151472007, 93.26306878931231, -94.30446896050799], [314.296875, 112.75, '2906471', 1, 32.202484376209235, 30.4138126514911, -62.59242456218159], [121.69999694824219, 118.86666870117188, '2906471', 4, 71.5122367151245, 35.75611835756225, 69.5377284765778], [131.796875, 115.5, '2906471', 6, 97, 48.5, -47.92497794915637]] \n",
      "\n",
      "06240909_proc_01872.png\n"
     ]
    },
    {
     "name": "stderr",
     "output_type": "stream",
     "text": [
      "c:\\python36-32\\lib\\site-packages\\matplotlib\\cbook\\deprecation.py:107: MatplotlibDeprecationWarning: Adding an axes using the same arguments as a previous axes currently reuses the earlier instance.  In a future version, a new instance will always be created and returned.  Meanwhile, this warning can be suppressed, and the future behavior ensured, by passing a unique label to each axes instance.\n",
      "  warnings.warn(message, mplDeprecation, stacklevel=1)\n",
      "c:\\python36-32\\lib\\site-packages\\matplotlib\\pyplot.py:537: RuntimeWarning: More than 20 figures have been opened. Figures created through the pyplot interface (`matplotlib.pyplot.figure`) are retained until explicitly closed and may consume too much memory. (To control this warning, see the rcParam `figure.max_open_warning`).\n",
      "  max_open_warning, RuntimeWarning)\n"
     ]
    },
    {
     "name": "stdout",
     "output_type": "stream",
     "text": [
      "key = coords2896231 value =  [[0, 0, '2896231', 0, 0, 0, 0], [0, 0, '2896231', 0, 0, 0, 0], [25.796875, 140.75, '2896231', 11, 103.31021246711285, 62.07253821135398, -92.7702157972002], [0, 0, '2896231', 0, 0, 0, 0], [0, 0, '2896231', 0, 0, 0, 0]] \n",
      "\n",
      "06241902_proc_01920.png\n"
     ]
    },
    {
     "name": "stderr",
     "output_type": "stream",
     "text": [
      "c:\\python36-32\\lib\\site-packages\\matplotlib\\cbook\\deprecation.py:107: MatplotlibDeprecationWarning: Adding an axes using the same arguments as a previous axes currently reuses the earlier instance.  In a future version, a new instance will always be created and returned.  Meanwhile, this warning can be suppressed, and the future behavior ensured, by passing a unique label to each axes instance.\n",
      "  warnings.warn(message, mplDeprecation, stacklevel=1)\n",
      "c:\\python36-32\\lib\\site-packages\\matplotlib\\pyplot.py:537: RuntimeWarning: More than 20 figures have been opened. Figures created through the pyplot interface (`matplotlib.pyplot.figure`) are retained until explicitly closed and may consume too much memory. (To control this warning, see the rcParam `figure.max_open_warning`).\n",
      "  max_open_warning, RuntimeWarning)\n"
     ]
    },
    {
     "name": "stdout",
     "output_type": "stream",
     "text": [
      "key = coords2883945 value =  [[40, 114.44999694824219, '2883945', 1, 33.54101966249684, 36.49657518178932, 80.53767779197437], [204, 136.4499969482422, '2883945', 8, 92.35799911215054, 86.09297300012354, -30.7354877019201], [204.776123046875, 145.906494140625, '2883945', 3, 85.88966546945761, 80.11934131848466, 4.55742087204581], [201.6999969482422, 139.9499969482422, '2883945', 7, 78.77182237323191, 77.82030583337487, -154.0934920004856], [205.296875, 142.75, '2883945', 11, 80, 82.60750571225353, -96.95295746817392], [204.796875, 138.5, '2883945', 11, 81.68843247363729, 82.97590011563598, -40.601294645004465], [205.296875, 143.5, '2883945', 10, 71.56116265125938, 72.94518489934754, -213.25436657471207], [238.296875, -7.5, '2883945', 1, 71.50524456289902, 77.12976079309465, -256.5042667192042]] \n",
      "\n",
      "06241902_proc_00946.png\n"
     ]
    },
    {
     "name": "stderr",
     "output_type": "stream",
     "text": [
      "c:\\python36-32\\lib\\site-packages\\matplotlib\\cbook\\deprecation.py:107: MatplotlibDeprecationWarning: Adding an axes using the same arguments as a previous axes currently reuses the earlier instance.  In a future version, a new instance will always be created and returned.  Meanwhile, this warning can be suppressed, and the future behavior ensured, by passing a unique label to each axes instance.\n",
      "  warnings.warn(message, mplDeprecation, stacklevel=1)\n",
      "c:\\python36-32\\lib\\site-packages\\matplotlib\\pyplot.py:537: RuntimeWarning: More than 20 figures have been opened. Figures created through the pyplot interface (`matplotlib.pyplot.figure`) are retained until explicitly closed and may consume too much memory. (To control this warning, see the rcParam `figure.max_open_warning`).\n",
      "  max_open_warning, RuntimeWarning)\n"
     ]
    },
    {
     "name": "stdout",
     "output_type": "stream",
     "text": [
      "key = coords2896234 value =  [[233.70001220703125, 144.46665954589844, '2896234', 1, 44.026054617470265, 53.443901454910886, -38.21368459053634], [0, 0, '2896234', 0, 0, 0, 0], [231.02780151367188, 148.59066772460938, '2896234', 2, 74.95705027283596, 66.1790861684211, -7.594644241571245], [211.6947784423828, 138.71279907226562, '2896234', 2, 59.87007361776147, 75.22339305121054, -91.08093229885505], [229.2684326171875, 136.94497680664062, '2896234', 2, 69.46168355729796, 34.73084177864898, -162.2553221414549]] \n",
      "\n",
      "06241902_proc_01923.png\n"
     ]
    },
    {
     "name": "stderr",
     "output_type": "stream",
     "text": [
      "c:\\python36-32\\lib\\site-packages\\matplotlib\\cbook\\deprecation.py:107: MatplotlibDeprecationWarning: Adding an axes using the same arguments as a previous axes currently reuses the earlier instance.  In a future version, a new instance will always be created and returned.  Meanwhile, this warning can be suppressed, and the future behavior ensured, by passing a unique label to each axes instance.\n",
      "  warnings.warn(message, mplDeprecation, stacklevel=1)\n",
      "c:\\python36-32\\lib\\site-packages\\matplotlib\\pyplot.py:537: RuntimeWarning: More than 20 figures have been opened. Figures created through the pyplot interface (`matplotlib.pyplot.figure`) are retained until explicitly closed and may consume too much memory. (To control this warning, see the rcParam `figure.max_open_warning`).\n",
      "  max_open_warning, RuntimeWarning)\n"
     ]
    },
    {
     "name": "stdout",
     "output_type": "stream",
     "text": [
      "key = coords2903601 value =  [[295.296875, 188.75, '2903601', 5, 73.17103251970687, 95.00526301210897, -269.39690880561943], [62.296875, 213.75, '2903601', 8, 113.00442469213318, 132.015150645674, 89.13194855025446], [294.296875, 343.75, '2903601', 2, 69.00724599634447, 74.54528824815154, 83.06565109873046], [293, 189.6999969482422, '2903601', 6, 65, 63.387695966961914, -6.340191745909905], [295, 339.70001220703125, '2903601', 1, 59.00847396772772, 61, -270], [67, 215.6999969482422, '2903601', 11, 110, 106.23088063270491, 86.22180229283842], [70.796875, 211.75, '2903601', 9, 105.80170130957252, 98.65596788841515, -259.48737283007864], [293.796875, 185.75, '2903601', 4, 57.07889277132134, 62.369864518050704, -257.96940390346214], [67.296875, 210.75, '2903601', 1, 120.83045973594572, 103.4456378974, -60.4612177404419], [298.296875, 189.75, '2903601', 1, 67.1863081289633, 61.032778078668514, 18.138082155597317], [65.96875, 218, '2903601', 1, 127.01574705523721, 116.72617529928752, -62.995909297240345], [293.96875, 193, '2903601', 3, 82.46211251235322, 77.82030583337487, -64.09349200048561], [298.96875, 335, '2903601', 1, 67.08203932499369, 61.35144660071187, -109.02560603756868]] \n",
      "\n",
      "06240907_proc_01002.png\n"
     ]
    },
    {
     "name": "stderr",
     "output_type": "stream",
     "text": [
      "c:\\python36-32\\lib\\site-packages\\matplotlib\\cbook\\deprecation.py:107: MatplotlibDeprecationWarning: Adding an axes using the same arguments as a previous axes currently reuses the earlier instance.  In a future version, a new instance will always be created and returned.  Meanwhile, this warning can be suppressed, and the future behavior ensured, by passing a unique label to each axes instance.\n",
      "  warnings.warn(message, mplDeprecation, stacklevel=1)\n",
      "c:\\python36-32\\lib\\site-packages\\matplotlib\\pyplot.py:537: RuntimeWarning: More than 20 figures have been opened. Figures created through the pyplot interface (`matplotlib.pyplot.figure`) are retained until explicitly closed and may consume too much memory. (To control this warning, see the rcParam `figure.max_open_warning`).\n",
      "  max_open_warning, RuntimeWarning)\n"
     ]
    },
    {
     "name": "stdout",
     "output_type": "stream",
     "text": [
      "key = coords2896238 value =  [[226.5, 152.46665954589844, '2896238', 4, 64.8459713474939, 62.12889826803627, -86.30861401354872], [223.796875, 150.75, '2896238', 4, 64.47480127925948, 60.03332407921454, 60.01836063115067], [45.796875, 135.75, '2896238', 11, 124.01612798341996, 79.07591289387686, -103.1575427400148], [223.796875, 151.5, '2896238', 4, 58.83026432033091, 57.4543296888929, -211.476839349584], [26.796875, 140.5, '2896238', 11, 100.07996802557443, 70.25667228100119, -85.10090754621224], [226.796875, 151.5, '2896238', 4, 59.09314681077663, 61, -90]] \n",
      "\n",
      "06241902_proc_01927.png\n"
     ]
    },
    {
     "name": "stderr",
     "output_type": "stream",
     "text": [
      "c:\\python36-32\\lib\\site-packages\\matplotlib\\cbook\\deprecation.py:107: MatplotlibDeprecationWarning: Adding an axes using the same arguments as a previous axes currently reuses the earlier instance.  In a future version, a new instance will always be created and returned.  Meanwhile, this warning can be suppressed, and the future behavior ensured, by passing a unique label to each axes instance.\n",
      "  warnings.warn(message, mplDeprecation, stacklevel=1)\n",
      "c:\\python36-32\\lib\\site-packages\\matplotlib\\pyplot.py:537: RuntimeWarning: More than 20 figures have been opened. Figures created through the pyplot interface (`matplotlib.pyplot.figure`) are retained until explicitly closed and may consume too much memory. (To control this warning, see the rcParam `figure.max_open_warning`).\n",
      "  max_open_warning, RuntimeWarning)\n"
     ]
    },
    {
     "name": "stdout",
     "output_type": "stream",
     "text": [
      "key = coords2912624 value =  [[0, 0, '2912624', 0, 0, 0, 0], [0, 0, '2912624', 0, 0, 0, 0], [471.5, 357.4666748046875, '2912624', 1, 32.57299494980466, 36.124783736376884, -85.23635830927383], [0, 0, '2912624', 0, 0, 0, 0], [0, 0, '2912624', 0, 0, 0, 0]] \n",
      "\n",
      "06240910_proc_00390.png\n"
     ]
    },
    {
     "name": "stderr",
     "output_type": "stream",
     "text": [
      "c:\\python36-32\\lib\\site-packages\\matplotlib\\cbook\\deprecation.py:107: MatplotlibDeprecationWarning: Adding an axes using the same arguments as a previous axes currently reuses the earlier instance.  In a future version, a new instance will always be created and returned.  Meanwhile, this warning can be suppressed, and the future behavior ensured, by passing a unique label to each axes instance.\n",
      "  warnings.warn(message, mplDeprecation, stacklevel=1)\n",
      "c:\\python36-32\\lib\\site-packages\\matplotlib\\pyplot.py:537: RuntimeWarning: More than 20 figures have been opened. Figures created through the pyplot interface (`matplotlib.pyplot.figure`) are retained until explicitly closed and may consume too much memory. (To control this warning, see the rcParam `figure.max_open_warning`).\n",
      "  max_open_warning, RuntimeWarning)\n"
     ]
    },
    {
     "name": "stdout",
     "output_type": "stream",
     "text": [
      "key = coords2896241 value =  [[27.796875, 142.75, '2896241', 11, 101.00495037373169, 50.502475186865844, -90.56726640985795], [226.796875, 156.75, '2896241', 3, 52.15361924162119, 41.048751503547585, 2.7927023657132963], [232.5, 155.75, '2896241', 3, 61.84658438426491, 59.464274989274024, -160.34617594194668], [228.296875, 156.75, '2896241', 3, 72.11102550927978, 64.00781202322104, -0.8951737102110684], [230.796875, 159.75, '2896241', 3, 56.04462507680822, 67.23094525588644, -247.24902365721235], [28.796875, 137.75, '2896241', 11, 113.21660655575224, 56.60830327787612, 86.45523354440512], [230.296875, 157.5, '2896241', 3, 70.09279563550022, 52.92447448959697, 22.203478532057403], [230.96875, 163.609375, '2896241', 3, 58.137767414994535, 52.55473337388365, -158.80594351845772]] \n",
      "\n",
      "06241902_proc_01930.png\n"
     ]
    },
    {
     "name": "stderr",
     "output_type": "stream",
     "text": [
      "c:\\python36-32\\lib\\site-packages\\matplotlib\\cbook\\deprecation.py:107: MatplotlibDeprecationWarning: Adding an axes using the same arguments as a previous axes currently reuses the earlier instance.  In a future version, a new instance will always be created and returned.  Meanwhile, this warning can be suppressed, and the future behavior ensured, by passing a unique label to each axes instance.\n",
      "  warnings.warn(message, mplDeprecation, stacklevel=1)\n",
      "c:\\python36-32\\lib\\site-packages\\matplotlib\\pyplot.py:537: RuntimeWarning: More than 20 figures have been opened. Figures created through the pyplot interface (`matplotlib.pyplot.figure`) are retained until explicitly closed and may consume too much memory. (To control this warning, see the rcParam `figure.max_open_warning`).\n",
      "  max_open_warning, RuntimeWarning)\n"
     ]
    },
    {
     "name": "stdout",
     "output_type": "stream",
     "text": [
      "key = coords2896244 value =  [[0, 0, '2896244', 0, 0, 0, 0], [264.3371887207031, 8.245819091796875, '2896244', 2, 77.67856707003104, 38.83928353501552, -100.73119163668923], [0, 0, '2896244', 0, 0, 0, 0], [0, 0, '2896244', 0, 0, 0, 0], [0, 0, '2896244', 0, 0, 0, 0]] \n",
      "\n",
      "06241902_proc_01933.png\n"
     ]
    },
    {
     "name": "stderr",
     "output_type": "stream",
     "text": [
      "c:\\python36-32\\lib\\site-packages\\matplotlib\\cbook\\deprecation.py:107: MatplotlibDeprecationWarning: Adding an axes using the same arguments as a previous axes currently reuses the earlier instance.  In a future version, a new instance will always be created and returned.  Meanwhile, this warning can be suppressed, and the future behavior ensured, by passing a unique label to each axes instance.\n",
      "  warnings.warn(message, mplDeprecation, stacklevel=1)\n",
      "c:\\python36-32\\lib\\site-packages\\matplotlib\\pyplot.py:537: RuntimeWarning: More than 20 figures have been opened. Figures created through the pyplot interface (`matplotlib.pyplot.figure`) are retained until explicitly closed and may consume too much memory. (To control this warning, see the rcParam `figure.max_open_warning`).\n",
      "  max_open_warning, RuntimeWarning)\n"
     ]
    },
    {
     "name": "stdout",
     "output_type": "stream",
     "text": [
      "key = coords2912629 value =  [[314.796875, 128.75, '2912629', 3, 67.42403132415029, 50.80354318352215, -36.19320730556469], [0, 0, '2912629', 0, 0, 0, 0], [0, 0, '2912629', 0, 0, 0, 0], [0, 0, '2912629', 0, 0, 0, 0]] \n",
      "\n",
      "06240910_proc_00395.png\n"
     ]
    },
    {
     "name": "stderr",
     "output_type": "stream",
     "text": [
      "c:\\python36-32\\lib\\site-packages\\matplotlib\\cbook\\deprecation.py:107: MatplotlibDeprecationWarning: Adding an axes using the same arguments as a previous axes currently reuses the earlier instance.  In a future version, a new instance will always be created and returned.  Meanwhile, this warning can be suppressed, and the future behavior ensured, by passing a unique label to each axes instance.\n",
      "  warnings.warn(message, mplDeprecation, stacklevel=1)\n",
      "c:\\python36-32\\lib\\site-packages\\matplotlib\\pyplot.py:537: RuntimeWarning: More than 20 figures have been opened. Figures created through the pyplot interface (`matplotlib.pyplot.figure`) are retained until explicitly closed and may consume too much memory. (To control this warning, see the rcParam `figure.max_open_warning`).\n",
      "  max_open_warning, RuntimeWarning)\n"
     ]
    },
    {
     "name": "stdout",
     "output_type": "stream",
     "text": [
      "key = coords2883956 value =  [[215.296875, 152.75, '2883956', 8, 78.40918313565064, 79.05694150420949, -92.17474411461005], [23.296875, 142.75, '2883956', 11, 110.86027241532469, 73.16419889536138, -100.2348027634232], [220.82359313964844, 148.32563018798828, '2883956', 11, 127.9913733577862, 63.9956866788931, -52.869079791728275], [222.40213012695312, 147.5930938720703, '2883956', 8, 99.5727383212299, 84.43012073858993, 56.30993247402023], [51.30751037597656, 139.0727081298828, '2883956', 11, 116.81249231815069, 91.15130615235525, -90.0000287740544], [217.52467346191406, 144.4345703125, '2883956', 11, 87.17116384739701, 85.83129177312117, -88.21010689013256], [218.8125, 153, '2883956', 5, 74.04052944165107, 73.49829930005184, -75.01836742760908]] \n",
      "\n",
      "06241902_proc_00957.png\n"
     ]
    },
    {
     "name": "stderr",
     "output_type": "stream",
     "text": [
      "c:\\python36-32\\lib\\site-packages\\matplotlib\\cbook\\deprecation.py:107: MatplotlibDeprecationWarning: Adding an axes using the same arguments as a previous axes currently reuses the earlier instance.  In a future version, a new instance will always be created and returned.  Meanwhile, this warning can be suppressed, and the future behavior ensured, by passing a unique label to each axes instance.\n",
      "  warnings.warn(message, mplDeprecation, stacklevel=1)\n",
      "c:\\python36-32\\lib\\site-packages\\matplotlib\\pyplot.py:537: RuntimeWarning: More than 20 figures have been opened. Figures created through the pyplot interface (`matplotlib.pyplot.figure`) are retained until explicitly closed and may consume too much memory. (To control this warning, see the rcParam `figure.max_open_warning`).\n",
      "  max_open_warning, RuntimeWarning)\n"
     ]
    },
    {
     "name": "stdout",
     "output_type": "stream",
     "text": [
      "key = coords2883959 value =  [[206.796875, 299, '2883959', 2, 54.08326913195984, 45.5411901469428, -8.841814560191665], [213.796875, 151, '2883959', 9, 76.55063683601855, 71.84010022264724, -16.16449915225691], [25.796875, 131, '2883959', 10, 116.21101496846157, 58.105507484230785, -86.54668374946891], [210.796875, 308, '2883959', 2, 58.05170109479997, 53.415821626181135, -43.10348169679071], [213.796875, 148, '2883959', 10, 84.71274992585236, 79.45596264598397, -6.1411106168768015], [216.5, 145.46665954589844, '2883959', 11, 76.55716818169282, 72.49827584156743, -24.443954780416533], [208.5, 305.4666748046875, '2883959', 2, 50.566787519082126, 49.49747468305833, -45], [217.63540649414062, 150.5, '2883959', 11, 71.21797525905943, 71.21797525905943, -38.15722658736906], [213.63540649414062, 304.5, '2883959', 2, 48.61183442852347, 47.89340807800686, -42.220824256809216], [122.69999694824219, 119.5999984741211, '2883959', 3, 193.66206051486083, 96.83103025743041, -9.510958899067115]] \n",
      "\n",
      "06241902_proc_00960.png\n"
     ]
    },
    {
     "name": "stderr",
     "output_type": "stream",
     "text": [
      "c:\\python36-32\\lib\\site-packages\\matplotlib\\cbook\\deprecation.py:107: MatplotlibDeprecationWarning: Adding an axes using the same arguments as a previous axes currently reuses the earlier instance.  In a future version, a new instance will always be created and returned.  Meanwhile, this warning can be suppressed, and the future behavior ensured, by passing a unique label to each axes instance.\n",
      "  warnings.warn(message, mplDeprecation, stacklevel=1)\n",
      "c:\\python36-32\\lib\\site-packages\\matplotlib\\pyplot.py:537: RuntimeWarning: More than 20 figures have been opened. Figures created through the pyplot interface (`matplotlib.pyplot.figure`) are retained until explicitly closed and may consume too much memory. (To control this warning, see the rcParam `figure.max_open_warning`).\n",
      "  max_open_warning, RuntimeWarning)\n"
     ]
    },
    {
     "name": "stdout",
     "output_type": "stream",
     "text": [
      "key = coords2906487 value =  [[0, 0, '2906487', 0, 0, 0, 0], [320.296875, 116.75, '2906487', 1, 51.419840528729765, 59.033888572581766, -166.5042667192042], [120.296875, 81.75, '2906487', 5, 82, 80.39900496896712, 5.710593137499643], [121.5, 89.46665954589844, '2906487', 11, 74.33034373659252, 75.71657678474378, -56.309932474020215], [0, 0, '2906487', 0, 0, 0, 0]] \n",
      "\n",
      "key = coords2896248 value =  [[207, 143.46665954589844, '2896248', 4, 38.3275357934736, 42.01190307520001, -91.36392753160293], [205.63333129882812, 139.9666748046875, '2896248', 3, 71.51223938228885, 44.01136216933077, -201.31791227546154], [206.796875, 140.75, '2896248', 6, 45.60701700396552, 39.11521443121589, -85.60129464500447], [45.796875, 138.75, '2896248', 9, 68.3593446428504, 34.1796723214252, -95.87739260664314], [199.796875, 138.75, '2896248', 3, 55.036351623268054, 56.356011214421486, -27.47443162627713], [203.6999969482422, 135.0999984741211, '2896248', 3, 73.75634986567509, 58.82176467941097, -54.6887865603668]] \n",
      "\n",
      "06241902_proc_01937.png\n"
     ]
    },
    {
     "name": "stderr",
     "output_type": "stream",
     "text": [
      "c:\\python36-32\\lib\\site-packages\\matplotlib\\cbook\\deprecation.py:107: MatplotlibDeprecationWarning: Adding an axes using the same arguments as a previous axes currently reuses the earlier instance.  In a future version, a new instance will always be created and returned.  Meanwhile, this warning can be suppressed, and the future behavior ensured, by passing a unique label to each axes instance.\n",
      "  warnings.warn(message, mplDeprecation, stacklevel=1)\n",
      "c:\\python36-32\\lib\\site-packages\\matplotlib\\cbook\\deprecation.py:107: MatplotlibDeprecationWarning: Adding an axes using the same arguments as a previous axes currently reuses the earlier instance.  In a future version, a new instance will always be created and returned.  Meanwhile, this warning can be suppressed, and the future behavior ensured, by passing a unique label to each axes instance.\n",
      "  warnings.warn(message, mplDeprecation, stacklevel=1)\n",
      "c:\\python36-32\\lib\\site-packages\\matplotlib\\pyplot.py:537: RuntimeWarning: More than 20 figures have been opened. Figures created through the pyplot interface (`matplotlib.pyplot.figure`) are retained until explicitly closed and may consume too much memory. (To control this warning, see the rcParam `figure.max_open_warning`).\n",
      "  max_open_warning, RuntimeWarning)\n"
     ]
    },
    {
     "name": "stdout",
     "output_type": "stream",
     "text": [
      "key = coords2883961 value =  [[212.5, 148.75, '2883961', 11, 80.05623023850174, 68.00735254367721, 0.8425242607404329], [219.5, 296.75, '2883961', 1, 38.01315561749642, 33.06055050963308, 3.4682292589171624], [221.796875, 303.75, '2883961', 2, 116.72617529928752, 58.36308764964376, 43.264295411071615], [216.796875, 154.75, '2883961', 4, 99.18165152889924, 49.59082576444962, -176.53177074108288], [28.796875, 144.75, '2883961', 1, 131.03434664239754, 65.51717332119877, 88.68811221749588], [8.796875, 374.75, '2883961', 2, 60.21627686929839, 30.108138434649195, 35.53767779197438], [211.6999969482422, 145.14999389648438, '2883961', 7, 75.99999237060547, 80.00624975587844, 89.2838400545296], [225.6999969482422, 299.1499938964844, '2883961', 2, 54, 60, -270], [216.296875, 150.75, '2883961', 1, 60.01666435249463, 68.0294054067798, -88.31531568210372], [215.296875, 300.75, '2883961', 1, 23.259406699226016, 24.020824298928627, -92.38594403038881], [367.80999755859375, 286.760009765625, '2883961', 1, 33.83784863137726, 16.91892431568863, -34.15969454566943], [218.80999755859375, 298.760009765625, '2883961', 1, 42.7551166528639, 34.785054261852174, -18.43494882292201], [218.80999755859375, 141.760009765625, '2883961', 1, 66.91038783328041, 62.39390995922599, -21.63088683651793], [217.796875, 149.5, '2883961', 1, 79.22752047110903, 80.50465825031493, -96.41878673023879], [220.796875, 302.5, '2883961', 1, 34.058772731852805, 34.52535300326414, -100.00797980144134]] \n",
      "\n"
     ]
    },
    {
     "name": "stderr",
     "output_type": "stream",
     "text": [
      "c:\\python36-32\\lib\\site-packages\\matplotlib\\cbook\\deprecation.py:107: MatplotlibDeprecationWarning: Adding an axes using the same arguments as a previous axes currently reuses the earlier instance.  In a future version, a new instance will always be created and returned.  Meanwhile, this warning can be suppressed, and the future behavior ensured, by passing a unique label to each axes instance.\n",
      "  warnings.warn(message, mplDeprecation, stacklevel=1)\n"
     ]
    },
    {
     "name": "stdout",
     "output_type": "stream",
     "text": [
      "06241902_proc_00962.png\n"
     ]
    },
    {
     "name": "stderr",
     "output_type": "stream",
     "text": [
      "c:\\python36-32\\lib\\site-packages\\matplotlib\\pyplot.py:537: RuntimeWarning: More than 20 figures have been opened. Figures created through the pyplot interface (`matplotlib.pyplot.figure`) are retained until explicitly closed and may consume too much memory. (To control this warning, see the rcParam `figure.max_open_warning`).\n",
      "  max_open_warning, RuntimeWarning)\n"
     ]
    },
    {
     "name": "stdout",
     "output_type": "stream",
     "text": [
      "key = coords2904443 value =  [[286, 199.33999633789062, '2904443', 5, 82.56512580987206, 80.2807573457052, -13.690049617465505], [98, 216.33999633789062, '2904443', 7, 103.81714694596457, 106.56922632730333, 18.60496547380231], [297, 329.3399963378906, '2904443', 1, 70.25667228100119, 55.57877292636101, -8.275892827075197], [285.5, 195.69000244140625, '2904443', 1, 74.24284477308234, 78.5175139698144, -83.418055344822], [301.5, 328.69000244140625, '2904443', 1, 34.713109915419565, 33.28663395418648, -122.73522627210761], [80.5, 218.69000244140625, '2904443', 1, 98.99494936611666, 110.60289327137876, -104.6644614884111], [288.1208190917969, 196.02627563476562, '2904443', 7, 65.41592854741971, 69.41475276896972, 56.00353842337995], [300.1661071777344, 327.1863098144531, '2904443', 1, 46.09116605411006, 47.318430015783086, -224.9999738707242], [84.76651000976562, 213.00869750976562, '2904443', 11, 107.03751956687869, 107.72423644397264, 107.55354005848349], [99.796875, 209.5, '2904443', 11, 98.4733466477097, 103.39245620450265, -138.1363583683326], [295.796875, 196.5, '2904443', 9, 70.11419257183242, 55.14526271584895, -175.84035770628736], [288.8568115234375, 311.8717956542969, '2904443', 2, 54.67010508731426, 27.33505254365713, -16.577349819241608], [256.4668273925781, 188.09132385253906, '2904443', 8, 96.27557488241068, 48.13778744120534, 11.899391003675781], [63.11967849731445, 261.8306579589844, '2904443', 11, 137.54308841700507, 68.77154420850253, 5.861920030483051], [286.46875, 197.609375, '2904443', 8, 71.30918594402827, 64.07027391856539, -34.186122486375034], [299.46875, 330.609375, '2904443', 2, 45.0111097397076, 29.427877939124322, -9.782407031807281], [87.46875, 217.609375, '2904443', 11, 116.21101496846157, 105.72133181151285, 79.64667995607056]] \n",
      "\n",
      "06240907_proc_01844.png\n"
     ]
    },
    {
     "name": "stderr",
     "output_type": "stream",
     "text": [
      "c:\\python36-32\\lib\\site-packages\\matplotlib\\cbook\\deprecation.py:107: MatplotlibDeprecationWarning: Adding an axes using the same arguments as a previous axes currently reuses the earlier instance.  In a future version, a new instance will always be created and returned.  Meanwhile, this warning can be suppressed, and the future behavior ensured, by passing a unique label to each axes instance.\n",
      "  warnings.warn(message, mplDeprecation, stacklevel=1)\n",
      "c:\\python36-32\\lib\\site-packages\\matplotlib\\pyplot.py:537: RuntimeWarning: More than 20 figures have been opened. Figures created through the pyplot interface (`matplotlib.pyplot.figure`) are retained until explicitly closed and may consume too much memory. (To control this warning, see the rcParam `figure.max_open_warning`).\n",
      "  max_open_warning, RuntimeWarning)\n"
     ]
    },
    {
     "name": "stdout",
     "output_type": "stream",
     "text": [
      "key = coords2896249 value =  [[217.5, 136.46665954589844, '2896249', 2, 68.59300255857006, 43.73785545725808, -190.53918372862825], [211.76998901367188, 132.65794372558594, '2896249', 11, 60.625642542116225, 53.0225625900762, -214.41832065063534], [209, 134.46665954589844, '2896249', 3, 71.8679344353238, 60.41522986797286, -28.686147573739433], [208.3125, 140.75, '2896249', 2, 62.64982043070834, 49.64876634922564, -18.799885158652643], [208.796875, 136.5, '2896249', 2, 61.032778078668514, 30.516389039334257, -18.138082155597317]] \n",
      "\n",
      "06241902_proc_01938.png\n"
     ]
    },
    {
     "name": "stderr",
     "output_type": "stream",
     "text": [
      "c:\\python36-32\\lib\\site-packages\\matplotlib\\cbook\\deprecation.py:107: MatplotlibDeprecationWarning: Adding an axes using the same arguments as a previous axes currently reuses the earlier instance.  In a future version, a new instance will always be created and returned.  Meanwhile, this warning can be suppressed, and the future behavior ensured, by passing a unique label to each axes instance.\n",
      "  warnings.warn(message, mplDeprecation, stacklevel=1)\n",
      "c:\\python36-32\\lib\\site-packages\\matplotlib\\pyplot.py:537: RuntimeWarning: More than 20 figures have been opened. Figures created through the pyplot interface (`matplotlib.pyplot.figure`) are retained until explicitly closed and may consume too much memory. (To control this warning, see the rcParam `figure.max_open_warning`).\n",
      "  max_open_warning, RuntimeWarning)\n"
     ]
    },
    {
     "name": "stdout",
     "output_type": "stream",
     "text": [
      "key = coords2895871 value =  [[200.5, 144.75, '2895871', 9, 91.8313671900838, 85.42833253669417, -141.6544250460066], [210, 139.760009765625, '2895871', 1, 68.94200461257273, 66.61080993352356, 35.8376529542783], [190, 291.760009765625, '2895871', 1, 30.265491900843113, 31.016124838541646, 1.8476102659946037], [210.296875, 146.75, '2895871', 10, 67.4166151627327, 80.52328855678958, -75.61860540890939], [193.296875, 290.75, '2895871', 2, 50.60632371551998, 47.853944456021594, -63.97040780848654], [37.296875, 142.75, '2895871', 11, 85.05292469985967, 42.52646234992984, 87.97863505964398], [192.796875, 294.5, '2895871', 1, 35.12833614050059, 31.016124838541646, 88.1523897340054], [200.796875, 142.5, '2895871', 11, 77.00649323271382, 79.05694150420949, -87.82525588538995], [10.796875, 146.5, '2895871', 11, 81.27115109311545, 120.03332870498926, -10.561010691196373], [202.7458953857422, 149.0890655517578, '2895871', 9, 82.41113451228581, 81.07899732766519, -48.301861785947764], [192.67681884765625, 291.1745300292969, '2895871', 1, 41.41010264318901, 36.93682041638645, -51.5819064386777], [37.16597366333008, 148.86532592773438, '2895871', 10, 105.7959690449557, 55.22983370282474, -99.74123039849209]] \n",
      "\n",
      "06241902_proc_01560.png\n"
     ]
    },
    {
     "name": "stderr",
     "output_type": "stream",
     "text": [
      "c:\\python36-32\\lib\\site-packages\\matplotlib\\cbook\\deprecation.py:107: MatplotlibDeprecationWarning: Adding an axes using the same arguments as a previous axes currently reuses the earlier instance.  In a future version, a new instance will always be created and returned.  Meanwhile, this warning can be suppressed, and the future behavior ensured, by passing a unique label to each axes instance.\n",
      "  warnings.warn(message, mplDeprecation, stacklevel=1)\n",
      "c:\\python36-32\\lib\\site-packages\\matplotlib\\pyplot.py:537: RuntimeWarning: More than 20 figures have been opened. Figures created through the pyplot interface (`matplotlib.pyplot.figure`) are retained until explicitly closed and may consume too much memory. (To control this warning, see the rcParam `figure.max_open_warning`).\n",
      "  max_open_warning, RuntimeWarning)\n"
     ]
    },
    {
     "name": "stdout",
     "output_type": "stream",
     "text": [
      "key = coords2883966 value =  [[208.5, 134.6999969482422, '2883966', 2, 71.70251041630272, 68.89303302947258, -74.21924669048461], [246.5, 16.699996948242188, '2883966', 1, 46.14108798023731, 61.26989472816156, -119.89890183861459], [215.5, 133.75, '2883966', 9, 83.48652585896721, 83.81527307120105, -145.73889710090543], [205.05471801757812, 140.52403259277344, '2883966', 8, 98.45026403796822, 95.17362215186634, -195.52410460446023], [208.0784912109375, 135.2477569580078, '2883966', 8, 84.40698043874714, 82.12871479058069, -266.6335465252066], [208.796875, 137.5, '2883966', 3, 80.0812087820857, 74.96665925596525, 15.945395900922854], [196.796875, 264.5, '2883966', 1, 78.77182237323191, 73.81734213584231, 35.62790729142091], [31.796875, 70.5, '2883966', 2, 179.53551180755298, 89.76775590377649, -105.50702817689282]] \n",
      "\n",
      "06241902_proc_00967.png\n"
     ]
    },
    {
     "name": "stderr",
     "output_type": "stream",
     "text": [
      "c:\\python36-32\\lib\\site-packages\\matplotlib\\cbook\\deprecation.py:107: MatplotlibDeprecationWarning: Adding an axes using the same arguments as a previous axes currently reuses the earlier instance.  In a future version, a new instance will always be created and returned.  Meanwhile, this warning can be suppressed, and the future behavior ensured, by passing a unique label to each axes instance.\n",
      "  warnings.warn(message, mplDeprecation, stacklevel=1)\n",
      "c:\\python36-32\\lib\\site-packages\\matplotlib\\pyplot.py:537: RuntimeWarning: More than 20 figures have been opened. Figures created through the pyplot interface (`matplotlib.pyplot.figure`) are retained until explicitly closed and may consume too much memory. (To control this warning, see the rcParam `figure.max_open_warning`).\n",
      "  max_open_warning, RuntimeWarning)\n"
     ]
    },
    {
     "name": "stdout",
     "output_type": "stream",
     "text": [
      "key = coords2883968 value =  [[198.296875, 142.75, '2883968', 10, 71.02112361825881, 87.28115489611719, -85.39990433373671], [216.296875, 285.75, '2883968', 3, 49.92995093127971, 45.79301256742124, -31.6075022462489], [213.51136779785156, 151.1451416015625, '2883968', 1, 140.34047389560982, 70.17023694780491, 6.581942036951823], [230.9383087158203, 307.987548828125, '2883968', 1, 143.28665978726895, 71.64332989363447, -169.21570213243743], [208.45669555664062, 280.0455322265625, '2883968', 3, 48.11629610628391, 57.21470001882827, -95.31454819436901], [213.08267211914062, 142.1951141357422, '2883968', 11, 69.30300389707611, 74.38304264221267, -106.53484560374878], [3.8346481323242188, 147.27780151367188, '2883968', 11, 121.57259024226747, 92.50321545040973, -91.38035498413687], [210.1947479248047, 281.25579833984375, '2883968', 3, 59.10730198818798, 48.76814652342279, -2.544793872044004], [209.75050354003906, 141.79444885253906, '2883968', 8, 82.32962368096734, 75.10937884696894, -6.581955551234088], [213.32000732421875, 277.95001220703125, '2883968', 3, 90.47098982546837, 45.23549491273418, -13.421835067886203], [201.32000732421875, 133.95001220703125, '2883968', 8, 121.67168939404104, 60.83584469702052, -25.301378625419723]] \n",
      "\n",
      "06241902_proc_00969.png\n"
     ]
    },
    {
     "name": "stderr",
     "output_type": "stream",
     "text": [
      "c:\\python36-32\\lib\\site-packages\\matplotlib\\cbook\\deprecation.py:107: MatplotlibDeprecationWarning: Adding an axes using the same arguments as a previous axes currently reuses the earlier instance.  In a future version, a new instance will always be created and returned.  Meanwhile, this warning can be suppressed, and the future behavior ensured, by passing a unique label to each axes instance.\n",
      "  warnings.warn(message, mplDeprecation, stacklevel=1)\n",
      "c:\\python36-32\\lib\\site-packages\\matplotlib\\pyplot.py:537: RuntimeWarning: More than 20 figures have been opened. Figures created through the pyplot interface (`matplotlib.pyplot.figure`) are retained until explicitly closed and may consume too much memory. (To control this warning, see the rcParam `figure.max_open_warning`).\n",
      "  max_open_warning, RuntimeWarning)\n"
     ]
    },
    {
     "name": "stdout",
     "output_type": "stream",
     "text": [
      "key = coords2906498 value =  [[110.5, 106.94999694824219, '2906498', 11, 97.86214794290998, 97.71898212655378, 17.878697110841486], [122.33770751953125, 103.960693359375, '2906498', 7, 116.95479029488823, 102.83972755322439, -87.63981183262213], [118, 102.760009765625, '2906498', 9, 95, 91.58602513484249, -58.3924977537511], [92.796875, 92.40625, '2906498', 3, 123.40583454602137, 61.702917273010684, -37.4270513594566], [109.91541290283203, 100.68150329589844, '2906498', 9, 100.63897985082315, 100.06703737854663, -17.37892440032965]] \n",
      "\n",
      "06240909_proc_01899.png\n"
     ]
    },
    {
     "name": "stderr",
     "output_type": "stream",
     "text": [
      "c:\\python36-32\\lib\\site-packages\\matplotlib\\cbook\\deprecation.py:107: MatplotlibDeprecationWarning: Adding an axes using the same arguments as a previous axes currently reuses the earlier instance.  In a future version, a new instance will always be created and returned.  Meanwhile, this warning can be suppressed, and the future behavior ensured, by passing a unique label to each axes instance.\n",
      "  warnings.warn(message, mplDeprecation, stacklevel=1)\n",
      "c:\\python36-32\\lib\\site-packages\\matplotlib\\pyplot.py:537: RuntimeWarning: More than 20 figures have been opened. Figures created through the pyplot interface (`matplotlib.pyplot.figure`) are retained until explicitly closed and may consume too much memory. (To control this warning, see the rcParam `figure.max_open_warning`).\n",
      "  max_open_warning, RuntimeWarning)\n"
     ]
    },
    {
     "name": "stdout",
     "output_type": "stream",
     "text": [
      "key = coords2906503 value =  [[87.796875, 106, '2906503', 0, 62.00806399170998, 46.61544808322666, 35.39479584498706], [0, 0, '2906503', 0, 0, 0, 0], [0, 0, '2906503', 0, 0, 0, 0], [0, 0, '2906503', 0, 0, 0, 0], [0, 0, '2906503', 0, 0, 0, 0]] \n",
      "\n",
      "06240909_proc_01904.png\n"
     ]
    },
    {
     "name": "stderr",
     "output_type": "stream",
     "text": [
      "c:\\python36-32\\lib\\site-packages\\matplotlib\\cbook\\deprecation.py:107: MatplotlibDeprecationWarning: Adding an axes using the same arguments as a previous axes currently reuses the earlier instance.  In a future version, a new instance will always be created and returned.  Meanwhile, this warning can be suppressed, and the future behavior ensured, by passing a unique label to each axes instance.\n",
      "  warnings.warn(message, mplDeprecation, stacklevel=1)\n",
      "c:\\python36-32\\lib\\site-packages\\matplotlib\\pyplot.py:537: RuntimeWarning: More than 20 figures have been opened. Figures created through the pyplot interface (`matplotlib.pyplot.figure`) are retained until explicitly closed and may consume too much memory. (To control this warning, see the rcParam `figure.max_open_warning`).\n",
      "  max_open_warning, RuntimeWarning)\n"
     ]
    },
    {
     "name": "stdout",
     "output_type": "stream",
     "text": [
      "key = coords2906506 value =  [[125.72000122070312, 105.16999816894531, '2906506', 9, 71.06335201775947, 79.40403012442127, 53.7073702715204], [114.01947021484375, 101.95579528808594, '2906506', 5, 82.25140184291139, 79.45770523915547, -1.9749362859893012], [128.296875, 97.75, '2906506', 7, 65.45991139621256, 66.06814663663572, -50.527540151656176], [102.7461929321289, 90.28083801269531, '2906506', 1, 92.12674804999433, 100.16102228133033, -85.46222794257197], [132.0030059814453, 99.9149398803711, '2906506', 11, 78.74063933414295, 73.4695470888197, -30.14137974280183]] \n",
      "\n",
      "06240909_proc_01907.png\n"
     ]
    },
    {
     "name": "stderr",
     "output_type": "stream",
     "text": [
      "c:\\python36-32\\lib\\site-packages\\matplotlib\\cbook\\deprecation.py:107: MatplotlibDeprecationWarning: Adding an axes using the same arguments as a previous axes currently reuses the earlier instance.  In a future version, a new instance will always be created and returned.  Meanwhile, this warning can be suppressed, and the future behavior ensured, by passing a unique label to each axes instance.\n",
      "  warnings.warn(message, mplDeprecation, stacklevel=1)\n",
      "c:\\python36-32\\lib\\site-packages\\matplotlib\\pyplot.py:537: RuntimeWarning: More than 20 figures have been opened. Figures created through the pyplot interface (`matplotlib.pyplot.figure`) are retained until explicitly closed and may consume too much memory. (To control this warning, see the rcParam `figure.max_open_warning`).\n",
      "  max_open_warning, RuntimeWarning)\n"
     ]
    },
    {
     "name": "stdout",
     "output_type": "stream",
     "text": [
      "key = coords2883979 value =  [[224.296875, 155.75, '2883979', 4, 65.03076195155643, 56.142675390472796, -4.08561677997487], [207.296875, 306.75, '2883979', 4, 48.54894437575342, 51.03920062069938, -32.38067770656923], [0, 0, '2883979', 0, 0, 0, 0], [224.296875, 150.75, '2883979', 5, 65, 64.13267497929586, -100.7842978675626], [207.296875, 303.75, '2883979', 1, 34.828149534535996, 40.311288741492746, -66.61477894278624], [32.796875, 144.5, '2883979', 11, 91.44397191723465, 45.721985958617324, -95.64824737373527], [216.796875, 160.5, '2883979', 11, 61.07372593840988, 58.008620049092706, 0.987760399639825], [203.796875, 305.5, '2883979', 2, 45.0111097397076, 46, 0], [36.796875, 328.5, '2883979', 2, 54.48853090330111, 46.010868281309364, -42.357454705935275], [214, 152.9666748046875, '2883979', 4, 79.40403012442127, 51.2445194942669, -5.599338504205178], [208, 311.9666748046875, '2883979', 1, 38.07886552931954, 31.400636936215164, -9.162347045721702]] \n",
      "\n",
      "06241902_proc_00980.png\n"
     ]
    },
    {
     "name": "stderr",
     "output_type": "stream",
     "text": [
      "c:\\python36-32\\lib\\site-packages\\matplotlib\\cbook\\deprecation.py:107: MatplotlibDeprecationWarning: Adding an axes using the same arguments as a previous axes currently reuses the earlier instance.  In a future version, a new instance will always be created and returned.  Meanwhile, this warning can be suppressed, and the future behavior ensured, by passing a unique label to each axes instance.\n",
      "  warnings.warn(message, mplDeprecation, stacklevel=1)\n",
      "c:\\python36-32\\lib\\site-packages\\matplotlib\\pyplot.py:537: RuntimeWarning: More than 20 figures have been opened. Figures created through the pyplot interface (`matplotlib.pyplot.figure`) are retained until explicitly closed and may consume too much memory. (To control this warning, see the rcParam `figure.max_open_warning`).\n",
      "  max_open_warning, RuntimeWarning)\n"
     ]
    },
    {
     "name": "stdout",
     "output_type": "stream",
     "text": [
      "key = coords10517996 value =  [[310.5, 114.46665954589844, '10517996', 6, 51.03920062069938, 34.713109915419565, -34.62415507994895], [331.5, 20.466659545898438, '10517996', 9, 51.78802950489621, 61.326992425847855, -114.05734945001174], [122.5, 97.46665954589844, '10517996', 11, 80.4114419718985, 87.55569655939013, -103.877529803208], [0, 0, '10517996', 0, 0, 0, 0], [46.296875, 111.75, '10517996', 2, 51.62363799656123, 44.598206241955516, -70.34617594194668], [305.296875, 113.75, '10517996', 4, 58.309518948453004, 35.84689665786984, -22.98871680208063], [378.296875, 346.75, '10517996', 1, 43.829214001622255, 43.56604182158393, 55.22216863363612], [0, 0, '10517996', 0, 0, 0, 0], [124.96875, 102, '10517996', 1, 83.21658488546619, 84.90583018850944, -122.00538320808349], [384.96875, 348, '10517996', 1, 48.27007354458868, 24.13503677229434, -140.0424510691709], [311.96875, 119, '10517996', 3, 72.80109889280519, 54.644304369257, -34.56252464888182], [351.96875, 21, '10517996', 1, 58.82176467941097, 29.410882339705484, -125.31121343963319]] \n",
      "\n",
      "06240913_proc_00511.png\n"
     ]
    },
    {
     "name": "stderr",
     "output_type": "stream",
     "text": [
      "c:\\python36-32\\lib\\site-packages\\matplotlib\\cbook\\deprecation.py:107: MatplotlibDeprecationWarning: Adding an axes using the same arguments as a previous axes currently reuses the earlier instance.  In a future version, a new instance will always be created and returned.  Meanwhile, this warning can be suppressed, and the future behavior ensured, by passing a unique label to each axes instance.\n",
      "  warnings.warn(message, mplDeprecation, stacklevel=1)\n",
      "c:\\python36-32\\lib\\site-packages\\matplotlib\\pyplot.py:537: RuntimeWarning: More than 20 figures have been opened. Figures created through the pyplot interface (`matplotlib.pyplot.figure`) are retained until explicitly closed and may consume too much memory. (To control this warning, see the rcParam `figure.max_open_warning`).\n",
      "  max_open_warning, RuntimeWarning)\n"
     ]
    },
    {
     "name": "stdout",
     "output_type": "stream",
     "text": [
      "key = coords2906511 value =  [[113.4661636352539, 124.86307525634766, '2906511', 11, 94.82635362523583, 93.32357512679853, -63.06047460594701], [115.24000549316406, 134.39999389648438, '2906511', 11, 96.08539183829791, 93.85628901989698, -177.58426496612483], [119.69999694824219, 126.1500015258789, '2906511', 11, 101.17805324704742, 104.12012293500234, -87.24751459973132], [118.5, 119.96665954589844, '2906511', 10, 91.2414379544733, 91.59148432032315, 10.69651073577812], [114.69999694824219, 121.09999084472656, '2906511', 1, 104.80935072788114, 105.99055877961536, -26.323300096651828]] \n",
      "\n",
      "06240909_proc_01912.png\n"
     ]
    },
    {
     "name": "stderr",
     "output_type": "stream",
     "text": [
      "c:\\python36-32\\lib\\site-packages\\matplotlib\\cbook\\deprecation.py:107: MatplotlibDeprecationWarning: Adding an axes using the same arguments as a previous axes currently reuses the earlier instance.  In a future version, a new instance will always be created and returned.  Meanwhile, this warning can be suppressed, and the future behavior ensured, by passing a unique label to each axes instance.\n",
      "  warnings.warn(message, mplDeprecation, stacklevel=1)\n",
      "c:\\python36-32\\lib\\site-packages\\matplotlib\\pyplot.py:537: RuntimeWarning: More than 20 figures have been opened. Figures created through the pyplot interface (`matplotlib.pyplot.figure`) are retained until explicitly closed and may consume too much memory. (To control this warning, see the rcParam `figure.max_open_warning`).\n",
      "  max_open_warning, RuntimeWarning)\n"
     ]
    },
    {
     "name": "stdout",
     "output_type": "stream",
     "text": [
      "key = coords2896272 value =  [[0, 0, '2896272', 0, 0, 0, 0], [225.296875, 165.75, '2896272', 6, 48.104053883222775, 24.052026941611388, -133.31531568210372], [0, 0, '2896272', 0, 0, 0, 0], [0, 0, '2896272', 0, 0, 0, 0], [0, 0, '2896272', 0, 0, 0, 0]] \n",
      "\n",
      "06241902_proc_01961.png\n"
     ]
    },
    {
     "name": "stderr",
     "output_type": "stream",
     "text": [
      "c:\\python36-32\\lib\\site-packages\\matplotlib\\cbook\\deprecation.py:107: MatplotlibDeprecationWarning: Adding an axes using the same arguments as a previous axes currently reuses the earlier instance.  In a future version, a new instance will always be created and returned.  Meanwhile, this warning can be suppressed, and the future behavior ensured, by passing a unique label to each axes instance.\n",
      "  warnings.warn(message, mplDeprecation, stacklevel=1)\n",
      "c:\\python36-32\\lib\\site-packages\\matplotlib\\pyplot.py:537: RuntimeWarning: More than 20 figures have been opened. Figures created through the pyplot interface (`matplotlib.pyplot.figure`) are retained until explicitly closed and may consume too much memory. (To control this warning, see the rcParam `figure.max_open_warning`).\n",
      "  max_open_warning, RuntimeWarning)\n"
     ]
    },
    {
     "name": "stdout",
     "output_type": "stream",
     "text": [
      "key = coords2912657 value =  [[0, 0, '2912657', 0, 0, 0, 0], [104.5, 142.75, '2912657', 1, 164.14932226482082, 157.09869509324386, -158.3340412767098], [0, 0, '2912657', 0, 0, 0, 0], [0, 0, '2912657', 0, 0, 0, 0], [0, 0, '2912657', 0, 0, 0, 0], [0, 0, '2912657', 0, 0, 0, 0]] \n",
      "\n",
      "06240910_proc_00423.png\n"
     ]
    },
    {
     "name": "stderr",
     "output_type": "stream",
     "text": [
      "c:\\python36-32\\lib\\site-packages\\matplotlib\\cbook\\deprecation.py:107: MatplotlibDeprecationWarning: Adding an axes using the same arguments as a previous axes currently reuses the earlier instance.  In a future version, a new instance will always be created and returned.  Meanwhile, this warning can be suppressed, and the future behavior ensured, by passing a unique label to each axes instance.\n",
      "  warnings.warn(message, mplDeprecation, stacklevel=1)\n",
      "c:\\python36-32\\lib\\site-packages\\matplotlib\\pyplot.py:537: RuntimeWarning: More than 20 figures have been opened. Figures created through the pyplot interface (`matplotlib.pyplot.figure`) are retained until explicitly closed and may consume too much memory. (To control this warning, see the rcParam `figure.max_open_warning`).\n",
      "  max_open_warning, RuntimeWarning)\n"
     ]
    },
    {
     "name": "stdout",
     "output_type": "stream",
     "text": [
      "key = coords2904464 value =  [[290, 193.46665954589844, '2904464', 6, 62.68173577685928, 57.8013840664737, -59.886266849017574], [286.5, 189.46665954589844, '2904464', 10, 67.80117993073571, 83.52843827104634, 58.21274687833525], [62.5, 235.46665954589844, '2904464', 11, 118.4736257569591, 105.11898020814318, 64.65382405805332], [392.296875, 249.75, '2904464', 1, 434.5215759890411, 217.26078799452054, 170.06076593488265], [80.796875, 221.75, '2904464', 11, 110.8873302050329, 101.86265262597475, -133.4088597288054], [291.796875, 192.75, '2904464', 6, 68.0294054067798, 60.13318551349163, -183.81407483429035], [73.296875, 221.75, '2904464', 1, 87.00574693662483, 93.43446901438462, 5.527540151656183], [291.296875, 190.75, '2904464', 6, 60.13318551349163, 51, 0]] \n",
      "\n",
      "06240907_proc_01865.png\n"
     ]
    },
    {
     "name": "stderr",
     "output_type": "stream",
     "text": [
      "c:\\python36-32\\lib\\site-packages\\matplotlib\\cbook\\deprecation.py:107: MatplotlibDeprecationWarning: Adding an axes using the same arguments as a previous axes currently reuses the earlier instance.  In a future version, a new instance will always be created and returned.  Meanwhile, this warning can be suppressed, and the future behavior ensured, by passing a unique label to each axes instance.\n",
      "  warnings.warn(message, mplDeprecation, stacklevel=1)\n",
      "c:\\python36-32\\lib\\site-packages\\numpy\\core\\fromnumeric.py:2957: RuntimeWarning: Mean of empty slice.\n",
      "  out=out, **kwargs)\n",
      "c:\\python36-32\\lib\\site-packages\\numpy\\core\\_methods.py:80: RuntimeWarning: invalid value encountered in double_scalars\n",
      "  ret = ret.dtype.type(ret / rcount)\n",
      "c:\\python36-32\\lib\\site-packages\\astropy\\units\\quantity.py:639: RuntimeWarning: invalid value encountered in true_divide\n",
      "  result = super().__array_ufunc__(function, method, *arrays, **kwargs)\n",
      "c:\\python36-32\\lib\\site-packages\\matplotlib\\pyplot.py:537: RuntimeWarning: More than 20 figures have been opened. Figures created through the pyplot interface (`matplotlib.pyplot.figure`) are retained until explicitly closed and may consume too much memory. (To control this warning, see the rcParam `figure.max_open_warning`).\n",
      "  max_open_warning, RuntimeWarning)\n"
     ]
    },
    {
     "name": "stdout",
     "output_type": "stream",
     "text": [
      "key = coords2906515 value =  [[115.796875, 116.75, '2906515', 8, 85.37564055396598, 79.05694150420949, -87.82525588538995], [116.296875, 121.75, '2906515', 9, 83.18653737234169, 81.78630692236935, -11.99689930792357], [120, 112.760009765625, '2906515', 7, 95.77577981932593, 92.20086767487604, -53.378672506215565], [124.796875, 113.75, '2906515', 9, 92.31467922275417, 81.83520025025906, -147.47510971220896], [105.41252136230469, 110.46790313720703, '2906515', 1, 96.21950929784703, 84.17191967452077, -16.564365140798557], [115.796875, 109.5, '2906515', 10, 91.52595260361949, 83.6301381082203, -41.12147549715229]] \n",
      "\n",
      "06240909_proc_01916.png\n"
     ]
    },
    {
     "name": "stderr",
     "output_type": "stream",
     "text": [
      "c:\\python36-32\\lib\\site-packages\\matplotlib\\cbook\\deprecation.py:107: MatplotlibDeprecationWarning: Adding an axes using the same arguments as a previous axes currently reuses the earlier instance.  In a future version, a new instance will always be created and returned.  Meanwhile, this warning can be suppressed, and the future behavior ensured, by passing a unique label to each axes instance.\n",
      "  warnings.warn(message, mplDeprecation, stacklevel=1)\n",
      "c:\\python36-32\\lib\\site-packages\\matplotlib\\pyplot.py:537: RuntimeWarning: More than 20 figures have been opened. Figures created through the pyplot interface (`matplotlib.pyplot.figure`) are retained until explicitly closed and may consume too much memory. (To control this warning, see the rcParam `figure.max_open_warning`).\n",
      "  max_open_warning, RuntimeWarning)\n"
     ]
    },
    {
     "name": "stdout",
     "output_type": "stream",
     "text": [
      "key = coords2904468 value =  [[290.796875, 197.75, '2904468', 7, 68.65857557508748, 34.32928778754374, -167.38067770656923], [72.796875, 208.75, '2904468', 11, 101.59232254457027, 50.79616127228513, -20.754071318799394], [317.796875, 330.75, '2904468', 1, 40.792156108742276, 20.396078054371138, -11.309932474020215], [287.796875, 196.75, '2904468', 11, 64.77653896280658, 76.4198926981712, 83.99099404250546], [315.796875, 331.75, '2904468', 3, 44.04543109109048, 52.49761899362675, -220.36453657309735], [64.796875, 207.75, '2904468', 11, 112.89375536317321, 100.16985574512923, -31.944752776203387], [210.296875, 227.75, '2904468', 1, 244.23349483639626, 122.11674741819813, 149.76044930209235], [68, 208.760009765625, '2904468', 6, 110.72488428533127, 119.81652640600127, -75.49983323344743], [288, 195.760009765625, '2904468', 6, 84.50443775329198, 77.33692520394123, -40.279863068956445], [318, 332.760009765625, '2904468', 2, 63.60031446463138, 55.31726674375732, -40.601294645004465], [291.296875, 193.75, '2904468', 9, 73.66138744281159, 74.06078584514209, -55.45163294398869], [66.296875, 207.75, '2904468', 11, 113.74093370462545, 105.89145385724005, -39.251336582712234], [319.296875, 331.75, '2904468', 2, 59.20304046246274, 61.07372593840988, -230.31454566994478]] \n",
      "\n",
      "06240907_proc_01869.png\n"
     ]
    },
    {
     "name": "stderr",
     "output_type": "stream",
     "text": [
      "c:\\python36-32\\lib\\site-packages\\matplotlib\\cbook\\deprecation.py:107: MatplotlibDeprecationWarning: Adding an axes using the same arguments as a previous axes currently reuses the earlier instance.  In a future version, a new instance will always be created and returned.  Meanwhile, this warning can be suppressed, and the future behavior ensured, by passing a unique label to each axes instance.\n",
      "  warnings.warn(message, mplDeprecation, stacklevel=1)\n",
      "c:\\python36-32\\lib\\site-packages\\matplotlib\\pyplot.py:537: RuntimeWarning: More than 20 figures have been opened. Figures created through the pyplot interface (`matplotlib.pyplot.figure`) are retained until explicitly closed and may consume too much memory. (To control this warning, see the rcParam `figure.max_open_warning`).\n",
      "  max_open_warning, RuntimeWarning)\n"
     ]
    },
    {
     "name": "stdout",
     "output_type": "stream",
     "text": [
      "key = coords2883988 value =  [[208.296875, 283.75, '2883988', 2, 42.638011210655684, 39.698866482558415, 49.085616779974885], [217.296875, 152.75, '2883988', 11, 72.11102550927978, 72.02777242147643, 1.5911402711945897], [206.42984008789062, 281.64154052734375, '2883988', 1, 54.81426504530557, 51.07921581843089, -52.43141945046245], [215.7729034423828, 161.91188049316406, '2883988', 1, 82.090176955462, 80.86023998714947, -110.41255401377947], [250.0308074951172, 30.243852615356445, '2883988', 1, 40.699028096421344, 46.89220086049786, -72.16674171770251], [16.454158782958984, 160.18167114257812, '2883988', 1, 83.18561284622562, 80.37210499844267, -54.46231999513704], [217.796875, 147.75, '2883988', 8, 74.52516353554684, 71.11258679024411, 3.224522606519912], [28.796875, 153.75, '2883988', 11, 99.46356116689167, 49.73178058344583, -99.8411317596344], [207.796875, 280.75, '2883988', 2, 54.405882034941776, 47.67598976424087, -9.659893078442337], [233.61013793945312, 145.77503967285156, '2883988', 7, 89.97073029665309, 100.77550900585472, 33.4533010571133], [206.80091857910156, 293.2257080078125, '2883988', 3, 64.78736080027805, 57.37420339652386, -24.44395813082101], [202.95849609375, 276.2257385253906, '2883988', 2, 59.9599609375, 49.50924374553002, -25.769322689084348], [213.09999084472656, 148.6999969482422, '2883988', 5, 90.80197870224355, 82.54089895318563, 73.36119364034174], [208.51596069335938, 276.8345947265625, '2883988', 2, 56.216082130498116, 57.56728328668348, 59.50015762467467], [206.5, 275.75, '2883988', 3, 51.24451190127583, 63.324560795950255, -105.57254359681026], [213.5, 151.75, '2883988', 11, 77.23341245859851, 85.90692637965812, -114.77514056883192]] \n",
      "\n",
      "06241902_proc_00989.png\n"
     ]
    },
    {
     "name": "stderr",
     "output_type": "stream",
     "text": [
      "c:\\python36-32\\lib\\site-packages\\matplotlib\\cbook\\deprecation.py:107: MatplotlibDeprecationWarning: Adding an axes using the same arguments as a previous axes currently reuses the earlier instance.  In a future version, a new instance will always be created and returned.  Meanwhile, this warning can be suppressed, and the future behavior ensured, by passing a unique label to each axes instance.\n",
      "  warnings.warn(message, mplDeprecation, stacklevel=1)\n",
      "c:\\python36-32\\lib\\site-packages\\matplotlib\\pyplot.py:537: RuntimeWarning: More than 20 figures have been opened. Figures created through the pyplot interface (`matplotlib.pyplot.figure`) are retained until explicitly closed and may consume too much memory. (To control this warning, see the rcParam `figure.max_open_warning`).\n",
      "  max_open_warning, RuntimeWarning)\n"
     ]
    },
    {
     "name": "stdout",
     "output_type": "stream",
     "text": [
      "key = coords2912659 value =  [[0, 0, '2912659', 0, 0, 0, 0], [0, 0, '2912659', 0, 0, 0, 0], [0, 0, '2912659', 0, 0, 0, 0], [348.88970947265625, 299.9280090332031, '2912659', 1, 41.70531677719475, 27.503948051710452, -46.974924715700666], [0, 0, '2912659', 0, 0, 0, 0]] \n",
      "\n",
      "06240910_proc_00425.png\n"
     ]
    },
    {
     "name": "stderr",
     "output_type": "stream",
     "text": [
      "c:\\python36-32\\lib\\site-packages\\matplotlib\\cbook\\deprecation.py:107: MatplotlibDeprecationWarning: Adding an axes using the same arguments as a previous axes currently reuses the earlier instance.  In a future version, a new instance will always be created and returned.  Meanwhile, this warning can be suppressed, and the future behavior ensured, by passing a unique label to each axes instance.\n",
      "  warnings.warn(message, mplDeprecation, stacklevel=1)\n",
      "c:\\python36-32\\lib\\site-packages\\matplotlib\\pyplot.py:537: RuntimeWarning: More than 20 figures have been opened. Figures created through the pyplot interface (`matplotlib.pyplot.figure`) are retained until explicitly closed and may consume too much memory. (To control this warning, see the rcParam `figure.max_open_warning`).\n",
      "  max_open_warning, RuntimeWarning)\n"
     ]
    },
    {
     "name": "stdout",
     "output_type": "stream",
     "text": [
      "key = coords2896279 value =  [[51.499969482421875, 116.21998596191406, '2896279', 4, 74.0520180230843, 49.89928384087565, -262.7467996991519], [192.43975830078125, 138.02568817138672, '2896279', 5, 94.43138657257931, 68.99346278107019, -26.15681729239021], [206, 138.46665954589844, '2896279', 5, 81.6333265278342, 80.77747210701756, -30.96375653207352], [203, 139.46665954589844, '2896279', 3, 77.87810988975015, 48.104053883222775, -12.608606793366237], [103.796875, 85.75, '2896279', 3, 177.54436065389405, 88.77218032694702, -26.420729619555328], [208.796875, 132.75, '2896279', 4, 86.83317338436964, 63.12685640834652, -176.3670492605118], [205.9268035888672, 144.25050354003906, '2896279', 3, 75.8300123488211, 64.56487559756656, 6.483067730207708], [200.5, 139.75, '2896279', 4, 84.2140130857092, 42.1070065428546, -4.085616779974877], [189.796875, 141.5, '2896279', 3, 83.18653737234169, 47.265209192385896, -6.072456407207696]] \n",
      "\n",
      "06241902_proc_01968.png\n"
     ]
    },
    {
     "name": "stderr",
     "output_type": "stream",
     "text": [
      "c:\\python36-32\\lib\\site-packages\\matplotlib\\cbook\\deprecation.py:107: MatplotlibDeprecationWarning: Adding an axes using the same arguments as a previous axes currently reuses the earlier instance.  In a future version, a new instance will always be created and returned.  Meanwhile, this warning can be suppressed, and the future behavior ensured, by passing a unique label to each axes instance.\n",
      "  warnings.warn(message, mplDeprecation, stacklevel=1)\n",
      "c:\\python36-32\\lib\\site-packages\\matplotlib\\pyplot.py:537: RuntimeWarning: More than 20 figures have been opened. Figures created through the pyplot interface (`matplotlib.pyplot.figure`) are retained until explicitly closed and may consume too much memory. (To control this warning, see the rcParam `figure.max_open_warning`).\n",
      "  max_open_warning, RuntimeWarning)\n"
     ]
    },
    {
     "name": "stdout",
     "output_type": "stream",
     "text": [
      "key = coords2912664 value =  [[0, 0, '2912664', 0, 0, 0, 0], [0, 0, '2912664', 0, 0, 0, 0], [0, 0, '2912664', 0, 0, 0, 0], [0, 0, '2912664', 0, 0, 0, 0], [0, 0, '2912664', 0, 0, 0, 0]] \n",
      "\n",
      "06240910_proc_00430.png\n"
     ]
    },
    {
     "name": "stderr",
     "output_type": "stream",
     "text": [
      "c:\\python36-32\\lib\\site-packages\\matplotlib\\cbook\\deprecation.py:107: MatplotlibDeprecationWarning: Adding an axes using the same arguments as a previous axes currently reuses the earlier instance.  In a future version, a new instance will always be created and returned.  Meanwhile, this warning can be suppressed, and the future behavior ensured, by passing a unique label to each axes instance.\n",
      "  warnings.warn(message, mplDeprecation, stacklevel=1)\n",
      "c:\\python36-32\\lib\\site-packages\\matplotlib\\pyplot.py:537: RuntimeWarning: More than 20 figures have been opened. Figures created through the pyplot interface (`matplotlib.pyplot.figure`) are retained until explicitly closed and may consume too much memory. (To control this warning, see the rcParam `figure.max_open_warning`).\n",
      "  max_open_warning, RuntimeWarning)\n"
     ]
    },
    {
     "name": "stdout",
     "output_type": "stream",
     "text": [
      "key = coords2896281 value =  [[204.296875, 135.75, '2896281', 3, 67.11929677819934, 47.853944456021594, -153.97040780848653], [203.296875, 139.75, '2896281', 4, 68.73136110975832, 52.61178575186362, -8.746162262555202], [197.796875, 138.75, '2896281', 7, 79.1580697086532, 62.20128616033595, -4.610649318660606], [53.796875, 159.75, '2896281', 4, 55.90169943749474, 27.95084971874737, -100.30484646876603], [190.796875, 278.75, '2896281', 1, 58.137767414994535, 49.64876634922564, -27.597295868643712], [8.796875, 43.75, '2896281', 11, 103.4456378974, 72.2357252334328, -68.05130091647302], [200.96875, 136, '2896281', 3, 71.06335201775947, 43.174066289845804, -13.392497753751101]] \n",
      "\n",
      "06241902_proc_01970.png\n"
     ]
    },
    {
     "name": "stderr",
     "output_type": "stream",
     "text": [
      "c:\\python36-32\\lib\\site-packages\\matplotlib\\cbook\\deprecation.py:107: MatplotlibDeprecationWarning: Adding an axes using the same arguments as a previous axes currently reuses the earlier instance.  In a future version, a new instance will always be created and returned.  Meanwhile, this warning can be suppressed, and the future behavior ensured, by passing a unique label to each axes instance.\n",
      "  warnings.warn(message, mplDeprecation, stacklevel=1)\n",
      "c:\\python36-32\\lib\\site-packages\\matplotlib\\pyplot.py:537: RuntimeWarning: More than 20 figures have been opened. Figures created through the pyplot interface (`matplotlib.pyplot.figure`) are retained until explicitly closed and may consume too much memory. (To control this warning, see the rcParam `figure.max_open_warning`).\n",
      "  max_open_warning, RuntimeWarning)\n"
     ]
    },
    {
     "name": "stdout",
     "output_type": "stream",
     "text": [
      "key = coords2906522 value =  [[0, 0, '2906522', 0, 0, 0, 0], [103.18000793457031, 86.760009765625, '2906522', 1, 84.50443775329198, 69.6419413859206, 32.09259132873417], [0, 0, '2906522', 0, 0, 0, 0], [87.8056640625, 75.73448944091797, '2906522', 1, 93.21680777938388, 91.51655566539452, -53.4475277110004], [107.796875, 83.75, '2906522', 2, 97.62171889492625, 72.24956747275377, -138.3664606634298]] \n",
      "\n",
      "key = coords2883995 value =  [[194.796875, 149.75, '2883995', 11, 102, 82.21921916437786, 0], [203.3126678466797, 152.50641632080078, '2883995', 9, 75.07515736806555, 69.28435554011202, -13.59093992742018], [200.3125, 136.75, '2883995', 4, 64.6297145282261, 59.21148537234985, 8.004728857292855], [201.796875, 150.75, '2883995', 8, 71.84010022264724, 72.20110802473879, -149.17233770013198], [200.06500244140625, 144.0857391357422, '2883995', 9, 75.1588279387151, 64.0373327260968, -35.0958173908257], [0, 0, '2883995', 0, 0, 0, 0]] \n",
      "\n",
      "06241902_proc_00996.png\n"
     ]
    },
    {
     "name": "stderr",
     "output_type": "stream",
     "text": [
      "c:\\python36-32\\lib\\site-packages\\matplotlib\\cbook\\deprecation.py:107: MatplotlibDeprecationWarning: Adding an axes using the same arguments as a previous axes currently reuses the earlier instance.  In a future version, a new instance will always be created and returned.  Meanwhile, this warning can be suppressed, and the future behavior ensured, by passing a unique label to each axes instance.\n",
      "  warnings.warn(message, mplDeprecation, stacklevel=1)\n",
      "c:\\python36-32\\lib\\site-packages\\matplotlib\\cbook\\deprecation.py:107: MatplotlibDeprecationWarning: Adding an axes using the same arguments as a previous axes currently reuses the earlier instance.  In a future version, a new instance will always be created and returned.  Meanwhile, this warning can be suppressed, and the future behavior ensured, by passing a unique label to each axes instance.\n",
      "  warnings.warn(message, mplDeprecation, stacklevel=1)\n",
      "c:\\python36-32\\lib\\site-packages\\matplotlib\\pyplot.py:537: RuntimeWarning: More than 20 figures have been opened. Figures created through the pyplot interface (`matplotlib.pyplot.figure`) are retained until explicitly closed and may consume too much memory. (To control this warning, see the rcParam `figure.max_open_warning`).\n",
      "  max_open_warning, RuntimeWarning)\n"
     ]
    },
    {
     "name": "stdout",
     "output_type": "stream",
     "text": [
      "key = coords2904476 value =  [[294.8126525878906, 190.67279052734375, '2904476', 6, 118.32260666563762, 59.16130333281881, 52.352383204398244], [65.57290649414062, 217.7205810546875, '2904476', 11, 206.15307034849548, 103.07653517424774, 86.71614089184638], [300.9996032714844, 167.27630615234375, '2904476', 5, 105.11953832892793, 52.559769164463965, -56.309941700745114], [284.96441650390625, 326.17059326171875, '2904476', 1, 54.79648279161229, 27.398241395806146, -28.610457119309785], [80.88001251220703, 192.05799865722656, '2904476', 4, 131.03504126188, 96.10072076161856, -80.39478735814124], [81.796875, 219.75, '2904476', 10, 103.96634070698074, 87.32124598286491, -150.49927537650083], [295.796875, 196.75, '2904476', 5, 65.80273550544841, 61.29437168288782, -151.76255446183274], [297.8358154296875, 183.31927490234375, '2904476', 1, 54.672732389970825, 27.336366194985413, -129.80558542420732], [326.8363342285156, 198.3195343017578, '2904476', 1, 17.692118229915348, 6.0001068115234375, 0], [319.836181640625, 206.31968688964844, '2904476', 1, 541.8768982426571, 270.9384491213286, -170.22477846164603], [286.32000732421875, 187.95001220703125, '2904476', 5, 94.93682109698007, 47.468410548490034, -23.594820569881474], [303.32000732421875, 327.95001220703125, '2904476', 1, 86.40023148117139, 43.200115740585694, -16.12757582595981], [93.32000732421875, 196.95001220703125, '2904476', 8, 158.05062480104277, 79.02531240052139, -51.67988606322255]] \n",
      "\n",
      "06240907_proc_01877.png\n"
     ]
    },
    {
     "name": "stderr",
     "output_type": "stream",
     "text": [
      "c:\\python36-32\\lib\\site-packages\\matplotlib\\cbook\\deprecation.py:107: MatplotlibDeprecationWarning: Adding an axes using the same arguments as a previous axes currently reuses the earlier instance.  In a future version, a new instance will always be created and returned.  Meanwhile, this warning can be suppressed, and the future behavior ensured, by passing a unique label to each axes instance.\n",
      "  warnings.warn(message, mplDeprecation, stacklevel=1)\n",
      "c:\\python36-32\\lib\\site-packages\\matplotlib\\pyplot.py:537: RuntimeWarning: More than 20 figures have been opened. Figures created through the pyplot interface (`matplotlib.pyplot.figure`) are retained until explicitly closed and may consume too much memory. (To control this warning, see the rcParam `figure.max_open_warning`).\n",
      "  max_open_warning, RuntimeWarning)\n"
     ]
    },
    {
     "name": "stdout",
     "output_type": "stream",
     "text": [
      "key = coords2883993 value =  [[198.796875, 154.75, '2883993', 1, 58.05170109479997, 69.26037828369117, -85.03025927188969], [203.6354217529297, 157.4166717529297, '2883993', 6, 72.13874461148687, 74.43116703847438, -59.30026640252448], [0, 0, '2883993', 0, 0, 0, 0], [278.796875, 8.5, '2883993', 1, 63.52952069707436, 31.76476034853718, -118.17859010995917], [206.796875, 151.5, '2883993', 1, 70.21395872616783, 35.106979363083916, -54.2726017772003], [207.796875, 153, '2883993', 1, 60.41522986797286, 60.37383539249432, -28.68614757373944]] \n",
      "\n",
      "06241902_proc_00994.png\n"
     ]
    },
    {
     "name": "stderr",
     "output_type": "stream",
     "text": [
      "c:\\python36-32\\lib\\site-packages\\matplotlib\\cbook\\deprecation.py:107: MatplotlibDeprecationWarning: Adding an axes using the same arguments as a previous axes currently reuses the earlier instance.  In a future version, a new instance will always be created and returned.  Meanwhile, this warning can be suppressed, and the future behavior ensured, by passing a unique label to each axes instance.\n",
      "  warnings.warn(message, mplDeprecation, stacklevel=1)\n",
      "c:\\python36-32\\lib\\site-packages\\matplotlib\\pyplot.py:537: RuntimeWarning: More than 20 figures have been opened. Figures created through the pyplot interface (`matplotlib.pyplot.figure`) are retained until explicitly closed and may consume too much memory. (To control this warning, see the rcParam `figure.max_open_warning`).\n",
      "  max_open_warning, RuntimeWarning)\n"
     ]
    },
    {
     "name": "stdout",
     "output_type": "stream",
     "text": [
      "key = coords2883998 value =  [[200, 145.5500030517578, '2883998', 7, 110.47624178980746, 55.23812089490373, 9.377060694304353], [212, 312.66998291015625, '2883998', 2, 41.48493702538308, 20.74246851269154, -15.376251248826188], [204.796875, 143.75, '2883998', 9, 76.59973829296446, 76.0458905699318, -42.54420223523601], [198.796875, 142.75, '2883998', 9, 67.17886572427373, 68.76772498781678, 49.12759170251172], [210.796875, 304.75, '2883998', 1, 25.298221281347036, 23.259406699226016, 64.53665493812841], [204.796875, 141.75, '2883998', 9, 81.40024569987489, 84.11896337925236, -241.60698057861703], [209.796875, 305.75, '2883998', 1, 24.351591323771842, 25.45584412271571, -225], [209.296875, 144.75, '2883998', 5, 76.84399781375251, 64.62197768561404, -201.80140948635182], [209.296875, 304.75, '2883998', 2, 33.52610922848042, 33.37663853655727, -188.61564818416412], [202.796875, 140.5, '2883998', 11, 77.42092740338364, 77.62087348130012, -51.80131482398157], [212.796875, 305.5, '2883998', 2, 52.20153254455275, 39.44616584663204, 30.465544919459887]] \n",
      "\n",
      "06241902_proc_00999.png\n"
     ]
    },
    {
     "name": "stderr",
     "output_type": "stream",
     "text": [
      "c:\\python36-32\\lib\\site-packages\\matplotlib\\cbook\\deprecation.py:107: MatplotlibDeprecationWarning: Adding an axes using the same arguments as a previous axes currently reuses the earlier instance.  In a future version, a new instance will always be created and returned.  Meanwhile, this warning can be suppressed, and the future behavior ensured, by passing a unique label to each axes instance.\n",
      "  warnings.warn(message, mplDeprecation, stacklevel=1)\n",
      "c:\\python36-32\\lib\\site-packages\\matplotlib\\pyplot.py:537: RuntimeWarning: More than 20 figures have been opened. Figures created through the pyplot interface (`matplotlib.pyplot.figure`) are retained until explicitly closed and may consume too much memory. (To control this warning, see the rcParam `figure.max_open_warning`).\n",
      "  max_open_warning, RuntimeWarning)\n"
     ]
    },
    {
     "name": "stdout",
     "output_type": "stream",
     "text": [
      "key = coords2906527 value =  [[0, 0, '2906527', 0, 0, 0, 0], [111.93363952636719, 107.03999328613281, '2906527', 10, 94.36630754670864, 95.50916186418976, -252.32389130134652], [106.27999877929688, 106.44999694824219, '2906527', 10, 113.95174417269794, 107.05606008068857, -49.16650488554868], [109.296875, 120.75, '2906527', 1, 100.4987562112089, 50.24937810560445, 132.58049078334366], [122.796875, 107.75, '2906527', 8, 99.86490875177326, 80.61017305526642, -135], [117.296875, 108.75, '2906527', 11, 100.9554357129917, 96.56603957913983, 68.74949449286677]] \n",
      "\n",
      "06240909_proc_01928.png\n"
     ]
    },
    {
     "name": "stderr",
     "output_type": "stream",
     "text": [
      "c:\\python36-32\\lib\\site-packages\\matplotlib\\cbook\\deprecation.py:107: MatplotlibDeprecationWarning: Adding an axes using the same arguments as a previous axes currently reuses the earlier instance.  In a future version, a new instance will always be created and returned.  Meanwhile, this warning can be suppressed, and the future behavior ensured, by passing a unique label to each axes instance.\n",
      "  warnings.warn(message, mplDeprecation, stacklevel=1)\n",
      "c:\\python36-32\\lib\\site-packages\\matplotlib\\pyplot.py:537: RuntimeWarning: More than 20 figures have been opened. Figures created through the pyplot interface (`matplotlib.pyplot.figure`) are retained until explicitly closed and may consume too much memory. (To control this warning, see the rcParam `figure.max_open_warning`).\n",
      "  max_open_warning, RuntimeWarning)\n"
     ]
    },
    {
     "name": "stdout",
     "output_type": "stream",
     "text": [
      "key = coords2884000 value =  [[202.49571228027344, 141.23544311523438, '2884000', 10, 97.93871089724853, 82.97389593964618, -50.826339306770905], [109, 201.46665954589844, '2884000', 1, 45.27692569068709, 37.16180835212409, -66.19405648154228], [198, 142.46665954589844, '2884000', 6, 92.89241088485109, 76.40026177965623, -75.59997869320895], [205.54873657226562, 147.7794647216797, '2884000', 1, 66.03297992939153, 77.02909248364331, -144.86581055228535], [205.09999084472656, 141.14999389648438, '2884000', 6, 82.97590673582967, 81.54139631717469, 56.50481979685361], [202.5, 142.46665954589844, '2884000', 1, 59.07622195096772, 58.42088667591412, -186.88172363063694]] \n",
      "\n",
      "06241902_proc_01001.png\n"
     ]
    },
    {
     "name": "stderr",
     "output_type": "stream",
     "text": [
      "c:\\python36-32\\lib\\site-packages\\matplotlib\\cbook\\deprecation.py:107: MatplotlibDeprecationWarning: Adding an axes using the same arguments as a previous axes currently reuses the earlier instance.  In a future version, a new instance will always be created and returned.  Meanwhile, this warning can be suppressed, and the future behavior ensured, by passing a unique label to each axes instance.\n",
      "  warnings.warn(message, mplDeprecation, stacklevel=1)\n",
      "c:\\python36-32\\lib\\site-packages\\matplotlib\\pyplot.py:537: RuntimeWarning: More than 20 figures have been opened. Figures created through the pyplot interface (`matplotlib.pyplot.figure`) are retained until explicitly closed and may consume too much memory. (To control this warning, see the rcParam `figure.max_open_warning`).\n",
      "  max_open_warning, RuntimeWarning)\n"
     ]
    },
    {
     "name": "stdout",
     "output_type": "stream",
     "text": [
      "key = coords2896289 value =  [[0, 0, '2896289', 0, 0, 0, 0], [0, 0, '2896289', 0, 0, 0, 0], [0, 0, '2896289', 0, 0, 0, 0], [16.8125, 149.75, '2896289', 1, 713.3897952732433, 356.69489763662165, -33.044069392949645], [0, 0, '2896289', 0, 0, 0, 0], [0, 0, '2896289', 0, 0, 0, 0], [0, 0, '2896289', 0, 0, 0, 0], [19.039169311523438, 137.30589294433594, '2896289', 11, 120.34120402686807, 76.1669259663555, -93.7640312480092], [233.796875, 163.5, '2896289', 1, 56.08029957123981, 35.05709628591621, 3.270487923183566], [28.796875, 157.5, '2896289', 11, 136.194713553794, 68.097356776897, -97.59464336859145], [0, 0, '2896289', 0, 0, 0, 0]] \n",
      "\n",
      "06241902_proc_01978.png\n"
     ]
    },
    {
     "name": "stderr",
     "output_type": "stream",
     "text": [
      "c:\\python36-32\\lib\\site-packages\\matplotlib\\cbook\\deprecation.py:107: MatplotlibDeprecationWarning: Adding an axes using the same arguments as a previous axes currently reuses the earlier instance.  In a future version, a new instance will always be created and returned.  Meanwhile, this warning can be suppressed, and the future behavior ensured, by passing a unique label to each axes instance.\n",
      "  warnings.warn(message, mplDeprecation, stacklevel=1)\n",
      "c:\\python36-32\\lib\\site-packages\\numpy\\core\\fromnumeric.py:2957: RuntimeWarning: Mean of empty slice.\n",
      "  out=out, **kwargs)\n",
      "c:\\python36-32\\lib\\site-packages\\numpy\\core\\_methods.py:80: RuntimeWarning: invalid value encountered in double_scalars\n",
      "  ret = ret.dtype.type(ret / rcount)\n",
      "c:\\python36-32\\lib\\site-packages\\astropy\\units\\quantity.py:639: RuntimeWarning: invalid value encountered in true_divide\n",
      "  result = super().__array_ufunc__(function, method, *arrays, **kwargs)\n",
      "c:\\python36-32\\lib\\site-packages\\matplotlib\\pyplot.py:537: RuntimeWarning: More than 20 figures have been opened. Figures created through the pyplot interface (`matplotlib.pyplot.figure`) are retained until explicitly closed and may consume too much memory. (To control this warning, see the rcParam `figure.max_open_warning`).\n",
      "  max_open_warning, RuntimeWarning)\n"
     ]
    },
    {
     "name": "stdout",
     "output_type": "stream",
     "text": [
      "key = coords2896282 value =  [[203.4418487548828, 136.2869873046875, '2896282', 3, 67.49516552247638, 54.46744157732787, -15.255115887502583], [192.296875, 147.5, '2896282', 6, 88.95504482602435, 74.14849964766651, -8.403371090560826], [202.50001525878906, 138.5399932861328, '2896282', 3, 77.07786863459697, 63.81221807793119, -32.19573758463789], [202.23333740234375, 135.5833282470703, '2896282', 1, 57, 68.06614430096654, -182.52611691161957], [200.796875, 141.5, '2896282', 4, 63.41135544995076, 64.63745044476924, -55.08059798754232], [231.796875, 16.5, '2896282', 11, 68.00735254367721, 34.00367627183861, -17.102728969052375], [12.796875, 140.5, '2896282', 11, 80.62257748298549, 87.13208364316786, -99.24611274556325]] \n",
      "\n"
     ]
    },
    {
     "name": "stderr",
     "output_type": "stream",
     "text": [
      "c:\\python36-32\\lib\\site-packages\\matplotlib\\cbook\\deprecation.py:107: MatplotlibDeprecationWarning: Adding an axes using the same arguments as a previous axes currently reuses the earlier instance.  In a future version, a new instance will always be created and returned.  Meanwhile, this warning can be suppressed, and the future behavior ensured, by passing a unique label to each axes instance.\n",
      "  warnings.warn(message, mplDeprecation, stacklevel=1)\n"
     ]
    },
    {
     "name": "stdout",
     "output_type": "stream",
     "text": [
      "06241902_proc_01971.png\n"
     ]
    },
    {
     "name": "stderr",
     "output_type": "stream",
     "text": [
      "c:\\python36-32\\lib\\site-packages\\matplotlib\\pyplot.py:537: RuntimeWarning: More than 20 figures have been opened. Figures created through the pyplot interface (`matplotlib.pyplot.figure`) are retained until explicitly closed and may consume too much memory. (To control this warning, see the rcParam `figure.max_open_warning`).\n",
      "  max_open_warning, RuntimeWarning)\n"
     ]
    },
    {
     "name": "stdout",
     "output_type": "stream",
     "text": [
      "key = coords10516899 value =  [[153.6354217529297, 289.4166564941406, '10516899', 11, 68.4105221602395, 66.48308583319786, -223.78112951200433], [293.6354064941406, 247.4166717529297, '10516899', 5, 43.86342439892262, 44.04542139096918, -230.52755547381588], [111.63541412353516, 119.41666412353516, '10516899', 11, 97.67291818689347, 93.72299952983373, -219.80556631486527], [297.32000732421875, 249.95001220703125, '10516899', 4, 65.19202405202648, 32.59601202601324, -32.47119229084849], [151.32000732421875, 288.95001220703125, '10516899', 5, 93.91485505499116, 46.95742752749558, -26.56505117707799], [119.32000732421875, 161.95001220703125, '10516899', 5, 81.05553651663777, 40.527768258318886, -2.1210963966614536], [115.32000732421875, 80.95001220703125, '10516899', 8, 104.35516278555652, 52.17758139277826, -18.43494882292201], [296.46875, 249.609375, '10516899', 1, 63.071388124885914, 53.009433122794285, -1.0809241866606811], [116.46875, 96.609375, '10516899', 7, 131.01526628603247, 127.02755606560333, -33.43986920578224], [146.46875, 292.609375, '10516899', 4, 88.54377448471462, 72.27724399837061, -14.420773127510984], [127.96875, 80.609375, '10516899', 6, 77.1621668954417, 38.58108344772085, 176.28471089457122], [130.96875, 160.609375, '10516899', 6, 92.0869154657707, 46.04345773288535, 177.51044707800085], [160.96875, 290.609375, '10516899', 6, 66.73080248281148, 55.226805085936306, -222.06432655357884], [295.96875, 249.609375, '10516899', 3, 40.19950248448356, 40.01249804748511, -178.56790381583534]] \n",
      "\n",
      "06240912_proc_01772.bmp.png\n"
     ]
    },
    {
     "name": "stderr",
     "output_type": "stream",
     "text": [
      "c:\\python36-32\\lib\\site-packages\\matplotlib\\cbook\\deprecation.py:107: MatplotlibDeprecationWarning: Adding an axes using the same arguments as a previous axes currently reuses the earlier instance.  In a future version, a new instance will always be created and returned.  Meanwhile, this warning can be suppressed, and the future behavior ensured, by passing a unique label to each axes instance.\n",
      "  warnings.warn(message, mplDeprecation, stacklevel=1)\n",
      "c:\\python36-32\\lib\\site-packages\\numpy\\core\\fromnumeric.py:2957: RuntimeWarning: Mean of empty slice.\n",
      "  out=out, **kwargs)\n",
      "c:\\python36-32\\lib\\site-packages\\numpy\\core\\_methods.py:80: RuntimeWarning: invalid value encountered in double_scalars\n",
      "  ret = ret.dtype.type(ret / rcount)\n",
      "c:\\python36-32\\lib\\site-packages\\astropy\\units\\quantity.py:639: RuntimeWarning: invalid value encountered in true_divide\n",
      "  result = super().__array_ufunc__(function, method, *arrays, **kwargs)\n",
      "c:\\python36-32\\lib\\site-packages\\matplotlib\\pyplot.py:537: RuntimeWarning: More than 20 figures have been opened. Figures created through the pyplot interface (`matplotlib.pyplot.figure`) are retained until explicitly closed and may consume too much memory. (To control this warning, see the rcParam `figure.max_open_warning`).\n",
      "  max_open_warning, RuntimeWarning)\n"
     ]
    },
    {
     "name": "stdout",
     "output_type": "stream",
     "text": [
      "key = coords2906532 value =  [[97.22055625915527, 118.22842407226562, '2906532', 6, 88.94698932914041, 78.0895977401623, -220.10090140515075], [97.93732452392578, 128.7355499267578, '2906532', 11, 135.33606286978875, 67.66803143489437, -5.422063513920502], [98.10751342773438, 110.09991455078125, '2906532', 7, 101.10822745296888, 92.90149819632823, -52.43140768428354], [109.796875, 116.40625, '2906532', 5, 109.12378292562992, 54.56189146281496, -63.90457584261166], [98.296875, 113.25, '2906532', 1, 184.69434208984313, 92.34717104492157, -4.969740728110304]] \n",
      "\n",
      "06240909_proc_01933.png\n"
     ]
    },
    {
     "name": "stderr",
     "output_type": "stream",
     "text": [
      "c:\\python36-32\\lib\\site-packages\\matplotlib\\cbook\\deprecation.py:107: MatplotlibDeprecationWarning: Adding an axes using the same arguments as a previous axes currently reuses the earlier instance.  In a future version, a new instance will always be created and returned.  Meanwhile, this warning can be suppressed, and the future behavior ensured, by passing a unique label to each axes instance.\n",
      "  warnings.warn(message, mplDeprecation, stacklevel=1)\n",
      "c:\\python36-32\\lib\\site-packages\\matplotlib\\pyplot.py:537: RuntimeWarning: More than 20 figures have been opened. Figures created through the pyplot interface (`matplotlib.pyplot.figure`) are retained until explicitly closed and may consume too much memory. (To control this warning, see the rcParam `figure.max_open_warning`).\n",
      "  max_open_warning, RuntimeWarning)\n"
     ]
    },
    {
     "name": "stdout",
     "output_type": "stream",
     "text": [
      "key = coords2906533 value =  [[91.07495880126953, 94.85105895996094, '2906533', 5, 157.43219942812757, 78.71609971406379, -56.02345616396679], [110.0064697265625, 120.59217834472656, '2906533', 11, 65.48432483121812, 98.02813714634284, 43.646791251455234], [91.0842399597168, 120.62846374511719, '2906533', 3, 102.8821465782071, 93.34126073023928, -75.52969653818313], [107.796875, 112.75, '2906533', 6, 111.50336317797773, 114.99673908420186, -55.597335145023564], [101.796875, 116.5, '2906533', 9, 113.8859078200635, 117.64777940955791, 27.871952526403362], [110.484375, 116, '2906533', 6, 82.20097323024831, 100.4987562112089, 53.408911732600714]] \n",
      "\n",
      "06240909_proc_01934.png\n"
     ]
    },
    {
     "name": "stderr",
     "output_type": "stream",
     "text": [
      "c:\\python36-32\\lib\\site-packages\\matplotlib\\cbook\\deprecation.py:107: MatplotlibDeprecationWarning: Adding an axes using the same arguments as a previous axes currently reuses the earlier instance.  In a future version, a new instance will always be created and returned.  Meanwhile, this warning can be suppressed, and the future behavior ensured, by passing a unique label to each axes instance.\n",
      "  warnings.warn(message, mplDeprecation, stacklevel=1)\n",
      "c:\\python36-32\\lib\\site-packages\\matplotlib\\pyplot.py:537: RuntimeWarning: More than 20 figures have been opened. Figures created through the pyplot interface (`matplotlib.pyplot.figure`) are retained until explicitly closed and may consume too much memory. (To control this warning, see the rcParam `figure.max_open_warning`).\n",
      "  max_open_warning, RuntimeWarning)\n",
      "Exception in Tkinter callback\n",
      "Traceback (most recent call last):\n",
      "  File \"c:\\python36-32\\lib\\tkinter\\__init__.py\", line 1702, in __call__\n",
      "    return self.func(*args)\n",
      "  File \"<ipython-input-2-f911ef2a5487>\", line 131, in graph\n",
      "    plot = Plot()\n",
      "  File \"<ipython-input-3-748616e852a5>\", line 391, in __init__\n",
      "    self.draw()\n",
      "  File \"<ipython-input-3-748616e852a5>\", line 367, in draw\n",
      "    self.df_to_center_plt(value)\n",
      "  File \"<ipython-input-3-748616e852a5>\", line 81, in df_to_center_plt\n",
      "    averages = self.dbscan_average(keepgood)\n",
      "  File \"<ipython-input-3-748616e852a5>\", line 291, in dbscan_average\n",
      "    plt.savefig(\"./output/\"+subjects[i][0]+\".png\",bbox_inches='tight')\n",
      "  File \"c:\\python36-32\\lib\\site-packages\\matplotlib\\pyplot.py\", line 710, in savefig\n",
      "    res = fig.savefig(*args, **kwargs)\n",
      "  File \"c:\\python36-32\\lib\\site-packages\\matplotlib\\figure.py\", line 2035, in savefig\n",
      "    self.canvas.print_figure(fname, **kwargs)\n",
      "  File \"c:\\python36-32\\lib\\site-packages\\matplotlib\\backend_bases.py\", line 2212, in print_figure\n",
      "    **kwargs)\n",
      "  File \"c:\\python36-32\\lib\\site-packages\\matplotlib\\backends\\backend_agg.py\", line 513, in print_png\n",
      "    FigureCanvasAgg.draw(self)\n",
      "  File \"c:\\python36-32\\lib\\site-packages\\matplotlib\\backends\\backend_agg.py\", line 433, in draw\n",
      "    self.figure.draw(self.renderer)\n",
      "  File \"c:\\python36-32\\lib\\site-packages\\matplotlib\\artist.py\", line 55, in draw_wrapper\n",
      "    return draw(artist, renderer, *args, **kwargs)\n",
      "  File \"c:\\python36-32\\lib\\site-packages\\matplotlib\\figure.py\", line 1475, in draw\n",
      "    renderer, self, artists, self.suppressComposite)\n",
      "  File \"c:\\python36-32\\lib\\site-packages\\matplotlib\\image.py\", line 141, in _draw_list_compositing_images\n",
      "    a.draw(renderer)\n",
      "  File \"c:\\python36-32\\lib\\site-packages\\matplotlib\\artist.py\", line 55, in draw_wrapper\n",
      "    return draw(artist, renderer, *args, **kwargs)\n",
      "  File \"c:\\python36-32\\lib\\site-packages\\matplotlib\\axes\\_base.py\", line 2607, in draw\n",
      "    mimage._draw_list_compositing_images(renderer, self, artists)\n",
      "  File \"c:\\python36-32\\lib\\site-packages\\matplotlib\\image.py\", line 141, in _draw_list_compositing_images\n",
      "    a.draw(renderer)\n",
      "  File \"c:\\python36-32\\lib\\site-packages\\matplotlib\\artist.py\", line 55, in draw_wrapper\n",
      "    return draw(artist, renderer, *args, **kwargs)\n",
      "  File \"c:\\python36-32\\lib\\site-packages\\matplotlib\\image.py\", line 593, in draw\n",
      "    renderer, renderer.get_image_magnification())\n",
      "  File \"c:\\python36-32\\lib\\site-packages\\matplotlib\\image.py\", line 841, in make_image\n",
      "    unsampled=unsampled)\n",
      "  File \"c:\\python36-32\\lib\\site-packages\\matplotlib\\image.py\", line 511, in _make_image\n",
      "    output = self.to_rgba(output, bytes=True, norm=False)\n",
      "  File \"c:\\python36-32\\lib\\site-packages\\matplotlib\\cm.py\", line 275, in to_rgba\n",
      "    rgba = self.cmap(x, alpha=alpha, bytes=bytes)\n",
      "  File \"c:\\python36-32\\lib\\site-packages\\matplotlib\\colors.py\", line 509, in __call__\n",
      "    xa = xa.astype(int)\n",
      "MemoryError\n",
      "Exception in Tkinter callback\n",
      "Traceback (most recent call last):\n",
      "  File \"c:\\python36-32\\lib\\tkinter\\__init__.py\", line 1702, in __call__\n",
      "    return self.func(*args)\n",
      "  File \"c:\\python36-32\\lib\\tkinter\\__init__.py\", line 746, in callit\n",
      "    func(*args)\n",
      "  File \"c:\\python36-32\\lib\\site-packages\\matplotlib\\backends\\_backend_tk.py\", line 310, in idle_draw\n",
      "    self.draw()\n",
      "  File \"c:\\python36-32\\lib\\site-packages\\matplotlib\\backends\\backend_tkagg.py\", line 12, in draw\n",
      "    super(FigureCanvasTkAgg, self).draw()\n",
      "  File \"c:\\python36-32\\lib\\site-packages\\matplotlib\\backends\\backend_agg.py\", line 425, in draw\n",
      "    self.renderer = self.get_renderer(cleared=True)\n",
      "  File \"c:\\python36-32\\lib\\site-packages\\matplotlib\\backends\\backend_agg.py\", line 450, in get_renderer\n",
      "    self.renderer = RendererAgg(w, h, self.figure.dpi)\n",
      "  File \"c:\\python36-32\\lib\\site-packages\\matplotlib\\backends\\backend_agg.py\", line 97, in __init__\n",
      "    self._renderer = _RendererAgg(int(width), int(height), dpi)\n",
      "MemoryError: In RendererAgg: Out of memory\n",
      "Exception in Tkinter callback\n",
      "Traceback (most recent call last):\n",
      "  File \"c:\\python36-32\\lib\\tkinter\\__init__.py\", line 1702, in __call__\n",
      "    return self.func(*args)\n",
      "  File \"c:\\python36-32\\lib\\tkinter\\__init__.py\", line 746, in callit\n",
      "    func(*args)\n",
      "  File \"c:\\python36-32\\lib\\site-packages\\matplotlib\\backends\\_backend_tk.py\", line 310, in idle_draw\n",
      "    self.draw()\n",
      "  File \"c:\\python36-32\\lib\\site-packages\\matplotlib\\backends\\backend_tkagg.py\", line 12, in draw\n",
      "    super(FigureCanvasTkAgg, self).draw()\n",
      "  File \"c:\\python36-32\\lib\\site-packages\\matplotlib\\backends\\backend_agg.py\", line 433, in draw\n",
      "    self.figure.draw(self.renderer)\n",
      "  File \"c:\\python36-32\\lib\\site-packages\\matplotlib\\artist.py\", line 55, in draw_wrapper\n",
      "    return draw(artist, renderer, *args, **kwargs)\n",
      "  File \"c:\\python36-32\\lib\\site-packages\\matplotlib\\figure.py\", line 1475, in draw\n",
      "    renderer, self, artists, self.suppressComposite)\n",
      "  File \"c:\\python36-32\\lib\\site-packages\\matplotlib\\image.py\", line 141, in _draw_list_compositing_images\n",
      "    a.draw(renderer)\n",
      "  File \"c:\\python36-32\\lib\\site-packages\\matplotlib\\artist.py\", line 55, in draw_wrapper\n",
      "    return draw(artist, renderer, *args, **kwargs)\n",
      "  File \"c:\\python36-32\\lib\\site-packages\\matplotlib\\axes\\_base.py\", line 2607, in draw\n",
      "    mimage._draw_list_compositing_images(renderer, self, artists)\n",
      "  File \"c:\\python36-32\\lib\\site-packages\\matplotlib\\image.py\", line 141, in _draw_list_compositing_images\n",
      "    a.draw(renderer)\n",
      "  File \"c:\\python36-32\\lib\\site-packages\\matplotlib\\artist.py\", line 55, in draw_wrapper\n",
      "    return draw(artist, renderer, *args, **kwargs)\n",
      "  File \"c:\\python36-32\\lib\\site-packages\\matplotlib\\image.py\", line 593, in draw\n",
      "    renderer, renderer.get_image_magnification())\n",
      "  File \"c:\\python36-32\\lib\\site-packages\\matplotlib\\image.py\", line 841, in make_image\n",
      "    unsampled=unsampled)\n",
      "  File \"c:\\python36-32\\lib\\site-packages\\matplotlib\\image.py\", line 511, in _make_image\n",
      "    output = self.to_rgba(output, bytes=True, norm=False)\n",
      "  File \"c:\\python36-32\\lib\\site-packages\\matplotlib\\cm.py\", line 275, in to_rgba\n",
      "    rgba = self.cmap(x, alpha=alpha, bytes=bytes)\n",
      "  File \"c:\\python36-32\\lib\\site-packages\\matplotlib\\colors.py\", line 489, in __call__\n",
      "    xma = np.ma.array(X, copy=True)  # Copy here to avoid side effects.\n",
      "  File \"c:\\python36-32\\lib\\site-packages\\numpy\\ma\\core.py\", line 6358, in array\n",
      "    ndmin=ndmin, shrink=shrink, order=order)\n",
      "  File \"c:\\python36-32\\lib\\site-packages\\numpy\\ma\\core.py\", line 2784, in __new__\n",
      "    order=order, subok=True, ndmin=ndmin)\n",
      "MemoryError\n",
      "Exception in Tkinter callback\n",
      "Traceback (most recent call last):\n",
      "  File \"c:\\python36-32\\lib\\tkinter\\__init__.py\", line 1702, in __call__\n",
      "    return self.func(*args)\n",
      "  File \"c:\\python36-32\\lib\\tkinter\\__init__.py\", line 746, in callit\n",
      "    func(*args)\n",
      "  File \"c:\\python36-32\\lib\\site-packages\\matplotlib\\backends\\_backend_tk.py\", line 310, in idle_draw\n",
      "    self.draw()\n",
      "  File \"c:\\python36-32\\lib\\site-packages\\matplotlib\\backends\\backend_tkagg.py\", line 12, in draw\n",
      "    super(FigureCanvasTkAgg, self).draw()\n",
      "  File \"c:\\python36-32\\lib\\site-packages\\matplotlib\\backends\\backend_agg.py\", line 425, in draw\n",
      "    self.renderer = self.get_renderer(cleared=True)\n",
      "  File \"c:\\python36-32\\lib\\site-packages\\matplotlib\\backends\\backend_agg.py\", line 450, in get_renderer\n",
      "    self.renderer = RendererAgg(w, h, self.figure.dpi)\n",
      "  File \"c:\\python36-32\\lib\\site-packages\\matplotlib\\backends\\backend_agg.py\", line 97, in __init__\n",
      "    self._renderer = _RendererAgg(int(width), int(height), dpi)\n",
      "MemoryError: In RendererAgg: Out of memory\n",
      "Exception in Tkinter callback\n",
      "Traceback (most recent call last):\n",
      "  File \"c:\\python36-32\\lib\\tkinter\\__init__.py\", line 1702, in __call__\n",
      "    return self.func(*args)\n",
      "  File \"c:\\python36-32\\lib\\tkinter\\__init__.py\", line 746, in callit\n",
      "    func(*args)\n",
      "  File \"c:\\python36-32\\lib\\site-packages\\matplotlib\\backends\\_backend_tk.py\", line 310, in idle_draw\n",
      "    self.draw()\n",
      "  File \"c:\\python36-32\\lib\\site-packages\\matplotlib\\backends\\backend_tkagg.py\", line 12, in draw\n",
      "    super(FigureCanvasTkAgg, self).draw()\n",
      "  File \"c:\\python36-32\\lib\\site-packages\\matplotlib\\backends\\backend_agg.py\", line 433, in draw\n",
      "    self.figure.draw(self.renderer)\n",
      "  File \"c:\\python36-32\\lib\\site-packages\\matplotlib\\artist.py\", line 55, in draw_wrapper\n",
      "    return draw(artist, renderer, *args, **kwargs)\n",
      "  File \"c:\\python36-32\\lib\\site-packages\\matplotlib\\figure.py\", line 1475, in draw\n",
      "    renderer, self, artists, self.suppressComposite)\n",
      "  File \"c:\\python36-32\\lib\\site-packages\\matplotlib\\image.py\", line 141, in _draw_list_compositing_images\n",
      "    a.draw(renderer)\n",
      "  File \"c:\\python36-32\\lib\\site-packages\\matplotlib\\artist.py\", line 55, in draw_wrapper\n",
      "    return draw(artist, renderer, *args, **kwargs)\n",
      "  File \"c:\\python36-32\\lib\\site-packages\\matplotlib\\axes\\_base.py\", line 2607, in draw\n",
      "    mimage._draw_list_compositing_images(renderer, self, artists)\n",
      "  File \"c:\\python36-32\\lib\\site-packages\\matplotlib\\image.py\", line 141, in _draw_list_compositing_images\n",
      "    a.draw(renderer)\n",
      "  File \"c:\\python36-32\\lib\\site-packages\\matplotlib\\artist.py\", line 55, in draw_wrapper\n",
      "    return draw(artist, renderer, *args, **kwargs)\n",
      "  File \"c:\\python36-32\\lib\\site-packages\\matplotlib\\image.py\", line 593, in draw\n",
      "    renderer, renderer.get_image_magnification())\n",
      "  File \"c:\\python36-32\\lib\\site-packages\\matplotlib\\image.py\", line 841, in make_image\n",
      "    unsampled=unsampled)\n",
      "  File \"c:\\python36-32\\lib\\site-packages\\matplotlib\\image.py\", line 431, in _make_image\n",
      "    dtype=A_scaled.dtype)\n",
      "MemoryError\n",
      "Exception in Tkinter callback\n",
      "Traceback (most recent call last):\n",
      "  File \"c:\\python36-32\\lib\\tkinter\\__init__.py\", line 1702, in __call__\n",
      "    return self.func(*args)\n",
      "  File \"c:\\python36-32\\lib\\tkinter\\__init__.py\", line 746, in callit\n",
      "    func(*args)\n",
      "  File \"c:\\python36-32\\lib\\site-packages\\matplotlib\\backends\\_backend_tk.py\", line 310, in idle_draw\n",
      "    self.draw()\n",
      "  File \"c:\\python36-32\\lib\\site-packages\\matplotlib\\backends\\backend_tkagg.py\", line 12, in draw\n",
      "    super(FigureCanvasTkAgg, self).draw()\n",
      "  File \"c:\\python36-32\\lib\\site-packages\\matplotlib\\backends\\backend_agg.py\", line 425, in draw\n",
      "    self.renderer = self.get_renderer(cleared=True)\n",
      "  File \"c:\\python36-32\\lib\\site-packages\\matplotlib\\backends\\backend_agg.py\", line 450, in get_renderer\n",
      "    self.renderer = RendererAgg(w, h, self.figure.dpi)\n",
      "  File \"c:\\python36-32\\lib\\site-packages\\matplotlib\\backends\\backend_agg.py\", line 97, in __init__\n",
      "    self._renderer = _RendererAgg(int(width), int(height), dpi)\n",
      "MemoryError: In RendererAgg: Out of memory\n",
      "Exception in Tkinter callback\n",
      "Traceback (most recent call last):\n",
      "  File \"c:\\python36-32\\lib\\tkinter\\__init__.py\", line 1702, in __call__\n",
      "    return self.func(*args)\n",
      "  File \"c:\\python36-32\\lib\\tkinter\\__init__.py\", line 746, in callit\n",
      "    func(*args)\n",
      "  File \"c:\\python36-32\\lib\\site-packages\\matplotlib\\backends\\_backend_tk.py\", line 310, in idle_draw\n",
      "    self.draw()\n",
      "  File \"c:\\python36-32\\lib\\site-packages\\matplotlib\\backends\\backend_tkagg.py\", line 12, in draw\n",
      "    super(FigureCanvasTkAgg, self).draw()\n",
      "  File \"c:\\python36-32\\lib\\site-packages\\matplotlib\\backends\\backend_agg.py\", line 425, in draw\n",
      "    self.renderer = self.get_renderer(cleared=True)\n",
      "  File \"c:\\python36-32\\lib\\site-packages\\matplotlib\\backends\\backend_agg.py\", line 450, in get_renderer\n",
      "    self.renderer = RendererAgg(w, h, self.figure.dpi)\n",
      "  File \"c:\\python36-32\\lib\\site-packages\\matplotlib\\backends\\backend_agg.py\", line 97, in __init__\n",
      "    self._renderer = _RendererAgg(int(width), int(height), dpi)\n",
      "MemoryError: In RendererAgg: Out of memory\n",
      "Exception in Tkinter callback\n",
      "Traceback (most recent call last):\n",
      "  File \"c:\\python36-32\\lib\\tkinter\\__init__.py\", line 1702, in __call__\n",
      "    return self.func(*args)\n",
      "  File \"c:\\python36-32\\lib\\tkinter\\__init__.py\", line 746, in callit\n",
      "    func(*args)\n",
      "  File \"c:\\python36-32\\lib\\site-packages\\matplotlib\\backends\\_backend_tk.py\", line 310, in idle_draw\n",
      "    self.draw()\n",
      "  File \"c:\\python36-32\\lib\\site-packages\\matplotlib\\backends\\backend_tkagg.py\", line 12, in draw\n",
      "    super(FigureCanvasTkAgg, self).draw()\n",
      "  File \"c:\\python36-32\\lib\\site-packages\\matplotlib\\backends\\backend_agg.py\", line 425, in draw\n",
      "    self.renderer = self.get_renderer(cleared=True)\n",
      "  File \"c:\\python36-32\\lib\\site-packages\\matplotlib\\backends\\backend_agg.py\", line 450, in get_renderer\n",
      "    self.renderer = RendererAgg(w, h, self.figure.dpi)\n",
      "  File \"c:\\python36-32\\lib\\site-packages\\matplotlib\\backends\\backend_agg.py\", line 97, in __init__\n",
      "    self._renderer = _RendererAgg(int(width), int(height), dpi)\n",
      "MemoryError: In RendererAgg: Out of memory\n",
      "Exception in Tkinter callback\n"
     ]
    }
   ],
   "source": [
    "if __name__ == \"__main__\":\n",
    "\n",
    "    #The main function that runs the program\n",
    "    \n",
    "    app = App()\n",
    "    app.resizable(0,0)\n",
    "    #app.title(\"SteelGraph\")\n",
    "    app.protocol(\"WM_DELETE_WINDOW\", on_closing)    \n",
    "    app.mainloop()"
   ]
  },
  {
   "cell_type": "code",
   "execution_count": null,
   "metadata": {},
   "outputs": [],
   "source": []
  },
  {
   "cell_type": "code",
   "execution_count": null,
   "metadata": {},
   "outputs": [],
   "source": [
    "#Emergency stop\n",
    "\n",
    "#app.destroy()"
   ]
  },
  {
   "cell_type": "code",
   "execution_count": null,
   "metadata": {},
   "outputs": [],
   "source": []
  },
  {
   "cell_type": "code",
   "execution_count": null,
   "metadata": {},
   "outputs": [],
   "source": []
  },
  {
   "cell_type": "code",
   "execution_count": null,
   "metadata": {},
   "outputs": [],
   "source": []
  },
  {
   "cell_type": "code",
   "execution_count": null,
   "metadata": {},
   "outputs": [],
   "source": []
  },
  {
   "cell_type": "code",
   "execution_count": null,
   "metadata": {},
   "outputs": [],
   "source": []
  },
  {
   "cell_type": "code",
   "execution_count": null,
   "metadata": {},
   "outputs": [],
   "source": []
  },
  {
   "cell_type": "code",
   "execution_count": null,
   "metadata": {},
   "outputs": [],
   "source": []
  }
 ],
 "metadata": {
  "kernelspec": {
   "display_name": "Python 3",
   "language": "python",
   "name": "python3"
  },
  "language_info": {
   "codemirror_mode": {
    "name": "ipython",
    "version": 3
   },
   "file_extension": ".py",
   "mimetype": "text/x-python",
   "name": "python",
   "nbconvert_exporter": "python",
   "pygments_lexer": "ipython3",
   "version": "3.6.5"
  }
 },
 "nbformat": 4,
 "nbformat_minor": 2
}
