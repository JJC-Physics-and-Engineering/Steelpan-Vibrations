{
 "cells": [
  {
   "cell_type": "markdown",
   "metadata": {},
   "source": [
    "To do:\n",
    "\n",
    "Open File /\n",
    "Find Min /\n",
    "Find Max /\n",
    "Count ids from min to max\n",
    "store any ids that appear more than 6 times.\n",
    "write new csv file"
   ]
  },
  {
   "cell_type": "code",
   "execution_count": 1,
   "metadata": {
    "scrolled": true
   },
   "outputs": [],
   "source": [
    "import csv\n",
    "import pandas as pd\n",
    "import numpy as np\n",
    "\n",
    "df = pd.read_csv('steelpan-vibrations-classifications.csv') \n",
    "\n",
    "\n",
    "class_counts = df['subject_ids'].value_counts().rename('class_counts')\n",
    "\n",
    "df = df.merge(class_counts.to_frame(), left_on='subject_ids', right_index=True)\n",
    "\n",
    "df2 = df[df.class_counts > 4] \n",
    "cols = [14]\n",
    "df3 = df2.drop(df2.columns[cols], axis=1)\n",
    "\n",
    "\n",
    "\n"
   ]
  },
  {
   "cell_type": "code",
   "execution_count": 4,
   "metadata": {
    "scrolled": true
   },
   "outputs": [
    {
     "name": "stdout",
     "output_type": "stream",
     "text": [
      "       classification_id                           user_name    user_id  \\\n",
      "0               13608330                         achmorrison   387353.0   \n",
      "286             24838459                            jgarci92  1556278.0   \n",
      "1231            52324559  not-logged-in-3b0ef11c5c32d3e66907        NaN   \n",
      "1732            68041700                            ryanjack  1505205.0   \n",
      "25683           91853427  not-logged-in-3b0ef11c5c32d3e66907        NaN   \n",
      "...                  ...                                 ...        ...   \n",
      "38637          126285160                              Jan225  1482784.0   \n",
      "41688          154962460  not-logged-in-5e681fc3c861ae2041ca        NaN   \n",
      "43554          161526350                     mikaelagonzalez  1887269.0   \n",
      "45374          161666610                    danny_duncan6969  1887262.0   \n",
      "49045          166279466                        Guitarist210  1887284.0   \n",
      "\n",
      "                    user_ip  workflow_id     workflow_name  workflow_version  \\\n",
      "0      df08c23aec60666f6c74         2003  Counting Fringes             15.15   \n",
      "286    1e24d2b52072e28602b7         2003  Counting Fringes             28.40   \n",
      "1231   3b0ef11c5c32d3e66907         2003  Counting Fringes             29.43   \n",
      "1732   48c9c46f179ddbd815c1         2003  Counting Fringes             36.72   \n",
      "25683  3b0ef11c5c32d3e66907         2003  Counting Fringes             36.72   \n",
      "...                     ...          ...               ...               ...   \n",
      "38637  321680965fdea501443f         2003  Counting Fringes             37.75   \n",
      "41688  5e681fc3c861ae2041ca         2003  Counting Fringes             37.75   \n",
      "43554  5b9bbe92700e12a2f867         2003  Counting Fringes             37.75   \n",
      "45374  5b9bbe92700e12a2f867         2003  Counting Fringes             37.75   \n",
      "49045  5b9bbe92700e12a2f867         2003  Counting Fringes             37.75   \n",
      "\n",
      "                    created_at gold_standard expert  \\\n",
      "0      2016-06-27 12:53:03 UTC           NaN    NaN   \n",
      "286    2017-01-16 22:34:45 UTC           NaN    NaN   \n",
      "1231   2017-05-03 19:43:54 UTC           NaN    NaN   \n",
      "1732   2017-08-24 01:04:30 UTC           NaN    NaN   \n",
      "25683  2018-02-23 20:23:33 UTC           NaN    NaN   \n",
      "...                        ...           ...    ...   \n",
      "38637  2018-10-08 00:15:38 UTC           NaN    NaN   \n",
      "41688  2019-03-23 21:01:28 UTC           NaN    NaN   \n",
      "43554  2019-04-22 18:52:27 UTC           NaN    NaN   \n",
      "45374  2019-04-23 18:38:16 UTC           NaN    NaN   \n",
      "49045  2019-05-17 18:42:23 UTC           NaN    NaN   \n",
      "\n",
      "                                                metadata  \\\n",
      "0      {\"session\":\"7ff2428b1e59c5a913eb8624e1b5895c93...   \n",
      "286    {\"session\":\"33116f550e44163df0abafc1ea329f6bcd...   \n",
      "1231   {\"session\":\"cb5a37dcd29ecf3d8096ca921eb879d642...   \n",
      "1732   {\"session\":\"3145da41746448b7cdae12ac9db66ab6c3...   \n",
      "25683  {\"session\":\"c065ffe125391c68f04eeb4f986fbda375...   \n",
      "...                                                  ...   \n",
      "38637  {\"source\":\"api\",\"session\":\"552eeecdb14dc8e04cb...   \n",
      "41688  {\"source\":\"api\",\"session\":\"6b8ddcb524915d04f69...   \n",
      "43554  {\"source\":\"api\",\"session\":\"2657fac112091ccd3f6...   \n",
      "45374  {\"source\":\"api\",\"session\":\"f7035aef466369dd47a...   \n",
      "49045  {\"source\":\"api\",\"session\":\"881f989763d05b13c43...   \n",
      "\n",
      "                                             annotations  \\\n",
      "0      [{\"task\":\"T0\",\"task_label\":\"How many antinode ...   \n",
      "286    [{\"task\":\"T0\",\"task_label\":\"How many antinode ...   \n",
      "1231   [{\"task\":\"T0\",\"task_label\":\"How many antinode ...   \n",
      "1732   [{\"task\":\"T0\",\"task_label\":\"**How many antinod...   \n",
      "25683  [{\"task\":\"T0\",\"task_label\":\"**How many antinod...   \n",
      "...                                                  ...   \n",
      "38637  [{\"task\":\"T1\",\"task_label\":\"**Draw circles/ell...   \n",
      "41688  [{\"task\":\"T1\",\"task_label\":\"**Draw circles/ell...   \n",
      "43554  [{\"task\":\"T1\",\"task_label\":\"**Draw circles/ell...   \n",
      "45374  [{\"task\":\"T1\",\"task_label\":\"**Draw circles/ell...   \n",
      "49045  [{\"task\":\"T1\",\"task_label\":\"**Draw circles/ell...   \n",
      "\n",
      "                                            subject_data  subject_ids  \n",
      "0      {\"2884309\":{\"retired\":null,\"Filename\":\"0624190...      2884309  \n",
      "286    {\"2884309\":{\"retired\":null,\"Filename\":\"0624190...      2884309  \n",
      "1231   {\"2884309\":{\"retired\":null,\"Filename\":\"0624190...      2884309  \n",
      "1732   {\"2884309\":{\"retired\":null,\"Filename\":\"0624190...      2884309  \n",
      "25683  {\"2884309\":{\"retired\":null,\"Filename\":\"0624190...      2884309  \n",
      "...                                                  ...          ...  \n",
      "38637  {\"2904330\":{\"retired\":null,\"Filename\":\"0624090...      2904330  \n",
      "41688  {\"2904330\":{\"retired\":null,\"Filename\":\"0624090...      2904330  \n",
      "43554  {\"2904330\":{\"retired\":null,\"Filename\":\"0624090...      2904330  \n",
      "45374  {\"2904330\":{\"retired\":null,\"Filename\":\"0624090...      2904330  \n",
      "49045  {\"2904330\":{\"retired\":null,\"Filename\":\"0624090...      2904330  \n",
      "\n",
      "[36469 rows x 14 columns]\n"
     ]
    }
   ],
   "source": [
    "print(df3)"
   ]
  },
  {
   "cell_type": "code",
   "execution_count": 2,
   "metadata": {},
   "outputs": [
    {
     "data": {
      "text/plain": [
       "2904158     19\n",
       "2884093     19\n",
       "2883524     19\n",
       "2884137     19\n",
       "2896119     19\n",
       "            ..\n",
       "2913908      5\n",
       "2902638      5\n",
       "2906536      5\n",
       "2884199      5\n",
       "10515931     5\n",
       "Name: subject_ids, Length: 4056, dtype: int64"
      ]
     },
     "execution_count": 2,
     "metadata": {},
     "output_type": "execute_result"
    }
   ],
   "source": [
    "df3['subject_ids'].value_counts()\n"
   ]
  },
  {
   "cell_type": "code",
   "execution_count": 3,
   "metadata": {},
   "outputs": [],
   "source": [
    "df3.to_csv('steelpan-vibrations-classifications-five_or_more-071020.csv', index = False)"
   ]
  },
  {
   "cell_type": "code",
   "execution_count": null,
   "metadata": {
    "collapsed": true
   },
   "outputs": [],
   "source": []
  },
  {
   "cell_type": "code",
   "execution_count": null,
   "metadata": {
    "collapsed": true
   },
   "outputs": [],
   "source": []
  },
  {
   "cell_type": "code",
   "execution_count": null,
   "metadata": {
    "collapsed": true
   },
   "outputs": [],
   "source": []
  }
 ],
 "metadata": {
  "kernelspec": {
   "display_name": "Python 3",
   "language": "python",
   "name": "python3"
  },
  "language_info": {
   "codemirror_mode": {
    "name": "ipython",
    "version": 3
   },
   "file_extension": ".py",
   "mimetype": "text/x-python",
   "name": "python",
   "nbconvert_exporter": "python",
   "pygments_lexer": "ipython3",
   "version": "3.8.3"
  }
 },
 "nbformat": 4,
 "nbformat_minor": 2
}
